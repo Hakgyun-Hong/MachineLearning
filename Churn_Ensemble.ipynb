{
 "cells": [
  {
   "cell_type": "code",
   "execution_count": 1,
   "metadata": {},
   "outputs": [],
   "source": [
    "import pandas as pd\n",
    "import numpy as np\n",
    "import matplotlib.pyplot as plt\n"
   ]
  },
  {
   "cell_type": "code",
   "execution_count": 2,
   "metadata": {},
   "outputs": [],
   "source": [
    "import warnings\n",
    "warnings.filterwarnings(\"ignore\")"
   ]
  },
  {
   "cell_type": "code",
   "execution_count": 3,
   "metadata": {},
   "outputs": [],
   "source": [
    "data=pd.read_csv('DataSet/TelcoCustomerChurn.csv')"
   ]
  },
  {
   "cell_type": "markdown",
   "metadata": {},
   "source": [
    "# 1. 자료정리\n",
    "\n",
    " - 전처리."
   ]
  },
  {
   "cell_type": "code",
   "execution_count": 4,
   "metadata": {},
   "outputs": [
    {
     "name": "stdout",
     "output_type": "stream",
     "text": [
      "<class 'pandas.core.frame.DataFrame'>\n",
      "RangeIndex: 7043 entries, 0 to 7042\n",
      "Data columns (total 21 columns):\n",
      " #   Column            Non-Null Count  Dtype  \n",
      "---  ------            --------------  -----  \n",
      " 0   customerID        7043 non-null   object \n",
      " 1   gender            7043 non-null   object \n",
      " 2   SeniorCitizen     7043 non-null   int64  \n",
      " 3   Partner           7043 non-null   object \n",
      " 4   Dependents        7043 non-null   object \n",
      " 5   tenure            7043 non-null   int64  \n",
      " 6   PhoneService      7043 non-null   object \n",
      " 7   MultipleLines     7043 non-null   object \n",
      " 8   InternetService   7043 non-null   object \n",
      " 9   OnlineSecurity    7043 non-null   object \n",
      " 10  OnlineBackup      7043 non-null   object \n",
      " 11  DeviceProtection  7043 non-null   object \n",
      " 12  TechSupport       7043 non-null   object \n",
      " 13  StreamingTV       7043 non-null   object \n",
      " 14  StreamingMovies   7043 non-null   object \n",
      " 15  Contract          7043 non-null   object \n",
      " 16  PaperlessBilling  7043 non-null   object \n",
      " 17  PaymentMethod     7043 non-null   object \n",
      " 18  MonthlyCharges    7043 non-null   float64\n",
      " 19  TotalCharges      7043 non-null   object \n",
      " 20  Churn             7043 non-null   object \n",
      "dtypes: float64(1), int64(2), object(18)\n",
      "memory usage: 1.1+ MB\n"
     ]
    }
   ],
   "source": [
    "data.info()\n",
    "# gender : gender info\n",
    "# SeniorCitizen : senior or not\n",
    "# Partner whether the partner has partner or not\n",
    "# dependents :\n",
    "# tenure : company span\n",
    "\n",
    "# Contract : period"
   ]
  },
  {
   "cell_type": "code",
   "execution_count": 5,
   "metadata": {},
   "outputs": [
    {
     "name": "stdout",
     "output_type": "stream",
     "text": [
      "missing_count :  0\n"
     ]
    }
   ],
   "source": [
    "missing_count = data.isna().any(axis=1).sum()\n",
    "print(\"missing_count : \",missing_count)"
   ]
  },
  {
   "cell_type": "code",
   "execution_count": 6,
   "metadata": {},
   "outputs": [
    {
     "data": {
      "text/html": [
       "<div>\n",
       "<style scoped>\n",
       "    .dataframe tbody tr th:only-of-type {\n",
       "        vertical-align: middle;\n",
       "    }\n",
       "\n",
       "    .dataframe tbody tr th {\n",
       "        vertical-align: top;\n",
       "    }\n",
       "\n",
       "    .dataframe thead th {\n",
       "        text-align: right;\n",
       "    }\n",
       "</style>\n",
       "<table border=\"1\" class=\"dataframe\">\n",
       "  <thead>\n",
       "    <tr style=\"text-align: right;\">\n",
       "      <th></th>\n",
       "      <th>customerID</th>\n",
       "      <th>gender</th>\n",
       "      <th>SeniorCitizen</th>\n",
       "      <th>Partner</th>\n",
       "      <th>Dependents</th>\n",
       "      <th>tenure</th>\n",
       "      <th>PhoneService</th>\n",
       "      <th>MultipleLines</th>\n",
       "      <th>InternetService</th>\n",
       "      <th>OnlineSecurity</th>\n",
       "      <th>...</th>\n",
       "      <th>DeviceProtection</th>\n",
       "      <th>TechSupport</th>\n",
       "      <th>StreamingTV</th>\n",
       "      <th>StreamingMovies</th>\n",
       "      <th>Contract</th>\n",
       "      <th>PaperlessBilling</th>\n",
       "      <th>PaymentMethod</th>\n",
       "      <th>MonthlyCharges</th>\n",
       "      <th>TotalCharges</th>\n",
       "      <th>Churn</th>\n",
       "    </tr>\n",
       "  </thead>\n",
       "  <tbody>\n",
       "    <tr>\n",
       "      <th>0</th>\n",
       "      <td>7590-VHVEG</td>\n",
       "      <td>Female</td>\n",
       "      <td>0</td>\n",
       "      <td>Yes</td>\n",
       "      <td>No</td>\n",
       "      <td>1</td>\n",
       "      <td>No</td>\n",
       "      <td>No phone service</td>\n",
       "      <td>DSL</td>\n",
       "      <td>No</td>\n",
       "      <td>...</td>\n",
       "      <td>No</td>\n",
       "      <td>No</td>\n",
       "      <td>No</td>\n",
       "      <td>No</td>\n",
       "      <td>Month-to-month</td>\n",
       "      <td>Yes</td>\n",
       "      <td>Electronic check</td>\n",
       "      <td>29.85</td>\n",
       "      <td>29.85</td>\n",
       "      <td>No</td>\n",
       "    </tr>\n",
       "    <tr>\n",
       "      <th>1</th>\n",
       "      <td>5575-GNVDE</td>\n",
       "      <td>Male</td>\n",
       "      <td>0</td>\n",
       "      <td>No</td>\n",
       "      <td>No</td>\n",
       "      <td>34</td>\n",
       "      <td>Yes</td>\n",
       "      <td>No</td>\n",
       "      <td>DSL</td>\n",
       "      <td>Yes</td>\n",
       "      <td>...</td>\n",
       "      <td>Yes</td>\n",
       "      <td>No</td>\n",
       "      <td>No</td>\n",
       "      <td>No</td>\n",
       "      <td>One year</td>\n",
       "      <td>No</td>\n",
       "      <td>Mailed check</td>\n",
       "      <td>56.95</td>\n",
       "      <td>1889.5</td>\n",
       "      <td>No</td>\n",
       "    </tr>\n",
       "    <tr>\n",
       "      <th>2</th>\n",
       "      <td>3668-QPYBK</td>\n",
       "      <td>Male</td>\n",
       "      <td>0</td>\n",
       "      <td>No</td>\n",
       "      <td>No</td>\n",
       "      <td>2</td>\n",
       "      <td>Yes</td>\n",
       "      <td>No</td>\n",
       "      <td>DSL</td>\n",
       "      <td>Yes</td>\n",
       "      <td>...</td>\n",
       "      <td>No</td>\n",
       "      <td>No</td>\n",
       "      <td>No</td>\n",
       "      <td>No</td>\n",
       "      <td>Month-to-month</td>\n",
       "      <td>Yes</td>\n",
       "      <td>Mailed check</td>\n",
       "      <td>53.85</td>\n",
       "      <td>108.15</td>\n",
       "      <td>Yes</td>\n",
       "    </tr>\n",
       "    <tr>\n",
       "      <th>3</th>\n",
       "      <td>7795-CFOCW</td>\n",
       "      <td>Male</td>\n",
       "      <td>0</td>\n",
       "      <td>No</td>\n",
       "      <td>No</td>\n",
       "      <td>45</td>\n",
       "      <td>No</td>\n",
       "      <td>No phone service</td>\n",
       "      <td>DSL</td>\n",
       "      <td>Yes</td>\n",
       "      <td>...</td>\n",
       "      <td>Yes</td>\n",
       "      <td>Yes</td>\n",
       "      <td>No</td>\n",
       "      <td>No</td>\n",
       "      <td>One year</td>\n",
       "      <td>No</td>\n",
       "      <td>Bank transfer (automatic)</td>\n",
       "      <td>42.30</td>\n",
       "      <td>1840.75</td>\n",
       "      <td>No</td>\n",
       "    </tr>\n",
       "    <tr>\n",
       "      <th>4</th>\n",
       "      <td>9237-HQITU</td>\n",
       "      <td>Female</td>\n",
       "      <td>0</td>\n",
       "      <td>No</td>\n",
       "      <td>No</td>\n",
       "      <td>2</td>\n",
       "      <td>Yes</td>\n",
       "      <td>No</td>\n",
       "      <td>Fiber optic</td>\n",
       "      <td>No</td>\n",
       "      <td>...</td>\n",
       "      <td>No</td>\n",
       "      <td>No</td>\n",
       "      <td>No</td>\n",
       "      <td>No</td>\n",
       "      <td>Month-to-month</td>\n",
       "      <td>Yes</td>\n",
       "      <td>Electronic check</td>\n",
       "      <td>70.70</td>\n",
       "      <td>151.65</td>\n",
       "      <td>Yes</td>\n",
       "    </tr>\n",
       "    <tr>\n",
       "      <th>...</th>\n",
       "      <td>...</td>\n",
       "      <td>...</td>\n",
       "      <td>...</td>\n",
       "      <td>...</td>\n",
       "      <td>...</td>\n",
       "      <td>...</td>\n",
       "      <td>...</td>\n",
       "      <td>...</td>\n",
       "      <td>...</td>\n",
       "      <td>...</td>\n",
       "      <td>...</td>\n",
       "      <td>...</td>\n",
       "      <td>...</td>\n",
       "      <td>...</td>\n",
       "      <td>...</td>\n",
       "      <td>...</td>\n",
       "      <td>...</td>\n",
       "      <td>...</td>\n",
       "      <td>...</td>\n",
       "      <td>...</td>\n",
       "      <td>...</td>\n",
       "    </tr>\n",
       "    <tr>\n",
       "      <th>7038</th>\n",
       "      <td>6840-RESVB</td>\n",
       "      <td>Male</td>\n",
       "      <td>0</td>\n",
       "      <td>Yes</td>\n",
       "      <td>Yes</td>\n",
       "      <td>24</td>\n",
       "      <td>Yes</td>\n",
       "      <td>Yes</td>\n",
       "      <td>DSL</td>\n",
       "      <td>Yes</td>\n",
       "      <td>...</td>\n",
       "      <td>Yes</td>\n",
       "      <td>Yes</td>\n",
       "      <td>Yes</td>\n",
       "      <td>Yes</td>\n",
       "      <td>One year</td>\n",
       "      <td>Yes</td>\n",
       "      <td>Mailed check</td>\n",
       "      <td>84.80</td>\n",
       "      <td>1990.5</td>\n",
       "      <td>No</td>\n",
       "    </tr>\n",
       "    <tr>\n",
       "      <th>7039</th>\n",
       "      <td>2234-XADUH</td>\n",
       "      <td>Female</td>\n",
       "      <td>0</td>\n",
       "      <td>Yes</td>\n",
       "      <td>Yes</td>\n",
       "      <td>72</td>\n",
       "      <td>Yes</td>\n",
       "      <td>Yes</td>\n",
       "      <td>Fiber optic</td>\n",
       "      <td>No</td>\n",
       "      <td>...</td>\n",
       "      <td>Yes</td>\n",
       "      <td>No</td>\n",
       "      <td>Yes</td>\n",
       "      <td>Yes</td>\n",
       "      <td>One year</td>\n",
       "      <td>Yes</td>\n",
       "      <td>Credit card (automatic)</td>\n",
       "      <td>103.20</td>\n",
       "      <td>7362.9</td>\n",
       "      <td>No</td>\n",
       "    </tr>\n",
       "    <tr>\n",
       "      <th>7040</th>\n",
       "      <td>4801-JZAZL</td>\n",
       "      <td>Female</td>\n",
       "      <td>0</td>\n",
       "      <td>Yes</td>\n",
       "      <td>Yes</td>\n",
       "      <td>11</td>\n",
       "      <td>No</td>\n",
       "      <td>No phone service</td>\n",
       "      <td>DSL</td>\n",
       "      <td>Yes</td>\n",
       "      <td>...</td>\n",
       "      <td>No</td>\n",
       "      <td>No</td>\n",
       "      <td>No</td>\n",
       "      <td>No</td>\n",
       "      <td>Month-to-month</td>\n",
       "      <td>Yes</td>\n",
       "      <td>Electronic check</td>\n",
       "      <td>29.60</td>\n",
       "      <td>346.45</td>\n",
       "      <td>No</td>\n",
       "    </tr>\n",
       "    <tr>\n",
       "      <th>7041</th>\n",
       "      <td>8361-LTMKD</td>\n",
       "      <td>Male</td>\n",
       "      <td>1</td>\n",
       "      <td>Yes</td>\n",
       "      <td>No</td>\n",
       "      <td>4</td>\n",
       "      <td>Yes</td>\n",
       "      <td>Yes</td>\n",
       "      <td>Fiber optic</td>\n",
       "      <td>No</td>\n",
       "      <td>...</td>\n",
       "      <td>No</td>\n",
       "      <td>No</td>\n",
       "      <td>No</td>\n",
       "      <td>No</td>\n",
       "      <td>Month-to-month</td>\n",
       "      <td>Yes</td>\n",
       "      <td>Mailed check</td>\n",
       "      <td>74.40</td>\n",
       "      <td>306.6</td>\n",
       "      <td>Yes</td>\n",
       "    </tr>\n",
       "    <tr>\n",
       "      <th>7042</th>\n",
       "      <td>3186-AJIEK</td>\n",
       "      <td>Male</td>\n",
       "      <td>0</td>\n",
       "      <td>No</td>\n",
       "      <td>No</td>\n",
       "      <td>66</td>\n",
       "      <td>Yes</td>\n",
       "      <td>No</td>\n",
       "      <td>Fiber optic</td>\n",
       "      <td>Yes</td>\n",
       "      <td>...</td>\n",
       "      <td>Yes</td>\n",
       "      <td>Yes</td>\n",
       "      <td>Yes</td>\n",
       "      <td>Yes</td>\n",
       "      <td>Two year</td>\n",
       "      <td>Yes</td>\n",
       "      <td>Bank transfer (automatic)</td>\n",
       "      <td>105.65</td>\n",
       "      <td>6844.5</td>\n",
       "      <td>No</td>\n",
       "    </tr>\n",
       "  </tbody>\n",
       "</table>\n",
       "<p>7043 rows × 21 columns</p>\n",
       "</div>"
      ],
      "text/plain": [
       "      customerID  gender  SeniorCitizen Partner Dependents  tenure  \\\n",
       "0     7590-VHVEG  Female              0     Yes         No       1   \n",
       "1     5575-GNVDE    Male              0      No         No      34   \n",
       "2     3668-QPYBK    Male              0      No         No       2   \n",
       "3     7795-CFOCW    Male              0      No         No      45   \n",
       "4     9237-HQITU  Female              0      No         No       2   \n",
       "...          ...     ...            ...     ...        ...     ...   \n",
       "7038  6840-RESVB    Male              0     Yes        Yes      24   \n",
       "7039  2234-XADUH  Female              0     Yes        Yes      72   \n",
       "7040  4801-JZAZL  Female              0     Yes        Yes      11   \n",
       "7041  8361-LTMKD    Male              1     Yes         No       4   \n",
       "7042  3186-AJIEK    Male              0      No         No      66   \n",
       "\n",
       "     PhoneService     MultipleLines InternetService OnlineSecurity  ...  \\\n",
       "0              No  No phone service             DSL             No  ...   \n",
       "1             Yes                No             DSL            Yes  ...   \n",
       "2             Yes                No             DSL            Yes  ...   \n",
       "3              No  No phone service             DSL            Yes  ...   \n",
       "4             Yes                No     Fiber optic             No  ...   \n",
       "...           ...               ...             ...            ...  ...   \n",
       "7038          Yes               Yes             DSL            Yes  ...   \n",
       "7039          Yes               Yes     Fiber optic             No  ...   \n",
       "7040           No  No phone service             DSL            Yes  ...   \n",
       "7041          Yes               Yes     Fiber optic             No  ...   \n",
       "7042          Yes                No     Fiber optic            Yes  ...   \n",
       "\n",
       "     DeviceProtection TechSupport StreamingTV StreamingMovies        Contract  \\\n",
       "0                  No          No          No              No  Month-to-month   \n",
       "1                 Yes          No          No              No        One year   \n",
       "2                  No          No          No              No  Month-to-month   \n",
       "3                 Yes         Yes          No              No        One year   \n",
       "4                  No          No          No              No  Month-to-month   \n",
       "...               ...         ...         ...             ...             ...   \n",
       "7038              Yes         Yes         Yes             Yes        One year   \n",
       "7039              Yes          No         Yes             Yes        One year   \n",
       "7040               No          No          No              No  Month-to-month   \n",
       "7041               No          No          No              No  Month-to-month   \n",
       "7042              Yes         Yes         Yes             Yes        Two year   \n",
       "\n",
       "     PaperlessBilling              PaymentMethod MonthlyCharges  TotalCharges  \\\n",
       "0                 Yes           Electronic check          29.85         29.85   \n",
       "1                  No               Mailed check          56.95        1889.5   \n",
       "2                 Yes               Mailed check          53.85        108.15   \n",
       "3                  No  Bank transfer (automatic)          42.30       1840.75   \n",
       "4                 Yes           Electronic check          70.70        151.65   \n",
       "...               ...                        ...            ...           ...   \n",
       "7038              Yes               Mailed check          84.80        1990.5   \n",
       "7039              Yes    Credit card (automatic)         103.20        7362.9   \n",
       "7040              Yes           Electronic check          29.60        346.45   \n",
       "7041              Yes               Mailed check          74.40         306.6   \n",
       "7042              Yes  Bank transfer (automatic)         105.65        6844.5   \n",
       "\n",
       "     Churn  \n",
       "0       No  \n",
       "1       No  \n",
       "2      Yes  \n",
       "3       No  \n",
       "4      Yes  \n",
       "...    ...  \n",
       "7038    No  \n",
       "7039    No  \n",
       "7040    No  \n",
       "7041   Yes  \n",
       "7042    No  \n",
       "\n",
       "[7043 rows x 21 columns]"
      ]
     },
     "execution_count": 6,
     "metadata": {},
     "output_type": "execute_result"
    }
   ],
   "source": [
    "data"
   ]
  },
  {
   "cell_type": "code",
   "execution_count": 7,
   "metadata": {},
   "outputs": [],
   "source": [
    "#Labeling\n",
    "\n",
    "category_label = [\"SeniorCitizen\",\n",
    "                                 \"Partner\",\n",
    "                                \"Dependents\",\n",
    "                                \"Contract\",\n",
    "                                \"PaperlessBilling\",\n",
    "                                \"PaymentMethod\",\n",
    "                                \"PhoneService\",\n",
    "                                \"MultipleLines\",\n",
    "                                \"InternetService\",\n",
    "                                \"OnlineSecurity\",\n",
    "                                \"OnlineBackup\",\n",
    "                                \"DeviceProtection\",\n",
    "                                \"TechSupport\",\n",
    "                                \"StreamingTV\",\n",
    "                                \"StreamingMovies\",\n",
    "                  \"gender\",\n",
    "                  \"Churn\"]\n",
    "\n",
    "\n",
    "continuous_label = [\"tenure\", \"MonthlyCharges\",\"TotalCharges\"]"
   ]
  },
  {
   "cell_type": "code",
   "execution_count": 8,
   "metadata": {},
   "outputs": [
    {
     "name": "stdout",
     "output_type": "stream",
     "text": [
      "Unable to parse string \" \" at position 488\n"
     ]
    }
   ],
   "source": [
    "#data['TotalCharges']=data.TotalCharges.astype(float)\n",
    "try:\n",
    "    data['tenure']=pd.to_numeric(data['tenure'])\n",
    "    data['MonthlyCharges']=pd.to_numeric(data['MonthlyCharges'])\n",
    "    data['TotalCharges']=pd.to_numeric(data['TotalCharges'])\n",
    "except Exception as e:\n",
    "    print (e)"
   ]
  },
  {
   "cell_type": "code",
   "execution_count": 9,
   "metadata": {},
   "outputs": [],
   "source": [
    "index_temp = data['TotalCharges']==\" \" \n",
    "indexSet = [i for i,x in enumerate(index_temp) if x]\n",
    "data=data.drop(index=indexSet,axis=0)"
   ]
  },
  {
   "cell_type": "code",
   "execution_count": 10,
   "metadata": {},
   "outputs": [],
   "source": [
    "data.reset_index(drop=True,inplace=True)"
   ]
  },
  {
   "cell_type": "code",
   "execution_count": 11,
   "metadata": {},
   "outputs": [],
   "source": [
    "data['TotalCharges']=pd.to_numeric(data['TotalCharges'])"
   ]
  },
  {
   "cell_type": "markdown",
   "metadata": {},
   "source": [
    "# 2. Summary Stats"
   ]
  },
  {
   "cell_type": "code",
   "execution_count": 12,
   "metadata": {},
   "outputs": [],
   "source": [
    "data_copy = data.copy()"
   ]
  },
  {
   "cell_type": "code",
   "execution_count": 13,
   "metadata": {},
   "outputs": [],
   "source": [
    "data_dummied = pd.get_dummies(data_copy, columns=category_label, drop_first=True)"
   ]
  },
  {
   "cell_type": "markdown",
   "metadata": {},
   "source": [
    "# 3. Variation Inflation Factor"
   ]
  },
  {
   "cell_type": "code",
   "execution_count": 14,
   "metadata": {},
   "outputs": [],
   "source": [
    "import statsmodels.api as sm\n",
    "from statsmodels.stats.outliers_influence import variance_inflation_factor\n",
    "\n",
    "def vif(features):\n",
    "    features=sm.add_constant(features)\n",
    "    features.dropna(inplace=True)\n",
    "    \n",
    "    vif = pd.DataFrame([variance_inflation_factor(features.values, i)\n",
    "                       for i in range(features.shape[1])],columns=['VIF'])\n",
    "    vif.index = features.columns\n",
    "    return vif\n",
    "\n",
    "\n",
    "\n",
    "data_id = data_dummied.pop(\"customerID\")\n",
    "vif_return=vif(data_dummied)\n"
   ]
  },
  {
   "cell_type": "code",
   "execution_count": 15,
   "metadata": {},
   "outputs": [
    {
     "name": "stdout",
     "output_type": "stream",
     "text": [
      "                                              VIF\n",
      "const                                    0.000000\n",
      "tenure                                   7.601061\n",
      "MonthlyCharges                         866.100958\n",
      "TotalCharges                            10.883913\n",
      "SeniorCitizen_1                          1.155144\n",
      "Partner_Yes                              1.462989\n",
      "Dependents_Yes                           1.382213\n",
      "Contract_One year                        1.639004\n",
      "Contract_Two year                        2.658720\n",
      "PaperlessBilling_Yes                     1.211939\n",
      "PaymentMethod_Credit card (automatic)    1.561044\n",
      "PaymentMethod_Electronic check           1.983325\n",
      "PaymentMethod_Mailed check               1.857116\n",
      "PhoneService_Yes                              inf\n",
      "MultipleLines_No phone service                inf\n",
      "MultipleLines_Yes                        7.295768\n",
      "InternetService_Fiber optic            148.578927\n",
      "InternetService_No                            inf\n",
      "OnlineSecurity_No internet service            inf\n",
      "OnlineSecurity_Yes                       6.340993\n",
      "OnlineBackup_No internet service              inf\n",
      "OnlineBackup_Yes                         6.796884\n",
      "DeviceProtection_No internet service          inf\n",
      "DeviceProtection_Yes                     6.924788\n",
      "TechSupport_No internet service               inf\n",
      "TechSupport_Yes                          6.479352\n",
      "StreamingTV_No internet service               inf\n",
      "StreamingTV_Yes                         24.086910\n",
      "StreamingMovies_No internet service           inf\n",
      "StreamingMovies_Yes                     24.163746\n",
      "gender_Male                              1.002126\n",
      "Churn_Yes                                1.396760\n",
      "const 0\n",
      "tenure 1\n",
      "MonthlyCharges 2\n",
      "TotalCharges 3\n",
      "SeniorCitizen_1 4\n",
      "Partner_Yes 5\n",
      "Dependents_Yes 6\n",
      "Contract_One year 7\n",
      "Contract_Two year 8\n",
      "PaperlessBilling_Yes 9\n",
      "PaymentMethod_Credit card (automatic) 10\n",
      "PaymentMethod_Electronic check 11\n",
      "PaymentMethod_Mailed check 12\n",
      "PhoneService_Yes 13\n",
      "MultipleLines_No phone service 14\n",
      "MultipleLines_Yes 15\n",
      "InternetService_Fiber optic 16\n",
      "InternetService_No 17\n",
      "OnlineSecurity_No internet service 18\n",
      "OnlineSecurity_Yes 19\n",
      "OnlineBackup_No internet service 20\n",
      "OnlineBackup_Yes 21\n",
      "DeviceProtection_No internet service 22\n",
      "DeviceProtection_Yes 23\n",
      "TechSupport_No internet service 24\n",
      "TechSupport_Yes 25\n",
      "StreamingTV_No internet service 26\n",
      "StreamingTV_Yes 27\n",
      "StreamingMovies_No internet service 28\n",
      "StreamingMovies_Yes 29\n",
      "gender_Male 30\n",
      "Churn_Yes 31\n"
     ]
    }
   ],
   "source": [
    "print(vif_return)\n",
    "#vif_drop=[print(str1,i) for i, str1 in enumerate(vif_return.index) if vif_return[i]>10]\n",
    "vif_drop=[print(str1,i) for i, str1 in enumerate(vif_return.index)]\n"
   ]
  },
  {
   "cell_type": "code",
   "execution_count": 16,
   "metadata": {},
   "outputs": [],
   "source": [
    "vif_drop=[str1 for i, str1 in enumerate(vif_return.index) if vif_return['VIF'][i]>10]"
   ]
  },
  {
   "cell_type": "code",
   "execution_count": 17,
   "metadata": {},
   "outputs": [
    {
     "name": "stdout",
     "output_type": "stream",
     "text": [
      "Drop List :  ['MonthlyCharges', 'TotalCharges', 'PhoneService_Yes', 'MultipleLines_No phone service', 'InternetService_Fiber optic', 'InternetService_No', 'OnlineSecurity_No internet service', 'OnlineBackup_No internet service', 'DeviceProtection_No internet service', 'TechSupport_No internet service', 'StreamingTV_No internet service', 'StreamingTV_Yes', 'StreamingMovies_No internet service', 'StreamingMovies_Yes']\n",
      "      tenure  SeniorCitizen_1  Partner_Yes  Dependents_Yes  Contract_One year  \\\n",
      "0          1                0            1               0                  0   \n",
      "1         34                0            0               0                  1   \n",
      "2          2                0            0               0                  0   \n",
      "3         45                0            0               0                  1   \n",
      "4          2                0            0               0                  0   \n",
      "...      ...              ...          ...             ...                ...   \n",
      "7027      24                0            1               1                  1   \n",
      "7028      72                0            1               1                  1   \n",
      "7029      11                0            1               1                  0   \n",
      "7030       4                1            1               0                  0   \n",
      "7031      66                0            0               0                  0   \n",
      "\n",
      "      Contract_Two year  PaperlessBilling_Yes  \\\n",
      "0                     0                     1   \n",
      "1                     0                     0   \n",
      "2                     0                     1   \n",
      "3                     0                     0   \n",
      "4                     0                     1   \n",
      "...                 ...                   ...   \n",
      "7027                  0                     1   \n",
      "7028                  0                     1   \n",
      "7029                  0                     1   \n",
      "7030                  0                     1   \n",
      "7031                  1                     1   \n",
      "\n",
      "      PaymentMethod_Credit card (automatic)  PaymentMethod_Electronic check  \\\n",
      "0                                         0                               1   \n",
      "1                                         0                               0   \n",
      "2                                         0                               0   \n",
      "3                                         0                               0   \n",
      "4                                         0                               1   \n",
      "...                                     ...                             ...   \n",
      "7027                                      0                               0   \n",
      "7028                                      1                               0   \n",
      "7029                                      0                               1   \n",
      "7030                                      0                               0   \n",
      "7031                                      0                               0   \n",
      "\n",
      "      PaymentMethod_Mailed check  MultipleLines_Yes  OnlineSecurity_Yes  \\\n",
      "0                              0                  0                   0   \n",
      "1                              1                  0                   1   \n",
      "2                              1                  0                   1   \n",
      "3                              0                  0                   1   \n",
      "4                              0                  0                   0   \n",
      "...                          ...                ...                 ...   \n",
      "7027                           1                  1                   1   \n",
      "7028                           0                  1                   0   \n",
      "7029                           0                  0                   1   \n",
      "7030                           1                  1                   0   \n",
      "7031                           0                  0                   1   \n",
      "\n",
      "      OnlineBackup_Yes  DeviceProtection_Yes  TechSupport_Yes  gender_Male  \\\n",
      "0                    1                     0                0            0   \n",
      "1                    0                     1                0            1   \n",
      "2                    1                     0                0            1   \n",
      "3                    0                     1                1            1   \n",
      "4                    0                     0                0            0   \n",
      "...                ...                   ...              ...          ...   \n",
      "7027                 0                     1                1            1   \n",
      "7028                 1                     1                0            0   \n",
      "7029                 0                     0                0            0   \n",
      "7030                 0                     0                0            1   \n",
      "7031                 0                     1                1            1   \n",
      "\n",
      "      Churn_Yes  \n",
      "0             0  \n",
      "1             0  \n",
      "2             1  \n",
      "3             0  \n",
      "4             1  \n",
      "...         ...  \n",
      "7027          0  \n",
      "7028          0  \n",
      "7029          0  \n",
      "7030          1  \n",
      "7031          0  \n",
      "\n",
      "[7032 rows x 17 columns]\n"
     ]
    }
   ],
   "source": [
    "print(\"Drop List : \",vif_drop)\n",
    "\n",
    "data_dummied_copy=data_dummied.copy()\n",
    "for str in vif_drop:\n",
    "    data_dummied_copy.pop(str)\n",
    "    \n",
    "print(data_dummied_copy)"
   ]
  },
  {
   "cell_type": "code",
   "execution_count": 18,
   "metadata": {},
   "outputs": [
    {
     "name": "stdout",
     "output_type": "stream",
     "text": [
      "<class 'pandas.core.frame.DataFrame'>\n",
      "RangeIndex: 7032 entries, 0 to 7031\n",
      "Data columns (total 17 columns):\n",
      " #   Column                                 Non-Null Count  Dtype\n",
      "---  ------                                 --------------  -----\n",
      " 0   tenure                                 7032 non-null   int64\n",
      " 1   SeniorCitizen_1                        7032 non-null   uint8\n",
      " 2   Partner_Yes                            7032 non-null   uint8\n",
      " 3   Dependents_Yes                         7032 non-null   uint8\n",
      " 4   Contract_One year                      7032 non-null   uint8\n",
      " 5   Contract_Two year                      7032 non-null   uint8\n",
      " 6   PaperlessBilling_Yes                   7032 non-null   uint8\n",
      " 7   PaymentMethod_Credit card (automatic)  7032 non-null   uint8\n",
      " 8   PaymentMethod_Electronic check         7032 non-null   uint8\n",
      " 9   PaymentMethod_Mailed check             7032 non-null   uint8\n",
      " 10  MultipleLines_Yes                      7032 non-null   uint8\n",
      " 11  OnlineSecurity_Yes                     7032 non-null   uint8\n",
      " 12  OnlineBackup_Yes                       7032 non-null   uint8\n",
      " 13  DeviceProtection_Yes                   7032 non-null   uint8\n",
      " 14  TechSupport_Yes                        7032 non-null   uint8\n",
      " 15  gender_Male                            7032 non-null   uint8\n",
      " 16  Churn_Yes                              7032 non-null   uint8\n",
      "dtypes: int64(1), uint8(16)\n",
      "memory usage: 164.9 KB\n"
     ]
    }
   ],
   "source": [
    "data_dummied_copy.info()"
   ]
  },
  {
   "cell_type": "markdown",
   "metadata": {},
   "source": [
    "# (1) Decision Tree"
   ]
  },
  {
   "cell_type": "code",
   "execution_count": 19,
   "metadata": {},
   "outputs": [],
   "source": [
    "from sklearn.tree import DecisionTreeClassifier\n",
    "# if we use GridSearchCV : max_depth, ccp_alpha -> optimization is needed\n"
   ]
  },
  {
   "cell_type": "code",
   "execution_count": 20,
   "metadata": {},
   "outputs": [],
   "source": [
    "import statsmodels.api as sm\n",
    "from sklearn.model_selection import train_test_split\n",
    "\n",
    "#Split data\n",
    "X= sm.add_constant(data_dummied_copy)# Add Constant\n",
    "y= X.pop(\"Churn_Yes\")\n",
    "X_train, X_test, y_train, y_test = train_test_split(X,y,test_size=0.4, random_state=42)"
   ]
  },
  {
   "cell_type": "code",
   "execution_count": 21,
   "metadata": {},
   "outputs": [],
   "source": [
    "dt_clf = DecisionTreeClassifier(random_state=42)\n",
    "dt_clf.fit(X_train,y_train)\n",
    "\n",
    "y_train_pred = dt_clf.predict(X_train)\n",
    "y_test_pred = dt_clf.predict(X_test)"
   ]
  },
  {
   "cell_type": "code",
   "execution_count": 23,
   "metadata": {},
   "outputs": [
    {
     "data": {
      "text/plain": [
       "GridSearchCV(cv=16, estimator=DecisionTreeClassifier(),\n",
       "             param_grid=[{'max_depth': array([ 1.,  2.,  3.,  4.,  5.,  6.,  7.,  8.,  9., 10.])}],\n",
       "             return_train_score=True, scoring='accuracy')"
      ]
     },
     "execution_count": 23,
     "metadata": {},
     "output_type": "execute_result"
    }
   ],
   "source": [
    "from sklearn.model_selection import GridSearchCV\n",
    "from sklearn.linear_model import LogisticRegression\n",
    "from sklearn.metrics import ConfusionMatrixDisplay\n",
    "\n",
    "cv=16\n",
    "\n",
    "#Scoring\n",
    "scoring='accuracy'\n",
    "\n",
    "C=np.logspace(-4,5,20)\n",
    "\n",
    "# ccp_alpha / max_depth\n",
    "#ccp_alpha = np.linspace(1,10,9)\n",
    "max_depth = np.linspace(1,10,10)\n",
    "min_samples_leaf = np.linspace(1,5,5)\n",
    "min_samples_split = np.linspace(1,5,5)\n",
    "#ccp_alpha\n",
    "#min_samples_leaf/min_samples_split -> ?\n",
    "\n",
    "#param_grid =[{\"max_depth\":max_depth,\"min_samples_leaf\":min_samples_leaf,\"min_samples_split\":min_samples_split}]\n",
    "param_grid =[{\"max_depth\":max_depth}]\n",
    "gs=GridSearchCV(DecisionTreeClassifier(),param_grid=param_grid,cv=cv,\n",
    "                scoring=scoring,return_train_score=True)\n",
    "\n",
    "gs.fit(X_train,y_train)"
   ]
  },
  {
   "cell_type": "code",
   "execution_count": 24,
   "metadata": {},
   "outputs": [
    {
     "name": "stdout",
     "output_type": "stream",
     "text": [
      "[0.00000000e+00 0.00000000e+00 0.00000000e+00 0.00000000e+00\n",
      " 0.00000000e+00 0.00000000e+00 0.00000000e+00 0.00000000e+00\n",
      " 5.94042585e-07 2.82170228e-06 8.34348173e-06 9.87595797e-06\n",
      " 1.12868091e-05 1.58015327e-05 1.58015327e-05 1.58015327e-05\n",
      " 1.58015327e-05 1.58015327e-05 1.91533730e-05 1.97519159e-05\n",
      " 2.10687103e-05 2.25736182e-05 2.29840476e-05 2.37022991e-05\n",
      " 2.37022991e-05 2.37022991e-05 2.37022991e-05 2.70883419e-05\n",
      " 2.96278739e-05 3.16030655e-05 3.16030655e-05 3.52712785e-05\n",
      " 3.55534487e-05 3.55534487e-05 3.63435253e-05 3.95038319e-05\n",
      " 3.95038319e-05 3.95038319e-05 3.95038319e-05 4.10839851e-05\n",
      " 4.39694824e-05 4.51472364e-05 4.51472364e-05 4.74045982e-05\n",
      " 5.26717758e-05 5.30401099e-05 5.40305693e-05 5.41766837e-05\n",
      " 5.53053646e-05 5.71394711e-05 5.82161733e-05 5.83441209e-05\n",
      " 5.92557478e-05 5.92557478e-05 6.09487692e-05 6.32061310e-05\n",
      " 6.32061310e-05 6.32061310e-05 6.32061310e-05 7.37404862e-05\n",
      " 7.61859615e-05 7.90076637e-05 7.90076637e-05 7.90076637e-05\n",
      " 7.90076637e-05 7.90076637e-05 7.90076637e-05 7.90076637e-05\n",
      " 7.90076637e-05 7.90076637e-05 7.90076637e-05 7.90076637e-05\n",
      " 7.90076637e-05 7.90076637e-05 7.90076637e-05 8.34518448e-05\n",
      " 8.46510683e-05 8.46510683e-05 8.57092067e-05 8.88836217e-05\n",
      " 9.42203195e-05 9.48091965e-05 1.08353367e-04 1.09395227e-04\n",
      " 1.10046389e-04 1.13358822e-04 1.13358822e-04 1.13953361e-04\n",
      " 1.14688544e-04 1.15548708e-04 1.17434118e-04 1.18511496e-04\n",
      " 1.18511496e-04 1.18511496e-04 1.24694704e-04 1.25159701e-04\n",
      " 1.26412262e-04 1.26412262e-04 1.26412262e-04 1.26412262e-04\n",
      " 1.28387454e-04 1.30666521e-04 1.31679440e-04 1.31679440e-04\n",
      " 1.33705277e-04 1.35441709e-04 1.35441709e-04 1.35441709e-04\n",
      " 1.36436555e-04 1.36570390e-04 1.38263412e-04 1.39172000e-04\n",
      " 1.39909405e-04 1.40458069e-04 1.41085114e-04 1.42213795e-04\n",
      " 1.42213795e-04 1.42213795e-04 1.42213795e-04 1.43650298e-04\n",
      " 1.44847384e-04 1.45860302e-04 1.46880223e-04 1.47480972e-04\n",
      " 1.47480972e-04 1.47631463e-04 1.48720308e-04 1.49605548e-04\n",
      " 1.50490788e-04 1.50490788e-04 1.51937815e-04 1.52205940e-04\n",
      " 1.52371923e-04 1.53393535e-04 1.54049597e-04 1.54196513e-04\n",
      " 1.54340552e-04 1.54976571e-04 1.55142322e-04 1.55621156e-04\n",
      " 1.56559923e-04 1.57340048e-04 1.58015327e-04 1.58015327e-04\n",
      " 1.58015327e-04 1.58015327e-04 1.58015327e-04 1.58015327e-04\n",
      " 1.58015327e-04 1.58015327e-04 1.58015327e-04 1.58015327e-04\n",
      " 1.58015327e-04 1.58015327e-04 1.58015327e-04 1.58015327e-04\n",
      " 1.61332565e-04 1.65075030e-04 1.65750344e-04 1.65916094e-04\n",
      " 1.67891285e-04 1.68549683e-04 1.69302137e-04 1.69302137e-04\n",
      " 1.69302137e-04 1.72859192e-04 1.77767243e-04 1.77767243e-04\n",
      " 1.77767243e-04 1.77767243e-04 1.77767243e-04 1.77767243e-04\n",
      " 1.77767243e-04 1.77767243e-04 1.77767243e-04 1.77767243e-04\n",
      " 1.77767243e-04 1.77767243e-04 1.77767243e-04 1.77767243e-04\n",
      " 1.77767243e-04 1.82203828e-04 1.85448544e-04 1.86745387e-04\n",
      " 1.86824058e-04 1.86984804e-04 1.89618393e-04 1.89618393e-04\n",
      " 1.89618393e-04 1.89618393e-04 1.89618393e-04 1.89618393e-04\n",
      " 1.89618393e-04 1.89618393e-04 1.90935187e-04 1.92973461e-04\n",
      " 1.95195405e-04 1.97222138e-04 1.97519159e-04 1.97519159e-04\n",
      " 1.97519159e-04 2.01469543e-04 2.01963340e-04 2.03162564e-04\n",
      " 2.03162564e-04 2.03162564e-04 2.03162564e-04 2.03162564e-04\n",
      " 2.03162564e-04 2.05419926e-04 2.06726819e-04 2.07395117e-04\n",
      " 2.07395117e-04 2.07395117e-04 2.10687103e-04 2.10687103e-04\n",
      " 2.10687103e-04 2.10687103e-04 2.10687103e-04 2.11627671e-04\n",
      " 2.11627671e-04 2.11627671e-04 2.13320692e-04 2.13320692e-04\n",
      " 2.13320692e-04 2.13320692e-04 2.13885033e-04 2.14157244e-04\n",
      " 2.14234587e-04 2.15475447e-04 2.15475447e-04 2.17434314e-04\n",
      " 2.18394094e-04 2.18790453e-04 2.18790453e-04 2.21221458e-04\n",
      " 2.22209054e-04 2.22311219e-04 2.25736182e-04 2.25736182e-04\n",
      " 2.26387344e-04 2.26488636e-04 2.26717644e-04 2.28557884e-04\n",
      " 2.29209046e-04 2.30129603e-04 2.32006632e-04 2.34567994e-04\n",
      " 2.34648851e-04 2.36019719e-04 2.37022991e-04 2.37022991e-04\n",
      " 2.37022991e-04 2.37493275e-04 2.38778717e-04 2.44547531e-04\n",
      " 2.46898949e-04 2.48309800e-04 2.48874141e-04 2.48874141e-04\n",
      " 2.52824524e-04 2.52824524e-04 2.52824524e-04 2.54799716e-04\n",
      " 2.56774907e-04 2.58969564e-04 2.59794910e-04 2.62415382e-04\n",
      " 2.63336978e-04 2.63358879e-04 2.63358879e-04 2.64111333e-04\n",
      " 2.65553536e-04 2.67228970e-04 2.68626057e-04 2.70569896e-04\n",
      " 2.70883419e-04 2.73198341e-04 2.74356283e-04 2.75329260e-04\n",
      " 2.76756574e-04 2.77029629e-04 2.78674714e-04 2.84427589e-04\n",
      " 2.84427589e-04 2.84427589e-04 2.84427589e-04 2.84427589e-04\n",
      " 2.88990599e-04 2.90004601e-04 2.90296730e-04 2.92046186e-04\n",
      " 2.92414019e-04 2.93858636e-04 2.94961945e-04 2.96278739e-04\n",
      " 2.96877282e-04 2.97771106e-04 2.99149514e-04 2.99247023e-04\n",
      " 2.99397463e-04 3.00139747e-04 3.01007083e-04 3.02204314e-04\n",
      " 3.04411881e-04 3.05180524e-04 3.08783385e-04 3.14511277e-04\n",
      " 3.15579183e-04 3.16030655e-04 3.16030655e-04 3.16030655e-04\n",
      " 3.18288017e-04 3.18664244e-04 3.19444566e-04 3.20891315e-04\n",
      " 3.25060102e-04 3.25607341e-04 3.25906613e-04 3.29973184e-04\n",
      " 3.30139166e-04 3.31216432e-04 3.31277748e-04 3.35782571e-04\n",
      " 3.39940869e-04 3.40460016e-04 3.43807168e-04 3.44812018e-04\n",
      " 3.45424929e-04 3.49070223e-04 3.49070223e-04 3.51299231e-04\n",
      " 3.52040941e-04 3.54145867e-04 3.55534487e-04 3.55534487e-04\n",
      " 3.55623953e-04 3.57650764e-04 3.61998750e-04 3.66688489e-04\n",
      " 3.70538695e-04 3.87137552e-04 3.95038319e-04 3.95769871e-04\n",
      " 4.02452173e-04 4.02952082e-04 4.12290369e-04 4.15221443e-04\n",
      " 4.17864230e-04 4.19276018e-04 4.22107031e-04 4.22776879e-04\n",
      " 4.32598668e-04 4.33413470e-04 4.34346418e-04 4.38410680e-04\n",
      " 4.43129940e-04 4.44368300e-04 4.46760121e-04 4.48907180e-04\n",
      " 4.49880011e-04 4.77568174e-04 4.88962028e-04 4.93797898e-04\n",
      " 5.01931040e-04 5.04144140e-04 5.12138963e-04 5.18936700e-04\n",
      " 5.24983744e-04 5.40495830e-04 5.48928753e-04 5.51617143e-04\n",
      " 5.60533185e-04 5.69766806e-04 5.77234844e-04 5.93069381e-04\n",
      " 5.94536094e-04 5.94950249e-04 6.20022112e-04 6.38365465e-04\n",
      " 6.67294457e-04 6.75716392e-04 6.86887455e-04 7.38012874e-04\n",
      " 7.76882406e-04 8.14412099e-04 8.16238725e-04 8.22651196e-04\n",
      " 8.26438826e-04 8.43212494e-04 8.49739042e-04 9.02211828e-04\n",
      " 9.38191237e-04 9.87672062e-04 1.11973593e-03 1.19554383e-03\n",
      " 1.23410520e-03 1.59585696e-03 1.61584826e-03 1.63347001e-03\n",
      " 2.27046711e-03 2.63887992e-03 3.46874030e-03 4.27874234e-03\n",
      " 4.68915577e-03 8.98618320e-03 9.93419156e-03 1.14745591e-02\n",
      " 4.47497944e-02]\n"
     ]
    }
   ],
   "source": [
    "path = dt_clf.cost_complexity_pruning_path(X_train,y_train)\n",
    "ccp_alphas, impurities = path.ccp_alphas, path.impurities\n",
    "print(ccp_alphas)"
   ]
  },
  {
   "cell_type": "code",
   "execution_count": 25,
   "metadata": {},
   "outputs": [],
   "source": [
    "dt_clfs = []\n",
    "for ccp_alpha in ccp_alphas:\n",
    "    tClf = DecisionTreeClassifier(random_state=42,ccp_alpha=ccp_alpha)\n",
    "    tClf.fit(X_train,y_train)\n",
    "    dt_clfs.append(tClf)"
   ]
  },
  {
   "cell_type": "code",
   "execution_count": 26,
   "metadata": {},
   "outputs": [],
   "source": [
    "node_counts = [clf.tree_.node_count for clf in dt_clfs]\n",
    "depth = [clf.tree_.max_depth for clf in dt_clfs]"
   ]
  },
  {
   "cell_type": "code",
   "execution_count": 27,
   "metadata": {
    "scrolled": true
   },
   "outputs": [
    {
     "data": {
      "text/plain": [
       "[<matplotlib.lines.Line2D at 0x1626f3250>]"
      ]
     },
     "execution_count": 27,
     "metadata": {},
     "output_type": "execute_result"
    },
    {
     "data": {
      "image/png": "[encoded data removed]",
      "text/plain": [
       "<Figure size 432x288 with 1 Axes>"
      ]
     },
     "metadata": {
      "needs_background": "light"
     },
     "output_type": "display_data"
    }
   ],
   "source": [
    "\n",
    "\n",
    "fig= plt.figure()\n",
    "ax = fig.add_subplot(1,1,1)\n",
    "\n",
    "minval = 370\n",
    "plt.plot(ccp_alphas[minval:-1], node_counts[minval:-1], color='green',marker='o', linestyle='solid',label='noce_counts')\n",
    "plt.plot(ccp_alphas[minval:-1], depth[minval:-1], color='red',marker='o', linestyle='solid',label='Depth')\n"
   ]
  },
  {
   "cell_type": "code",
   "execution_count": 28,
   "metadata": {},
   "outputs": [
    {
     "data": {
      "text/plain": [
       "409"
      ]
     },
     "execution_count": 28,
     "metadata": {},
     "output_type": "execute_result"
    }
   ],
   "source": [
    "len(ccp_alphas)"
   ]
  },
  {
   "cell_type": "code",
   "execution_count": 29,
   "metadata": {},
   "outputs": [],
   "source": [
    "from sklearn.metrics import accuracy_score\n",
    "\n",
    "train_acc=[]\n",
    "test_acc=[]\n",
    "for clf in dt_clfs:\n",
    "    y_train_pred = clf.predict(X_train)\n",
    "    y_test_pred = clf.predict(X_test)\n",
    "    train_acc.append(accuracy_score(y_train_pred,y_train))\n",
    "    test_acc.append(accuracy_score(y_test_pred,y_test))"
   ]
  },
  {
   "cell_type": "code",
   "execution_count": 35,
   "metadata": {},
   "outputs": [
    {
     "data": {
      "text/plain": [
       "<AxesSubplot:>"
      ]
     },
     "execution_count": 35,
     "metadata": {},
     "output_type": "execute_result"
    }
   ],
   "source": [
    "ax[0][0]"
   ]
  },
  {
   "cell_type": "code",
   "execution_count": 38,
   "metadata": {},
   "outputs": [
    {
     "data": {
      "text/plain": [
       "<matplotlib.legend.Legend at 0x2a7e0bb20>"
      ]
     },
     "execution_count": 38,
     "metadata": {},
     "output_type": "execute_result"
    },
    {
     "data": {
      "image/png": "[encoded data removed]",
      "text/plain": [
       "<Figure size 648x432 with 4 Axes>"
      ]
     },
     "metadata": {
      "needs_background": "light"
     },
     "output_type": "display_data"
    }
   ],
   "source": [
    "#fig= plt.figure()\n",
    "#ax = fig.add_subplot(1,2,1)\n",
    "fig, ax =plt.subplots(2,2,figsize=(9,6))\n",
    "\n",
    "minval = 370\n",
    "maxval = -1\n",
    "ax[0][0].plot(ccp_alphas[minval:maxval], node_counts[minval:maxval], color='green',marker='o', linestyle='solid',label='noce_counts')\n",
    "ax[0][0].plot(ccp_alphas[minval:maxval], depth[minval:maxval], color='red',marker='o', linestyle='solid',label='Depth')\n",
    "ax[0][0].legend(loc='upper right')\n",
    "\n",
    "ax[0][1].plot(ccp_alphas[minval:maxval], train_acc[minval:maxval], color='green',marker='o', linestyle='solid',label='train_acc')\n",
    "ax[0][1].plot(ccp_alphas[minval:maxval], test_acc[minval:maxval], color='red',marker='o', linestyle='solid',label='test_acc')\n",
    "ax[0][1].legend(loc='upper right')\n",
    "\n",
    "minval=400\n",
    "maxval=-1\n",
    "\n",
    "ax[1][0].plot(ccp_alphas[minval:maxval], node_counts[minval:maxval], color='green',marker='o', linestyle='solid',label='noce_counts')\n",
    "ax[1][0].plot(ccp_alphas[minval:maxval], depth[minval:maxval], color='red',marker='o', linestyle='solid',label='Depth')\n",
    "ax[1][0].legend(loc='upper right')\n",
    "\n",
    "ax[1][1].plot(ccp_alphas[minval:maxval], train_acc[minval:maxval], color='green',marker='o', linestyle='solid',label='train_acc')\n",
    "ax[1][1].plot(ccp_alphas[minval:maxval], test_acc[minval:maxval], color='red',marker='o', linestyle='solid',label='test_acc')\n",
    "ax[1][1].legend(loc='upper right')\n"
   ]
  },
  {
   "cell_type": "code",
   "execution_count": 39,
   "metadata": {},
   "outputs": [],
   "source": [
    "dtf_Clf = DecisionTreeClassifier(random_state=42, ccp_alpha=0.006, max_depth=5)\n",
    "dtf_Clf.fit(X_train,y_train)\n",
    "y_train_pred = dtf_Clf.predict(X_train)\n",
    "y_test_pred = dtf_Clf.predict(X_test)"
   ]
  },
  {
   "cell_type": "markdown",
   "metadata": {},
   "source": [
    "데이터셋이 불균형하면 accuracy보다 f1이 나은가?"
   ]
  },
  {
   "cell_type": "code",
   "execution_count": 41,
   "metadata": {},
   "outputs": [
    {
     "data": {
      "text/plain": [
       "<sklearn.metrics._plot.confusion_matrix.ConfusionMatrixDisplay at 0x16417c670>"
      ]
     },
     "execution_count": 41,
     "metadata": {},
     "output_type": "execute_result"
    },
    {
     "data": {
      "image/png": "[encoded data removed]",
      "text/plain": [
       "<Figure size 648x216 with 2 Axes>"
      ]
     },
     "metadata": {
      "needs_background": "light"
     },
     "output_type": "display_data"
    }
   ],
   "source": [
    "fig, ax =plt.subplots(1,2,figsize=(9,3))\n",
    "ConfusionMatrixDisplay.from_predictions(y_train,dtf_Clf.predict(X_train),\n",
    "                                       colorbar=False, ax=ax[0],cmap=plt.cm.Oranges,\n",
    "                                       display_labels=['Stay','Churn'])\n",
    "\n",
    "ConfusionMatrixDisplay.from_predictions(y_test,dtf_Clf.predict(X_test),\n",
    "                                       colorbar=False, ax=ax[1],cmap=plt.cm.Oranges,\n",
    "                                       display_labels=['Stay','Churn'])"
   ]
  },
  {
   "cell_type": "code",
   "execution_count": null,
   "metadata": {},
   "outputs": [],
   "source": []
  }
 ],
 "metadata": {
  "kernelspec": {
   "display_name": "Python 3 (ipykernel)",
   "language": "python",
   "name": "python3"
  },
  "language_info": {
   "codemirror_mode": {
    "name": "ipython",
    "version": 3
   },
   "file_extension": ".py",
   "mimetype": "text/x-python",
   "name": "python",
   "nbconvert_exporter": "python",
   "pygments_lexer": "ipython3",
   "version": "3.9.10+"
  }
 },
 "nbformat": 4,
 "nbformat_minor": 2
}
