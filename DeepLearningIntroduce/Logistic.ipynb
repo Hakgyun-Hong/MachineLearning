{
 "cells": [
  {
   "cell_type": "markdown",
   "id": "d74ac116",
   "metadata": {},
   "source": [
    "# 초기 인공지능 알고리즘과 로지스틱 회귀"
   ]
  },
  {
   "cell_type": "markdown",
   "id": "36dbf378",
   "metadata": {},
   "source": [
    "- 이진분류는 True/ False 로 구분하는 문제\n",
    "- 퍼셉트론(Perceptron) : 1957년 프랑크 로젠블라트가 발표. 여깃에서 다층 퍼센트론 이름이 유래되었다."
   ]
  },
  {
   "cell_type": "markdown",
   "id": "9f9af275",
   "metadata": {},
   "source": [
    "## Preparing Data Set"
   ]
  },
  {
   "cell_type": "code",
   "execution_count": 9,
   "id": "7cb500ba",
   "metadata": {},
   "outputs": [],
   "source": [
    "import matplotlib.pyplot as plt\n",
    "import numpy as np"
   ]
  },
  {
   "cell_type": "code",
   "execution_count": 1,
   "id": "8c873e61",
   "metadata": {},
   "outputs": [],
   "source": [
    "from sklearn.datasets import load_breast_cancer\n",
    "cancer = load_breast_cancer()"
   ]
  },
  {
   "cell_type": "code",
   "execution_count": 2,
   "id": "f4e940eb",
   "metadata": {
    "scrolled": true
   },
   "outputs": [
    {
     "name": "stdout",
     "output_type": "stream",
     "text": [
      "(569, 30) (569,)\n"
     ]
    }
   ],
   "source": [
    "print(cancer.data.shape, cancer.target.shape)"
   ]
  },
  {
   "cell_type": "markdown",
   "id": "b580db87",
   "metadata": {},
   "source": [
    "- Length : 569\n",
    "- Property : 30\n",
    "- Target : 1-Dimensional"
   ]
  },
  {
   "cell_type": "code",
   "execution_count": 3,
   "id": "9472754f",
   "metadata": {},
   "outputs": [
    {
     "data": {
      "text/plain": [
       "array([[1.799e+01, 1.038e+01, 1.228e+02, 1.001e+03, 1.184e-01, 2.776e-01,\n",
       "        3.001e-01, 1.471e-01, 2.419e-01, 7.871e-02, 1.095e+00, 9.053e-01,\n",
       "        8.589e+00, 1.534e+02, 6.399e-03, 4.904e-02, 5.373e-02, 1.587e-02,\n",
       "        3.003e-02, 6.193e-03, 2.538e+01, 1.733e+01, 1.846e+02, 2.019e+03,\n",
       "        1.622e-01, 6.656e-01, 7.119e-01, 2.654e-01, 4.601e-01, 1.189e-01],\n",
       "       [2.057e+01, 1.777e+01, 1.329e+02, 1.326e+03, 8.474e-02, 7.864e-02,\n",
       "        8.690e-02, 7.017e-02, 1.812e-01, 5.667e-02, 5.435e-01, 7.339e-01,\n",
       "        3.398e+00, 7.408e+01, 5.225e-03, 1.308e-02, 1.860e-02, 1.340e-02,\n",
       "        1.389e-02, 3.532e-03, 2.499e+01, 2.341e+01, 1.588e+02, 1.956e+03,\n",
       "        1.238e-01, 1.866e-01, 2.416e-01, 1.860e-01, 2.750e-01, 8.902e-02],\n",
       "       [1.969e+01, 2.125e+01, 1.300e+02, 1.203e+03, 1.096e-01, 1.599e-01,\n",
       "        1.974e-01, 1.279e-01, 2.069e-01, 5.999e-02, 7.456e-01, 7.869e-01,\n",
       "        4.585e+00, 9.403e+01, 6.150e-03, 4.006e-02, 3.832e-02, 2.058e-02,\n",
       "        2.250e-02, 4.571e-03, 2.357e+01, 2.553e+01, 1.525e+02, 1.709e+03,\n",
       "        1.444e-01, 4.245e-01, 4.504e-01, 2.430e-01, 3.613e-01, 8.758e-02]])"
      ]
     },
     "execution_count": 3,
     "metadata": {},
     "output_type": "execute_result"
    }
   ],
   "source": [
    "cancer.data[:3] "
   ]
  },
  {
   "cell_type": "code",
   "execution_count": 7,
   "id": "de8c0e18",
   "metadata": {},
   "outputs": [
    {
     "data": {
      "image/png": "[encoded data removed]",
      "text/plain": [
       "<Figure size 640x480 with 1 Axes>"
      ]
     },
     "metadata": {},
     "output_type": "display_data"
    }
   ],
   "source": [
    "plt.boxplot(cancer.data)\n",
    "plt.xlabel('Feature')\n",
    "plt.ylabel('Value')\n",
    "plt.show()"
   ]
  },
  {
   "cell_type": "markdown",
   "id": "6d3cf778",
   "metadata": {},
   "source": [
    "- 대부분의 값들이 0에 가까이 있는 것을 볼 수 있다..?\n",
    "- 2사분위 : 중간값(50)\n",
    "- 1사분위 : 25%의 값 범위\n",
    "- 3사분위 : 75%의 값 범위"
   ]
  },
  {
   "cell_type": "code",
   "execution_count": 11,
   "id": "2a2aec54",
   "metadata": {},
   "outputs": [
    {
     "data": {
      "text/plain": [
       "(array([0, 1]), array([212, 357], dtype=int64))"
      ]
     },
     "execution_count": 11,
     "metadata": {},
     "output_type": "execute_result"
    }
   ],
   "source": [
    "np.unique(cancer.target, return_counts =True)\n",
    "#array에 0, 1 처럼 2진 분류인지 확인\n",
    "# 'return_counts'를 True로 주면 각각 몇개인지 Count해주기 때문에 쓴 듯"
   ]
  },
  {
   "cell_type": "markdown",
   "id": "1661825e",
   "metadata": {},
   "source": [
    "- imbalanced data라고 볼 수 있기는 하다."
   ]
  },
  {
   "cell_type": "code",
   "execution_count": 12,
   "id": "e4d961ab",
   "metadata": {},
   "outputs": [],
   "source": [
    "X = cancer.data\n",
    "y = cancer.target"
   ]
  },
  {
   "cell_type": "markdown",
   "id": "5d7add67",
   "metadata": {},
   "source": [
    "# 훈련 세트와 테스트 세트 나누기"
   ]
  },
  {
   "cell_type": "code",
   "execution_count": 13,
   "id": "21042087",
   "metadata": {},
   "outputs": [],
   "source": [
    "from sklearn.model_selection import train_test_split"
   ]
  },
  {
   "cell_type": "code",
   "execution_count": 14,
   "id": "015b9e31",
   "metadata": {},
   "outputs": [],
   "source": [
    "X_train, X_test, y_train, y_test = train_test_split(X,y, stratify=y,test_size=0.2, random_state=42)"
   ]
  },
  {
   "cell_type": "markdown",
   "id": "62cd5507",
   "metadata": {},
   "source": [
    "- 양성 클래스와 음성 클래스 비율을 동일하게 만들기 위함.\n",
    "- 비율 조정을 수행하는듯."
   ]
  },
  {
   "cell_type": "markdown",
   "id": "c44720ce",
   "metadata": {},
   "source": [
    "## 분할 결과 확인"
   ]
  },
  {
   "cell_type": "code",
   "execution_count": 16,
   "id": "cb820cad",
   "metadata": {},
   "outputs": [
    {
     "name": "stdout",
     "output_type": "stream",
     "text": [
      "(455, 30) (114, 30)\n"
     ]
    }
   ],
   "source": [
    "print(X_train.shape, X_test.shape)"
   ]
  },
  {
   "cell_type": "code",
   "execution_count": 17,
   "id": "dc5b58f3",
   "metadata": {},
   "outputs": [
    {
     "data": {
      "text/plain": [
       "(array([0, 1]), array([170, 285], dtype=int64))"
      ]
     },
     "execution_count": 17,
     "metadata": {},
     "output_type": "execute_result"
    }
   ],
   "source": [
    "np.unique(y_train, return_counts=True)"
   ]
  },
  {
   "cell_type": "markdown",
   "id": "5646094d",
   "metadata": {},
   "source": [
    "# 로지스틴 뉴런 구현하기"
   ]
  },
  {
   "cell_type": "markdown",
   "id": "e70a383d",
   "metadata": {},
   "source": [
    "- 일반 뉴런"
   ]
  },
  {
   "cell_type": "code",
   "execution_count": 22,
   "id": "de3e400d",
   "metadata": {},
   "outputs": [],
   "source": [
    "class LogisticNeuron:\n",
    "    def __init__(self):\n",
    "        self.w=None\n",
    "        self.b=None\n",
    "        #특성이 30개 이기때문에, 따로 초기화 안하는게 나을 수 있음...(노가다 ㅋ)\n",
    "    def forpass(self,x):\n",
    "        z=np.sum(x*self.w) + self.b #직선방정식을 계산.\n",
    "        return z\n",
    "    def backprop(self,x,err):\n",
    "        w_grad = x*err # 가중치에 대한 그레이디언트를 계산한다.\n",
    "        b_grad = 1*err # 절편에 대한 그레이디언트를 계산한다.\n",
    "        return w_grad, b_grad\n",
    "    def fit(self,X,y,epochs=100):\n",
    "        self.w=np.ones(X.shape[1])\n",
    "        self.b=0\n",
    "        for i in range(epochs):\n",
    "            for x_i,y_i in zip(X,y):\n",
    "                z=self.forpass(x_i)\n",
    "                a=self.activation(z)\n",
    "                err = -(y_i-a)\n",
    "                w_grad, b_grad = self.backprop(x_i,err)\n",
    "                self.w -= w_grad\n",
    "                self.b -= b_grad\n",
    "                \n",
    "                a = np.clip(a,1e-10,1-1e-10)\n",
    "                loss+=()\n",
    "    def activation(self,z):\n",
    "        a= 1/(1+np.exp(-z)) # 시그모이드\n",
    "        return a\n",
    "    def predict(self, X):\n",
    "        z = [self.forpass(x_i) for x_i in X]\n",
    "        a = self.activation(np.array(z)) # 활성화 함수 적용.\n",
    "        return a > 0.5 # 계단 함수이기 때문."
   ]
  },
  {
   "cell_type": "code",
   "execution_count": 23,
   "id": "1e7203d0",
   "metadata": {},
   "outputs": [
    {
     "name": "stderr",
     "output_type": "stream",
     "text": [
      "C:\\Users\\user\\AppData\\Local\\Temp\\ipykernel_13004\\2515698385.py:25: RuntimeWarning: overflow encountered in exp\n",
      "  a= 1/(1+np.exp(-z)) # 시그모이드\n"
     ]
    }
   ],
   "source": [
    "neuron = LogisticNeuron()\n",
    "neuron.fit(X_train, y_train)"
   ]
  },
  {
   "cell_type": "code",
   "execution_count": 24,
   "id": "c973d392",
   "metadata": {},
   "outputs": [
    {
     "name": "stderr",
     "output_type": "stream",
     "text": [
      "C:\\Users\\user\\AppData\\Local\\Temp\\ipykernel_13004\\2515698385.py:25: RuntimeWarning: overflow encountered in exp\n",
      "  a= 1/(1+np.exp(-z)) # 시그모이드\n"
     ]
    },
    {
     "data": {
      "text/plain": [
       "0.8245614035087719"
      ]
     },
     "execution_count": 24,
     "metadata": {},
     "output_type": "execute_result"
    }
   ],
   "source": [
    "np.mean(neuron.predict(X_test)==y_test)"
   ]
  },
  {
   "cell_type": "markdown",
   "id": "158fdf3f",
   "metadata": {},
   "source": [
    "## Permutation 을 활용함\n",
    "- 에포크마다 훈련 샘플 섞기"
   ]
  },
  {
   "cell_type": "code",
   "execution_count": 36,
   "id": "c77504e1",
   "metadata": {},
   "outputs": [],
   "source": [
    " class SingleLayer:\n",
    "    def __init__(self):\n",
    "        self.w=None\n",
    "        self.b=None\n",
    "        #특성이 30개 이기때문에, 따로 초기화 안하는게 나을 수 있음...(노가다 ㅋ)\n",
    "        \n",
    "        #손실함수 결괏값 저장 기능.\n",
    "        self.losses = []\n",
    "        \n",
    "    def forpass(self,X):\n",
    "        z=np.sum(X*self.w) + self.b #직선방정식을 계산.\n",
    "        return z\n",
    "    def backprop(self,X,err):\n",
    "        w_grad = X*err # 가중치에 대한 그레이디언트를 계산한다.\n",
    "        b_grad = 1*err # 절편에 대한 그레이디언트를 계산한다.\n",
    "        return w_grad, b_grad\n",
    "    def fit(self,X,y,epochs=100):\n",
    "        self.w=np.ones(X.shape[1])\n",
    "        self.b=0\n",
    "        for i in range(epochs):\n",
    "            \n",
    "            loss = 0\n",
    "            indexes = np.random.permutation(np.arange(len(X))) # 인덱스를 섞는다.\n",
    "            \n",
    "            #Epoch 마다 샘플을 \n",
    "            for i in indexes:\n",
    "                z=self.forpass(X[i]) #정방향 계산\n",
    "                a=self.activation(z) # 활성화 함수 적용.\n",
    "                err = -(y[i]-a) # 오차 계산\n",
    "                w_grad, b_grad = self.backprop(X[i],err) # 역방향 계산\n",
    "                self.w -= w_grad\n",
    "                self.b -= b_grad\n",
    "                \n",
    "                a = np.clip(a,1e-10,1-1e-10)\n",
    "                loss+=-(y[i]*np.log(a)+(1-y[i])*np.log(1-a))\n",
    "            self.losses.append(loss/len(y))\n",
    "            \n",
    "    def activation(self,z):\n",
    "        a= 1/(1+np.exp(-z)) # 시그모이드\n",
    "        return a\n",
    "    def predict(self, X):\n",
    "        z = [self.forpass(x_i) for x_i in X]\n",
    "        return np.array(z) > 0\n",
    "    \n",
    "        # 아래의 활성화 함수는 뺐는데, 굳이 필요 없기 때문?\n",
    "        # Sigmoid 함수의 특성을 알고 있기 때문에 굳이 계산할 필요가 없기때문이긴 함.\n",
    "        # True/ False 인지만 알면 되기 때문.\n",
    "        \n",
    "        # a = self.activation(np.array(z)) # 활성화 함수 적용.\n",
    "        # return a > 0.5 # 계단 함수이기 때문.\n",
    "    def score(self, X,y):\n",
    "        return np.mean(self.predict(X)==y)"
   ]
  },
  {
   "cell_type": "code",
   "execution_count": 37,
   "id": "9f6210f5",
   "metadata": {},
   "outputs": [
    {
     "name": "stderr",
     "output_type": "stream",
     "text": [
      "C:\\Users\\user\\AppData\\Local\\Temp\\ipykernel_13004\\1784078779.py:39: RuntimeWarning: overflow encountered in exp\n",
      "  a= 1/(1+np.exp(-z)) # 시그모이드\n"
     ]
    },
    {
     "data": {
      "text/plain": [
       "0.9473684210526315"
      ]
     },
     "execution_count": 37,
     "metadata": {},
     "output_type": "execute_result"
    }
   ],
   "source": [
    "layer = SingleLayer()\n",
    "layer.fit(X_train, y_train)\n",
    "layer.score(X_test, y_test)"
   ]
  },
  {
   "cell_type": "code",
   "execution_count": 38,
   "id": "1cae317f",
   "metadata": {},
   "outputs": [
    {
     "data": {
      "image/png": "[encoded data removed]",
      "text/plain": [
       "<Figure size 640x480 with 1 Axes>"
      ]
     },
     "metadata": {},
     "output_type": "display_data"
    }
   ],
   "source": [
    "plt.plot(layer.losses)\n",
    "plt.xlabel('epoch')\n",
    "plt.ylabel('loss')\n",
    "plt.show()"
   ]
  },
  {
   "cell_type": "markdown",
   "id": "baa6e49e",
   "metadata": {},
   "source": [
    "# sklearn으로 로지스틱 회귀를 수행하는 법."
   ]
  },
  {
   "cell_type": "markdown",
   "id": "e20aedd7",
   "metadata": {},
   "source": [
    "## SGDClassifier : Stochastic Gradient Descent\n",
    "- SVM 이나 Logistic을 이용하는 방법이다."
   ]
  },
  {
   "cell_type": "code",
   "execution_count": 41,
   "id": "ef3eb757",
   "metadata": {},
   "outputs": [],
   "source": [
    "from sklearn.linear_model import SGDClassifier\n",
    "sgd = SGDClassifier(loss='log', max_iter = 100, tol=1e-3, random_state=42)"
   ]
  },
  {
   "cell_type": "code",
   "execution_count": 42,
   "id": "0fbc0f28",
   "metadata": {
    "scrolled": true
   },
   "outputs": [
    {
     "name": "stderr",
     "output_type": "stream",
     "text": [
      "C:\\Users\\user\\anaconda3\\lib\\site-packages\\sklearn\\linear_model\\_stochastic_gradient.py:173: FutureWarning: The loss 'log' was deprecated in v1.1 and will be removed in version 1.3. Use `loss='log_loss'` which is equivalent.\n",
      "  warnings.warn(\n"
     ]
    },
    {
     "data": {
      "text/plain": [
       "0.8333333333333334"
      ]
     },
     "execution_count": 42,
     "metadata": {},
     "output_type": "execute_result"
    }
   ],
   "source": [
    "sgd.fit(X_train, y_train)\n",
    "sgd.score(X_test,y_test)\n"
   ]
  },
  {
   "cell_type": "markdown",
   "id": "52be472f",
   "metadata": {},
   "source": [
    "- 다른 Method에 비해 좋지는 않으므로 조정이 필요할듯.. iteration등등"
   ]
  },
  {
   "cell_type": "code",
   "execution_count": 43,
   "id": "21880b0a",
   "metadata": {},
   "outputs": [
    {
     "data": {
      "text/plain": [
       "array([0, 1, 0, 0, 0, 0, 1, 0, 0, 0])"
      ]
     },
     "execution_count": 43,
     "metadata": {},
     "output_type": "execute_result"
    }
   ],
   "source": [
    "sgd.predict(X_test[0:10])"
   ]
  },
  {
   "cell_type": "code",
   "execution_count": null,
   "id": "e8dad4a2",
   "metadata": {},
   "outputs": [],
   "source": []
  }
 ],
 "metadata": {
  "kernelspec": {
   "display_name": "Python 3 (ipykernel)",
   "language": "python",
   "name": "python3"
  },
  "language_info": {
   "codemirror_mode": {
    "name": "ipython",
    "version": 3
   },
   "file_extension": ".py",
   "mimetype": "text/x-python",
   "name": "python",
   "nbconvert_exporter": "python",
   "pygments_lexer": "ipython3",
   "version": "3.8.5"
  },
  "toc": {
   "base_numbering": 1,
   "nav_menu": {},
   "number_sections": true,
   "sideBar": true,
   "skip_h1_title": false,
   "title_cell": "Table of Contents",
   "title_sidebar": "Contents",
   "toc_cell": false,
   "toc_position": {},
   "toc_section_display": true,
   "toc_window_display": true
  }
 },
 "nbformat": 4,
 "nbformat_minor": 5
}
