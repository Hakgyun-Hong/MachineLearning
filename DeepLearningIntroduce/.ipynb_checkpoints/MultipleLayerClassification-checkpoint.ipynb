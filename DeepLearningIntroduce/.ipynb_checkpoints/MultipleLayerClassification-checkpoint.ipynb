{
 "cells": [
  {
   "cell_type": "code",
   "execution_count": 1,
   "id": "04de41cd",
   "metadata": {},
   "outputs": [],
   "source": [
    "import tensorflow as tf"
   ]
  },
  {
   "cell_type": "code",
   "execution_count": 2,
   "id": "953686c7",
   "metadata": {},
   "outputs": [
    {
     "data": {
      "text/plain": [
       "'2.11.0'"
      ]
     },
     "execution_count": 2,
     "metadata": {},
     "output_type": "execute_result"
    }
   ],
   "source": [
    "tf.__version__"
   ]
  },
  {
   "cell_type": "markdown",
   "id": "a9d3f525",
   "metadata": {},
   "source": [
    "# Import data"
   ]
  },
  {
   "cell_type": "code",
   "execution_count": 3,
   "id": "6834729f",
   "metadata": {},
   "outputs": [],
   "source": [
    "(X_train_all,y_train_all), (X_test,y_test) = tf.keras.datasets.fashion_mnist.load_data()"
   ]
  },
  {
   "cell_type": "code",
   "execution_count": 4,
   "id": "81d0fb56",
   "metadata": {
    "scrolled": true
   },
   "outputs": [
    {
     "name": "stdout",
     "output_type": "stream",
     "text": [
      "(60000, 28, 28) (60000,)\n"
     ]
    }
   ],
   "source": [
    "print(X_train_all.shape,y_train_all.shape)"
   ]
  },
  {
   "cell_type": "markdown",
   "id": "d1de00b9",
   "metadata": {},
   "source": [
    "- 2차원의 28 * 28 크기의 데이터가 60000개 있는 상태로 이해한다. Property는 28 * 28 의 형식이라고 생각하면 될 듯."
   ]
  },
  {
   "cell_type": "code",
   "execution_count": 5,
   "id": "b6a1a4a0",
   "metadata": {},
   "outputs": [
    {
     "data": {
      "text/plain": [
       "array([0, 0, 0, 0, 0, 0, 0, 0, 0, 0, 0, 0, 0, 0, 0, 0, 0, 0, 0, 0, 0, 0,\n",
       "       0, 0, 0, 0, 0, 0], dtype=uint8)"
      ]
     },
     "execution_count": 5,
     "metadata": {},
     "output_type": "execute_result"
    }
   ],
   "source": [
    "X_train_all[0][0]"
   ]
  },
  {
   "cell_type": "code",
   "execution_count": 6,
   "id": "81984368",
   "metadata": {},
   "outputs": [
    {
     "data": {
      "image/png": "[encoded data removed]",
      "text/plain": [
       "<Figure size 640x480 with 1 Axes>"
      ]
     },
     "metadata": {},
     "output_type": "display_data"
    }
   ],
   "source": [
    "import matplotlib.pyplot as plt\n",
    "plt.imshow(X_train_all[0],cmap='gray')\n",
    "plt.show()"
   ]
  },
  {
   "cell_type": "markdown",
   "id": "a812ff92",
   "metadata": {},
   "source": [
    "# EDA"
   ]
  },
  {
   "cell_type": "code",
   "execution_count": 7,
   "id": "e259e3fc",
   "metadata": {},
   "outputs": [],
   "source": [
    "import numpy as np\n",
    "import pandas as pd"
   ]
  },
  {
   "cell_type": "code",
   "execution_count": 8,
   "id": "e441e83e",
   "metadata": {},
   "outputs": [
    {
     "name": "stdout",
     "output_type": "stream",
     "text": [
      "[9 0 0 3 0 2 7 2 5 5]\n"
     ]
    }
   ],
   "source": [
    "print(y_train_all[:10])"
   ]
  },
  {
   "cell_type": "code",
   "execution_count": 9,
   "id": "7b810c4b",
   "metadata": {},
   "outputs": [],
   "source": [
    "class_names = ['티셔츠/윗도리','바지','스웨터','드레스','코트','샌들','셔츠','스니커즈','가방','앵클부츠']"
   ]
  },
  {
   "cell_type": "code",
   "execution_count": 10,
   "id": "9772c4e7",
   "metadata": {},
   "outputs": [
    {
     "name": "stdout",
     "output_type": "stream",
     "text": [
      "앵클부츠\n"
     ]
    }
   ],
   "source": [
    "print(class_names[y_train_all[0]])"
   ]
  },
  {
   "cell_type": "code",
   "execution_count": 11,
   "id": "cab8ece7",
   "metadata": {},
   "outputs": [
    {
     "data": {
      "text/plain": [
       "array([6000, 6000, 6000, 6000, 6000, 6000, 6000, 6000, 6000, 6000],\n",
       "      dtype=int64)"
      ]
     },
     "execution_count": 11,
     "metadata": {},
     "output_type": "execute_result"
    }
   ],
   "source": [
    "np.bincount(y_train_all)"
   ]
  },
  {
   "cell_type": "markdown",
   "id": "45b90900",
   "metadata": {},
   "source": [
    "- 10개의 Class가 골고루 분포해있음을 확인할 수 있다."
   ]
  },
  {
   "cell_type": "code",
   "execution_count": 12,
   "id": "569c991f",
   "metadata": {},
   "outputs": [],
   "source": [
    "from sklearn.model_selection import train_test_split\n",
    "X_train, X_val, y_train, y_val = train_test_split(X_train_all,y_train_all,stratify=y_train_all, test_size=0.2, random_state=42)"
   ]
  },
  {
   "cell_type": "code",
   "execution_count": 13,
   "id": "e7149cd9",
   "metadata": {},
   "outputs": [
    {
     "name": "stdout",
     "output_type": "stream",
     "text": [
      "[4800 4800 4800 4800 4800 4800 4800 4800 4800 4800] [1200 1200 1200 1200 1200 1200 1200 1200 1200 1200]\n"
     ]
    }
   ],
   "source": [
    "print(np.bincount(y_train),np.bincount(y_val))"
   ]
  },
  {
   "cell_type": "code",
   "execution_count": 14,
   "id": "4c290718",
   "metadata": {},
   "outputs": [],
   "source": [
    "X_train = X_train/255\n",
    "X_val = X_val/255\n",
    "\n",
    "#이미지일 경우 pixel의 최대값인 255로 나눠주기도 한다.\n",
    "#Normalization 과정임."
   ]
  },
  {
   "cell_type": "code",
   "execution_count": 15,
   "id": "22103042",
   "metadata": {},
   "outputs": [
    {
     "name": "stdout",
     "output_type": "stream",
     "text": [
      "(48000, 28, 28) (12000, 28, 28)\n"
     ]
    }
   ],
   "source": [
    "print(X_train.shape,X_val.shape)"
   ]
  },
  {
   "cell_type": "code",
   "execution_count": 16,
   "id": "17107538",
   "metadata": {},
   "outputs": [],
   "source": [
    "X_train = X_train.reshape(-1,784)\n",
    "X_val = X_val.reshape(-1,784)"
   ]
  },
  {
   "cell_type": "code",
   "execution_count": 26,
   "id": "634ad4a4",
   "metadata": {},
   "outputs": [
    {
     "name": "stdout",
     "output_type": "stream",
     "text": [
      "(48000, 784)\n",
      "(12000, 784)\n"
     ]
    }
   ],
   "source": [
    "print(X_train.shape)\n",
    "print(X_val.shape)"
   ]
  },
  {
   "cell_type": "markdown",
   "id": "4d97ef74",
   "metadata": {},
   "source": [
    "- 784 = 28 * 28 이다. 1차원배열로 모델에 넣어야하기 때문임."
   ]
  },
  {
   "cell_type": "markdown",
   "id": "6ff2a521",
   "metadata": {},
   "source": [
    "# Target 조정\n",
    "- 타깃을 One-Hot 인코딩으로 변경해줘야한다."
   ]
  },
  {
   "cell_type": "code",
   "execution_count": 17,
   "id": "11d6fc99",
   "metadata": {},
   "outputs": [
    {
     "data": {
      "text/plain": [
       "array([[1., 0., 0., 0.],\n",
       "       [0., 1., 0., 0.],\n",
       "       [0., 0., 0., 1.]], dtype=float32)"
      ]
     },
     "execution_count": 17,
     "metadata": {},
     "output_type": "execute_result"
    }
   ],
   "source": [
    "tf.keras.utils.to_categorical([0,1,3])"
   ]
  },
  {
   "cell_type": "markdown",
   "id": "3f596c51",
   "metadata": {},
   "source": [
    "- to_categorical() 함수는 세번째 원소를 비우고 0,1,3에 대한 값을 인코딩하는 것을 확인할 수 있음.\n",
    "- 해당 함수는 문자열로 된 레이블은 인코딩하지 못하고, int 형으로 된 자료형만 변환(encoding)할 수 있다."
   ]
  },
  {
   "cell_type": "code",
   "execution_count": 18,
   "id": "2ec82e93",
   "metadata": {},
   "outputs": [],
   "source": [
    "y_train_encoded = tf.keras.utils.to_categorical(y_train)\n",
    "y_val_encoded = tf.keras.utils.to_categorical(y_val)"
   ]
  },
  {
   "cell_type": "code",
   "execution_count": 19,
   "id": "7aa17513",
   "metadata": {},
   "outputs": [
    {
     "name": "stdout",
     "output_type": "stream",
     "text": [
      "(48000, 10) (12000, 10)\n"
     ]
    }
   ],
   "source": [
    "print(y_train_encoded.shape,y_val_encoded.shape)"
   ]
  },
  {
   "cell_type": "code",
   "execution_count": 20,
   "id": "7e96703e",
   "metadata": {},
   "outputs": [
    {
     "name": "stdout",
     "output_type": "stream",
     "text": [
      "[6] [array([0., 0., 0., 0., 0., 0., 1., 0., 0., 0.], dtype=float32)]\n"
     ]
    }
   ],
   "source": [
    "print([y_train[0]],[y_train_encoded[0]])"
   ]
  },
  {
   "cell_type": "markdown",
   "id": "ce26ef13",
   "metadata": {},
   "source": [
    "# Model"
   ]
  },
  {
   "cell_type": "code",
   "execution_count": 21,
   "id": "30ce716a",
   "metadata": {},
   "outputs": [
    {
     "name": "stdout",
     "output_type": "stream",
     "text": [
      "Epoch 1/40\n",
      "1500/1500 [==============================] - 6s 4ms/step - loss: 1.3681 - accuracy: 0.6482 - val_loss: 0.9605 - val_accuracy: 0.7401\n",
      "Epoch 2/40\n",
      "1500/1500 [==============================] - 5s 3ms/step - loss: 0.8422 - accuracy: 0.7439 - val_loss: 0.7509 - val_accuracy: 0.7637\n",
      "Epoch 3/40\n",
      "1500/1500 [==============================] - 4s 3ms/step - loss: 0.7124 - accuracy: 0.7630 - val_loss: 0.6648 - val_accuracy: 0.7768\n",
      "Epoch 4/40\n",
      "1500/1500 [==============================] - 5s 3ms/step - loss: 0.6478 - accuracy: 0.7786 - val_loss: 0.6143 - val_accuracy: 0.7890\n",
      "Epoch 5/40\n",
      "1500/1500 [==============================] - 6s 4ms/step - loss: 0.6059 - accuracy: 0.7907 - val_loss: 0.5805 - val_accuracy: 0.8000\n",
      "Epoch 6/40\n",
      "1500/1500 [==============================] - 5s 3ms/step - loss: 0.5757 - accuracy: 0.8013 - val_loss: 0.5520 - val_accuracy: 0.8073\n",
      "Epoch 7/40\n",
      "1500/1500 [==============================] - 5s 3ms/step - loss: 0.5527 - accuracy: 0.8106 - val_loss: 0.5324 - val_accuracy: 0.8153\n",
      "Epoch 8/40\n",
      "1500/1500 [==============================] - 6s 4ms/step - loss: 0.5346 - accuracy: 0.8158 - val_loss: 0.5164 - val_accuracy: 0.8204\n",
      "Epoch 9/40\n",
      "1500/1500 [==============================] - 5s 3ms/step - loss: 0.5195 - accuracy: 0.8202 - val_loss: 0.5017 - val_accuracy: 0.8248\n",
      "Epoch 10/40\n",
      "1500/1500 [==============================] - 4s 3ms/step - loss: 0.5069 - accuracy: 0.8244 - val_loss: 0.4915 - val_accuracy: 0.8292\n",
      "Epoch 11/40\n",
      "1500/1500 [==============================] - 5s 3ms/step - loss: 0.4966 - accuracy: 0.8275 - val_loss: 0.4814 - val_accuracy: 0.8292\n",
      "Epoch 12/40\n",
      "1500/1500 [==============================] - 5s 3ms/step - loss: 0.4875 - accuracy: 0.8309 - val_loss: 0.4730 - val_accuracy: 0.8327\n",
      "Epoch 13/40\n",
      "1500/1500 [==============================] - 6s 4ms/step - loss: 0.4793 - accuracy: 0.8333 - val_loss: 0.4648 - val_accuracy: 0.8356\n",
      "Epoch 14/40\n",
      "1500/1500 [==============================] - 8s 5ms/step - loss: 0.4723 - accuracy: 0.8353 - val_loss: 0.4575 - val_accuracy: 0.8388\n",
      "Epoch 15/40\n",
      "1500/1500 [==============================] - 8s 5ms/step - loss: 0.4660 - accuracy: 0.8385 - val_loss: 0.4524 - val_accuracy: 0.8397\n",
      "Epoch 16/40\n",
      "1500/1500 [==============================] - 9s 6ms/step - loss: 0.4600 - accuracy: 0.8395 - val_loss: 0.4484 - val_accuracy: 0.8429\n",
      "Epoch 17/40\n",
      "1500/1500 [==============================] - 6s 4ms/step - loss: 0.4546 - accuracy: 0.8422 - val_loss: 0.4427 - val_accuracy: 0.8432\n",
      "Epoch 18/40\n",
      "1500/1500 [==============================] - 5s 3ms/step - loss: 0.4496 - accuracy: 0.8434 - val_loss: 0.4371 - val_accuracy: 0.8457\n",
      "Epoch 19/40\n",
      "1500/1500 [==============================] - 5s 3ms/step - loss: 0.4454 - accuracy: 0.8448 - val_loss: 0.4335 - val_accuracy: 0.8457\n",
      "Epoch 20/40\n",
      "1500/1500 [==============================] - 5s 3ms/step - loss: 0.4410 - accuracy: 0.8461 - val_loss: 0.4319 - val_accuracy: 0.8478\n",
      "Epoch 21/40\n",
      "1500/1500 [==============================] - 5s 3ms/step - loss: 0.4371 - accuracy: 0.8468 - val_loss: 0.4265 - val_accuracy: 0.8485\n",
      "Epoch 22/40\n",
      "1500/1500 [==============================] - 5s 3ms/step - loss: 0.4333 - accuracy: 0.8484 - val_loss: 0.4233 - val_accuracy: 0.8492\n",
      "Epoch 23/40\n",
      "1500/1500 [==============================] - 4s 3ms/step - loss: 0.4299 - accuracy: 0.8491 - val_loss: 0.4198 - val_accuracy: 0.8523\n",
      "Epoch 24/40\n",
      "1500/1500 [==============================] - 5s 3ms/step - loss: 0.4265 - accuracy: 0.8508 - val_loss: 0.4167 - val_accuracy: 0.8523\n",
      "Epoch 25/40\n",
      "1500/1500 [==============================] - 5s 3ms/step - loss: 0.4231 - accuracy: 0.8519 - val_loss: 0.4156 - val_accuracy: 0.8531\n",
      "Epoch 26/40\n",
      "1500/1500 [==============================] - 5s 3ms/step - loss: 0.4202 - accuracy: 0.8523 - val_loss: 0.4118 - val_accuracy: 0.8551\n",
      "Epoch 27/40\n",
      "1500/1500 [==============================] - 5s 3ms/step - loss: 0.4173 - accuracy: 0.8538 - val_loss: 0.4154 - val_accuracy: 0.8507\n",
      "Epoch 28/40\n",
      "1500/1500 [==============================] - 5s 3ms/step - loss: 0.4148 - accuracy: 0.8543 - val_loss: 0.4087 - val_accuracy: 0.8558\n",
      "Epoch 29/40\n",
      "1500/1500 [==============================] - 5s 3ms/step - loss: 0.4121 - accuracy: 0.8551 - val_loss: 0.4052 - val_accuracy: 0.8565\n",
      "Epoch 30/40\n",
      "1500/1500 [==============================] - 5s 3ms/step - loss: 0.4096 - accuracy: 0.8556 - val_loss: 0.4032 - val_accuracy: 0.8581\n",
      "Epoch 31/40\n",
      "1500/1500 [==============================] - 5s 3ms/step - loss: 0.4071 - accuracy: 0.8572 - val_loss: 0.4033 - val_accuracy: 0.8575\n",
      "Epoch 32/40\n",
      "1500/1500 [==============================] - 5s 4ms/step - loss: 0.4048 - accuracy: 0.8573 - val_loss: 0.3999 - val_accuracy: 0.8582\n",
      "Epoch 33/40\n",
      "1500/1500 [==============================] - 4s 3ms/step - loss: 0.4025 - accuracy: 0.8580 - val_loss: 0.3974 - val_accuracy: 0.8579\n",
      "Epoch 34/40\n",
      "1500/1500 [==============================] - 5s 3ms/step - loss: 0.4005 - accuracy: 0.8587 - val_loss: 0.3956 - val_accuracy: 0.8610\n",
      "Epoch 35/40\n",
      "1500/1500 [==============================] - 5s 4ms/step - loss: 0.3984 - accuracy: 0.8592 - val_loss: 0.3947 - val_accuracy: 0.8617\n",
      "Epoch 36/40\n",
      "1500/1500 [==============================] - 5s 3ms/step - loss: 0.3963 - accuracy: 0.8599 - val_loss: 0.3927 - val_accuracy: 0.8610\n",
      "Epoch 37/40\n",
      "1500/1500 [==============================] - 5s 3ms/step - loss: 0.3945 - accuracy: 0.8609 - val_loss: 0.3920 - val_accuracy: 0.8613\n",
      "Epoch 38/40\n",
      "1500/1500 [==============================] - 6s 4ms/step - loss: 0.3926 - accuracy: 0.8609 - val_loss: 0.3899 - val_accuracy: 0.8624\n",
      "Epoch 39/40\n",
      "1500/1500 [==============================] - 5s 3ms/step - loss: 0.3906 - accuracy: 0.8614 - val_loss: 0.3913 - val_accuracy: 0.8623\n",
      "Epoch 40/40\n",
      "1500/1500 [==============================] - 5s 3ms/step - loss: 0.3888 - accuracy: 0.8623 - val_loss: 0.3867 - val_accuracy: 0.8616\n"
     ]
    }
   ],
   "source": [
    "from tensorflow.keras import Sequential\n",
    "from tensorflow.keras.layers import Dense\n",
    "\n",
    "model = Sequential()\n",
    "model.add(Dense(100,activation='sigmoid',input_shape=(784,)))\n",
    "# 은닉층의 유닛(뉴런) 개수 100개.\n",
    "# 은닉층의 활성함수-> Sigmoid\n",
    "# Property가 784개 이기 때문에 input_shape 조정\n",
    "\n",
    "model.add(Dense(10, activation='softmax'))\n",
    "# 출력이 10개 항목이기 때문.\n",
    "\n",
    "model.compile(optimizer='sgd',loss='categorical_crossentropy',metrics=['accuracy'])\n",
    "# metrics : History에서 기록 후 참고하기 위함.\n",
    "# loss : categorical_crossentropy, mse 등등을 넣을 수 있음\n",
    "history = model.fit(X_train,y_train_encoded, epochs=40, validation_data=(X_val,y_val_encoded))"
   ]
  },
  {
   "cell_type": "code",
   "execution_count": 22,
   "id": "765da335",
   "metadata": {
    "scrolled": true
   },
   "outputs": [
    {
     "name": "stdout",
     "output_type": "stream",
     "text": [
      "dict_keys(['loss', 'accuracy', 'val_loss', 'val_accuracy'])\n"
     ]
    }
   ],
   "source": [
    "print(history.history.keys())"
   ]
  },
  {
   "cell_type": "markdown",
   "id": "fcf41543",
   "metadata": {},
   "source": [
    "## Train Loss and Validation Loss"
   ]
  },
  {
   "cell_type": "code",
   "execution_count": 23,
   "id": "6cbb1aef",
   "metadata": {},
   "outputs": [
    {
     "data": {
      "image/png": "[encoded data removed]",
      "text/plain": [
       "<Figure size 640x480 with 1 Axes>"
      ]
     },
     "metadata": {},
     "output_type": "display_data"
    }
   ],
   "source": [
    "plt.plot(history.history['loss'])\n",
    "plt.plot(history.history['val_loss'])\n",
    "plt.ylabel('loss')\n",
    "plt.xlabel('epoch')\n",
    "plt.legend(['train_loss','val_loss'])\n",
    "plt.show()"
   ]
  },
  {
   "cell_type": "markdown",
   "id": "459dc1c3",
   "metadata": {},
   "source": [
    "## Train Accuracy and Validation Accuracy"
   ]
  },
  {
   "cell_type": "code",
   "execution_count": 24,
   "id": "9af236eb",
   "metadata": {},
   "outputs": [
    {
     "data": {
      "image/png": "[encoded data removed]",
      "text/plain": [
       "<Figure size 640x480 with 1 Axes>"
      ]
     },
     "metadata": {},
     "output_type": "display_data"
    }
   ],
   "source": [
    "plt.plot(history.history['accuracy'])\n",
    "plt.plot(history.history['val_accuracy'])\n",
    "plt.ylabel('accuracy')\n",
    "plt.xlabel('epoch')\n",
    "plt.legend(['train_accuracy','val_accuracy'])\n",
    "plt.show()"
   ]
  },
  {
   "cell_type": "code",
   "execution_count": 25,
   "id": "5205ff62",
   "metadata": {},
   "outputs": [
    {
     "name": "stdout",
     "output_type": "stream",
     "text": [
      "0.8615833520889282\n"
     ]
    }
   ],
   "source": [
    "loss, accuracy = model.evaluate(X_val,y_val_encoded,verbose=0)\n",
    "print(accuracy)"
   ]
  },
  {
   "cell_type": "code",
   "execution_count": null,
   "id": "ed594af7",
   "metadata": {},
   "outputs": [],
   "source": []
  }
 ],
 "metadata": {
  "kernelspec": {
   "display_name": "Python 3 (ipykernel)",
   "language": "python",
   "name": "python3"
  },
  "language_info": {
   "codemirror_mode": {
    "name": "ipython",
    "version": 3
   },
   "file_extension": ".py",
   "mimetype": "text/x-python",
   "name": "python",
   "nbconvert_exporter": "python",
   "pygments_lexer": "ipython3",
   "version": "3.8.5"
  },
  "toc": {
   "base_numbering": 1,
   "nav_menu": {},
   "number_sections": true,
   "sideBar": true,
   "skip_h1_title": false,
   "title_cell": "Table of Contents",
   "title_sidebar": "Contents",
   "toc_cell": false,
   "toc_position": {},
   "toc_section_display": true,
   "toc_window_display": true
  }
 },
 "nbformat": 4,
 "nbformat_minor": 5
}
