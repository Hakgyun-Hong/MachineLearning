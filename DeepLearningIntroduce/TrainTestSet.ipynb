{
 "cells": [
  {
   "cell_type": "code",
   "execution_count": 3,
   "id": "337e0fe8",
   "metadata": {},
   "outputs": [],
   "source": [
    "import numpy as np\n",
    "from sklearn.datasets import load_breast_cancer\n",
    "from sklearn.model_selection import train_test_split"
   ]
  },
  {
   "cell_type": "markdown",
   "id": "d49074dc",
   "metadata": {},
   "source": [
    "# 검증세트를 나누고 전처리"
   ]
  },
  {
   "cell_type": "markdown",
   "id": "f1a3211b",
   "metadata": {},
   "source": [
    "## Logistic"
   ]
  },
  {
   "cell_type": "code",
   "execution_count": 4,
   "id": "cd03cb97",
   "metadata": {},
   "outputs": [],
   "source": [
    "cancer = load_breast_cancer()\n",
    "X=cancer.data\n",
    "y=cancer.target\n",
    "X_train_all, X_test, y_train_all,y_test = train_test_split(X,y,stratify=y,test_size=0.2, random_state=42)"
   ]
  },
  {
   "cell_type": "code",
   "execution_count": 6,
   "id": "1504a2d0",
   "metadata": {},
   "outputs": [
    {
     "name": "stderr",
     "output_type": "stream",
     "text": [
      "C:\\Users\\user\\anaconda3\\lib\\site-packages\\sklearn\\linear_model\\_stochastic_gradient.py:173: FutureWarning: The loss 'log' was deprecated in v1.1 and will be removed in version 1.3. Use `loss='log_loss'` which is equivalent.\n",
      "  warnings.warn(\n"
     ]
    },
    {
     "data": {
      "text/plain": [
       "0.8333333333333334"
      ]
     },
     "execution_count": 6,
     "metadata": {},
     "output_type": "execute_result"
    }
   ],
   "source": [
    "from sklearn.linear_model import SGDClassifier\n",
    "sgd = SGDClassifier(loss='log', random_state=42)\n",
    "sgd.fit(X_train_all, y_train_all)\n",
    "sgd.score(X_test,y_test)"
   ]
  },
  {
   "cell_type": "markdown",
   "id": "4b93cf5b",
   "metadata": {},
   "source": [
    "## SVM"
   ]
  },
  {
   "cell_type": "code",
   "execution_count": 10,
   "id": "8d4e69dd",
   "metadata": {},
   "outputs": [
    {
     "data": {
      "text/plain": [
       "0.9385964912280702"
      ]
     },
     "execution_count": 10,
     "metadata": {},
     "output_type": "execute_result"
    }
   ],
   "source": [
    "from sklearn.linear_model import SGDClassifier\n",
    "sgd = SGDClassifier(loss='hinge', random_state = 42)\n",
    "sgd.fit(X_train_all, y_train_all)\n",
    "sgd.score(X_test,y_test)\n"
   ]
  },
  {
   "cell_type": "markdown",
   "id": "6cc617cb",
   "metadata": {},
   "source": [
    "# 검증세트\n",
    "- X_train_all -> X_train, X_val\n",
    "- y_train_all -> y_train, y_val"
   ]
  },
  {
   "cell_type": "code",
   "execution_count": 11,
   "id": "b3538697",
   "metadata": {},
   "outputs": [
    {
     "name": "stdout",
     "output_type": "stream",
     "text": [
      "364 91\n"
     ]
    }
   ],
   "source": [
    "X_train, X_val, y_train, y_val = train_test_split(X_train_all,y_train_all,stratify=y_train_all, test_size=0.2, random_state=42)\n",
    "print(len(X_train),len(X_val))"
   ]
  },
  {
   "cell_type": "code",
   "execution_count": 13,
   "id": "1eeb4dbf",
   "metadata": {},
   "outputs": [],
   "source": [
    "import matplotlib.pyplot as plt"
   ]
  },
  {
   "cell_type": "code",
   "execution_count": 14,
   "id": "7ba03c59",
   "metadata": {},
   "outputs": [
    {
     "name": "stdout",
     "output_type": "stream",
     "text": [
      "['mean perimeter' 'mean area']\n"
     ]
    },
    {
     "data": {
      "image/png": "[encoded data removed]",
      "text/plain": [
       "<Figure size 640x480 with 1 Axes>"
      ]
     },
     "metadata": {},
     "output_type": "display_data"
    }
   ],
   "source": [
    "print(cancer.feature_names[[2,3]])\n",
    "plt.boxplot(X_train[:,2:4])\n",
    "plt.xlabel('feature')\n",
    "plt.ylabel('value')\n",
    "plt.show()"
   ]
  },
  {
   "cell_type": "markdown",
   "id": "49e33e00",
   "metadata": {},
   "source": [
    "- 위 그림이 Scale 을 해줘야 하는 이유를 나타낸다 w_i = w_i + (y-a)*x_i 이기 때문에 Gradient 속도가 Feature마다 다르게 되는 문제가 발생하게 된다."
   ]
  },
  {
   "cell_type": "code",
   "execution_count": null,
   "id": "87a78691",
   "metadata": {},
   "outputs": [],
   "source": []
  }
 ],
 "metadata": {
  "kernelspec": {
   "display_name": "Python 3 (ipykernel)",
   "language": "python",
   "name": "python3"
  },
  "language_info": {
   "codemirror_mode": {
    "name": "ipython",
    "version": 3
   },
   "file_extension": ".py",
   "mimetype": "text/x-python",
   "name": "python",
   "nbconvert_exporter": "python",
   "pygments_lexer": "ipython3",
   "version": "3.8.5"
  },
  "toc": {
   "base_numbering": 1,
   "nav_menu": {},
   "number_sections": true,
   "sideBar": true,
   "skip_h1_title": false,
   "title_cell": "Table of Contents",
   "title_sidebar": "Contents",
   "toc_cell": false,
   "toc_position": {},
   "toc_section_display": true,
   "toc_window_display": false
  }
 },
 "nbformat": 4,
 "nbformat_minor": 5
}
