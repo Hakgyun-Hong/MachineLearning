{
 "cells": [
  {
   "cell_type": "code",
   "execution_count": 1,
   "id": "04de41cd",
   "metadata": {},
   "outputs": [],
   "source": [
    "import tensorflow as tf"
   ]
  },
  {
   "cell_type": "code",
   "execution_count": 2,
   "id": "953686c7",
   "metadata": {},
   "outputs": [
    {
     "data": {
      "text/plain": [
       "'2.11.0'"
      ]
     },
     "execution_count": 2,
     "metadata": {},
     "output_type": "execute_result"
    }
   ],
   "source": [
    "tf.__version__"
   ]
  },
  {
   "cell_type": "markdown",
   "id": "a9d3f525",
   "metadata": {},
   "source": [
    "# Import data"
   ]
  },
  {
   "cell_type": "code",
   "execution_count": 3,
   "id": "6834729f",
   "metadata": {},
   "outputs": [
    {
     "name": "stdout",
     "output_type": "stream",
     "text": [
      "Downloading data from https://storage.googleapis.com/tensorflow/tf-keras-datasets/train-labels-idx1-ubyte.gz\n",
      "29515/29515 [==============================] - 0s 0us/step\n",
      "Downloading data from https://storage.googleapis.com/tensorflow/tf-keras-datasets/train-images-idx3-ubyte.gz\n",
      "26421880/26421880 [==============================] - 6s 0us/step\n",
      "Downloading data from https://storage.googleapis.com/tensorflow/tf-keras-datasets/t10k-labels-idx1-ubyte.gz\n",
      "5148/5148 [==============================] - 0s 0s/step\n",
      "Downloading data from https://storage.googleapis.com/tensorflow/tf-keras-datasets/t10k-images-idx3-ubyte.gz\n",
      "4422102/4422102 [==============================] - 0s 0us/step\n"
     ]
    }
   ],
   "source": [
    "(X_train_all,y_train_all), (X_test,y_test) = tf.keras.datasets.fashion_mnist.load_data()"
   ]
  },
  {
   "cell_type": "code",
   "execution_count": 4,
   "id": "81d0fb56",
   "metadata": {
    "scrolled": true
   },
   "outputs": [
    {
     "name": "stdout",
     "output_type": "stream",
     "text": [
      "(60000, 28, 28) (60000,)\n"
     ]
    }
   ],
   "source": [
    "print(X_train_all.shape,y_train_all.shape)"
   ]
  },
  {
   "cell_type": "markdown",
   "id": "d1de00b9",
   "metadata": {},
   "source": [
    "- 2차원의 28 * 28 크기의 데이터가 60000개 있는 상태로 이해한다. Property는 28 * 28 의 형식이라고 생각하면 될 듯."
   ]
  },
  {
   "cell_type": "code",
   "execution_count": 8,
   "id": "b6a1a4a0",
   "metadata": {},
   "outputs": [
    {
     "data": {
      "text/plain": [
       "array([0, 0, 0, 0, 0, 0, 0, 0, 0, 0, 0, 0, 0, 0, 0, 0, 0, 0, 0, 0, 0, 0,\n",
       "       0, 0, 0, 0, 0, 0], dtype=uint8)"
      ]
     },
     "execution_count": 8,
     "metadata": {},
     "output_type": "execute_result"
    }
   ],
   "source": [
    "X_train_all[0][0]"
   ]
  },
  {
   "cell_type": "code",
   "execution_count": 5,
   "id": "81984368",
   "metadata": {},
   "outputs": [
    {
     "data": {
      "image/png": "[encoded data removed]",
      "text/plain": [
       "<Figure size 640x480 with 1 Axes>"
      ]
     },
     "metadata": {},
     "output_type": "display_data"
    }
   ],
   "source": [
    "import matplotlib.pyplot as plt\n",
    "plt.imshow(X_train_all[0],cmap='gray')\n",
    "plt.show()"
   ]
  },
  {
   "cell_type": "markdown",
   "id": "a812ff92",
   "metadata": {},
   "source": [
    "# EDA"
   ]
  },
  {
   "cell_type": "code",
   "execution_count": 12,
   "id": "e259e3fc",
   "metadata": {},
   "outputs": [],
   "source": [
    "import numpy as np\n",
    "import pandas as pd"
   ]
  },
  {
   "cell_type": "code",
   "execution_count": 6,
   "id": "e441e83e",
   "metadata": {},
   "outputs": [
    {
     "name": "stdout",
     "output_type": "stream",
     "text": [
      "[9 0 0 3 0 2 7 2 5 5]\n"
     ]
    }
   ],
   "source": [
    "print(y_train_all[:10])"
   ]
  },
  {
   "cell_type": "code",
   "execution_count": 9,
   "id": "7b810c4b",
   "metadata": {},
   "outputs": [],
   "source": [
    "class_names = ['티셔츠/윗도리','바지','스웨터','드레스','코트','샌들','셔츠','스니커즈','가방','앵클부츠']"
   ]
  },
  {
   "cell_type": "code",
   "execution_count": 10,
   "id": "9772c4e7",
   "metadata": {},
   "outputs": [
    {
     "name": "stdout",
     "output_type": "stream",
     "text": [
      "앵클부츠\n"
     ]
    }
   ],
   "source": [
    "print(class_names[y_train_all[0]])"
   ]
  },
  {
   "cell_type": "code",
   "execution_count": 13,
   "id": "cab8ece7",
   "metadata": {},
   "outputs": [
    {
     "data": {
      "text/plain": [
       "array([6000, 6000, 6000, 6000, 6000, 6000, 6000, 6000, 6000, 6000],\n",
       "      dtype=int64)"
      ]
     },
     "execution_count": 13,
     "metadata": {},
     "output_type": "execute_result"
    }
   ],
   "source": [
    "np.bincount(y_train_all)"
   ]
  },
  {
   "cell_type": "markdown",
   "id": "45b90900",
   "metadata": {},
   "source": [
    "- 10개의 Class가 골고루 분포해있음을 확인할 수 있다."
   ]
  },
  {
   "cell_type": "code",
   "execution_count": 15,
   "id": "569c991f",
   "metadata": {},
   "outputs": [],
   "source": [
    "from sklearn.model_selection import train_test_split\n",
    "X_train, X_val, y_train, y_val = train_test_split(X_train_all,y_train_all,stratify=y_train_all, test_size=0.2, random_state=42)"
   ]
  },
  {
   "cell_type": "code",
   "execution_count": 17,
   "id": "e7149cd9",
   "metadata": {},
   "outputs": [
    {
     "name": "stdout",
     "output_type": "stream",
     "text": [
      "[4800 4800 4800 4800 4800 4800 4800 4800 4800 4800] [1200 1200 1200 1200 1200 1200 1200 1200 1200 1200]\n"
     ]
    }
   ],
   "source": [
    "print(np.bincount(y_train),np.bincount(y_val))"
   ]
  },
  {
   "cell_type": "code",
   "execution_count": 18,
   "id": "4c290718",
   "metadata": {},
   "outputs": [],
   "source": [
    "X_train = X_train/255\n",
    "X_val = X_val/255\n",
    "\n",
    "#이미지일 경우 pixel의 최대값인 255로 나눠주기도 한다.\n",
    "#Normalization 과정임."
   ]
  },
  {
   "cell_type": "code",
   "execution_count": 19,
   "id": "22103042",
   "metadata": {},
   "outputs": [
    {
     "name": "stdout",
     "output_type": "stream",
     "text": [
      "(48000, 28, 28) (12000, 28, 28)\n"
     ]
    }
   ],
   "source": [
    "print(X_train.shape,X_val.shape)"
   ]
  },
  {
   "cell_type": "code",
   "execution_count": 20,
   "id": "17107538",
   "metadata": {},
   "outputs": [],
   "source": [
    "X_train = X_train.reshape(-1,784)\n",
    "X_val = X_val.reshape(-1,784)"
   ]
  },
  {
   "cell_type": "markdown",
   "id": "4d97ef74",
   "metadata": {},
   "source": [
    "- 784 = 28 * 28 이다. 1차원배열로 모델에 넣어야하기 때문임."
   ]
  },
  {
   "cell_type": "markdown",
   "id": "6ff2a521",
   "metadata": {},
   "source": [
    "# Target 조정\n",
    "- 타깃을 One-Hot 인코딩으로 변경해줘야한다."
   ]
  },
  {
   "cell_type": "code",
   "execution_count": 21,
   "id": "11d6fc99",
   "metadata": {},
   "outputs": [
    {
     "data": {
      "text/plain": [
       "array([[1., 0., 0., 0.],\n",
       "       [0., 1., 0., 0.],\n",
       "       [0., 0., 0., 1.]], dtype=float32)"
      ]
     },
     "execution_count": 21,
     "metadata": {},
     "output_type": "execute_result"
    }
   ],
   "source": [
    "tf.keras.utils.to_categorical([0,1,3])"
   ]
  },
  {
   "cell_type": "code",
   "execution_count": 22,
   "id": "2ec82e93",
   "metadata": {},
   "outputs": [],
   "source": [
    "y_train_encoded = tf.keras.utils.to_categorical(y_train)\n",
    "y_val_encoded = tf.keras.utils.to_categorical(y_val)"
   ]
  },
  {
   "cell_type": "code",
   "execution_count": 24,
   "id": "7aa17513",
   "metadata": {},
   "outputs": [
    {
     "name": "stdout",
     "output_type": "stream",
     "text": [
      "(48000, 10) (12000, 10)\n"
     ]
    }
   ],
   "source": [
    "print(y_train_encoded.shape,y_val_encoded.shape)"
   ]
  },
  {
   "cell_type": "code",
   "execution_count": 26,
   "id": "7e96703e",
   "metadata": {},
   "outputs": [
    {
     "name": "stdout",
     "output_type": "stream",
     "text": [
      "[6] [array([0., 0., 0., 0., 0., 0., 1., 0., 0., 0.], dtype=float32)]\n"
     ]
    }
   ],
   "source": [
    "print([y_train[0]],[y_train_encoded[0]])"
   ]
  },
  {
   "cell_type": "markdown",
   "id": "ce26ef13",
   "metadata": {},
   "source": [
    "# Model"
   ]
  },
  {
   "cell_type": "code",
   "execution_count": 29,
   "id": "30ce716a",
   "metadata": {},
   "outputs": [
    {
     "name": "stdout",
     "output_type": "stream",
     "text": [
      "Epoch 1/40\n",
      "1500/1500 [==============================] - 10s 6ms/step - loss: 1.3913 - accuracy: 0.6458 - val_loss: 0.9668 - val_accuracy: 0.7327\n",
      "Epoch 2/40\n",
      "1500/1500 [==============================] - 11s 7ms/step - loss: 0.8418 - accuracy: 0.7454 - val_loss: 0.7482 - val_accuracy: 0.7640\n",
      "Epoch 3/40\n",
      "1500/1500 [==============================] - 10s 7ms/step - loss: 0.7077 - accuracy: 0.7656 - val_loss: 0.6614 - val_accuracy: 0.7824\n",
      "Epoch 4/40\n",
      "1500/1500 [==============================] - 10s 7ms/step - loss: 0.6426 - accuracy: 0.7820 - val_loss: 0.6091 - val_accuracy: 0.7936\n",
      "Epoch 5/40\n",
      "1500/1500 [==============================] - 10s 7ms/step - loss: 0.6012 - accuracy: 0.7953 - val_loss: 0.5741 - val_accuracy: 0.8042\n",
      "Epoch 6/40\n",
      "1500/1500 [==============================] - 11s 7ms/step - loss: 0.5714 - accuracy: 0.8042 - val_loss: 0.5493 - val_accuracy: 0.8112\n",
      "Epoch 7/40\n",
      "1500/1500 [==============================] - 11s 7ms/step - loss: 0.5488 - accuracy: 0.8123 - val_loss: 0.5295 - val_accuracy: 0.8134\n",
      "Epoch 8/40\n",
      "1500/1500 [==============================] - 10s 7ms/step - loss: 0.5309 - accuracy: 0.8176 - val_loss: 0.5121 - val_accuracy: 0.8218\n",
      "Epoch 9/40\n",
      "1500/1500 [==============================] - 9s 6ms/step - loss: 0.5168 - accuracy: 0.8211 - val_loss: 0.5015 - val_accuracy: 0.8250\n",
      "Epoch 10/40\n",
      "1500/1500 [==============================] - 10s 7ms/step - loss: 0.5046 - accuracy: 0.8252 - val_loss: 0.4883 - val_accuracy: 0.8292\n",
      "Epoch 11/40\n",
      "1500/1500 [==============================] - 9s 6ms/step - loss: 0.4944 - accuracy: 0.8285 - val_loss: 0.4805 - val_accuracy: 0.8313\n",
      "Epoch 12/40\n",
      "1500/1500 [==============================] - 10s 6ms/step - loss: 0.4860 - accuracy: 0.8313 - val_loss: 0.4714 - val_accuracy: 0.8347\n",
      "Epoch 13/40\n",
      "1500/1500 [==============================] - 10s 6ms/step - loss: 0.4783 - accuracy: 0.8333 - val_loss: 0.4644 - val_accuracy: 0.8357\n",
      "Epoch 14/40\n",
      "1500/1500 [==============================] - 10s 7ms/step - loss: 0.4714 - accuracy: 0.8359 - val_loss: 0.4584 - val_accuracy: 0.8379\n",
      "Epoch 15/40\n",
      "1500/1500 [==============================] - 10s 7ms/step - loss: 0.4652 - accuracy: 0.8377 - val_loss: 0.4544 - val_accuracy: 0.8407\n",
      "Epoch 16/40\n",
      "1500/1500 [==============================] - 9s 6ms/step - loss: 0.4598 - accuracy: 0.8394 - val_loss: 0.4471 - val_accuracy: 0.8429\n",
      "Epoch 17/40\n",
      "1500/1500 [==============================] - 10s 7ms/step - loss: 0.4548 - accuracy: 0.8411 - val_loss: 0.4435 - val_accuracy: 0.8438\n",
      "Epoch 18/40\n",
      "1500/1500 [==============================] - 11s 7ms/step - loss: 0.4500 - accuracy: 0.8416 - val_loss: 0.4393 - val_accuracy: 0.8458\n",
      "Epoch 19/40\n",
      "1500/1500 [==============================] - 10s 7ms/step - loss: 0.4456 - accuracy: 0.8441 - val_loss: 0.4341 - val_accuracy: 0.8451\n",
      "Epoch 20/40\n",
      "1500/1500 [==============================] - 11s 7ms/step - loss: 0.4414 - accuracy: 0.8453 - val_loss: 0.4305 - val_accuracy: 0.8487\n",
      "Epoch 21/40\n",
      "1500/1500 [==============================] - 10s 7ms/step - loss: 0.4376 - accuracy: 0.8459 - val_loss: 0.4287 - val_accuracy: 0.8468\n",
      "Epoch 22/40\n",
      "1500/1500 [==============================] - 10s 7ms/step - loss: 0.4340 - accuracy: 0.8482 - val_loss: 0.4242 - val_accuracy: 0.8492\n",
      "Epoch 23/40\n",
      "1500/1500 [==============================] - 10s 7ms/step - loss: 0.4306 - accuracy: 0.8491 - val_loss: 0.4213 - val_accuracy: 0.8512\n",
      "Epoch 24/40\n",
      "1500/1500 [==============================] - 10s 7ms/step - loss: 0.4276 - accuracy: 0.8497 - val_loss: 0.4188 - val_accuracy: 0.8517\n",
      "Epoch 25/40\n",
      "1500/1500 [==============================] - 10s 6ms/step - loss: 0.4242 - accuracy: 0.8511 - val_loss: 0.4159 - val_accuracy: 0.8528\n",
      "Epoch 26/40\n",
      "1500/1500 [==============================] - 11s 7ms/step - loss: 0.4213 - accuracy: 0.8517 - val_loss: 0.4131 - val_accuracy: 0.8551\n",
      "Epoch 27/40\n",
      "1500/1500 [==============================] - 10s 7ms/step - loss: 0.4184 - accuracy: 0.8528 - val_loss: 0.4120 - val_accuracy: 0.8547\n",
      "Epoch 28/40\n",
      "1500/1500 [==============================] - 10s 6ms/step - loss: 0.4156 - accuracy: 0.8533 - val_loss: 0.4110 - val_accuracy: 0.8550\n",
      "Epoch 29/40\n",
      "1500/1500 [==============================] - 10s 7ms/step - loss: 0.4128 - accuracy: 0.8547 - val_loss: 0.4096 - val_accuracy: 0.8544\n",
      "Epoch 30/40\n",
      "1500/1500 [==============================] - 9s 6ms/step - loss: 0.4106 - accuracy: 0.8557 - val_loss: 0.4040 - val_accuracy: 0.8587\n",
      "Epoch 31/40\n",
      "1500/1500 [==============================] - 10s 7ms/step - loss: 0.4081 - accuracy: 0.8563 - val_loss: 0.4024 - val_accuracy: 0.8587\n",
      "Epoch 32/40\n",
      "1500/1500 [==============================] - 10s 7ms/step - loss: 0.4060 - accuracy: 0.8570 - val_loss: 0.4001 - val_accuracy: 0.8583\n",
      "Epoch 33/40\n",
      "1500/1500 [==============================] - 9s 6ms/step - loss: 0.4034 - accuracy: 0.8579 - val_loss: 0.3986 - val_accuracy: 0.8591\n",
      "Epoch 34/40\n",
      "1500/1500 [==============================] - 11s 7ms/step - loss: 0.4014 - accuracy: 0.8584 - val_loss: 0.3963 - val_accuracy: 0.8594\n",
      "Epoch 35/40\n",
      "1500/1500 [==============================] - 10s 7ms/step - loss: 0.3992 - accuracy: 0.8594 - val_loss: 0.3951 - val_accuracy: 0.8621\n",
      "Epoch 36/40\n",
      "1500/1500 [==============================] - 10s 7ms/step - loss: 0.3971 - accuracy: 0.8596 - val_loss: 0.3931 - val_accuracy: 0.8607\n",
      "Epoch 37/40\n",
      "1500/1500 [==============================] - 12s 8ms/step - loss: 0.3954 - accuracy: 0.8609 - val_loss: 0.3933 - val_accuracy: 0.8602\n",
      "Epoch 38/40\n",
      "1500/1500 [==============================] - 10s 7ms/step - loss: 0.3933 - accuracy: 0.8611 - val_loss: 0.3910 - val_accuracy: 0.8631\n",
      "Epoch 39/40\n",
      "1500/1500 [==============================] - 11s 7ms/step - loss: 0.3913 - accuracy: 0.8620 - val_loss: 0.3897 - val_accuracy: 0.8612\n",
      "Epoch 40/40\n",
      "1500/1500 [==============================] - 12s 8ms/step - loss: 0.3896 - accuracy: 0.8625 - val_loss: 0.3882 - val_accuracy: 0.8627\n"
     ]
    }
   ],
   "source": [
    "from tensorflow.keras import Sequential\n",
    "from tensorflow.keras.layers import Dense\n",
    "\n",
    "model = Sequential()\n",
    "model.add(Dense(100,activation='sigmoid',input_shape=(784,)))\n",
    "# 은닉층의 유닛(뉴런) 개수 100개.\n",
    "# Property가 784개 이기 때문,\n",
    "\n",
    "model.add(Dense(10, activation='softmax'))\n",
    "# 출력이 10개 항목이기 때문.\n",
    "\n",
    "model.compile(optimizer='sgd',loss='categorical_crossentropy',metrics=['accuracy'])\n",
    "# metrics : History에서 기록 후 참고하기 위함.\n",
    "# loss : categorical_crossentropy, mse 등등을 넣을 수 있음\n",
    "history = model.fit(X_train,y_train_encoded, epochs=40, validation_data=(X_val,y_val_encoded))"
   ]
  },
  {
   "cell_type": "code",
   "execution_count": 30,
   "id": "765da335",
   "metadata": {},
   "outputs": [
    {
     "name": "stdout",
     "output_type": "stream",
     "text": [
      "dict_keys(['loss', 'accuracy', 'val_loss', 'val_accuracy'])\n"
     ]
    }
   ],
   "source": [
    "print(history.history.keys())"
   ]
  },
  {
   "cell_type": "code",
   "execution_count": 31,
   "id": "6cbb1aef",
   "metadata": {},
   "outputs": [
    {
     "data": {
      "image/png": "[encoded data removed]",
      "text/plain": [
       "<Figure size 640x480 with 1 Axes>"
      ]
     },
     "metadata": {},
     "output_type": "display_data"
    }
   ],
   "source": [
    "plt.plot(history.history['loss'])\n",
    "plt.plot(history.history['val_loss'])\n",
    "plt.ylabel('loss')\n",
    "plt.xlabel('epoch')\n",
    "plt.legend(['train_loss','val_loss'])\n",
    "plt.show()"
   ]
  },
  {
   "cell_type": "code",
   "execution_count": 32,
   "id": "9af236eb",
   "metadata": {},
   "outputs": [
    {
     "data": {
      "image/png": "[encoded data removed]",
      "text/plain": [
       "<Figure size 640x480 with 1 Axes>"
      ]
     },
     "metadata": {},
     "output_type": "display_data"
    }
   ],
   "source": [
    "plt.plot(history.history['accuracy'])\n",
    "plt.plot(history.history['val_accuracy'])\n",
    "plt.ylabel('accuracy')\n",
    "plt.xlabel('epoch')\n",
    "plt.legend(['train_accuracy','val_accuracy'])\n",
    "plt.show()"
   ]
  },
  {
   "cell_type": "code",
   "execution_count": 33,
   "id": "5205ff62",
   "metadata": {},
   "outputs": [
    {
     "name": "stdout",
     "output_type": "stream",
     "text": [
      "0.8627499938011169\n"
     ]
    }
   ],
   "source": [
    "loss, accuracy = model.evaluate(X_val,y_val_encoded,verbose=0)\n",
    "print(accuracy)"
   ]
  },
  {
   "cell_type": "code",
   "execution_count": null,
   "id": "ed594af7",
   "metadata": {},
   "outputs": [],
   "source": []
  }
 ],
 "metadata": {
  "kernelspec": {
   "display_name": "Python 3 (ipykernel)",
   "language": "python",
   "name": "python3"
  },
  "language_info": {
   "codemirror_mode": {
    "name": "ipython",
    "version": 3
   },
   "file_extension": ".py",
   "mimetype": "text/x-python",
   "name": "python",
   "nbconvert_exporter": "python",
   "pygments_lexer": "ipython3",
   "version": "3.8.5"
  },
  "toc": {
   "base_numbering": 1,
   "nav_menu": {},
   "number_sections": true,
   "sideBar": true,
   "skip_h1_title": false,
   "title_cell": "Table of Contents",
   "title_sidebar": "Contents",
   "toc_cell": false,
   "toc_position": {},
   "toc_section_display": true,
   "toc_window_display": false
  }
 },
 "nbformat": 4,
 "nbformat_minor": 5
}
