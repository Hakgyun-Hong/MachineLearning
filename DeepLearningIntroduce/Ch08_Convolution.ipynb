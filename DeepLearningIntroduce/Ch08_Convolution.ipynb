{
 "cells": [
  {
   "cell_type": "markdown",
   "id": "31825192",
   "metadata": {},
   "source": [
    "# Convolution"
   ]
  },
  {
   "cell_type": "markdown",
   "id": "e574bcf2",
   "metadata": {},
   "source": [
    "- 합성곱 신경망은 완전 연결 신경망(Dense)보다 훨씬 가중치가 작으면서도 이미지 분류 문제를 더 잘 해결한다.\n",
    "- CNN이라고 부르는 신경망을 말한다.\n",
    "- Dense VS Conv 에서는 어떤 기준이 있는지 조사가 필요하다."
   ]
  },
  {
   "cell_type": "markdown",
   "id": "f882704e",
   "metadata": {},
   "source": [
    "# CNN의 구현"
   ]
  },
  {
   "cell_type": "code",
   "execution_count": 1,
   "id": "eafc27bf",
   "metadata": {},
   "outputs": [],
   "source": [
    "import numpy as np"
   ]
  },
  {
   "cell_type": "code",
   "execution_count": 2,
   "id": "a881f495",
   "metadata": {},
   "outputs": [],
   "source": [
    "w = np.array([2,1,5,3])\n",
    "x = np.array([2,8,3,7,1,2,0,4,5])"
   ]
  },
  {
   "cell_type": "code",
   "execution_count": 11,
   "id": "664b885f",
   "metadata": {},
   "outputs": [],
   "source": [
    "# flip으로 Reverse 데이터 생성.\n",
    "w_r = np.flip(w)\n",
    "# w_r = w[::-1] 이걸로도 뒤집을 수 있다."
   ]
  },
  {
   "cell_type": "code",
   "execution_count": 12,
   "id": "4160e408",
   "metadata": {},
   "outputs": [
    {
     "data": {
      "text/plain": [
       "array([3, 5, 1, 2])"
      ]
     },
     "execution_count": 12,
     "metadata": {},
     "output_type": "execute_result"
    }
   ],
   "source": [
    "w_r"
   ]
  },
  {
   "cell_type": "markdown",
   "id": "61099318",
   "metadata": {},
   "source": [
    "## Conv 연산 (Dot, Convolve)"
   ]
  },
  {
   "cell_type": "code",
   "execution_count": 13,
   "id": "669f117f",
   "metadata": {},
   "outputs": [
    {
     "name": "stdout",
     "output_type": "stream",
     "text": [
      "63\n",
      "48\n",
      "49\n",
      "28\n",
      "21\n",
      "20\n"
     ]
    }
   ],
   "source": [
    "# By 'Dot mupliplying '\n",
    "\n",
    "for i in range(6):\n",
    "    print(np.dot(x[i:i+4],w_r))\n",
    "    # x4개 * w_r 과 원소별로 곱함 dot 곱셈 연산"
   ]
  },
  {
   "cell_type": "code",
   "execution_count": 14,
   "id": "f27241b4",
   "metadata": {},
   "outputs": [
    {
     "data": {
      "text/plain": [
       "array([63, 48, 49, 28, 21, 20])"
      ]
     },
     "execution_count": 14,
     "metadata": {},
     "output_type": "execute_result"
    }
   ],
   "source": [
    "from scipy.signal import convolve \n",
    "convolve(x,w,mode='valid')"
   ]
  },
  {
   "cell_type": "markdown",
   "id": "7eb62f7d",
   "metadata": {},
   "source": [
    "- 실제로는 교차상관을 이용함. Correlate 사용으로 참고."
   ]
  },
  {
   "cell_type": "code",
   "execution_count": 15,
   "id": "f9ffdba1",
   "metadata": {},
   "outputs": [
    {
     "data": {
      "text/plain": [
       "array([48, 57, 24, 25, 16, 39])"
      ]
     },
     "execution_count": 15,
     "metadata": {},
     "output_type": "execute_result"
    }
   ],
   "source": [
    "from scipy.signal import correlate\n",
    "correlate(x,w,mode='valid')"
   ]
  },
  {
   "cell_type": "markdown",
   "id": "40c1025f",
   "metadata": {},
   "source": [
    "## Padding And Stride"
   ]
  },
  {
   "cell_type": "markdown",
   "id": "1c778a78",
   "metadata": {},
   "source": [
    "- Padding : 원본 배열의 양 끝에 원소를 추가하는 것을 말한다.\n",
    "- Stride : 미끄러지는 배열의 간격을 조절하는 것을 말한다."
   ]
  },
  {
   "cell_type": "code",
   "execution_count": 16,
   "id": "4b1b0327",
   "metadata": {},
   "outputs": [
    {
     "data": {
      "text/plain": [
       "array([ 6, 34, 51, 48, 57, 24, 25, 16, 39, 29, 13, 10])"
      ]
     },
     "execution_count": 16,
     "metadata": {},
     "output_type": "execute_result"
    }
   ],
   "source": [
    "correlate(x,w,mode='full')"
   ]
  },
  {
   "cell_type": "markdown",
   "id": "01034fe4",
   "metadata": {},
   "source": [
    "- Padding 은 양쪽 끝 원소가 계산 참여횟수가 적기 때문에 양끝에 '0'를 추가해서 계산하기때문에 Padding이라고 불린다.\n",
    "- 이러한 Padding은 길이에 따라 Same Padding 과 Full Padding으로 나뉘는데.\n",
    "- Full Padding은 최대한 0를 붙여놓은 그림이고\n",
    "- Same Padding은 위에서 설정한 'x'와 같은 길이임."
   ]
  },
  {
   "cell_type": "markdown",
   "id": "00111464",
   "metadata": {},
   "source": [
    "- Stride는 이 연산을 1칸씩 움직이는 것이 아니라 2칸 3칸 움직일 때 사용 -> 미끄러지는 간격을 조정한다."
   ]
  },
  {
   "cell_type": "markdown",
   "id": "1a759e32",
   "metadata": {},
   "source": [
    "## 2차원"
   ]
  },
  {
   "cell_type": "code",
   "execution_count": 18,
   "id": "aae5d6d6",
   "metadata": {},
   "outputs": [
    {
     "data": {
      "text/plain": [
       "array([[ 2,  4],\n",
       "       [ 8, 10]])"
      ]
     },
     "execution_count": 18,
     "metadata": {},
     "output_type": "execute_result"
    }
   ],
   "source": [
    "x=np.array([[1,2,3],[4,5,6],[7,8,9]])\n",
    "\n",
    "w = np.array([[2,0],[0,0]])\n",
    "\n",
    "from scipy.signal import correlate2d\n",
    "correlate2d(x,w,mode='valid')"
   ]
  },
  {
   "cell_type": "markdown",
   "id": "bbd61252",
   "metadata": {},
   "source": [
    "- 2차원의 Same Padding은 x에서 오른쪽과 아래쪽에 0이 Padding 으로 주가되어 4 * 4 형태로 된다."
   ]
  },
  {
   "cell_type": "code",
   "execution_count": 19,
   "id": "6a9f6810",
   "metadata": {},
   "outputs": [
    {
     "data": {
      "text/plain": [
       "array([[ 2,  4,  6],\n",
       "       [ 8, 10, 12],\n",
       "       [14, 16, 18]])"
      ]
     },
     "execution_count": 19,
     "metadata": {},
     "output_type": "execute_result"
    }
   ],
   "source": [
    "correlate2d(x,w,mode='same')"
   ]
  },
  {
   "cell_type": "markdown",
   "id": "b2f2f26b",
   "metadata": {},
   "source": [
    "## Tensorflow에서의 Convolve"
   ]
  },
  {
   "cell_type": "markdown",
   "id": "de92d7fa",
   "metadata": {},
   "source": [
    "- Tensorflow에서 2차원 합성곱을 수행하는 함수는 conv2d() 이고. 입력으로 4차원을 입력해야한다.\n",
    "- 왜냐하면, 입력 이미지의 높이와 너비 외에 더 많은 차원이 필요하기 때문임."
   ]
  },
  {
   "cell_type": "code",
   "execution_count": 20,
   "id": "9ac4e577",
   "metadata": {},
   "outputs": [
    {
     "name": "stderr",
     "output_type": "stream",
     "text": [
      "C:\\Users\\user\\AppData\\Local\\Temp\\ipykernel_5476\\114536522.py:2: DeprecationWarning: `np.float` is a deprecated alias for the builtin `float`. To silence this warning, use `float` by itself. Doing this will not modify any behavior and is safe. If you specifically wanted the numpy scalar type, use `np.float64` here.\n",
      "Deprecated in NumPy 1.20; for more details and guidance: https://numpy.org/devdocs/release/1.20.0-notes.html#deprecations\n",
      "  x_4d = x.astype(np.float).reshape(1,3,3,1)\n"
     ]
    }
   ],
   "source": [
    "import tensorflow as tf\n",
    "x_4d = x.astype(np.float).reshape(1,3,3,1)\n",
    "w_4d = w.reshape(2,2,1,1)"
   ]
  },
  {
   "cell_type": "markdown",
   "id": "d6ce6978",
   "metadata": {},
   "source": [
    "- (1,3,3,1) -> (입력의 배치, 입력의 높이, 입력의 너비, 필터의 개수)\n",
    "- 필터의 개수는 사진에서 RGB 값\n",
    "- 가중치의 경우 (2,2,1,1) -> (가중치의 높이, 가중치의 너비, 채널(RGB), 가중치의 개수)\n",
    "\n",
    "- ? 가중치의 개수는 사실 입력의 배치와 유사한 개념이라고 볼 수 있는가"
   ]
  },
  {
   "cell_type": "code",
   "execution_count": 21,
   "id": "5edd9b09",
   "metadata": {},
   "outputs": [],
   "source": [
    "c_out = tf.nn.conv2d(x_4d,w_4d, strides=1,padding='SAME')\n",
    "# SAME Padding에서 SAME을 대문자로 입력해야한다 함."
   ]
  },
  {
   "cell_type": "code",
   "execution_count": 22,
   "id": "10cb7eb2",
   "metadata": {},
   "outputs": [
    {
     "data": {
      "text/plain": [
       "array([[ 2.,  4.,  6.],\n",
       "       [ 8., 10., 12.],\n",
       "       [14., 16., 18.]])"
      ]
     },
     "execution_count": 22,
     "metadata": {},
     "output_type": "execute_result"
    }
   ],
   "source": [
    "c_out.numpy().reshape(3,3)"
   ]
  },
  {
   "cell_type": "code",
   "execution_count": 23,
   "id": "3d0bc8b5",
   "metadata": {},
   "outputs": [
    {
     "data": {
      "text/plain": [
       "array([[[[1.],\n",
       "         [2.],\n",
       "         [3.]],\n",
       "\n",
       "        [[4.],\n",
       "         [5.],\n",
       "         [6.]],\n",
       "\n",
       "        [[7.],\n",
       "         [8.],\n",
       "         [9.]]]])"
      ]
     },
     "execution_count": 23,
     "metadata": {},
     "output_type": "execute_result"
    }
   ],
   "source": [
    "x_4d"
   ]
  },
  {
   "cell_type": "markdown",
   "id": "280f72e8",
   "metadata": {},
   "source": [
    "# 풀링 연산"
   ]
  },
  {
   "cell_type": "markdown",
   "id": "a2c69125",
   "metadata": {},
   "source": [
    "- 특성 맵을 스캔하며 Max값을 고르거나 Average값을 계산하는 것을 말한다."
   ]
  },
  {
   "cell_type": "code",
   "execution_count": 24,
   "id": "e323d70d",
   "metadata": {},
   "outputs": [],
   "source": [
    "x= np.array([[1,2,3,4],[5,6,7,8],[9,10,11,12],[13,14,15,16]])\n",
    "\n",
    "x=x.reshape(1,4,4,1)"
   ]
  },
  {
   "cell_type": "code",
   "execution_count": 27,
   "id": "3315f836",
   "metadata": {},
   "outputs": [
    {
     "data": {
      "text/plain": [
       "array([[ 6.,  8.],\n",
       "       [14., 16.]], dtype=float32)"
      ]
     },
     "execution_count": 27,
     "metadata": {},
     "output_type": "execute_result"
    }
   ],
   "source": [
    "p_out=tf.nn.max_pool2d(x,ksize=2,strides=2,padding='VALID')\n",
    "p_out.numpy().reshape(2,2)"
   ]
  },
  {
   "cell_type": "markdown",
   "id": "c31575ca",
   "metadata": {},
   "source": [
    "# 케라스로 Convolve"
   ]
  },
  {
   "cell_type": "code",
   "execution_count": 30,
   "id": "060eaf4c",
   "metadata": {},
   "outputs": [],
   "source": [
    "(X_train_all, y_train_all), (X_test,y_test) = tf.keras.datasets.fashion_mnist.load_data()"
   ]
  },
  {
   "cell_type": "code",
   "execution_count": 31,
   "id": "af3393d3",
   "metadata": {},
   "outputs": [],
   "source": [
    "from sklearn.model_selection import train_test_split\n",
    "X_train, X_val, y_train, y_val = train_test_split(X_train_all,y_train_all,stratify=y_train_all, test_size=0.2,random_state=42)"
   ]
  },
  {
   "cell_type": "code",
   "execution_count": 33,
   "id": "d09e405c",
   "metadata": {},
   "outputs": [],
   "source": [
    "y_train_encoded = tf.keras.utils.to_categorical(y_train)\n",
    "y_val_encoded = tf.keras.utils.to_categorical(y_val)"
   ]
  },
  {
   "cell_type": "code",
   "execution_count": 34,
   "id": "1a022ec9",
   "metadata": {
    "scrolled": true
   },
   "outputs": [
    {
     "data": {
      "text/plain": [
       "(48000, 28, 28)"
      ]
     },
     "execution_count": 34,
     "metadata": {},
     "output_type": "execute_result"
    }
   ],
   "source": [
    "X_train.shape"
   ]
  },
  {
   "cell_type": "markdown",
   "id": "5eb99e8a",
   "metadata": {},
   "source": [
    "- 28 * 28의 데이터이고 채널에 대한 값이 설정되어 있지는 않지만, 채널이 있게 조정한다."
   ]
  },
  {
   "cell_type": "code",
   "execution_count": 35,
   "id": "7edffb10",
   "metadata": {},
   "outputs": [],
   "source": [
    "X_train = X_train.reshape(-1,28,28,1)"
   ]
  },
  {
   "cell_type": "code",
   "execution_count": 36,
   "id": "e6e619fa",
   "metadata": {},
   "outputs": [],
   "source": [
    "X_val = X_val.reshape(-1,28,28,1)"
   ]
  },
  {
   "cell_type": "code",
   "execution_count": 37,
   "id": "b12ef8e5",
   "metadata": {},
   "outputs": [
    {
     "data": {
      "text/plain": [
       "(48000, 28, 28, 1)"
      ]
     },
     "execution_count": 37,
     "metadata": {},
     "output_type": "execute_result"
    }
   ],
   "source": [
    "X_train.shape"
   ]
  },
  {
   "cell_type": "markdown",
   "id": "d11ef360",
   "metadata": {},
   "source": [
    "## Normalize Data"
   ]
  },
  {
   "cell_type": "code",
   "execution_count": 39,
   "id": "718fd837",
   "metadata": {},
   "outputs": [],
   "source": [
    "X_train = X_train/255\n",
    "X_val = X_val/255"
   ]
  },
  {
   "cell_type": "markdown",
   "id": "715e8760",
   "metadata": {},
   "source": [
    "## Keras"
   ]
  },
  {
   "cell_type": "code",
   "execution_count": 40,
   "id": "51d30efd",
   "metadata": {},
   "outputs": [],
   "source": [
    "from tensorflow.keras.layers import Conv2D,MaxPooling2D, Flatten, Dense"
   ]
  },
  {
   "cell_type": "markdown",
   "id": "a6840217",
   "metadata": {},
   "source": [
    "### Conv Layer"
   ]
  },
  {
   "cell_type": "code",
   "execution_count": 42,
   "id": "ed21437f",
   "metadata": {},
   "outputs": [],
   "source": [
    "conv1 = tf.keras.Sequential()\n",
    "conv1.add(Conv2D(10,(3,3),activation='relu',padding='same',input_shape=(28,28,1)))"
   ]
  },
  {
   "cell_type": "markdown",
   "id": "9490cce1",
   "metadata": {},
   "source": [
    "### Pool Layer"
   ]
  },
  {
   "cell_type": "code",
   "execution_count": 43,
   "id": "6acba73a",
   "metadata": {},
   "outputs": [],
   "source": [
    "conv1.add(MaxPooling2D((2,2)))\n",
    "#strides 를 지정할 수 있지만 Default 는 커널의 크기임 즉 절반 크기로 줄어들 것임\n",
    "#Padding 도 지정할 수 있고 Default : valid이다."
   ]
  },
  {
   "cell_type": "markdown",
   "id": "524c7a08",
   "metadata": {},
   "source": [
    "- Pooling 이후에 완전 연결층을 연결하기 위해 배치 차원을 제외하고 일렬로 펼쳐야하기 때문에 Flatten 클래스가 사용된다."
   ]
  },
  {
   "cell_type": "code",
   "execution_count": 44,
   "id": "e58097b2",
   "metadata": {},
   "outputs": [],
   "source": [
    "conv1.add(Flatten())"
   ]
  },
  {
   "cell_type": "code",
   "execution_count": 45,
   "id": "9eb719de",
   "metadata": {},
   "outputs": [],
   "source": [
    "conv1.add(Dense(100,activation='relu'))\n",
    "conv1.add(Dense(10,activation='softmax'))"
   ]
  },
  {
   "cell_type": "code",
   "execution_count": 46,
   "id": "ed16ce2c",
   "metadata": {},
   "outputs": [
    {
     "name": "stdout",
     "output_type": "stream",
     "text": [
      "Model: \"sequential\"\n",
      "_________________________________________________________________\n",
      " Layer (type)                Output Shape              Param #   \n",
      "=================================================================\n",
      " conv2d (Conv2D)             (None, 28, 28, 10)        100       \n",
      "                                                                 \n",
      " max_pooling2d (MaxPooling2D  (None, 14, 14, 10)       0         \n",
      " )                                                               \n",
      "                                                                 \n",
      " flatten (Flatten)           (None, 1960)              0         \n",
      "                                                                 \n",
      " dense (Dense)               (None, 100)               196100    \n",
      "                                                                 \n",
      " dense_1 (Dense)             (None, 10)                1010      \n",
      "                                                                 \n",
      "=================================================================\n",
      "Total params: 197,210\n",
      "Trainable params: 197,210\n",
      "Non-trainable params: 0\n",
      "_________________________________________________________________\n"
     ]
    }
   ],
   "source": [
    "conv1.summary()"
   ]
  },
  {
   "cell_type": "code",
   "execution_count": 47,
   "id": "27ba2919",
   "metadata": {},
   "outputs": [],
   "source": [
    "conv1.compile(optimizer='adam', loss = 'categorical_crossentropy', metrics=['accuracy'])"
   ]
  },
  {
   "cell_type": "code",
   "execution_count": 48,
   "id": "3c57101b",
   "metadata": {},
   "outputs": [
    {
     "name": "stdout",
     "output_type": "stream",
     "text": [
      "Epoch 1/20\n",
      "1500/1500 [==============================] - 36s 22ms/step - loss: 0.4549 - accuracy: 0.8371 - val_loss: 0.3565 - val_accuracy: 0.8686\n",
      "Epoch 2/20\n",
      "1500/1500 [==============================] - 33s 22ms/step - loss: 0.3102 - accuracy: 0.8884 - val_loss: 0.2964 - val_accuracy: 0.8921\n",
      "Epoch 3/20\n",
      "1500/1500 [==============================] - 35s 23ms/step - loss: 0.2653 - accuracy: 0.9027 - val_loss: 0.2867 - val_accuracy: 0.8951\n",
      "Epoch 4/20\n",
      "1500/1500 [==============================] - 36s 24ms/step - loss: 0.2358 - accuracy: 0.9125 - val_loss: 0.2740 - val_accuracy: 0.9031\n",
      "Epoch 5/20\n",
      "1500/1500 [==============================] - 34s 23ms/step - loss: 0.2116 - accuracy: 0.9217 - val_loss: 0.2599 - val_accuracy: 0.9024\n",
      "Epoch 6/20\n",
      "1500/1500 [==============================] - 38s 25ms/step - loss: 0.1922 - accuracy: 0.9296 - val_loss: 0.2502 - val_accuracy: 0.9082\n",
      "Epoch 7/20\n",
      "1500/1500 [==============================] - 34s 23ms/step - loss: 0.1723 - accuracy: 0.9376 - val_loss: 0.2500 - val_accuracy: 0.9121\n",
      "Epoch 8/20\n",
      "1500/1500 [==============================] - 36s 24ms/step - loss: 0.1546 - accuracy: 0.9438 - val_loss: 0.2696 - val_accuracy: 0.9101\n",
      "Epoch 9/20\n",
      "1500/1500 [==============================] - 34s 23ms/step - loss: 0.1424 - accuracy: 0.9475 - val_loss: 0.2417 - val_accuracy: 0.9197\n",
      "Epoch 10/20\n",
      "1500/1500 [==============================] - 35s 24ms/step - loss: 0.1271 - accuracy: 0.9529 - val_loss: 0.2563 - val_accuracy: 0.9167\n",
      "Epoch 11/20\n",
      "1500/1500 [==============================] - 31s 21ms/step - loss: 0.1125 - accuracy: 0.9580 - val_loss: 0.2688 - val_accuracy: 0.9172\n",
      "Epoch 12/20\n",
      "1500/1500 [==============================] - 27s 18ms/step - loss: 0.1024 - accuracy: 0.9631 - val_loss: 0.2780 - val_accuracy: 0.9159\n",
      "Epoch 13/20\n",
      "1500/1500 [==============================] - 25s 17ms/step - loss: 0.0930 - accuracy: 0.9657 - val_loss: 0.2689 - val_accuracy: 0.9216\n",
      "Epoch 14/20\n",
      "1500/1500 [==============================] - 26s 17ms/step - loss: 0.0805 - accuracy: 0.9704 - val_loss: 0.2876 - val_accuracy: 0.9199\n",
      "Epoch 15/20\n",
      "1500/1500 [==============================] - 24s 16ms/step - loss: 0.0738 - accuracy: 0.9724 - val_loss: 0.3009 - val_accuracy: 0.9184\n",
      "Epoch 16/20\n",
      "1500/1500 [==============================] - 24s 16ms/step - loss: 0.0652 - accuracy: 0.9765 - val_loss: 0.3234 - val_accuracy: 0.9142\n",
      "Epoch 17/20\n",
      "1500/1500 [==============================] - 25s 17ms/step - loss: 0.0588 - accuracy: 0.9789 - val_loss: 0.3245 - val_accuracy: 0.9190\n",
      "Epoch 18/20\n",
      "1500/1500 [==============================] - 27s 18ms/step - loss: 0.0536 - accuracy: 0.9807 - val_loss: 0.3361 - val_accuracy: 0.9188\n",
      "Epoch 19/20\n",
      "1500/1500 [==============================] - 27s 18ms/step - loss: 0.0481 - accuracy: 0.9831 - val_loss: 0.3519 - val_accuracy: 0.9188\n",
      "Epoch 20/20\n",
      "1500/1500 [==============================] - 24s 16ms/step - loss: 0.0448 - accuracy: 0.9846 - val_loss: 0.3806 - val_accuracy: 0.9192\n"
     ]
    }
   ],
   "source": [
    "history=conv1.fit(X_train, y_train_encoded, epochs=20, validation_data=(X_val,y_val_encoded))"
   ]
  },
  {
   "cell_type": "code",
   "execution_count": 51,
   "id": "fa4a5850",
   "metadata": {},
   "outputs": [
    {
     "data": {
      "image/png": "[encoded data removed]",
      "text/plain": [
       "<Figure size 640x480 with 1 Axes>"
      ]
     },
     "metadata": {},
     "output_type": "display_data"
    },
    {
     "data": {
      "image/png": "[encoded data removed]",
      "text/plain": [
       "<Figure size 640x480 with 1 Axes>"
      ]
     },
     "metadata": {},
     "output_type": "display_data"
    }
   ],
   "source": [
    "import matplotlib.pyplot as plt\n",
    "\n",
    "plt.plot(history.history['loss'])\n",
    "plt.plot(history.history['val_loss'])\n",
    "plt.ylabel('loss')\n",
    "plt.xlabel('epoch')\n",
    "plt.legend(['train_loss','val_loss'])\n",
    "plt.show()\n",
    "\n",
    "plt.plot(history.history['accuracy'])\n",
    "plt.plot(history.history['val_accuracy'])\n",
    "plt.ylabel('loss')\n",
    "plt.xlabel('epoch')\n",
    "plt.legend(['train_accuracy','val_accuracy'])\n",
    "plt.show()"
   ]
  },
  {
   "cell_type": "markdown",
   "id": "797ddf0f",
   "metadata": {},
   "source": [
    "# Drop Out"
   ]
  },
  {
   "cell_type": "code",
   "execution_count": 52,
   "id": "52a11574",
   "metadata": {},
   "outputs": [],
   "source": [
    "from tensorflow.keras.layers import Dropout\n",
    "\n",
    "conv2 = tf.keras.Sequential()\n",
    "conv2.add(Conv2D(10,(3,3), activation='relu', padding = 'same', input_shape=(28,28,1)))\n",
    "conv2.add(MaxPooling2D((2,2)))\n",
    "conv2.add(Flatten())\n",
    "conv2.add(Dropout(0.5))\n",
    "conv2.add(Dense(100, activation='relu'))\n",
    "conv2.add(Dense(10,activation='softmax'))"
   ]
  },
  {
   "cell_type": "code",
   "execution_count": 53,
   "id": "3221b5de",
   "metadata": {},
   "outputs": [
    {
     "name": "stdout",
     "output_type": "stream",
     "text": [
      "Model: \"sequential_1\"\n",
      "_________________________________________________________________\n",
      " Layer (type)                Output Shape              Param #   \n",
      "=================================================================\n",
      " conv2d_1 (Conv2D)           (None, 28, 28, 10)        100       \n",
      "                                                                 \n",
      " max_pooling2d_1 (MaxPooling  (None, 14, 14, 10)       0         \n",
      " 2D)                                                             \n",
      "                                                                 \n",
      " flatten_1 (Flatten)         (None, 1960)              0         \n",
      "                                                                 \n",
      " dropout (Dropout)           (None, 1960)              0         \n",
      "                                                                 \n",
      " dense_2 (Dense)             (None, 100)               196100    \n",
      "                                                                 \n",
      " dense_3 (Dense)             (None, 10)                1010      \n",
      "                                                                 \n",
      "=================================================================\n",
      "Total params: 197,210\n",
      "Trainable params: 197,210\n",
      "Non-trainable params: 0\n",
      "_________________________________________________________________\n"
     ]
    }
   ],
   "source": [
    "conv2.summary()"
   ]
  },
  {
   "cell_type": "code",
   "execution_count": 54,
   "id": "4a45918d",
   "metadata": {},
   "outputs": [],
   "source": [
    "conv2.compile(optimizer='adam',loss='categorical_crossentropy', metrics = ['accuracy'])"
   ]
  },
  {
   "cell_type": "code",
   "execution_count": 55,
   "id": "763baa33",
   "metadata": {},
   "outputs": [
    {
     "name": "stdout",
     "output_type": "stream",
     "text": [
      "Epoch 1/20\n",
      "1500/1500 [==============================] - 37s 24ms/step - loss: 0.4979 - accuracy: 0.8217 - val_loss: 0.3395 - val_accuracy: 0.8829\n",
      "Epoch 2/20\n",
      "1500/1500 [==============================] - 27s 18ms/step - loss: 0.3698 - accuracy: 0.8639 - val_loss: 0.3207 - val_accuracy: 0.8840\n",
      "Epoch 3/20\n",
      "1500/1500 [==============================] - 26s 18ms/step - loss: 0.3291 - accuracy: 0.8792 - val_loss: 0.2889 - val_accuracy: 0.8938\n",
      "Epoch 4/20\n",
      "1500/1500 [==============================] - 29s 19ms/step - loss: 0.3011 - accuracy: 0.8881 - val_loss: 0.2679 - val_accuracy: 0.9029\n",
      "Epoch 5/20\n",
      "1500/1500 [==============================] - 27s 18ms/step - loss: 0.2822 - accuracy: 0.8942 - val_loss: 0.2744 - val_accuracy: 0.8988\n",
      "Epoch 6/20\n",
      "1500/1500 [==============================] - 28s 18ms/step - loss: 0.2665 - accuracy: 0.9000 - val_loss: 0.2471 - val_accuracy: 0.9119\n",
      "Epoch 7/20\n",
      "1500/1500 [==============================] - 28s 19ms/step - loss: 0.2534 - accuracy: 0.9053 - val_loss: 0.2490 - val_accuracy: 0.9097\n",
      "Epoch 8/20\n",
      "1500/1500 [==============================] - 26s 18ms/step - loss: 0.2422 - accuracy: 0.9087 - val_loss: 0.2413 - val_accuracy: 0.9131\n",
      "Epoch 9/20\n",
      "1500/1500 [==============================] - 27s 18ms/step - loss: 0.2348 - accuracy: 0.9111 - val_loss: 0.2444 - val_accuracy: 0.9105\n",
      "Epoch 10/20\n",
      "1500/1500 [==============================] - 29s 19ms/step - loss: 0.2246 - accuracy: 0.9154 - val_loss: 0.2307 - val_accuracy: 0.9179\n",
      "Epoch 11/20\n",
      "1500/1500 [==============================] - 48s 32ms/step - loss: 0.2208 - accuracy: 0.9172 - val_loss: 0.2286 - val_accuracy: 0.9176\n",
      "Epoch 12/20\n",
      "1500/1500 [==============================] - 46s 31ms/step - loss: 0.2125 - accuracy: 0.9198 - val_loss: 0.2323 - val_accuracy: 0.9158\n",
      "Epoch 13/20\n",
      "1500/1500 [==============================] - 30s 20ms/step - loss: 0.2057 - accuracy: 0.9222 - val_loss: 0.2262 - val_accuracy: 0.9172\n",
      "Epoch 14/20\n",
      "1500/1500 [==============================] - 30s 20ms/step - loss: 0.1987 - accuracy: 0.9245 - val_loss: 0.2266 - val_accuracy: 0.9195\n",
      "Epoch 15/20\n",
      "1500/1500 [==============================] - 30s 20ms/step - loss: 0.1986 - accuracy: 0.9255 - val_loss: 0.2323 - val_accuracy: 0.9174\n",
      "Epoch 16/20\n",
      "1500/1500 [==============================] - 31s 20ms/step - loss: 0.1948 - accuracy: 0.9258 - val_loss: 0.2262 - val_accuracy: 0.9196\n",
      "Epoch 17/20\n",
      "1500/1500 [==============================] - 30s 20ms/step - loss: 0.1880 - accuracy: 0.9284 - val_loss: 0.2291 - val_accuracy: 0.9187\n",
      "Epoch 18/20\n",
      "1500/1500 [==============================] - 30s 20ms/step - loss: 0.1853 - accuracy: 0.9296 - val_loss: 0.2282 - val_accuracy: 0.9206\n",
      "Epoch 19/20\n",
      "1500/1500 [==============================] - 30s 20ms/step - loss: 0.1768 - accuracy: 0.9326 - val_loss: 0.2409 - val_accuracy: 0.9187\n",
      "Epoch 20/20\n",
      "1500/1500 [==============================] - 33s 22ms/step - loss: 0.1769 - accuracy: 0.9320 - val_loss: 0.2298 - val_accuracy: 0.9210\n"
     ]
    }
   ],
   "source": [
    "history2=conv2.fit(X_train,y_train_encoded, epochs=20, validation_data=(X_val,y_val_encoded))"
   ]
  },
  {
   "cell_type": "code",
   "execution_count": null,
   "id": "d242f41a",
   "metadata": {},
   "outputs": [],
   "source": []
  }
 ],
 "metadata": {
  "kernelspec": {
   "display_name": "Python 3 (ipykernel)",
   "language": "python",
   "name": "python3"
  },
  "language_info": {
   "codemirror_mode": {
    "name": "ipython",
    "version": 3
   },
   "file_extension": ".py",
   "mimetype": "text/x-python",
   "name": "python",
   "nbconvert_exporter": "python",
   "pygments_lexer": "ipython3",
   "version": "3.8.5"
  },
  "toc": {
   "base_numbering": 1,
   "nav_menu": {},
   "number_sections": true,
   "sideBar": true,
   "skip_h1_title": false,
   "title_cell": "Table of Contents",
   "title_sidebar": "Contents",
   "toc_cell": false,
   "toc_position": {},
   "toc_section_display": true,
   "toc_window_display": true
  }
 },
 "nbformat": 4,
 "nbformat_minor": 5
}
