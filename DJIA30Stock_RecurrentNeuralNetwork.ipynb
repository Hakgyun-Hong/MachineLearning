{
  "nbformat": 4,
  "nbformat_minor": 0,
  "metadata": {
    "colab": {
      "provenance": [],
      "authorship_tag": "ABX9TyNJDbTL/JqJp8Da3MoZwrZ4"
    },
    "kernelspec": {
      "name": "python3",
      "display_name": "Python 3"
    },
    "language_info": {
      "name": "python"
    }
  },
  "cells": [
    {
      "cell_type": "markdown",
      "source": [
        "# Long Short Term Memory (LSTM)\n",
        "- Long Short Term Memory units are recurrent neural network(RNN).\n",
        "- A common LSTM unit is composed of a cell, an input gate an output gate and  a forget gate.\n",
        "- The cell is responsible for \"Remembering\" values over arbitrary time intervals.\n"
      ],
      "metadata": {
        "id": "vUh-N0Acg0Py"
      }
    },
    {
      "cell_type": "code",
      "execution_count": 2,
      "metadata": {
        "id": "knkzrZWngYqG"
      },
      "outputs": [],
      "source": [
        "import numpy as np\n",
        "import matplotlib.pyplot as plt\n",
        "\n",
        "import pandas as pd\n",
        "from sklearn.preprocessing import MinMaxScaler\n",
        "from keras.models import Sequential\n",
        "from keras.layers import Dense, LSTM, Dropout, GRU, Bidirectional\n",
        "from keras.optimizers import SGD\n",
        "import math\n",
        "from sklearn.metrics import mean_squared_error"
      ]
    },
    {
      "cell_type": "code",
      "source": [
        "def plot_predictions(test,predicted):\n",
        "  plt.plot(test, color='red', label='Real IBM Stock Price')\n",
        "  plt.plot(predicted, color='blue', label='Predicted IBM Stock Price')\n",
        "  plt.title('IBM Stock Price Prediction')\n",
        "  plt.xlabel('Time')\n",
        "  plt.ylabel('IBM Stock Price')\n",
        "  plt.legend()\n",
        "  plt.show()\n",
        "\n",
        "def return_rmse(test,predicted):\n",
        "  rmse = math.sqrt(mean_squared_error(test,predicted))\n",
        "  print(\"The root mean squared error is {}\".format(rmse))"
      ],
      "metadata": {
        "id": "Qkfp2aSBkk50"
      },
      "execution_count": 3,
      "outputs": []
    },
    {
      "cell_type": "code",
      "source": [
        "dataset = pd.read_csv('/content/DataSet/IBM_2006-01-01_to_2018-01-01.csv', index_col = 'Date', parse_dates=['Date'])\n"
      ],
      "metadata": {
        "id": "y3GL_vzdlmj8"
      },
      "execution_count": 8,
      "outputs": []
    },
    {
      "cell_type": "code",
      "source": [
        "dataset"
      ],
      "metadata": {
        "colab": {
          "base_uri": "https://localhost:8080/",
          "height": 455
        },
        "id": "RFsNxnJ7mU3R",
        "outputId": "99839bf7-edfd-4130-facb-3207a0865065"
      },
      "execution_count": 9,
      "outputs": [
        {
          "output_type": "execute_result",
          "data": {
            "text/plain": [
              "              Open    High     Low   Close    Volume Name\n",
              "Date                                                     \n",
              "2006-01-03   82.45   82.55   80.81   82.06  11715200  IBM\n",
              "2006-01-04   82.20   82.50   81.33   81.95   9840600  IBM\n",
              "2006-01-05   81.40   82.90   81.00   82.50   7213500  IBM\n",
              "2006-01-06   83.95   85.03   83.41   84.95   8197400  IBM\n",
              "2006-01-09   84.10   84.25   83.38   83.73   6858200  IBM\n",
              "...            ...     ...     ...     ...       ...  ...\n",
              "2017-12-22  151.82  153.00  151.50  152.50   2990583  IBM\n",
              "2017-12-26  152.51  153.86  152.50  152.83   2479017  IBM\n",
              "2017-12-27  152.95  153.18  152.61  153.13   2149257  IBM\n",
              "2017-12-28  153.20  154.12  153.20  154.04   2687624  IBM\n",
              "2017-12-29  154.17  154.72  153.42  153.42   3327087  IBM\n",
              "\n",
              "[3020 rows x 6 columns]"
            ],
            "text/html": [
              "\n",
              "  <div id=\"df-84fe2f20-8d73-477b-815b-f53c55d5048f\">\n",
              "    <div class=\"colab-df-container\">\n",
              "      <div>\n",
              "<style scoped>\n",
              "    .dataframe tbody tr th:only-of-type {\n",
              "        vertical-align: middle;\n",
              "    }\n",
              "\n",
              "    .dataframe tbody tr th {\n",
              "        vertical-align: top;\n",
              "    }\n",
              "\n",
              "    .dataframe thead th {\n",
              "        text-align: right;\n",
              "    }\n",
              "</style>\n",
              "<table border=\"1\" class=\"dataframe\">\n",
              "  <thead>\n",
              "    <tr style=\"text-align: right;\">\n",
              "      <th></th>\n",
              "      <th>Open</th>\n",
              "      <th>High</th>\n",
              "      <th>Low</th>\n",
              "      <th>Close</th>\n",
              "      <th>Volume</th>\n",
              "      <th>Name</th>\n",
              "    </tr>\n",
              "    <tr>\n",
              "      <th>Date</th>\n",
              "      <th></th>\n",
              "      <th></th>\n",
              "      <th></th>\n",
              "      <th></th>\n",
              "      <th></th>\n",
              "      <th></th>\n",
              "    </tr>\n",
              "  </thead>\n",
              "  <tbody>\n",
              "    <tr>\n",
              "      <th>2006-01-03</th>\n",
              "      <td>82.45</td>\n",
              "      <td>82.55</td>\n",
              "      <td>80.81</td>\n",
              "      <td>82.06</td>\n",
              "      <td>11715200</td>\n",
              "      <td>IBM</td>\n",
              "    </tr>\n",
              "    <tr>\n",
              "      <th>2006-01-04</th>\n",
              "      <td>82.20</td>\n",
              "      <td>82.50</td>\n",
              "      <td>81.33</td>\n",
              "      <td>81.95</td>\n",
              "      <td>9840600</td>\n",
              "      <td>IBM</td>\n",
              "    </tr>\n",
              "    <tr>\n",
              "      <th>2006-01-05</th>\n",
              "      <td>81.40</td>\n",
              "      <td>82.90</td>\n",
              "      <td>81.00</td>\n",
              "      <td>82.50</td>\n",
              "      <td>7213500</td>\n",
              "      <td>IBM</td>\n",
              "    </tr>\n",
              "    <tr>\n",
              "      <th>2006-01-06</th>\n",
              "      <td>83.95</td>\n",
              "      <td>85.03</td>\n",
              "      <td>83.41</td>\n",
              "      <td>84.95</td>\n",
              "      <td>8197400</td>\n",
              "      <td>IBM</td>\n",
              "    </tr>\n",
              "    <tr>\n",
              "      <th>2006-01-09</th>\n",
              "      <td>84.10</td>\n",
              "      <td>84.25</td>\n",
              "      <td>83.38</td>\n",
              "      <td>83.73</td>\n",
              "      <td>6858200</td>\n",
              "      <td>IBM</td>\n",
              "    </tr>\n",
              "    <tr>\n",
              "      <th>...</th>\n",
              "      <td>...</td>\n",
              "      <td>...</td>\n",
              "      <td>...</td>\n",
              "      <td>...</td>\n",
              "      <td>...</td>\n",
              "      <td>...</td>\n",
              "    </tr>\n",
              "    <tr>\n",
              "      <th>2017-12-22</th>\n",
              "      <td>151.82</td>\n",
              "      <td>153.00</td>\n",
              "      <td>151.50</td>\n",
              "      <td>152.50</td>\n",
              "      <td>2990583</td>\n",
              "      <td>IBM</td>\n",
              "    </tr>\n",
              "    <tr>\n",
              "      <th>2017-12-26</th>\n",
              "      <td>152.51</td>\n",
              "      <td>153.86</td>\n",
              "      <td>152.50</td>\n",
              "      <td>152.83</td>\n",
              "      <td>2479017</td>\n",
              "      <td>IBM</td>\n",
              "    </tr>\n",
              "    <tr>\n",
              "      <th>2017-12-27</th>\n",
              "      <td>152.95</td>\n",
              "      <td>153.18</td>\n",
              "      <td>152.61</td>\n",
              "      <td>153.13</td>\n",
              "      <td>2149257</td>\n",
              "      <td>IBM</td>\n",
              "    </tr>\n",
              "    <tr>\n",
              "      <th>2017-12-28</th>\n",
              "      <td>153.20</td>\n",
              "      <td>154.12</td>\n",
              "      <td>153.20</td>\n",
              "      <td>154.04</td>\n",
              "      <td>2687624</td>\n",
              "      <td>IBM</td>\n",
              "    </tr>\n",
              "    <tr>\n",
              "      <th>2017-12-29</th>\n",
              "      <td>154.17</td>\n",
              "      <td>154.72</td>\n",
              "      <td>153.42</td>\n",
              "      <td>153.42</td>\n",
              "      <td>3327087</td>\n",
              "      <td>IBM</td>\n",
              "    </tr>\n",
              "  </tbody>\n",
              "</table>\n",
              "<p>3020 rows × 6 columns</p>\n",
              "</div>\n",
              "      <button class=\"colab-df-convert\" onclick=\"convertToInteractive('df-84fe2f20-8d73-477b-815b-f53c55d5048f')\"\n",
              "              title=\"Convert this dataframe to an interactive table.\"\n",
              "              style=\"display:none;\">\n",
              "        \n",
              "  <svg xmlns=\"http://www.w3.org/2000/svg\" height=\"24px\"viewBox=\"0 0 24 24\"\n",
              "       width=\"24px\">\n",
              "    <path d=\"M0 0h24v24H0V0z\" fill=\"none\"/>\n",
              "    <path d=\"M18.56 5.44l.94 2.06.94-2.06 2.06-.94-2.06-.94-.94-2.06-.94 2.06-2.06.94zm-11 1L8.5 8.5l.94-2.06 2.06-.94-2.06-.94L8.5 2.5l-.94 2.06-2.06.94zm10 10l.94 2.06.94-2.06 2.06-.94-2.06-.94-.94-2.06-.94 2.06-2.06.94z\"/><path d=\"M17.41 7.96l-1.37-1.37c-.4-.4-.92-.59-1.43-.59-.52 0-1.04.2-1.43.59L10.3 9.45l-7.72 7.72c-.78.78-.78 2.05 0 2.83L4 21.41c.39.39.9.59 1.41.59.51 0 1.02-.2 1.41-.59l7.78-7.78 2.81-2.81c.8-.78.8-2.07 0-2.86zM5.41 20L4 18.59l7.72-7.72 1.47 1.35L5.41 20z\"/>\n",
              "  </svg>\n",
              "      </button>\n",
              "      \n",
              "  <style>\n",
              "    .colab-df-container {\n",
              "      display:flex;\n",
              "      flex-wrap:wrap;\n",
              "      gap: 12px;\n",
              "    }\n",
              "\n",
              "    .colab-df-convert {\n",
              "      background-color: #E8F0FE;\n",
              "      border: none;\n",
              "      border-radius: 50%;\n",
              "      cursor: pointer;\n",
              "      display: none;\n",
              "      fill: #1967D2;\n",
              "      height: 32px;\n",
              "      padding: 0 0 0 0;\n",
              "      width: 32px;\n",
              "    }\n",
              "\n",
              "    .colab-df-convert:hover {\n",
              "      background-color: #E2EBFA;\n",
              "      box-shadow: 0px 1px 2px rgba(60, 64, 67, 0.3), 0px 1px 3px 1px rgba(60, 64, 67, 0.15);\n",
              "      fill: #174EA6;\n",
              "    }\n",
              "\n",
              "    [theme=dark] .colab-df-convert {\n",
              "      background-color: #3B4455;\n",
              "      fill: #D2E3FC;\n",
              "    }\n",
              "\n",
              "    [theme=dark] .colab-df-convert:hover {\n",
              "      background-color: #434B5C;\n",
              "      box-shadow: 0px 1px 3px 1px rgba(0, 0, 0, 0.15);\n",
              "      filter: drop-shadow(0px 1px 2px rgba(0, 0, 0, 0.3));\n",
              "      fill: #FFFFFF;\n",
              "    }\n",
              "  </style>\n",
              "\n",
              "      <script>\n",
              "        const buttonEl =\n",
              "          document.querySelector('#df-84fe2f20-8d73-477b-815b-f53c55d5048f button.colab-df-convert');\n",
              "        buttonEl.style.display =\n",
              "          google.colab.kernel.accessAllowed ? 'block' : 'none';\n",
              "\n",
              "        async function convertToInteractive(key) {\n",
              "          const element = document.querySelector('#df-84fe2f20-8d73-477b-815b-f53c55d5048f');\n",
              "          const dataTable =\n",
              "            await google.colab.kernel.invokeFunction('convertToInteractive',\n",
              "                                                     [key], {});\n",
              "          if (!dataTable) return;\n",
              "\n",
              "          const docLinkHtml = 'Like what you see? Visit the ' +\n",
              "            '<a target=\"_blank\" href=https://colab.research.google.com/notebooks/data_table.ipynb>data table notebook</a>'\n",
              "            + ' to learn more about interactive tables.';\n",
              "          element.innerHTML = '';\n",
              "          dataTable['output_type'] = 'display_data';\n",
              "          await google.colab.output.renderOutput(dataTable, element);\n",
              "          const docLink = document.createElement('div');\n",
              "          docLink.innerHTML = docLinkHtml;\n",
              "          element.appendChild(docLink);\n",
              "        }\n",
              "      </script>\n",
              "    </div>\n",
              "  </div>\n",
              "  "
            ]
          },
          "metadata": {},
          "execution_count": 9
        }
      ]
    },
    {
      "cell_type": "code",
      "source": [
        "# Read High\n",
        "training_set = dataset[:'2016'].iloc[:,1:2].values\n",
        "test_set = dataset['2017':].iloc[:,1:2].values"
      ],
      "metadata": {
        "id": "j83WX1FsmbIf"
      },
      "execution_count": 10,
      "outputs": []
    },
    {
      "cell_type": "code",
      "source": [
        "dataset[\"High\"][:'2016'].plot(figsize=(16,4),legend=True)\n",
        "dataset[\"High\"]['2017':].plot(figsize=(16,4),legend=True)\n",
        "plt.legend(['Train Set(~2016)','Test Set(2017~)'])\n",
        "plt.title('IBM Stock Price')\n",
        "plt.show()"
      ],
      "metadata": {
        "colab": {
          "base_uri": "https://localhost:8080/",
          "height": 285
        },
        "id": "-llJoTpOmxHT",
        "outputId": "0bfe2781-13f4-4d08-9e19-60e20f3567ff"
      },
      "execution_count": 12,
      "outputs": [
        {
          "output_type": "display_data",
          "data": {
            "text/plain": [
              "<Figure size 1152x288 with 1 Axes>"
            ],
            "image/png": "[encoded data removed]"
          },
          "metadata": {
            "needs_background": "light"
          }
        }
      ]
    },
    {
      "cell_type": "code",
      "source": [
        "TIME_STEPS = 60\n",
        "def create_sequences(values, time_steps = TIME_STEPS):\n",
        "    output=[]\n",
        "    for i in range(len(values) - time_steps -1):\n",
        "    #for i in range(len(values) - time_steps):\n",
        "        output.append(values[i: (i+time_steps)])\n",
        "    #return output\n",
        "    return np.expand_dims(output, axis=2)\n",
        "\n",
        "def create_label(values, time_steps = TIME_STEPS):\n",
        "  output=[]\n",
        "  for i in range(len(values) - time_steps - 1):\n",
        "    output.append(values[i+time_steps])\n",
        "  return output\n"
      ],
      "metadata": {
        "id": "K2aYhVTBqWpw"
      },
      "execution_count": 15,
      "outputs": []
    },
    {
      "cell_type": "code",
      "source": [
        "# Scaling the train set And Divide DataSet int Train and Test\n",
        "#sc = MinMaxScaler(feature_range=(0,1))\n",
        "# 원래 feature_range로 따로 설정을 해야했었나? 기억이 안남.\n",
        "# -> Default로 모든 Feature의 값이 0~1 사이에 있도록 데이터를 재조정한다.\n",
        "sc = MinMaxScaler()\n",
        "training_set_scaled = sc.fit(training_set)"
      ],
      "metadata": {
        "id": "FIXrbHelw31f"
      },
      "execution_count": 23,
      "outputs": []
    },
    {
      "cell_type": "code",
      "source": [
        "training_set_scaled = sc.transform(training_set)\n",
        "test_set_scaled=sc.transform(test_set)"
      ],
      "metadata": {
        "id": "Io_uDvkhxBqZ"
      },
      "execution_count": 27,
      "outputs": []
    },
    {
      "cell_type": "code",
      "source": [],
      "metadata": {
        "id": "cudjbSzkxAOx"
      },
      "execution_count": 27,
      "outputs": []
    },
    {
      "cell_type": "code",
      "source": [
        "training_set.shape"
      ],
      "metadata": {
        "colab": {
          "base_uri": "https://localhost:8080/"
        },
        "id": "qvOJ9eh-wQ0S",
        "outputId": "a2db44fd-0484-4659-a8d8-729754c09a61"
      },
      "execution_count": 28,
      "outputs": [
        {
          "output_type": "execute_result",
          "data": {
            "text/plain": [
              "(2769, 1)"
            ]
          },
          "metadata": {},
          "execution_count": 28
        }
      ]
    },
    {
      "cell_type": "code",
      "source": [
        "X_train = []\n",
        "y_train = []\n",
        "\n",
        "X_train = create_sequences(training_set_scaled)\n",
        "y_train = create_label(training_set_scaled)\n",
        "X_test = create_sequences(test_set_scaled)\n",
        "y_test = create_label(test_set_scaled)"
      ],
      "metadata": {
        "id": "qh3GFb_XpvAF"
      },
      "execution_count": 68,
      "outputs": []
    },
    {
      "cell_type": "code",
      "source": [
        "print(X_train.shape)\n",
        "print(len(y_train))"
      ],
      "metadata": {
        "colab": {
          "base_uri": "https://localhost:8080/"
        },
        "id": "-LF9txnnwKtc",
        "outputId": "188435cd-d0b4-49cf-9091-f0ad1beaf89e"
      },
      "execution_count": 69,
      "outputs": [
        {
          "output_type": "stream",
          "name": "stdout",
          "text": [
            "(2708, 60, 1, 1)\n",
            "2708\n"
          ]
        }
      ]
    },
    {
      "cell_type": "code",
      "source": [
        "X_train = np.reshape(X_train, (X_train.shape[0],X_train.shape[1],1))"
      ],
      "metadata": {
        "id": "Q_5_Haqg4HV7"
      },
      "execution_count": 70,
      "outputs": []
    },
    {
      "cell_type": "code",
      "source": [
        "print(X_train.shape)"
      ],
      "metadata": {
        "colab": {
          "base_uri": "https://localhost:8080/"
        },
        "id": "Ryods7xh5rBd",
        "outputId": "b824d7b3-5e48-4d59-eeaa-3c84ddf4d39a"
      },
      "execution_count": 71,
      "outputs": [
        {
          "output_type": "stream",
          "name": "stdout",
          "text": [
            "(2708, 60, 1)\n"
          ]
        }
      ]
    },
    {
      "cell_type": "code",
      "source": [
        "#y_train = np.reshape(y_train, len(y_train),1,1)\n",
        "y_train = np.reshape(y_train,(len(y_train),1,1))"
      ],
      "metadata": {
        "id": "RCaoP3si4adT"
      },
      "execution_count": 75,
      "outputs": []
    },
    {
      "cell_type": "code",
      "source": [],
      "metadata": {
        "id": "4LtiFkvm66kF"
      },
      "execution_count": null,
      "outputs": []
    },
    {
      "cell_type": "code",
      "source": [
        "X_train2 = np.reshape(X_train, (X_train.shape[1],X_train.shape[0],1))"
      ],
      "metadata": {
        "id": "m-9uRGYzm-hs"
      },
      "execution_count": 33,
      "outputs": []
    },
    {
      "cell_type": "code",
      "source": [
        "X_train2.shape"
      ],
      "metadata": {
        "colab": {
          "base_uri": "https://localhost:8080/"
        },
        "id": "9Vzk4uBcwIbn",
        "outputId": "f59d3fae-4c04-4b35-9169-ba06546151d5"
      },
      "execution_count": 34,
      "outputs": [
        {
          "output_type": "execute_result",
          "data": {
            "text/plain": [
              "(60, 2708, 1)"
            ]
          },
          "metadata": {},
          "execution_count": 34
        }
      ]
    },
    {
      "cell_type": "code",
      "source": [
        "X_train2[0][0].shape"
      ],
      "metadata": {
        "colab": {
          "base_uri": "https://localhost:8080/"
        },
        "id": "E3d8mLUnyYMN",
        "outputId": "edbae551-8d68-4590-af77-f9df54217ce9"
      },
      "execution_count": 44,
      "outputs": [
        {
          "output_type": "execute_result",
          "data": {
            "text/plain": [
              "(1,)"
            ]
          },
          "metadata": {},
          "execution_count": 44
        }
      ]
    },
    {
      "cell_type": "code",
      "source": [
        "X_train.shape[1]"
      ],
      "metadata": {
        "colab": {
          "base_uri": "https://localhost:8080/"
        },
        "id": "Y4C0yxop16Y1",
        "outputId": "7a177114-a231-4b27-b0df-561dd3520c8c"
      },
      "execution_count": 45,
      "outputs": [
        {
          "output_type": "execute_result",
          "data": {
            "text/plain": [
              "60"
            ]
          },
          "metadata": {},
          "execution_count": 45
        }
      ]
    },
    {
      "cell_type": "code",
      "source": [
        "regressor=Sequential()\n",
        "regressor.add(LSTM(units=50, return_sequences=True, input_shape=(X_train.shape[1],1)))\n",
        "regressor.add(Dropout(0.2))\n",
        "regressor.add(LSTM(units=50,return_sequences=True))\n",
        "regressor.add(Dropout(0.2))\n",
        "regressor.add(LSTM(units=50,return_sequences=True))\n",
        "regressor.add(Dropout(0.2))\n",
        "regressor.add(LSTM(units=5))\n",
        "regressor.add(Dropout(0.2))\n",
        "regressor.add(Dense(units=1))\n",
        "\n",
        "regressor.compile(optimizer='rmsprop', loss='mse')\n"
      ],
      "metadata": {
        "id": "pUTEW8h9yw24"
      },
      "execution_count": 76,
      "outputs": []
    },
    {
      "cell_type": "code",
      "source": [
        "regressor.summary()"
      ],
      "metadata": {
        "colab": {
          "base_uri": "https://localhost:8080/"
        },
        "id": "altDzCMa3M_3",
        "outputId": "3e7b7b36-1533-4e8d-898d-3b363e26fc79"
      },
      "execution_count": 77,
      "outputs": [
        {
          "output_type": "stream",
          "name": "stdout",
          "text": [
            "Model: \"sequential_3\"\n",
            "_________________________________________________________________\n",
            " Layer (type)                Output Shape              Param #   \n",
            "=================================================================\n",
            " lstm_12 (LSTM)              (None, 60, 50)            10400     \n",
            "                                                                 \n",
            " dropout_12 (Dropout)        (None, 60, 50)            0         \n",
            "                                                                 \n",
            " lstm_13 (LSTM)              (None, 60, 50)            20200     \n",
            "                                                                 \n",
            " dropout_13 (Dropout)        (None, 60, 50)            0         \n",
            "                                                                 \n",
            " lstm_14 (LSTM)              (None, 60, 50)            20200     \n",
            "                                                                 \n",
            " dropout_14 (Dropout)        (None, 60, 50)            0         \n",
            "                                                                 \n",
            " lstm_15 (LSTM)              (None, 5)                 1120      \n",
            "                                                                 \n",
            " dropout_15 (Dropout)        (None, 5)                 0         \n",
            "                                                                 \n",
            " dense_3 (Dense)             (None, 1)                 6         \n",
            "                                                                 \n",
            "=================================================================\n",
            "Total params: 51,926\n",
            "Trainable params: 51,926\n",
            "Non-trainable params: 0\n",
            "_________________________________________________________________\n"
          ]
        }
      ]
    },
    {
      "cell_type": "code",
      "source": [
        "regressor.fit(X_train, y_train, epochs=200,batch_size=128)"
      ],
      "metadata": {
        "colab": {
          "base_uri": "https://localhost:8080/"
        },
        "id": "LxQsk5OG3MoR",
        "outputId": "63df3cb4-850f-4794-869f-23836e65e68b"
      },
      "execution_count": 78,
      "outputs": [
        {
          "output_type": "stream",
          "name": "stdout",
          "text": [
            "Epoch 1/200\n",
            "22/22 [==============================] - 12s 185ms/step - loss: 0.0490\n",
            "Epoch 2/200\n",
            "22/22 [==============================] - 3s 152ms/step - loss: 0.0278\n",
            "Epoch 3/200\n",
            "22/22 [==============================] - 3s 152ms/step - loss: 0.0230\n",
            "Epoch 4/200\n",
            "22/22 [==============================] - 4s 182ms/step - loss: 0.0235\n",
            "Epoch 5/200\n",
            "22/22 [==============================] - 3s 154ms/step - loss: 0.0204\n",
            "Epoch 6/200\n",
            "22/22 [==============================] - 3s 153ms/step - loss: 0.0194\n",
            "Epoch 7/200\n",
            "22/22 [==============================] - 4s 169ms/step - loss: 0.0191\n",
            "Epoch 8/200\n",
            "22/22 [==============================] - 4s 165ms/step - loss: 0.0179\n",
            "Epoch 9/200\n",
            "22/22 [==============================] - 3s 154ms/step - loss: 0.0156\n",
            "Epoch 10/200\n",
            "22/22 [==============================] - 4s 173ms/step - loss: 0.0168\n",
            "Epoch 11/200\n",
            "22/22 [==============================] - 4s 182ms/step - loss: 0.0150\n",
            "Epoch 12/200\n",
            "22/22 [==============================] - 3s 158ms/step - loss: 0.0157\n",
            "Epoch 13/200\n",
            "22/22 [==============================] - 4s 159ms/step - loss: 0.0140\n",
            "Epoch 14/200\n",
            "22/22 [==============================] - 4s 185ms/step - loss: 0.0136\n",
            "Epoch 15/200\n",
            "22/22 [==============================] - 3s 156ms/step - loss: 0.0141\n",
            "Epoch 16/200\n",
            "22/22 [==============================] - 3s 159ms/step - loss: 0.0126\n",
            "Epoch 17/200\n",
            "22/22 [==============================] - 4s 184ms/step - loss: 0.0126\n",
            "Epoch 18/200\n",
            "22/22 [==============================] - 3s 159ms/step - loss: 0.0121\n",
            "Epoch 19/200\n",
            "22/22 [==============================] - 4s 159ms/step - loss: 0.0104\n",
            "Epoch 20/200\n",
            "22/22 [==============================] - 4s 178ms/step - loss: 0.0103\n",
            "Epoch 21/200\n",
            "22/22 [==============================] - 4s 163ms/step - loss: 0.0106\n",
            "Epoch 22/200\n",
            "22/22 [==============================] - 3s 158ms/step - loss: 0.0104\n",
            "Epoch 23/200\n",
            "22/22 [==============================] - 3s 155ms/step - loss: 0.0098\n",
            "Epoch 24/200\n",
            "22/22 [==============================] - 4s 185ms/step - loss: 0.0097\n",
            "Epoch 25/200\n",
            "22/22 [==============================] - 3s 156ms/step - loss: 0.0090\n",
            "Epoch 26/200\n",
            "22/22 [==============================] - 4s 158ms/step - loss: 0.0083\n",
            "Epoch 27/200\n",
            "22/22 [==============================] - 4s 186ms/step - loss: 0.0085\n",
            "Epoch 28/200\n",
            "22/22 [==============================] - 3s 157ms/step - loss: 0.0079\n",
            "Epoch 29/200\n",
            "22/22 [==============================] - 4s 160ms/step - loss: 0.0082\n",
            "Epoch 30/200\n",
            "22/22 [==============================] - 4s 202ms/step - loss: 0.0077\n",
            "Epoch 31/200\n",
            "22/22 [==============================] - 4s 172ms/step - loss: 0.0068\n",
            "Epoch 32/200\n",
            "22/22 [==============================] - 4s 160ms/step - loss: 0.0071\n",
            "Epoch 33/200\n",
            "22/22 [==============================] - 4s 175ms/step - loss: 0.0067\n",
            "Epoch 34/200\n",
            "22/22 [==============================] - 4s 168ms/step - loss: 0.0067\n",
            "Epoch 35/200\n",
            "22/22 [==============================] - 4s 161ms/step - loss: 0.0065\n",
            "Epoch 36/200\n",
            "22/22 [==============================] - 4s 164ms/step - loss: 0.0064\n",
            "Epoch 37/200\n",
            "22/22 [==============================] - 4s 184ms/step - loss: 0.0061\n",
            "Epoch 38/200\n",
            "22/22 [==============================] - 4s 164ms/step - loss: 0.0063\n",
            "Epoch 39/200\n",
            "22/22 [==============================] - 4s 163ms/step - loss: 0.0062\n",
            "Epoch 40/200\n",
            "22/22 [==============================] - 4s 188ms/step - loss: 0.0057\n",
            "Epoch 41/200\n",
            "22/22 [==============================] - 4s 161ms/step - loss: 0.0057\n",
            "Epoch 42/200\n",
            "22/22 [==============================] - 4s 163ms/step - loss: 0.0056\n",
            "Epoch 43/200\n",
            "22/22 [==============================] - 4s 194ms/step - loss: 0.0059\n",
            "Epoch 44/200\n",
            "22/22 [==============================] - 4s 165ms/step - loss: 0.0056\n",
            "Epoch 45/200\n",
            "22/22 [==============================] - 4s 165ms/step - loss: 0.0057\n",
            "Epoch 46/200\n",
            "22/22 [==============================] - 4s 190ms/step - loss: 0.0055\n",
            "Epoch 47/200\n",
            "22/22 [==============================] - 4s 159ms/step - loss: 0.0054\n",
            "Epoch 48/200\n",
            "22/22 [==============================] - 4s 159ms/step - loss: 0.0056\n",
            "Epoch 49/200\n",
            "22/22 [==============================] - 4s 190ms/step - loss: 0.0055\n",
            "Epoch 50/200\n",
            "22/22 [==============================] - 4s 162ms/step - loss: 0.0048\n",
            "Epoch 51/200\n",
            "22/22 [==============================] - 3s 159ms/step - loss: 0.0051\n",
            "Epoch 52/200\n",
            "22/22 [==============================] - 4s 182ms/step - loss: 0.0052\n",
            "Epoch 53/200\n",
            "22/22 [==============================] - 4s 169ms/step - loss: 0.0051\n",
            "Epoch 54/200\n",
            "22/22 [==============================] - 4s 162ms/step - loss: 0.0049\n",
            "Epoch 55/200\n",
            "22/22 [==============================] - 4s 171ms/step - loss: 0.0050\n",
            "Epoch 56/200\n",
            "22/22 [==============================] - 4s 181ms/step - loss: 0.0048\n",
            "Epoch 57/200\n",
            "22/22 [==============================] - 4s 165ms/step - loss: 0.0052\n",
            "Epoch 58/200\n",
            "22/22 [==============================] - 4s 164ms/step - loss: 0.0052\n",
            "Epoch 59/200\n",
            "22/22 [==============================] - 4s 191ms/step - loss: 0.0048\n",
            "Epoch 60/200\n",
            "22/22 [==============================] - 4s 163ms/step - loss: 0.0049\n",
            "Epoch 61/200\n",
            "22/22 [==============================] - 4s 161ms/step - loss: 0.0050\n",
            "Epoch 62/200\n",
            "22/22 [==============================] - 4s 192ms/step - loss: 0.0050\n",
            "Epoch 63/200\n",
            "22/22 [==============================] - 4s 164ms/step - loss: 0.0048\n",
            "Epoch 64/200\n",
            "22/22 [==============================] - 4s 163ms/step - loss: 0.0050\n",
            "Epoch 65/200\n",
            "22/22 [==============================] - 4s 192ms/step - loss: 0.0047\n",
            "Epoch 66/200\n",
            "22/22 [==============================] - 4s 163ms/step - loss: 0.0047\n",
            "Epoch 67/200\n",
            "22/22 [==============================] - 4s 161ms/step - loss: 0.0046\n",
            "Epoch 68/200\n",
            "22/22 [==============================] - 4s 192ms/step - loss: 0.0047\n",
            "Epoch 69/200\n",
            "22/22 [==============================] - 4s 166ms/step - loss: 0.0051\n",
            "Epoch 70/200\n",
            "22/22 [==============================] - 4s 163ms/step - loss: 0.0048\n",
            "Epoch 71/200\n",
            "22/22 [==============================] - 4s 196ms/step - loss: 0.0048\n",
            "Epoch 72/200\n",
            "22/22 [==============================] - 4s 165ms/step - loss: 0.0045\n",
            "Epoch 73/200\n",
            "22/22 [==============================] - 4s 167ms/step - loss: 0.0048\n",
            "Epoch 74/200\n",
            "22/22 [==============================] - 5s 225ms/step - loss: 0.0046\n",
            "Epoch 75/200\n",
            "22/22 [==============================] - 4s 161ms/step - loss: 0.0048\n",
            "Epoch 76/200\n",
            "22/22 [==============================] - 4s 166ms/step - loss: 0.0050\n",
            "Epoch 77/200\n",
            "22/22 [==============================] - 4s 188ms/step - loss: 0.0049\n",
            "Epoch 78/200\n",
            "22/22 [==============================] - 4s 167ms/step - loss: 0.0045\n",
            "Epoch 79/200\n",
            "22/22 [==============================] - 4s 169ms/step - loss: 0.0051\n",
            "Epoch 80/200\n",
            "22/22 [==============================] - 4s 179ms/step - loss: 0.0047\n",
            "Epoch 81/200\n",
            "22/22 [==============================] - 4s 172ms/step - loss: 0.0046\n",
            "Epoch 82/200\n",
            "22/22 [==============================] - 4s 164ms/step - loss: 0.0045\n",
            "Epoch 83/200\n",
            "22/22 [==============================] - 4s 169ms/step - loss: 0.0047\n",
            "Epoch 84/200\n",
            "22/22 [==============================] - 4s 183ms/step - loss: 0.0045\n",
            "Epoch 85/200\n",
            "22/22 [==============================] - 4s 167ms/step - loss: 0.0046\n",
            "Epoch 86/200\n",
            "22/22 [==============================] - 4s 163ms/step - loss: 0.0048\n",
            "Epoch 87/200\n",
            "22/22 [==============================] - 4s 190ms/step - loss: 0.0048\n",
            "Epoch 88/200\n",
            "22/22 [==============================] - 4s 167ms/step - loss: 0.0045\n",
            "Epoch 89/200\n",
            "22/22 [==============================] - 4s 163ms/step - loss: 0.0048\n",
            "Epoch 90/200\n",
            "22/22 [==============================] - 4s 196ms/step - loss: 0.0046\n",
            "Epoch 91/200\n",
            "22/22 [==============================] - 4s 165ms/step - loss: 0.0047\n",
            "Epoch 92/200\n",
            "22/22 [==============================] - 4s 168ms/step - loss: 0.0048\n",
            "Epoch 93/200\n",
            "22/22 [==============================] - 4s 192ms/step - loss: 0.0047\n",
            "Epoch 94/200\n",
            "22/22 [==============================] - 4s 168ms/step - loss: 0.0044\n",
            "Epoch 95/200\n",
            "22/22 [==============================] - 4s 168ms/step - loss: 0.0047\n",
            "Epoch 96/200\n",
            "22/22 [==============================] - 4s 196ms/step - loss: 0.0044\n",
            "Epoch 97/200\n",
            "22/22 [==============================] - 4s 165ms/step - loss: 0.0045\n",
            "Epoch 98/200\n",
            "22/22 [==============================] - 4s 165ms/step - loss: 0.0045\n",
            "Epoch 99/200\n",
            "22/22 [==============================] - 4s 196ms/step - loss: 0.0041\n",
            "Epoch 100/200\n",
            "22/22 [==============================] - 4s 167ms/step - loss: 0.0046\n",
            "Epoch 101/200\n",
            "22/22 [==============================] - 4s 166ms/step - loss: 0.0044\n",
            "Epoch 102/200\n",
            "22/22 [==============================] - 4s 192ms/step - loss: 0.0045\n",
            "Epoch 103/200\n",
            "22/22 [==============================] - 4s 161ms/step - loss: 0.0044\n",
            "Epoch 104/200\n",
            "22/22 [==============================] - 4s 164ms/step - loss: 0.0044\n",
            "Epoch 105/200\n",
            "22/22 [==============================] - 4s 195ms/step - loss: 0.0045\n",
            "Epoch 106/200\n",
            "22/22 [==============================] - 4s 167ms/step - loss: 0.0048\n",
            "Epoch 107/200\n",
            "22/22 [==============================] - 4s 167ms/step - loss: 0.0045\n",
            "Epoch 108/200\n",
            "22/22 [==============================] - 4s 195ms/step - loss: 0.0048\n",
            "Epoch 109/200\n",
            "22/22 [==============================] - 4s 166ms/step - loss: 0.0047\n",
            "Epoch 110/200\n",
            "22/22 [==============================] - 4s 169ms/step - loss: 0.0045\n",
            "Epoch 111/200\n",
            "22/22 [==============================] - 4s 191ms/step - loss: 0.0045\n",
            "Epoch 112/200\n",
            "22/22 [==============================] - 4s 166ms/step - loss: 0.0046\n",
            "Epoch 113/200\n",
            "22/22 [==============================] - 4s 165ms/step - loss: 0.0046\n",
            "Epoch 114/200\n",
            "22/22 [==============================] - 4s 188ms/step - loss: 0.0046\n",
            "Epoch 115/200\n",
            "22/22 [==============================] - 4s 168ms/step - loss: 0.0047\n",
            "Epoch 116/200\n",
            "22/22 [==============================] - 4s 173ms/step - loss: 0.0045\n",
            "Epoch 117/200\n",
            "22/22 [==============================] - 5s 212ms/step - loss: 0.0045\n",
            "Epoch 118/200\n",
            "22/22 [==============================] - 4s 167ms/step - loss: 0.0048\n",
            "Epoch 119/200\n",
            "22/22 [==============================] - 4s 167ms/step - loss: 0.0040\n",
            "Epoch 120/200\n",
            "22/22 [==============================] - 4s 190ms/step - loss: 0.0044\n",
            "Epoch 121/200\n",
            "22/22 [==============================] - 4s 168ms/step - loss: 0.0044\n",
            "Epoch 122/200\n",
            "22/22 [==============================] - 4s 167ms/step - loss: 0.0045\n",
            "Epoch 123/200\n",
            "22/22 [==============================] - 4s 193ms/step - loss: 0.0044\n",
            "Epoch 124/200\n",
            "22/22 [==============================] - 4s 171ms/step - loss: 0.0047\n",
            "Epoch 125/200\n",
            "22/22 [==============================] - 4s 168ms/step - loss: 0.0042\n",
            "Epoch 126/200\n",
            "22/22 [==============================] - 4s 182ms/step - loss: 0.0044\n",
            "Epoch 127/200\n",
            "22/22 [==============================] - 4s 170ms/step - loss: 0.0042\n",
            "Epoch 128/200\n",
            "22/22 [==============================] - 4s 167ms/step - loss: 0.0049\n",
            "Epoch 129/200\n",
            "22/22 [==============================] - 4s 177ms/step - loss: 0.0045\n",
            "Epoch 130/200\n",
            "22/22 [==============================] - 4s 176ms/step - loss: 0.0048\n",
            "Epoch 131/200\n",
            "22/22 [==============================] - 4s 169ms/step - loss: 0.0045\n",
            "Epoch 132/200\n",
            "22/22 [==============================] - 4s 174ms/step - loss: 0.0045\n",
            "Epoch 133/200\n",
            "22/22 [==============================] - 4s 184ms/step - loss: 0.0045\n",
            "Epoch 134/200\n",
            "22/22 [==============================] - 4s 167ms/step - loss: 0.0045\n",
            "Epoch 135/200\n",
            "22/22 [==============================] - 4s 165ms/step - loss: 0.0049\n",
            "Epoch 136/200\n",
            "22/22 [==============================] - 4s 187ms/step - loss: 0.0044\n",
            "Epoch 137/200\n",
            "22/22 [==============================] - 4s 166ms/step - loss: 0.0045\n",
            "Epoch 138/200\n",
            "22/22 [==============================] - 4s 168ms/step - loss: 0.0046\n",
            "Epoch 139/200\n",
            "22/22 [==============================] - 4s 195ms/step - loss: 0.0045\n",
            "Epoch 140/200\n",
            "22/22 [==============================] - 4s 168ms/step - loss: 0.0049\n",
            "Epoch 141/200\n",
            "22/22 [==============================] - 4s 163ms/step - loss: 0.0047\n",
            "Epoch 142/200\n",
            "22/22 [==============================] - 4s 191ms/step - loss: 0.0044\n",
            "Epoch 143/200\n",
            "22/22 [==============================] - 4s 167ms/step - loss: 0.0045\n",
            "Epoch 144/200\n",
            "22/22 [==============================] - 4s 169ms/step - loss: 0.0047\n",
            "Epoch 145/200\n",
            "22/22 [==============================] - 4s 192ms/step - loss: 0.0045\n",
            "Epoch 146/200\n",
            "22/22 [==============================] - 4s 165ms/step - loss: 0.0044\n",
            "Epoch 147/200\n",
            "22/22 [==============================] - 4s 168ms/step - loss: 0.0046\n",
            "Epoch 148/200\n",
            "22/22 [==============================] - 4s 194ms/step - loss: 0.0046\n",
            "Epoch 149/200\n",
            "22/22 [==============================] - 4s 166ms/step - loss: 0.0041\n",
            "Epoch 150/200\n",
            "22/22 [==============================] - 4s 167ms/step - loss: 0.0044\n",
            "Epoch 151/200\n",
            "22/22 [==============================] - 4s 193ms/step - loss: 0.0048\n",
            "Epoch 152/200\n",
            "22/22 [==============================] - 4s 166ms/step - loss: 0.0045\n",
            "Epoch 153/200\n",
            "22/22 [==============================] - 4s 166ms/step - loss: 0.0044\n",
            "Epoch 154/200\n",
            "22/22 [==============================] - 4s 195ms/step - loss: 0.0047\n",
            "Epoch 155/200\n",
            "22/22 [==============================] - 4s 167ms/step - loss: 0.0047\n",
            "Epoch 156/200\n",
            "22/22 [==============================] - 4s 168ms/step - loss: 0.0042\n",
            "Epoch 157/200\n",
            "22/22 [==============================] - 4s 195ms/step - loss: 0.0048\n",
            "Epoch 158/200\n",
            "22/22 [==============================] - 4s 168ms/step - loss: 0.0046\n",
            "Epoch 159/200\n",
            "22/22 [==============================] - 4s 193ms/step - loss: 0.0044\n",
            "Epoch 160/200\n",
            "22/22 [==============================] - 4s 193ms/step - loss: 0.0045\n",
            "Epoch 161/200\n",
            "22/22 [==============================] - 4s 165ms/step - loss: 0.0044\n",
            "Epoch 162/200\n",
            "22/22 [==============================] - 4s 168ms/step - loss: 0.0049\n",
            "Epoch 163/200\n",
            "22/22 [==============================] - 4s 191ms/step - loss: 0.0043\n",
            "Epoch 164/200\n",
            "22/22 [==============================] - 4s 167ms/step - loss: 0.0046\n",
            "Epoch 165/200\n",
            "22/22 [==============================] - 4s 165ms/step - loss: 0.0043\n",
            "Epoch 166/200\n",
            "22/22 [==============================] - 4s 195ms/step - loss: 0.0042\n",
            "Epoch 167/200\n",
            "22/22 [==============================] - 4s 166ms/step - loss: 0.0047\n",
            "Epoch 168/200\n",
            "22/22 [==============================] - 4s 166ms/step - loss: 0.0044\n",
            "Epoch 169/200\n",
            "22/22 [==============================] - 4s 193ms/step - loss: 0.0043\n",
            "Epoch 170/200\n",
            "22/22 [==============================] - 4s 169ms/step - loss: 0.0045\n",
            "Epoch 171/200\n",
            "22/22 [==============================] - 4s 169ms/step - loss: 0.0046\n",
            "Epoch 172/200\n",
            "22/22 [==============================] - 4s 189ms/step - loss: 0.0043\n",
            "Epoch 173/200\n",
            "22/22 [==============================] - 4s 169ms/step - loss: 0.0044\n",
            "Epoch 174/200\n",
            "22/22 [==============================] - 4s 167ms/step - loss: 0.0044\n",
            "Epoch 175/200\n",
            "22/22 [==============================] - 4s 183ms/step - loss: 0.0040\n",
            "Epoch 176/200\n",
            "22/22 [==============================] - 4s 173ms/step - loss: 0.0044\n",
            "Epoch 177/200\n",
            "22/22 [==============================] - 4s 168ms/step - loss: 0.0042\n",
            "Epoch 178/200\n",
            "22/22 [==============================] - 4s 178ms/step - loss: 0.0044\n",
            "Epoch 179/200\n",
            "22/22 [==============================] - 4s 178ms/step - loss: 0.0043\n",
            "Epoch 180/200\n",
            "22/22 [==============================] - 4s 169ms/step - loss: 0.0043\n",
            "Epoch 181/200\n",
            "22/22 [==============================] - 4s 171ms/step - loss: 0.0045\n",
            "Epoch 182/200\n",
            "22/22 [==============================] - 4s 184ms/step - loss: 0.0045\n",
            "Epoch 183/200\n",
            "22/22 [==============================] - 4s 169ms/step - loss: 0.0044\n",
            "Epoch 184/200\n",
            "22/22 [==============================] - 4s 175ms/step - loss: 0.0044\n",
            "Epoch 185/200\n",
            "22/22 [==============================] - 4s 190ms/step - loss: 0.0043\n",
            "Epoch 186/200\n",
            "22/22 [==============================] - 4s 172ms/step - loss: 0.0044\n",
            "Epoch 187/200\n",
            "22/22 [==============================] - 4s 169ms/step - loss: 0.0047\n",
            "Epoch 188/200\n",
            "22/22 [==============================] - 4s 193ms/step - loss: 0.0042\n",
            "Epoch 189/200\n",
            "22/22 [==============================] - 4s 168ms/step - loss: 0.0044\n",
            "Epoch 190/200\n",
            "22/22 [==============================] - 4s 170ms/step - loss: 0.0046\n",
            "Epoch 191/200\n",
            "22/22 [==============================] - 4s 189ms/step - loss: 0.0046\n",
            "Epoch 192/200\n",
            "22/22 [==============================] - 4s 169ms/step - loss: 0.0044\n",
            "Epoch 193/200\n",
            "22/22 [==============================] - 4s 171ms/step - loss: 0.0042\n",
            "Epoch 194/200\n",
            "22/22 [==============================] - 4s 193ms/step - loss: 0.0044\n",
            "Epoch 195/200\n",
            "22/22 [==============================] - 4s 171ms/step - loss: 0.0043\n",
            "Epoch 196/200\n",
            "22/22 [==============================] - 4s 171ms/step - loss: 0.0044\n",
            "Epoch 197/200\n",
            "22/22 [==============================] - 4s 196ms/step - loss: 0.0044\n",
            "Epoch 198/200\n",
            "22/22 [==============================] - 4s 166ms/step - loss: 0.0044\n",
            "Epoch 199/200\n",
            "22/22 [==============================] - 4s 170ms/step - loss: 0.0046\n",
            "Epoch 200/200\n",
            "22/22 [==============================] - 4s 196ms/step - loss: 0.0044\n"
          ]
        },
        {
          "output_type": "execute_result",
          "data": {
            "text/plain": [
              "<keras.callbacks.History at 0x7f6c0abdd820>"
            ]
          },
          "metadata": {},
          "execution_count": 78
        }
      ]
    },
    {
      "cell_type": "code",
      "source": [
        "X_test = np.reshape(X_test, (X_test.shape[0],X_test.shape[1],1))\n",
        "y_test = np.reshape(y_test,(len(y_test),1,1))"
      ],
      "metadata": {
        "id": "rsaoexE23uT8"
      },
      "execution_count": 79,
      "outputs": []
    },
    {
      "cell_type": "code",
      "source": [
        "predicted_stock_price = regressor.predict(X_test)\n",
        "predicted_stock_price = sc.inverse_transform(predicted_stock_price)"
      ],
      "metadata": {
        "colab": {
          "base_uri": "https://localhost:8080/"
        },
        "id": "6LI5OT0m-zjT",
        "outputId": "db143c5d-ea24-4266-eb79-62122fdc161b"
      },
      "execution_count": 80,
      "outputs": [
        {
          "output_type": "stream",
          "name": "stdout",
          "text": [
            "6/6 [==============================] - 2s 30ms/step\n"
          ]
        }
      ]
    },
    {
      "cell_type": "code",
      "source": [
        "plot_predictions(test_set[60:],predicted_stock_price)"
      ],
      "metadata": {
        "colab": {
          "base_uri": "https://localhost:8080/",
          "height": 295
        },
        "id": "5TXDNBMZ_DM_",
        "outputId": "e63ffca3-6791-4f5c-8301-3ecd93fd403f"
      },
      "execution_count": 82,
      "outputs": [
        {
          "output_type": "display_data",
          "data": {
            "text/plain": [
              "<Figure size 432x288 with 1 Axes>"
            ],
            "image/png": "[encoded data removed]"
          },
          "metadata": {
            "needs_background": "light"
          }
        }
      ]
    },
    {
      "cell_type": "markdown",
      "source": [],
      "metadata": {
        "id": "FPgs1y4C_AEy"
      }
    }
  ]
}