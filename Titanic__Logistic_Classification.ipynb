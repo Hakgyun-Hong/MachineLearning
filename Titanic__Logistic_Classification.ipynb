{
 "cells": [
  {
   "cell_type": "code",
   "execution_count": 1,
   "metadata": {},
   "outputs": [],
   "source": [
    "import numpy as np\n",
    "import pandas as pd\n",
    "import matplotlib.pyplot as plt"
   ]
  },
  {
   "cell_type": "code",
   "execution_count": 2,
   "metadata": {},
   "outputs": [
    {
     "name": "stdout",
     "output_type": "stream",
     "text": [
      "<class 'pandas.core.frame.DataFrame'>\n",
      "RangeIndex: 1305 entries, 0 to 1304\n",
      "Data columns (total 8 columns):\n",
      " #   Column    Non-Null Count  Dtype  \n",
      "---  ------    --------------  -----  \n",
      " 0   survived  1305 non-null   int64  \n",
      " 1   pclass    1305 non-null   int64  \n",
      " 2   sex       1305 non-null   object \n",
      " 3   age       1305 non-null   float64\n",
      " 4   sibsp     1305 non-null   int64  \n",
      " 5   parch     1305 non-null   int64  \n",
      " 6   fare      1305 non-null   float64\n",
      " 7   embarked  1305 non-null   object \n",
      "dtypes: float64(2), int64(4), object(2)\n",
      "memory usage: 81.7+ KB\n"
     ]
    }
   ],
   "source": [
    "#url = \"https://github.com/k5yi/econ2005/blob/master/datasets/titanic_processed.csv\"\n",
    "#s= requests.get(url).content\n",
    "#c=pd.read_csv(s)\n",
    "#c=pd.read_csv(io.StringIO(s.decode('utf-8')))\n",
    "titanic = pd.read_csv('DataSet/titanic_processed.csv')\n",
    "titanic.info()"
   ]
  },
  {
   "cell_type": "code",
   "execution_count": 3,
   "metadata": {
    "scrolled": false
   },
   "outputs": [
    {
     "data": {
      "text/plain": [
       "0       1\n",
       "1       1\n",
       "2       0\n",
       "3       0\n",
       "4       0\n",
       "       ..\n",
       "1300    0\n",
       "1301    0\n",
       "1302    0\n",
       "1303    0\n",
       "1304    0\n",
       "Name: survived, Length: 1305, dtype: int64"
      ]
     },
     "execution_count": 3,
     "metadata": {},
     "output_type": "execute_result"
    }
   ],
   "source": [
    "y = titanic.pop(\"survived\") \n",
    "# pop을 쓰면 해당 column을 빼면서 입력.\n",
    "y"
   ]
  },
  {
   "cell_type": "code",
   "execution_count": 4,
   "metadata": {
    "scrolled": true
   },
   "outputs": [
    {
     "data": {
      "text/html": [
       "<div>\n",
       "<style scoped>\n",
       "    .dataframe tbody tr th:only-of-type {\n",
       "        vertical-align: middle;\n",
       "    }\n",
       "\n",
       "    .dataframe tbody tr th {\n",
       "        vertical-align: top;\n",
       "    }\n",
       "\n",
       "    .dataframe thead th {\n",
       "        text-align: right;\n",
       "    }\n",
       "</style>\n",
       "<table border=\"1\" class=\"dataframe\">\n",
       "  <thead>\n",
       "    <tr style=\"text-align: right;\">\n",
       "      <th></th>\n",
       "      <th>pclass</th>\n",
       "      <th>sex</th>\n",
       "      <th>age</th>\n",
       "      <th>sibsp</th>\n",
       "      <th>parch</th>\n",
       "      <th>fare</th>\n",
       "      <th>embarked</th>\n",
       "    </tr>\n",
       "  </thead>\n",
       "  <tbody>\n",
       "    <tr>\n",
       "      <th>0</th>\n",
       "      <td>1</td>\n",
       "      <td>female</td>\n",
       "      <td>29.0000</td>\n",
       "      <td>0</td>\n",
       "      <td>0</td>\n",
       "      <td>211.3375</td>\n",
       "      <td>S</td>\n",
       "    </tr>\n",
       "    <tr>\n",
       "      <th>1</th>\n",
       "      <td>1</td>\n",
       "      <td>male</td>\n",
       "      <td>0.9167</td>\n",
       "      <td>1</td>\n",
       "      <td>2</td>\n",
       "      <td>151.5500</td>\n",
       "      <td>S</td>\n",
       "    </tr>\n",
       "    <tr>\n",
       "      <th>2</th>\n",
       "      <td>1</td>\n",
       "      <td>female</td>\n",
       "      <td>2.0000</td>\n",
       "      <td>1</td>\n",
       "      <td>2</td>\n",
       "      <td>151.5500</td>\n",
       "      <td>S</td>\n",
       "    </tr>\n",
       "    <tr>\n",
       "      <th>3</th>\n",
       "      <td>1</td>\n",
       "      <td>male</td>\n",
       "      <td>30.0000</td>\n",
       "      <td>1</td>\n",
       "      <td>2</td>\n",
       "      <td>151.5500</td>\n",
       "      <td>S</td>\n",
       "    </tr>\n",
       "    <tr>\n",
       "      <th>4</th>\n",
       "      <td>1</td>\n",
       "      <td>female</td>\n",
       "      <td>25.0000</td>\n",
       "      <td>1</td>\n",
       "      <td>2</td>\n",
       "      <td>151.5500</td>\n",
       "      <td>S</td>\n",
       "    </tr>\n",
       "    <tr>\n",
       "      <th>...</th>\n",
       "      <td>...</td>\n",
       "      <td>...</td>\n",
       "      <td>...</td>\n",
       "      <td>...</td>\n",
       "      <td>...</td>\n",
       "      <td>...</td>\n",
       "      <td>...</td>\n",
       "    </tr>\n",
       "    <tr>\n",
       "      <th>1300</th>\n",
       "      <td>3</td>\n",
       "      <td>female</td>\n",
       "      <td>14.5000</td>\n",
       "      <td>1</td>\n",
       "      <td>0</td>\n",
       "      <td>14.4542</td>\n",
       "      <td>C</td>\n",
       "    </tr>\n",
       "    <tr>\n",
       "      <th>1301</th>\n",
       "      <td>3</td>\n",
       "      <td>female</td>\n",
       "      <td>22.0000</td>\n",
       "      <td>1</td>\n",
       "      <td>0</td>\n",
       "      <td>14.4542</td>\n",
       "      <td>C</td>\n",
       "    </tr>\n",
       "    <tr>\n",
       "      <th>1302</th>\n",
       "      <td>3</td>\n",
       "      <td>male</td>\n",
       "      <td>26.5000</td>\n",
       "      <td>0</td>\n",
       "      <td>0</td>\n",
       "      <td>7.2250</td>\n",
       "      <td>C</td>\n",
       "    </tr>\n",
       "    <tr>\n",
       "      <th>1303</th>\n",
       "      <td>3</td>\n",
       "      <td>male</td>\n",
       "      <td>27.0000</td>\n",
       "      <td>0</td>\n",
       "      <td>0</td>\n",
       "      <td>7.2250</td>\n",
       "      <td>C</td>\n",
       "    </tr>\n",
       "    <tr>\n",
       "      <th>1304</th>\n",
       "      <td>3</td>\n",
       "      <td>male</td>\n",
       "      <td>29.0000</td>\n",
       "      <td>0</td>\n",
       "      <td>0</td>\n",
       "      <td>7.8750</td>\n",
       "      <td>S</td>\n",
       "    </tr>\n",
       "  </tbody>\n",
       "</table>\n",
       "<p>1305 rows × 7 columns</p>\n",
       "</div>"
      ],
      "text/plain": [
       "      pclass     sex      age  sibsp  parch      fare embarked\n",
       "0          1  female  29.0000      0      0  211.3375        S\n",
       "1          1    male   0.9167      1      2  151.5500        S\n",
       "2          1  female   2.0000      1      2  151.5500        S\n",
       "3          1    male  30.0000      1      2  151.5500        S\n",
       "4          1  female  25.0000      1      2  151.5500        S\n",
       "...      ...     ...      ...    ...    ...       ...      ...\n",
       "1300       3  female  14.5000      1      0   14.4542        C\n",
       "1301       3  female  22.0000      1      0   14.4542        C\n",
       "1302       3    male  26.5000      0      0    7.2250        C\n",
       "1303       3    male  27.0000      0      0    7.2250        C\n",
       "1304       3    male  29.0000      0      0    7.8750        S\n",
       "\n",
       "[1305 rows x 7 columns]"
      ]
     },
     "execution_count": 4,
     "metadata": {},
     "output_type": "execute_result"
    }
   ],
   "source": [
    "x = titanic\n",
    "x"
   ]
  },
  {
   "cell_type": "markdown",
   "metadata": {},
   "source": [
    "# 표본분포확인과정"
   ]
  },
  {
   "cell_type": "code",
   "execution_count": 5,
   "metadata": {
    "scrolled": true
   },
   "outputs": [
    {
     "data": {
      "image/png": "[encoded data removed]",
      "text/plain": [
       "<Figure size 864x504 with 6 Axes>"
      ]
     },
     "metadata": {
      "needs_background": "light"
     },
     "output_type": "display_data"
    }
   ],
   "source": [
    "labels = [[\"first class\", \"second class\", \"third class\"],\n",
    "          [\"male\",\"female\"],\n",
    "          [\"Southampton\",\"Cherbourg\",\"Queenstown\"]]\n",
    "colors = [\"#F6E4AD\",\"#f7e7ce\",\"#FAF2C3\"]\n",
    "\n",
    "fig, ax = plt.subplots(2,3, figsize = (12,7))\n",
    "ax = ax.flatten()\n",
    "\n",
    "for i, var in enumerate(['pclass', 'sex', 'embarked']):\n",
    "    unique, counts = np.unique(x.loc[:,var], return_counts=True)\n",
    "    ax[i].pie(counts, colors = colors, labels=labels[i],autopct = '%.1f%%',\n",
    "             startangle = 90, textprops = {'fontsize':14},\n",
    "             wedgeprops = {\"edgecolor\":\"dimgray\",'linewidth':.5})\n",
    "    ax[i].set_title(var,fontsize=14,color = 'dimgray')\n",
    "    \n",
    "\n",
    "family = (x.sibsp + x.parch + 1).value_counts(normalize=False).sort_index()\n",
    "family.plot(kind=\"bar\",ax=ax[3], color = \"#F6E4AD\", edgecolor=\"dimgray\")\n",
    "ax[3].set_title(\"family size\", fontsize=16, color=\"dimgray\")\n",
    "ax[3].grid(axis=\"y\")\n",
    "ax[3].set_ylim([0,1000])\n",
    "\n",
    "for c in ax[3].containers:\n",
    "    ax[3].bar_label(c,fmt='%.0f',padding=4, fontsize=11)\n",
    "    \n",
    "x.age.plot(kind=\"kde\",ax=ax[-2], color=\"dimgrey\",bw_method=0.2)\n",
    "ax[-2].set_xlim(0,100)\n",
    "ax[-2].text(0.35, 0.8, f\"max value:{x.age.max():.0f}\",\n",
    "           fontsize=14,color=\"dimgray\",transform=ax[-2].transAxes)\n",
    "\n",
    "ax[-2].grid(axis=\"y\")\n",
    "ax[-2].set_title(\"age\",fontsize=16,color=\"dimgray\")\n",
    "\n",
    "x.fare.plot(kind=\"kde\", ax=ax[-1], color=\"dimgrey\", bw_method=0.08)\n",
    "ax[-1].set_xlim(0,100)\n",
    "ax[-1].text(0.25, 0.8, f\"max value:{x.fare.max():.2f}\",\n",
    "           fontsize=14, color=\"dimgray\", transform=ax[-1].transAxes)\n",
    "ax[-1].grid(axis=\"y\")\n",
    "ax[-1].set_title(\"fare\",fontsize=16,color=\"dimgray\")\n",
    "\n",
    "plt.suptitle(f\"Figure 1. Demographics of the Titanic Passengers\\n\\\n",
    "Percent Survived: {100*y.astype(int).sum()/len(y):.2f}%\",fontsize=18)\n",
    "plt.tight_layout();"
   ]
  },
  {
   "cell_type": "markdown",
   "metadata": {},
   "source": [
    "# 자료정리\n",
    "\n",
    "### Dummy Variables"
   ]
  },
  {
   "cell_type": "code",
   "execution_count": 6,
   "metadata": {},
   "outputs": [
    {
     "name": "stdout",
     "output_type": "stream",
     "text": [
      "          age  sibsp  parch      fare  pclass_2  pclass_3  sex_male  \\\n",
      "0     29.0000      0      0  211.3375         0         0         0   \n",
      "1      0.9167      1      2  151.5500         0         0         1   \n",
      "2      2.0000      1      2  151.5500         0         0         0   \n",
      "3     30.0000      1      2  151.5500         0         0         1   \n",
      "4     25.0000      1      2  151.5500         0         0         0   \n",
      "...       ...    ...    ...       ...       ...       ...       ...   \n",
      "1300  14.5000      1      0   14.4542         0         1         0   \n",
      "1301  22.0000      1      0   14.4542         0         1         0   \n",
      "1302  26.5000      0      0    7.2250         0         1         1   \n",
      "1303  27.0000      0      0    7.2250         0         1         1   \n",
      "1304  29.0000      0      0    7.8750         0         1         1   \n",
      "\n",
      "      embarked_Q  embarked_S  \n",
      "0              0           1  \n",
      "1              0           1  \n",
      "2              0           1  \n",
      "3              0           1  \n",
      "4              0           1  \n",
      "...          ...         ...  \n",
      "1300           0           0  \n",
      "1301           0           0  \n",
      "1302           0           0  \n",
      "1303           0           0  \n",
      "1304           0           1  \n",
      "\n",
      "[1305 rows x 9 columns]\n"
     ]
    }
   ],
   "source": [
    "num_vars = ['age','sibsp','parch','fare']\n",
    "cat_vars = ['pclass','sex','embarked']\n",
    "\n",
    "x = pd.get_dummies(x, columns=cat_vars, drop_first=True\n",
    "                  , prefix = cat_vars)\n",
    "print(x)"
   ]
  },
  {
   "cell_type": "markdown",
   "metadata": {},
   "source": [
    "### 로그변환"
   ]
  },
  {
   "cell_type": "code",
   "execution_count": 7,
   "metadata": {},
   "outputs": [
    {
     "data": {
      "image/png": "[encoded data removed]",
      "text/plain": [
       "<Figure size 576x288 with 2 Axes>"
      ]
     },
     "metadata": {
      "needs_background": "light"
     },
     "output_type": "display_data"
    }
   ],
   "source": [
    "fig, ax = plt.subplots(1,2,figsize=(8,4))\n",
    "\n",
    "x.fare.plot(kind=\"kde\",ax=ax[0],color=\"dimgrey\",bw_method=0.08)\n",
    "ax[0].set_xlim(-10,300)\n",
    "ax[0].grid(axis=\"y\")\n",
    "ax[0].set_title(\"fare\",fontsize=14)\n",
    "\n",
    "x.fare.plot(kind=\"kde\",ax=ax[1],color=\"dimgrey\",bw_method=0.08)\n",
    "ax[1].set_xscale('log')\n",
    "ax[1].grid(axis=\"y\")\n",
    "ax[1].set_title(\"fare in log scale\", fontsize=14)\n",
    "\n",
    "fig.tight_layout()"
   ]
  },
  {
   "cell_type": "markdown",
   "metadata": {},
   "source": [
    "### 다중공선성"
   ]
  },
  {
   "cell_type": "code",
   "execution_count": 8,
   "metadata": {},
   "outputs": [
    {
     "data": {
      "image/png": "[encoded data removed]",
      "text/plain": [
       "<Figure size 576x576 with 1 Axes>"
      ]
     },
     "metadata": {
      "needs_background": "light"
     },
     "output_type": "display_data"
    }
   ],
   "source": [
    "import seaborn as sns\n",
    "\n",
    "plt.figure(figsize=(8,8))\n",
    "plt.yticks(rotation=0)\n",
    "sns.set(font_scale=1)\n",
    "heatmap = sns.heatmap(x.corr(),vmin=-1,vmax=1,annot=True,square=True,cmap='coolwarm',cbar=False)\n",
    "heatmap.set_title('Figure 3. Correlations of Features', fontdict={'fontsize':18},pad=12)\n",
    "sns.reset_orig()"
   ]
  },
  {
   "cell_type": "code",
   "execution_count": 11,
   "metadata": {},
   "outputs": [
    {
     "data": {
      "text/html": [
       "<div>\n",
       "<style scoped>\n",
       "    .dataframe tbody tr th:only-of-type {\n",
       "        vertical-align: middle;\n",
       "    }\n",
       "\n",
       "    .dataframe tbody tr th {\n",
       "        vertical-align: top;\n",
       "    }\n",
       "\n",
       "    .dataframe thead th {\n",
       "        text-align: right;\n",
       "    }\n",
       "</style>\n",
       "<table border=\"1\" class=\"dataframe\">\n",
       "  <thead>\n",
       "    <tr style=\"text-align: right;\">\n",
       "      <th></th>\n",
       "      <th>vif fare</th>\n",
       "      <th>vif log_fare</th>\n",
       "    </tr>\n",
       "  </thead>\n",
       "  <tbody>\n",
       "    <tr>\n",
       "      <th>const</th>\n",
       "      <td>24.007705</td>\n",
       "      <td>110.969112</td>\n",
       "    </tr>\n",
       "    <tr>\n",
       "      <th>age</th>\n",
       "      <td>1.258118</td>\n",
       "      <td>1.259711</td>\n",
       "    </tr>\n",
       "    <tr>\n",
       "      <th>sibsp</th>\n",
       "      <td>1.235813</td>\n",
       "      <td>1.544288</td>\n",
       "    </tr>\n",
       "    <tr>\n",
       "      <th>parch</th>\n",
       "      <td>1.279155</td>\n",
       "      <td>1.472668</td>\n",
       "    </tr>\n",
       "    <tr>\n",
       "      <th>fare</th>\n",
       "      <td>1.811195</td>\n",
       "      <td>NaN</td>\n",
       "    </tr>\n",
       "    <tr>\n",
       "      <th>log_fare</th>\n",
       "      <td>NaN</td>\n",
       "      <td>4.776524</td>\n",
       "    </tr>\n",
       "    <tr>\n",
       "      <th>pclass_2</th>\n",
       "      <td>2.141427</td>\n",
       "      <td>2.991318</td>\n",
       "    </tr>\n",
       "    <tr>\n",
       "      <th>pclass_3</th>\n",
       "      <td>2.876941</td>\n",
       "      <td>6.213554</td>\n",
       "    </tr>\n",
       "    <tr>\n",
       "      <th>sex_male</th>\n",
       "      <td>1.112237</td>\n",
       "      <td>1.124350</td>\n",
       "    </tr>\n",
       "    <tr>\n",
       "      <th>embarked_Q</th>\n",
       "      <td>1.499836</td>\n",
       "      <td>1.507135</td>\n",
       "    </tr>\n",
       "    <tr>\n",
       "      <th>embarked_S</th>\n",
       "      <td>1.501355</td>\n",
       "      <td>1.495417</td>\n",
       "    </tr>\n",
       "  </tbody>\n",
       "</table>\n",
       "</div>"
      ],
      "text/plain": [
       "             vif fare  vif log_fare\n",
       "const       24.007705    110.969112\n",
       "age          1.258118      1.259711\n",
       "sibsp        1.235813      1.544288\n",
       "parch        1.279155      1.472668\n",
       "fare         1.811195           NaN\n",
       "log_fare          NaN      4.776524\n",
       "pclass_2     2.141427      2.991318\n",
       "pclass_3     2.876941      6.213554\n",
       "sex_male     1.112237      1.124350\n",
       "embarked_Q   1.499836      1.507135\n",
       "embarked_S   1.501355      1.495417"
      ]
     },
     "execution_count": 11,
     "metadata": {},
     "output_type": "execute_result"
    }
   ],
   "source": [
    "import statsmodels.api as sm\n",
    "from statsmodels.stats.outliers_influence import variance_inflation_factor\n",
    "\n",
    "def vif(features):\n",
    "    features=sm.add_constant(features)\n",
    "    features.dropna(inplace=True)\n",
    "    \n",
    "    vif = pd.DataFrame([variance_inflation_factor(features.values, i)\n",
    "                       for i in range(features.shape[1])],columns=['VIF'])\n",
    "    vif.index = features.columns\n",
    "    return vif\n",
    "\n",
    "x_log = x.copy()\n",
    "x_log['log_fare'] = np.log(x['fare'])\n",
    "#com log scale\n",
    "\n",
    "x_log.drop('fare',axis=1,inplace=True)\n",
    "x_log = x_log[['age','sibsp','parch','log_fare','pclass_2','pclass_3','sex_male',\n",
    "               'embarked_Q','embarked_S']]\n",
    "\n",
    "VIF = pd.concat([vif(x),vif(x_log)],axis=1)\n",
    "VIF = VIF.loc[['const','age','sibsp','parch','fare','log_fare',\n",
    "              'pclass_2','pclass_3','sex_male',\n",
    "              'embarked_Q','embarked_S'],:]\n",
    "VIF.columns = ['vif fare','vif log_fare']\n",
    "VIF\n"
   ]
  },
  {
   "cell_type": "markdown",
   "metadata": {},
   "source": [
    "# Classification"
   ]
  },
  {
   "cell_type": "code",
   "execution_count": 12,
   "metadata": {},
   "outputs": [],
   "source": [
    "from sklearn.model_selection import train_test_split\n",
    "\n",
    "#Split data\n",
    "X= sm.add_constant(x_log)# Add Constant\n",
    "X_train, X_test, y_train, y_test = train_test_split(X,y,test_size=0.4, random_state=42)"
   ]
  },
  {
   "cell_type": "code",
   "execution_count": null,
   "metadata": {},
   "outputs": [],
   "source": [
    "import statsmodels.api as sm\n",
    "\n",
    "ols = sm.OLS(y_train,X_train).fit()\n",
    "\n",
    "y_fit = np.clip(ols.fittedvalues, 1e-9,1-1e-9)\n",
    "w= np.sqrt(y_fit*(1-y_fit))\n",
    "\n",
    "wls = sm.WLS(y_train,X_train, weights=1/w).fit()\n",
    "#in WLS ciiping error is included\n",
    "logit = sm.Logit(y_train,X_train).fit()\n",
    "# Logistic regression is more robust than OLS inspect of threshold"
   ]
  },
  {
   "cell_type": "code",
   "execution_count": null,
   "metadata": {},
   "outputs": [],
   "source": [
    "from statsmodels.iolib.summary2 import summary_col\n",
    "\n",
    "ols_comp = [ols, wls, logit]\n",
    "model_names =['OLS','WLS','Logistic']\n",
    "\n",
    "regressions = summary_col(results = ols_comp,\n",
    "                         model_names = model_names,\n",
    "                          regressor_order = ['age','sibsp','parch','log_fare','pclass_2','pclass_3',\n",
    "                                            'sex_male','embarked_Q','embarked_S'],\n",
    "                          float_format='%0.3f',stars=True)\n",
    "\n",
    "regressions.add_title('Classification Models of Titanic Data')\n",
    "print(regressions)"
   ]
  },
  {
   "cell_type": "code",
   "execution_count": null,
   "metadata": {},
   "outputs": [],
   "source": [
    "logit.get_margeff(at='mean').summary()"
   ]
  },
  {
   "cell_type": "code",
   "execution_count": null,
   "metadata": {},
   "outputs": [],
   "source": [
    "from sklearn.metrics import ConfusionMatrixDisplay\n",
    "\n",
    "fig, ax = plt.subplots(1,3,figsize=(10,4),sharey=True)\n",
    "\n",
    "plt.rcParams.update({'font.size':14})\n",
    "\n",
    "for i,est in enumerate([ols,wls,logit]):\n",
    "    y_fit = est.predict(X_train) >.5\n",
    "    ConfusionMatrixDisplay.from_predictions(y_train, y_fit, ax=ax[i],\n",
    "                                           display_labels=['Died','Survived'],\n",
    "                                           cmap = plt.cm.Oranges,\n",
    "                                           colorbar=False)\n",
    "    acc = sum(y_train == y_fit.astype(int))/len(y_fit)\n",
    "    \n",
    "    ax[i].set_title(f'{model_names[i]},acc={acc:.1%}',fontsize=14)\n",
    "    \n",
    "fig.suptitle('Training Data, Threshold=0.5',fontsize=16)\n",
    "fig.tight_layout()"
   ]
  },
  {
   "cell_type": "code",
   "execution_count": 1,
   "metadata": {},
   "outputs": [
    {
     "ename": "NameError",
     "evalue": "name 'plt' is not defined",
     "output_type": "error",
     "traceback": [
      "\u001b[0;31m---------------------------------------------------------------------------\u001b[0m",
      "\u001b[0;31mNameError\u001b[0m                                 Traceback (most recent call last)",
      "Input \u001b[0;32mIn [1]\u001b[0m, in \u001b[0;36m<cell line: 3>\u001b[0;34m()\u001b[0m\n\u001b[1;32m      1\u001b[0m \u001b[38;5;28;01mfrom\u001b[39;00m \u001b[38;5;21;01msklearn\u001b[39;00m\u001b[38;5;21;01m.\u001b[39;00m\u001b[38;5;21;01mmetrics\u001b[39;00m \u001b[38;5;28;01mimport\u001b[39;00m ConfusionMatrixDisplay\n\u001b[0;32m----> 3\u001b[0m fig, ax \u001b[38;5;241m=\u001b[39m \u001b[43mplt\u001b[49m\u001b[38;5;241m.\u001b[39msubplots(\u001b[38;5;241m1\u001b[39m,\u001b[38;5;241m3\u001b[39m,figsize\u001b[38;5;241m=\u001b[39m(\u001b[38;5;241m10\u001b[39m,\u001b[38;5;241m4\u001b[39m),sharey\u001b[38;5;241m=\u001b[39m\u001b[38;5;28;01mTrue\u001b[39;00m)\n\u001b[1;32m      5\u001b[0m plt\u001b[38;5;241m.\u001b[39mrcParams\u001b[38;5;241m.\u001b[39mupdate({\u001b[38;5;124m'\u001b[39m\u001b[38;5;124mfont.size\u001b[39m\u001b[38;5;124m'\u001b[39m:\u001b[38;5;241m14\u001b[39m})\n\u001b[1;32m      7\u001b[0m \u001b[38;5;28;01mfor\u001b[39;00m i,est \u001b[38;5;129;01min\u001b[39;00m \u001b[38;5;28menumerate\u001b[39m([ols,wls,logit]):\n",
      "\u001b[0;31mNameError\u001b[0m: name 'plt' is not defined"
     ]
    }
   ],
   "source": [
    "from sklearn.metrics import ConfusionMatrixDisplay\n",
    "\n",
    "fig, ax = plt.subplots(1,3,figsize=(10,4),sharey=True)\n",
    "\n",
    "plt.rcParams.update({'font.size':14})\n",
    "\n",
    "for i,est in enumerate([ols,wls,logit]):\n",
    "    y_fit = est.predict(X_train) >.57\n",
    "    ConfusionMatrixDisplay.from_predictions(y_train, y_fit, ax=ax[i],\n",
    "                                           display_labels=['Died','Survived'],\n",
    "                                           cmap = plt.cm.Oranges,\n",
    "                                           colorbar=False)\n",
    "    acc = sum(y_train == y_fit.astype(int))/len(y_fit)\n",
    "    \n",
    "    ax[i].set_title(f'{model_names[i]},acc={acc:.1%}',fontsize=14)\n",
    "    \n",
    "fig.suptitle('Training Data, Threshold=0.5',fontsize=16)\n",
    "fig.tight_layout()"
   ]
  },
  {
   "cell_type": "markdown",
   "metadata": {},
   "source": [
    "### Test"
   ]
  },
  {
   "cell_type": "code",
   "execution_count": null,
   "metadata": {},
   "outputs": [],
   "source": [
    "from sklearn.metrics import ConfusionMatrixDisplay\n",
    "\n",
    "fig, ax = plt.subplots(1,3,figsize=(10,4),sharey=True)\n",
    "\n",
    "#plt.rcParams.update({'font.size':14})\n",
    "\n",
    "for i,est in enumerate([ols,wls,logit]):\n",
    "    y_pred = est.predict(X_train) >.5\n",
    "    ConfusionMatrixDisplay.from_predictions(y_test, y_pred, ax=ax[i],\n",
    "                                           display_labels=['Died','Survived'],\n",
    "                                           cmap = plt.cm.Oranges,\n",
    "                                           colorbar=False)\n",
    "    acc = sum(y_train == y_fit.astype(int))/len(y_pred)\n",
    "    \n",
    "    ax[i].set_title(f'{model_names[i]},acc={acc:.1%}',fontsize=14)\n",
    "    \n",
    "fig.suptitle('Training Data, Threshold=0.5',fontsize=16)\n",
    "fig.tight_layout()"
   ]
  },
  {
   "cell_type": "code",
   "execution_count": null,
   "metadata": {},
   "outputs": [],
   "source": [
    "from sklearn.metrics import ConfusionMatrixDisplay\n",
    "\n",
    "fig, ax = plt.subplots(1,3,figsize=(10,4),sharey=True)\n",
    "\n",
    "#plt.rcParams.update({'font.size':14})\n",
    "\n",
    "for i,est in enumerate([ols,wls,logit]):\n",
    "    y_pred = est.predict(X_train) >.57\n",
    "    ConfusionMatrixDisplay.from_predictions(y_test, y_pred, ax=ax[i],\n",
    "                                           display_labels=['Died','Survived'],\n",
    "                                           cmap = plt.cm.Oranges,\n",
    "                                           colorbar=False)\n",
    "    acc = sum(y_train == y_fit.astype(int))/len(y_pred)\n",
    "    \n",
    "    ax[i].set_title(f'{model_names[i]},acc={acc:.1%}',fontsize=14)\n",
    "    \n",
    "fig.suptitle('Training Data, Threshold=0.5',fontsize=16)\n",
    "fig.tight_layout()"
   ]
  },
  {
   "cell_type": "code",
   "execution_count": null,
   "metadata": {},
   "outputs": [],
   "source": []
  },
  {
   "cell_type": "code",
   "execution_count": null,
   "metadata": {},
   "outputs": [],
   "source": []
  },
  {
   "cell_type": "code",
   "execution_count": null,
   "metadata": {},
   "outputs": [],
   "source": []
  },
  {
   "cell_type": "code",
   "execution_count": null,
   "metadata": {},
   "outputs": [],
   "source": [
    "for c in ax[3].containers:\n",
    "    ax[3].bar_label(c,fmt='%.0f',padding=4, fontsize=11)\n",
    "    \n",
    "x.age.plot(kind=\"kde\",ax=ax[-2], color=\"dimgrey\",bw_method=0.2)\n",
    "ax[-2].set_xlim(0,100)\n",
    "ax[-2].text(0.35, 0.8, f\"max value:{x.age.max():.0f}\",\n",
    "           fontsize=14,color=\"dimgray\",transform=ax[-2].transAxes)\n",
    "\n",
    "ax[-2].grid(axis=\"y\")\n",
    "ax[-2].set_title(\"age\",fontsize=16,color=\"dimgray\")\n",
    "\n",
    "x.fare.plot(kind=\"kde\", ax=ax[-1], color=\"dimgrey\", bw_method=0.08)\n",
    "ax[-1].set_xlim(0,100)\n",
    "ax[-1].text(0.25, 0.8, f\"max value:{x.fare.max():.2f}\",\n",
    "           fontsize=14, color=\"dimgray\", transform=ax[-1].transAxes)\n",
    "ax[-1].grid(axis=\"y\")\n",
    "ax[-1].set_title(\"fare\",fontsize=16,color=\"dimgray\")\n",
    "\n",
    "plt.suptitle(f\"Figure 1. Demographics of the Titanic Passengers\\n\\\n",
    "Percent Survived: {100*y.astype(int).sum()/len(y):.2f}%\",fontsize=18)\n",
    "plt.tight_layout();"
   ]
  },
  {
   "cell_type": "markdown",
   "metadata": {},
   "source": [
    "## 자료정리"
   ]
  },
  {
   "cell_type": "code",
   "execution_count": null,
   "metadata": {},
   "outputs": [],
   "source": [
    "df[\"sex\"] = df[\"sex\"].map({'male':0,'female':1})"
   ]
  },
  {
   "cell_type": "code",
   "execution_count": null,
   "metadata": {
    "scrolled": true
   },
   "outputs": [],
   "source": [
    "# null 데이터유무를 확인\n",
    "df.isnull().sum()"
   ]
  },
  {
   "cell_type": "code",
   "execution_count": null,
   "metadata": {},
   "outputs": [],
   "source": [
    "#좌석에 대한 정보 확인. 1:First Class, 2:Business Class, 3: Else\n",
    "df['pclass']"
   ]
  },
  {
   "cell_type": "code",
   "execution_count": null,
   "metadata": {},
   "outputs": [],
   "source": [
    "#Dummy Data 생성\n",
    "dummies = pd.get_dummies(df['pclass'])\n",
    "dummies.rename(columns = {1:'FirstClass',2:'SecondClass',3:'Etc'},inplace= True)\n",
    "\n",
    "del df['pclass'] # Delete Original Data\n",
    "df = pd.concat([df,dummies],axis=1,join='inner')\n",
    "df"
   ]
  },
  {
   "cell_type": "code",
   "execution_count": null,
   "metadata": {
    "scrolled": true
   },
   "outputs": [],
   "source": []
  },
  {
   "cell_type": "code",
   "execution_count": null,
   "metadata": {},
   "outputs": [],
   "source": [
    "#features = df[['age','']]"
   ]
  },
  {
   "cell_type": "code",
   "execution_count": null,
   "metadata": {},
   "outputs": [],
   "source": [
    "#연속형 데이터\n",
    "df.iloc[:,:16].hist(figsize=(30,20))\n",
    "plt.show()"
   ]
  },
  {
   "cell_type": "code",
   "execution_count": null,
   "metadata": {},
   "outputs": [],
   "source": [
    "#범주형데이터\n"
   ]
  },
  {
   "cell_type": "code",
   "execution_count": null,
   "metadata": {},
   "outputs": [],
   "source": [
    "from pandas.plotting import scatter_matrix\n",
    "scatter_matrix(df,figsize=[12,8])\n",
    "plt.show()"
   ]
  },
  {
   "cell_type": "markdown",
   "metadata": {},
   "source": [
    "1. 회귀 선이 (0,0)을 지나야 할 때, 입력과 출력 모두 로그 변환이 요구된다.\n",
    "2. 만약에 변수가 상대적인 스케일에 있을 때, 또는 퍼센트로 된 스케일이 있다면 로그 변환이 요구 된다.\n",
    "3. 변수들이 왼쪽 끝에서 0이고, 오른쪽에서는 이론적으로 임의의 큰 값을 상대적인 스케일에서 가질 때\n",
    "4. 만약에 변수에 대한 Marginal분포가 우리가 히스토그램으로부터 관찰할 수 있듯이, 명백하게 오른쪽으로 기울어져 있다면, 이것은 종종 상대적인 스케일에서의 양수의 변수의 케이스가 되고, 따라서, 로그 변환이 요구 된다."
   ]
  },
  {
   "cell_type": "code",
   "execution_count": null,
   "metadata": {},
   "outputs": [],
   "source": [
    "#로그 변환\n",
    "df_adjusted = df\n",
    "df_adjusted['logFare'] = np.log(df['fare'])"
   ]
  },
  {
   "cell_type": "code",
   "execution_count": null,
   "metadata": {},
   "outputs": [],
   "source": [
    "#로그 변환 후 확인\n",
    "scatter_matrix(df_adjusted,figsize=[12,8])\n",
    "plt.show()"
   ]
  },
  {
   "cell_type": "code",
   "execution_count": null,
   "metadata": {},
   "outputs": [],
   "source": [
    "#df_adjusted['survived'] = df['survived'].astype(object)\n",
    "#df_adjusted['pclass'] = df['pclass'].astype(object)"
   ]
  },
  {
   "cell_type": "code",
   "execution_count": null,
   "metadata": {},
   "outputs": [],
   "source": [
    "df_adjusted.dtypes\n",
    "#dataColumns = df.columns\n",
    "#dataColumns = ['age','sex','sibsp','parch','logFare','FirstClass','SecondClass','Etc']\n",
    "dataColumns = ['age','sibsp','parch','FirstClass','SecondClass','Etc']\n",
    "df_data = df[dataColumns]"
   ]
  },
  {
   "cell_type": "code",
   "execution_count": null,
   "metadata": {},
   "outputs": [],
   "source": [
    "scatter_matrix(df_data,figsize=[12,8])\n",
    "plt.show()"
   ]
  },
  {
   "cell_type": "markdown",
   "metadata": {},
   "source": [
    "다중공선성에 관하여\n",
    "\n",
    "설명변수들의 상관관계를 파악하고 있으면 추정결과를 해석하는데 도움이 된다.\n",
    "다중공선성은 소표본에서 추정량의 분산을 크게 하거나 overfitting의 원인이 될 수 있다.\n",
    "\n",
    "Feature사이의 전반적인 관계는 'variance inflation factor', 개별 변수 둘 사이의 관계는 correlation coefficient로 확인한다."
   ]
  },
  {
   "cell_type": "code",
   "execution_count": null,
   "metadata": {},
   "outputs": [],
   "source": [
    "df_data.info()"
   ]
  },
  {
   "cell_type": "code",
   "execution_count": null,
   "metadata": {},
   "outputs": [],
   "source": [
    "from statsmodels.stats.outliers_influence import variance_inflation_factor\n",
    "vif = pd.DataFrame()\n",
    "vif[\"VIF Factor\"] = [variance_inflation_factor(df_data.values, i) for i in range(df_data.shape[1])]\n",
    "vif[\"Features\"] = df_data.columns\n",
    "vif"
   ]
  },
  {
   "cell_type": "markdown",
   "metadata": {},
   "source": [
    "VIF가 10이 넘는 항목은 존재하지 않으므로 다중공선성 위험이 낮다고 볼 수 있다.\n"
   ]
  },
  {
   "cell_type": "code",
   "execution_count": null,
   "metadata": {},
   "outputs": [],
   "source": [
    "# correlcaton coefficient\n",
    "dataCorr = df_data.corr()"
   ]
  },
  {
   "cell_type": "code",
   "execution_count": null,
   "metadata": {
    "scrolled": true
   },
   "outputs": [],
   "source": [
    "dataCorr"
   ]
  },
  {
   "cell_type": "markdown",
   "metadata": {},
   "source": [
    "위 결과를 보아 Fare를 제외하고는 큰 상관관계가 없다고 가정할 수 있을것 같다."
   ]
  },
  {
   "cell_type": "markdown",
   "metadata": {},
   "source": [
    "# Classification"
   ]
  },
  {
   "cell_type": "code",
   "execution_count": null,
   "metadata": {},
   "outputs": [],
   "source": [
    "#Training Data 와 Test Data로 나눈다.\n"
   ]
  },
  {
   "cell_type": "code",
   "execution_count": null,
   "metadata": {},
   "outputs": [],
   "source": [
    "target = df['survived']"
   ]
  },
  {
   "cell_type": "code",
   "execution_count": null,
   "metadata": {},
   "outputs": [],
   "source": [
    "#from sklearn.model_selection import train_test_split\n",
    "\n",
    "#train_set, test_set = train_test_split(df_data, test_size=0.2,random_state=42)\n",
    "#train_set, test_set = train_test_split(df_data, test_size=0.2,random_state=42)\n",
    "##train_set, test_set = train_test_split(df_data, test_size=0.2,random_state=42)"
   ]
  },
  {
   "cell_type": "code",
   "execution_count": null,
   "metadata": {},
   "outputs": [],
   "source": [
    "#from sklearn.model_selection import train_test_split\n",
    "\n",
    "#train_features, test_features, train_labels, test_labels = train_test_split(features, survival,test_size=0.2,random_state=42)\n"
   ]
  },
  {
   "cell_type": "code",
   "execution_count": null,
   "metadata": {},
   "outputs": [],
   "source": [
    "from sklearn.model_selection import train_test_split\n",
    "\n",
    "train_set, test_set, train_target, test_target = train_test_split(df_data, target, test_size=0.2,random_state=42)"
   ]
  },
  {
   "cell_type": "code",
   "execution_count": null,
   "metadata": {},
   "outputs": [],
   "source": [
    "#feature 분리하기\n",
    "#dummies = pd.get_dummies(df['pclass'])"
   ]
  },
  {
   "cell_type": "code",
   "execution_count": null,
   "metadata": {},
   "outputs": [],
   "source": [
    "from sklearn.linear_model import LogisticRegression\n",
    "lr = LogisticRegression()\n",
    "lr.fit(train_set, train_target)"
   ]
  },
  {
   "cell_type": "code",
   "execution_count": null,
   "metadata": {
    "scrolled": true
   },
   "outputs": [],
   "source": [
    "print(np.array_equal(lr.predict(test_set), test_target))"
   ]
  },
  {
   "cell_type": "code",
   "execution_count": null,
   "metadata": {},
   "outputs": [],
   "source": [
    "tmp1= lr.predict(test_set)\n",
    "tmp2 = np.ravel(tmp1)\n",
    "#np.array_equal(tmp2,test_target)\n",
    "resultCompare = tmp2 == test_target\n",
    "\n",
    "print(sum(bool(x) for x in resultCompare))\n",
    "print(sum(bool(x==False) for x in resultCompare))"
   ]
  },
  {
   "cell_type": "code",
   "execution_count": null,
   "metadata": {},
   "outputs": [],
   "source": [
    "print(df_data.head(0))\n",
    "print(lr.coef_)"
   ]
  },
  {
   "cell_type": "code",
   "execution_count": null,
   "metadata": {},
   "outputs": [],
   "source": []
  },
  {
   "cell_type": "markdown",
   "metadata": {},
   "source": [
    "# 보험사 모형 선택\n",
    "\n",
    "### * 보험사에선 이 분석 결과를 이용해 개인들의 특성에 기초한. 여행자보험상품을 만들려고 한다.\n",
    "### * 여행자보험시장이 경쟁적이라고 할 때 보험사가 어떤 모형을 선택하는 것이 바람직한지 설명하라"
   ]
  },
  {
   "cell_type": "code",
   "execution_count": null,
   "metadata": {},
   "outputs": [],
   "source": []
  },
  {
   "cell_type": "code",
   "execution_count": null,
   "metadata": {},
   "outputs": [],
   "source": []
  }
 ],
 "metadata": {
  "kernelspec": {
   "display_name": "Python 3 (ipykernel)",
   "language": "python",
   "name": "python3"
  },
  "language_info": {
   "codemirror_mode": {
    "name": "ipython",
    "version": 3
   },
   "file_extension": ".py",
   "mimetype": "text/x-python",
   "name": "python",
   "nbconvert_exporter": "python",
   "pygments_lexer": "ipython3",
   "version": "3.8.5"
  }
 },
 "nbformat": 4,
 "nbformat_minor": 2
}
