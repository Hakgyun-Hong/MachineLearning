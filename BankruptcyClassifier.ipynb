{
  "cells": [
    {
      "cell_type": "markdown",
      "metadata": {
        "id": "view-in-github",
        "colab_type": "text"
      },
      "source": [
        "<a href=\"https://colab.research.google.com/github/Hakgyun-Hong/MachineLearning/blob/master/BankruptcyClassifier.ipynb\" target=\"_parent\"><img src=\"https://colab.research.google.com/assets/colab-badge.svg\" alt=\"Open In Colab\"/></a>"
      ]
    },
    {
      "cell_type": "code",
      "execution_count": 1,
      "id": "51149b10",
      "metadata": {
        "id": "51149b10"
      },
      "outputs": [],
      "source": [
        "import numpy as np\n",
        "import pandas as pd\n",
        "\n",
        "import matplotlib.pyplot as plt\n",
        "import seaborn as sns\n"
      ]
    },
    {
      "cell_type": "code",
      "source": [
        "!pip install lightgbm\n",
        "!pip3 install bayesian-optimization\n",
        "!pip install shap"
      ],
      "metadata": {
        "colab": {
          "base_uri": "https://localhost:8080/"
        },
        "id": "tCBZ8P-KSsuh",
        "outputId": "4f80c0af-d300-493e-8e96-860ca69f49f6"
      },
      "id": "tCBZ8P-KSsuh",
      "execution_count": 2,
      "outputs": [
        {
          "output_type": "stream",
          "name": "stdout",
          "text": [
            "Looking in indexes: https://pypi.org/simple, https://us-python.pkg.dev/colab-wheels/public/simple/\n",
            "Requirement already satisfied: lightgbm in /usr/local/lib/python3.8/dist-packages (2.2.3)\n",
            "Requirement already satisfied: scipy in /usr/local/lib/python3.8/dist-packages (from lightgbm) (1.7.3)\n",
            "Requirement already satisfied: scikit-learn in /usr/local/lib/python3.8/dist-packages (from lightgbm) (1.0.2)\n",
            "Requirement already satisfied: numpy in /usr/local/lib/python3.8/dist-packages (from lightgbm) (1.22.4)\n",
            "Requirement already satisfied: joblib>=0.11 in /usr/local/lib/python3.8/dist-packages (from scikit-learn->lightgbm) (1.2.0)\n",
            "Requirement already satisfied: threadpoolctl>=2.0.0 in /usr/local/lib/python3.8/dist-packages (from scikit-learn->lightgbm) (3.1.0)\n",
            "Looking in indexes: https://pypi.org/simple, https://us-python.pkg.dev/colab-wheels/public/simple/\n",
            "Collecting bayesian-optimization\n",
            "  Downloading bayesian_optimization-1.4.2-py3-none-any.whl (17 kB)\n",
            "Requirement already satisfied: scipy>=1.0.0 in /usr/local/lib/python3.8/dist-packages (from bayesian-optimization) (1.7.3)\n",
            "Requirement already satisfied: scikit-learn>=0.18.0 in /usr/local/lib/python3.8/dist-packages (from bayesian-optimization) (1.0.2)\n",
            "Requirement already satisfied: numpy>=1.9.0 in /usr/local/lib/python3.8/dist-packages (from bayesian-optimization) (1.22.4)\n",
            "Collecting colorama>=0.4.6\n",
            "  Downloading colorama-0.4.6-py2.py3-none-any.whl (25 kB)\n",
            "Requirement already satisfied: joblib>=0.11 in /usr/local/lib/python3.8/dist-packages (from scikit-learn>=0.18.0->bayesian-optimization) (1.2.0)\n",
            "Requirement already satisfied: threadpoolctl>=2.0.0 in /usr/local/lib/python3.8/dist-packages (from scikit-learn>=0.18.0->bayesian-optimization) (3.1.0)\n",
            "Installing collected packages: colorama, bayesian-optimization\n",
            "Successfully installed bayesian-optimization-1.4.2 colorama-0.4.6\n",
            "Looking in indexes: https://pypi.org/simple, https://us-python.pkg.dev/colab-wheels/public/simple/\n",
            "Collecting shap\n",
            "  Downloading shap-0.41.0-cp38-cp38-manylinux_2_12_x86_64.manylinux2010_x86_64.whl (575 kB)\n",
            "\u001b[2K     \u001b[90m━━━━━━━━━━━━━━━━━━━━━━━━━━━━━━━━━━━━━━\u001b[0m \u001b[32m575.9/575.9 KB\u001b[0m \u001b[31m30.8 MB/s\u001b[0m eta \u001b[36m0:00:00\u001b[0m\n",
            "\u001b[?25hRequirement already satisfied: cloudpickle in /usr/local/lib/python3.8/dist-packages (from shap) (2.2.1)\n",
            "Requirement already satisfied: tqdm>4.25.0 in /usr/local/lib/python3.8/dist-packages (from shap) (4.64.1)\n",
            "Requirement already satisfied: scikit-learn in /usr/local/lib/python3.8/dist-packages (from shap) (1.0.2)\n",
            "Requirement already satisfied: scipy in /usr/local/lib/python3.8/dist-packages (from shap) (1.7.3)\n",
            "Collecting slicer==0.0.7\n",
            "  Downloading slicer-0.0.7-py3-none-any.whl (14 kB)\n",
            "Requirement already satisfied: numba in /usr/local/lib/python3.8/dist-packages (from shap) (0.56.4)\n",
            "Requirement already satisfied: pandas in /usr/local/lib/python3.8/dist-packages (from shap) (1.3.5)\n",
            "Requirement already satisfied: packaging>20.9 in /usr/local/lib/python3.8/dist-packages (from shap) (23.0)\n",
            "Requirement already satisfied: numpy in /usr/local/lib/python3.8/dist-packages (from shap) (1.22.4)\n",
            "Requirement already satisfied: llvmlite<0.40,>=0.39.0dev0 in /usr/local/lib/python3.8/dist-packages (from numba->shap) (0.39.1)\n",
            "Requirement already satisfied: importlib-metadata in /usr/local/lib/python3.8/dist-packages (from numba->shap) (6.0.0)\n",
            "Requirement already satisfied: setuptools in /usr/local/lib/python3.8/dist-packages (from numba->shap) (57.4.0)\n",
            "Requirement already satisfied: pytz>=2017.3 in /usr/local/lib/python3.8/dist-packages (from pandas->shap) (2022.7.1)\n",
            "Requirement already satisfied: python-dateutil>=2.7.3 in /usr/local/lib/python3.8/dist-packages (from pandas->shap) (2.8.2)\n",
            "Requirement already satisfied: joblib>=0.11 in /usr/local/lib/python3.8/dist-packages (from scikit-learn->shap) (1.2.0)\n",
            "Requirement already satisfied: threadpoolctl>=2.0.0 in /usr/local/lib/python3.8/dist-packages (from scikit-learn->shap) (3.1.0)\n",
            "Requirement already satisfied: six>=1.5 in /usr/local/lib/python3.8/dist-packages (from python-dateutil>=2.7.3->pandas->shap) (1.15.0)\n",
            "Requirement already satisfied: zipp>=0.5 in /usr/local/lib/python3.8/dist-packages (from importlib-metadata->numba->shap) (3.15.0)\n",
            "Installing collected packages: slicer, shap\n",
            "Successfully installed shap-0.41.0 slicer-0.0.7\n"
          ]
        }
      ]
    },
    {
      "cell_type": "code",
      "execution_count": 3,
      "id": "78f62f18",
      "metadata": {
        "id": "78f62f18"
      },
      "outputs": [],
      "source": [
        "# Preprocessing\n",
        "from sklearn.model_selection import train_test_split, KFold\n",
        "from sklearn.preprocessing import LabelEncoder\n",
        "\n",
        "# Metrics \n",
        "from sklearn.metrics import confusion_matrix\n",
        "from sklearn.metrics import plot_confusion_matrix\n",
        "from sklearn.metrics import precision_recall_fscore_support\n",
        "from sklearn.metrics import classification_report,accuracy_score, recall_score, roc_auc_score, precision_score\n",
        "from sklearn.metrics import roc_curve, auc\n",
        "\n",
        "# ML Models\n",
        "from sklearn.linear_model import LogisticRegression\n",
        "from sklearn.ensemble import RandomForestClassifier\n",
        "import xgboost as xgb\n",
        "import lightgbm as lgb\n",
        "from lightgbm import LGBMClassifier \n",
        "\n",
        "# Model Tuning \n",
        "from bayes_opt import BayesianOptimization\n",
        "\n",
        "# Feature Importance \n",
        "import shap\n",
        "\n",
        "# Ignore Warnings \n",
        "import warnings\n",
        "warnings.filterwarnings('ignore')"
      ]
    },
    {
      "cell_type": "code",
      "execution_count": 4,
      "id": "42a2c478",
      "metadata": {
        "id": "42a2c478"
      },
      "outputs": [],
      "source": [
        "#!pip install lightgbm\n",
        "#!pip3 install bayesian-optimization\n",
        "#!pip install shap"
      ]
    },
    {
      "cell_type": "markdown",
      "id": "40d7d83c",
      "metadata": {
        "id": "40d7d83c"
      },
      "source": [
        "# Import data"
      ]
    },
    {
      "cell_type": "code",
      "execution_count": 5,
      "id": "dfbb7dbe",
      "metadata": {
        "id": "dfbb7dbe"
      },
      "outputs": [],
      "source": [
        "data_csv = pd.read_csv('/content/DataSet/data.csv')"
      ]
    },
    {
      "cell_type": "code",
      "execution_count": 6,
      "id": "10318db8",
      "metadata": {
        "colab": {
          "base_uri": "https://localhost:8080/"
        },
        "id": "10318db8",
        "outputId": "5b3ee875-1163-43b1-87c2-31cfb5b787a1"
      },
      "outputs": [
        {
          "output_type": "stream",
          "name": "stdout",
          "text": [
            "<class 'pandas.core.frame.DataFrame'>\n",
            "RangeIndex: 6819 entries, 0 to 6818\n",
            "Data columns (total 96 columns):\n",
            " #   Column  Non-Null Count  Dtype  \n",
            "---  ------  --------------  -----  \n",
            " 0   Y       6819 non-null   int64  \n",
            " 1   X1      6819 non-null   float64\n",
            " 2   X2      6819 non-null   float64\n",
            " 3   X3      6819 non-null   float64\n",
            " 4   X4      6819 non-null   float64\n",
            " 5   X5      6819 non-null   float64\n",
            " 6   X6      6819 non-null   float64\n",
            " 7   X7      6819 non-null   float64\n",
            " 8   X8      6819 non-null   float64\n",
            " 9   X9      6819 non-null   float64\n",
            " 10  X10     6819 non-null   float64\n",
            " 11  X11     6819 non-null   float64\n",
            " 12  X12     6819 non-null   float64\n",
            " 13  X13     6819 non-null   float64\n",
            " 14  X14     6819 non-null   float64\n",
            " 15  X15     6819 non-null   float64\n",
            " 16  X16     6819 non-null   float64\n",
            " 17  X17     6819 non-null   float64\n",
            " 18  X18     6819 non-null   float64\n",
            " 19  X19     6819 non-null   float64\n",
            " 20  X20     6819 non-null   float64\n",
            " 21  X21     6819 non-null   float64\n",
            " 22  X22     6819 non-null   float64\n",
            " 23  X23     6819 non-null   float64\n",
            " 24  X24     6819 non-null   float64\n",
            " 25  X25     6819 non-null   float64\n",
            " 26  X26     6819 non-null   float64\n",
            " 27  X27     6819 non-null   float64\n",
            " 28  X28     6819 non-null   float64\n",
            " 29  X29     6819 non-null   float64\n",
            " 30  X30     6819 non-null   float64\n",
            " 31  X31     6819 non-null   float64\n",
            " 32  X32     6819 non-null   float64\n",
            " 33  X33     6819 non-null   float64\n",
            " 34  X34     6819 non-null   float64\n",
            " 35  X35     6819 non-null   float64\n",
            " 36  X36     6819 non-null   float64\n",
            " 37  X37     6819 non-null   float64\n",
            " 38  X38     6819 non-null   float64\n",
            " 39  X39     6819 non-null   float64\n",
            " 40  X40     6819 non-null   float64\n",
            " 41  X41     6819 non-null   float64\n",
            " 42  X42     6819 non-null   float64\n",
            " 43  X43     6819 non-null   float64\n",
            " 44  X44     6819 non-null   float64\n",
            " 45  X45     6819 non-null   float64\n",
            " 46  X46     6819 non-null   float64\n",
            " 47  X47     6819 non-null   float64\n",
            " 48  X48     6819 non-null   float64\n",
            " 49  X49     6819 non-null   float64\n",
            " 50  X50     6819 non-null   float64\n",
            " 51  X51     6819 non-null   float64\n",
            " 52  X52     6819 non-null   float64\n",
            " 53  X53     6819 non-null   float64\n",
            " 54  X54     6819 non-null   float64\n",
            " 55  X55     6819 non-null   float64\n",
            " 56  X56     6819 non-null   float64\n",
            " 57  X57     6819 non-null   float64\n",
            " 58  X58     6819 non-null   float64\n",
            " 59  X59     6819 non-null   float64\n",
            " 60  X60     6819 non-null   float64\n",
            " 61  X61     6819 non-null   float64\n",
            " 62  X62     6819 non-null   float64\n",
            " 63  X63     6819 non-null   float64\n",
            " 64  X64     6819 non-null   float64\n",
            " 65  X65     6819 non-null   float64\n",
            " 66  X66     6819 non-null   float64\n",
            " 67  X67     6819 non-null   float64\n",
            " 68  X68     6819 non-null   float64\n",
            " 69  X69     6819 non-null   float64\n",
            " 70  X70     6819 non-null   float64\n",
            " 71  X71     6819 non-null   float64\n",
            " 72  X72     6819 non-null   float64\n",
            " 73  X73     6819 non-null   float64\n",
            " 74  X74     6819 non-null   float64\n",
            " 75  X75     6819 non-null   float64\n",
            " 76  X76     6819 non-null   float64\n",
            " 77  X77     6819 non-null   float64\n",
            " 78  X78     6819 non-null   float64\n",
            " 79  X79     6819 non-null   float64\n",
            " 80  X80     6819 non-null   float64\n",
            " 81  X81     6819 non-null   float64\n",
            " 82  X82     6819 non-null   float64\n",
            " 83  X83     6819 non-null   float64\n",
            " 84  X84     6819 non-null   float64\n",
            " 85  X85     6819 non-null   int64  \n",
            " 86  X86     6819 non-null   float64\n",
            " 87  X87     6819 non-null   float64\n",
            " 88  X88     6819 non-null   float64\n",
            " 89  X89     6819 non-null   float64\n",
            " 90  X90     6819 non-null   float64\n",
            " 91  X91     6819 non-null   float64\n",
            " 92  X92     6819 non-null   float64\n",
            " 93  X93     6819 non-null   float64\n",
            " 94  X94     6819 non-null   int64  \n",
            " 95  X95     6819 non-null   float64\n",
            "dtypes: float64(93), int64(3)\n",
            "memory usage: 5.0 MB\n"
          ]
        }
      ],
      "source": [
        "column_names = [\"Y\"]\n",
        "column_names = column_names + ['X' + str(num) for num in range(1,len(data_csv.columns))]\n",
        "\n",
        "column_names_df = pd.DataFrame({\"Var_name\": column_names, \"Description\":data_csv.columns})\n",
        "\n",
        "data_csv.columns = column_names\n",
        "data_csv.info(verbose = True, show_counts= True)"
      ]
    },
    {
      "cell_type": "code",
      "execution_count": 7,
      "id": "0ab2f990",
      "metadata": {
        "colab": {
          "base_uri": "https://localhost:8080/",
          "height": 1000
        },
        "id": "0ab2f990",
        "outputId": "69a97a30-fbd3-4138-940a-1c557af82ea7"
      },
      "outputs": [
        {
          "output_type": "execute_result",
          "data": {
            "text/plain": [
              "<pandas.io.formats.style.Styler at 0x7fb00714b850>"
            ],
            "text/html": [
              "<style type=\"text/css\">\n",
              "</style>\n",
              "<table id=\"T_8b16d_\" class=\"dataframe\">\n",
              "  <thead>\n",
              "    <tr>\n",
              "      <th class=\"blank level0\" >&nbsp;</th>\n",
              "      <th class=\"col_heading level0 col0\" >Var_name</th>\n",
              "      <th class=\"col_heading level0 col1\" >Description</th>\n",
              "    </tr>\n",
              "  </thead>\n",
              "  <tbody>\n",
              "    <tr>\n",
              "      <th id=\"T_8b16d_level0_row0\" class=\"row_heading level0 row0\" >0</th>\n",
              "      <td id=\"T_8b16d_row0_col0\" class=\"data row0 col0\" >Y</td>\n",
              "      <td id=\"T_8b16d_row0_col1\" class=\"data row0 col1\" >Bankrupt?</td>\n",
              "    </tr>\n",
              "    <tr>\n",
              "      <th id=\"T_8b16d_level0_row1\" class=\"row_heading level0 row1\" >1</th>\n",
              "      <td id=\"T_8b16d_row1_col0\" class=\"data row1 col0\" >X1</td>\n",
              "      <td id=\"T_8b16d_row1_col1\" class=\"data row1 col1\" > ROA(C) before interest and depreciation before interest</td>\n",
              "    </tr>\n",
              "    <tr>\n",
              "      <th id=\"T_8b16d_level0_row2\" class=\"row_heading level0 row2\" >2</th>\n",
              "      <td id=\"T_8b16d_row2_col0\" class=\"data row2 col0\" >X2</td>\n",
              "      <td id=\"T_8b16d_row2_col1\" class=\"data row2 col1\" > ROA(A) before interest and % after tax</td>\n",
              "    </tr>\n",
              "    <tr>\n",
              "      <th id=\"T_8b16d_level0_row3\" class=\"row_heading level0 row3\" >3</th>\n",
              "      <td id=\"T_8b16d_row3_col0\" class=\"data row3 col0\" >X3</td>\n",
              "      <td id=\"T_8b16d_row3_col1\" class=\"data row3 col1\" > ROA(B) before interest and depreciation after tax</td>\n",
              "    </tr>\n",
              "    <tr>\n",
              "      <th id=\"T_8b16d_level0_row4\" class=\"row_heading level0 row4\" >4</th>\n",
              "      <td id=\"T_8b16d_row4_col0\" class=\"data row4 col0\" >X4</td>\n",
              "      <td id=\"T_8b16d_row4_col1\" class=\"data row4 col1\" > Operating Gross Margin</td>\n",
              "    </tr>\n",
              "    <tr>\n",
              "      <th id=\"T_8b16d_level0_row5\" class=\"row_heading level0 row5\" >5</th>\n",
              "      <td id=\"T_8b16d_row5_col0\" class=\"data row5 col0\" >X5</td>\n",
              "      <td id=\"T_8b16d_row5_col1\" class=\"data row5 col1\" > Realized Sales Gross Margin</td>\n",
              "    </tr>\n",
              "    <tr>\n",
              "      <th id=\"T_8b16d_level0_row6\" class=\"row_heading level0 row6\" >6</th>\n",
              "      <td id=\"T_8b16d_row6_col0\" class=\"data row6 col0\" >X6</td>\n",
              "      <td id=\"T_8b16d_row6_col1\" class=\"data row6 col1\" > Operating Profit Rate</td>\n",
              "    </tr>\n",
              "    <tr>\n",
              "      <th id=\"T_8b16d_level0_row7\" class=\"row_heading level0 row7\" >7</th>\n",
              "      <td id=\"T_8b16d_row7_col0\" class=\"data row7 col0\" >X7</td>\n",
              "      <td id=\"T_8b16d_row7_col1\" class=\"data row7 col1\" > Pre-tax net Interest Rate</td>\n",
              "    </tr>\n",
              "    <tr>\n",
              "      <th id=\"T_8b16d_level0_row8\" class=\"row_heading level0 row8\" >8</th>\n",
              "      <td id=\"T_8b16d_row8_col0\" class=\"data row8 col0\" >X8</td>\n",
              "      <td id=\"T_8b16d_row8_col1\" class=\"data row8 col1\" > After-tax net Interest Rate</td>\n",
              "    </tr>\n",
              "    <tr>\n",
              "      <th id=\"T_8b16d_level0_row9\" class=\"row_heading level0 row9\" >9</th>\n",
              "      <td id=\"T_8b16d_row9_col0\" class=\"data row9 col0\" >X9</td>\n",
              "      <td id=\"T_8b16d_row9_col1\" class=\"data row9 col1\" > Non-industry income and expenditure/revenue</td>\n",
              "    </tr>\n",
              "    <tr>\n",
              "      <th id=\"T_8b16d_level0_row10\" class=\"row_heading level0 row10\" >10</th>\n",
              "      <td id=\"T_8b16d_row10_col0\" class=\"data row10 col0\" >X10</td>\n",
              "      <td id=\"T_8b16d_row10_col1\" class=\"data row10 col1\" > Continuous interest rate (after tax)</td>\n",
              "    </tr>\n",
              "    <tr>\n",
              "      <th id=\"T_8b16d_level0_row11\" class=\"row_heading level0 row11\" >11</th>\n",
              "      <td id=\"T_8b16d_row11_col0\" class=\"data row11 col0\" >X11</td>\n",
              "      <td id=\"T_8b16d_row11_col1\" class=\"data row11 col1\" > Operating Expense Rate</td>\n",
              "    </tr>\n",
              "    <tr>\n",
              "      <th id=\"T_8b16d_level0_row12\" class=\"row_heading level0 row12\" >12</th>\n",
              "      <td id=\"T_8b16d_row12_col0\" class=\"data row12 col0\" >X12</td>\n",
              "      <td id=\"T_8b16d_row12_col1\" class=\"data row12 col1\" > Research and development expense rate</td>\n",
              "    </tr>\n",
              "    <tr>\n",
              "      <th id=\"T_8b16d_level0_row13\" class=\"row_heading level0 row13\" >13</th>\n",
              "      <td id=\"T_8b16d_row13_col0\" class=\"data row13 col0\" >X13</td>\n",
              "      <td id=\"T_8b16d_row13_col1\" class=\"data row13 col1\" > Cash flow rate</td>\n",
              "    </tr>\n",
              "    <tr>\n",
              "      <th id=\"T_8b16d_level0_row14\" class=\"row_heading level0 row14\" >14</th>\n",
              "      <td id=\"T_8b16d_row14_col0\" class=\"data row14 col0\" >X14</td>\n",
              "      <td id=\"T_8b16d_row14_col1\" class=\"data row14 col1\" > Interest-bearing debt interest rate</td>\n",
              "    </tr>\n",
              "    <tr>\n",
              "      <th id=\"T_8b16d_level0_row15\" class=\"row_heading level0 row15\" >15</th>\n",
              "      <td id=\"T_8b16d_row15_col0\" class=\"data row15 col0\" >X15</td>\n",
              "      <td id=\"T_8b16d_row15_col1\" class=\"data row15 col1\" > Tax rate (A)</td>\n",
              "    </tr>\n",
              "    <tr>\n",
              "      <th id=\"T_8b16d_level0_row16\" class=\"row_heading level0 row16\" >16</th>\n",
              "      <td id=\"T_8b16d_row16_col0\" class=\"data row16 col0\" >X16</td>\n",
              "      <td id=\"T_8b16d_row16_col1\" class=\"data row16 col1\" > Net Value Per Share (B)</td>\n",
              "    </tr>\n",
              "    <tr>\n",
              "      <th id=\"T_8b16d_level0_row17\" class=\"row_heading level0 row17\" >17</th>\n",
              "      <td id=\"T_8b16d_row17_col0\" class=\"data row17 col0\" >X17</td>\n",
              "      <td id=\"T_8b16d_row17_col1\" class=\"data row17 col1\" > Net Value Per Share (A)</td>\n",
              "    </tr>\n",
              "    <tr>\n",
              "      <th id=\"T_8b16d_level0_row18\" class=\"row_heading level0 row18\" >18</th>\n",
              "      <td id=\"T_8b16d_row18_col0\" class=\"data row18 col0\" >X18</td>\n",
              "      <td id=\"T_8b16d_row18_col1\" class=\"data row18 col1\" > Net Value Per Share (C)</td>\n",
              "    </tr>\n",
              "    <tr>\n",
              "      <th id=\"T_8b16d_level0_row19\" class=\"row_heading level0 row19\" >19</th>\n",
              "      <td id=\"T_8b16d_row19_col0\" class=\"data row19 col0\" >X19</td>\n",
              "      <td id=\"T_8b16d_row19_col1\" class=\"data row19 col1\" > Persistent EPS in the Last Four Seasons</td>\n",
              "    </tr>\n",
              "    <tr>\n",
              "      <th id=\"T_8b16d_level0_row20\" class=\"row_heading level0 row20\" >20</th>\n",
              "      <td id=\"T_8b16d_row20_col0\" class=\"data row20 col0\" >X20</td>\n",
              "      <td id=\"T_8b16d_row20_col1\" class=\"data row20 col1\" > Cash Flow Per Share</td>\n",
              "    </tr>\n",
              "    <tr>\n",
              "      <th id=\"T_8b16d_level0_row21\" class=\"row_heading level0 row21\" >21</th>\n",
              "      <td id=\"T_8b16d_row21_col0\" class=\"data row21 col0\" >X21</td>\n",
              "      <td id=\"T_8b16d_row21_col1\" class=\"data row21 col1\" > Revenue Per Share (Yuan ¥)</td>\n",
              "    </tr>\n",
              "    <tr>\n",
              "      <th id=\"T_8b16d_level0_row22\" class=\"row_heading level0 row22\" >22</th>\n",
              "      <td id=\"T_8b16d_row22_col0\" class=\"data row22 col0\" >X22</td>\n",
              "      <td id=\"T_8b16d_row22_col1\" class=\"data row22 col1\" > Operating Profit Per Share (Yuan ¥)</td>\n",
              "    </tr>\n",
              "    <tr>\n",
              "      <th id=\"T_8b16d_level0_row23\" class=\"row_heading level0 row23\" >23</th>\n",
              "      <td id=\"T_8b16d_row23_col0\" class=\"data row23 col0\" >X23</td>\n",
              "      <td id=\"T_8b16d_row23_col1\" class=\"data row23 col1\" > Per Share Net profit before tax (Yuan ¥)</td>\n",
              "    </tr>\n",
              "    <tr>\n",
              "      <th id=\"T_8b16d_level0_row24\" class=\"row_heading level0 row24\" >24</th>\n",
              "      <td id=\"T_8b16d_row24_col0\" class=\"data row24 col0\" >X24</td>\n",
              "      <td id=\"T_8b16d_row24_col1\" class=\"data row24 col1\" > Realized Sales Gross Profit Growth Rate</td>\n",
              "    </tr>\n",
              "    <tr>\n",
              "      <th id=\"T_8b16d_level0_row25\" class=\"row_heading level0 row25\" >25</th>\n",
              "      <td id=\"T_8b16d_row25_col0\" class=\"data row25 col0\" >X25</td>\n",
              "      <td id=\"T_8b16d_row25_col1\" class=\"data row25 col1\" > Operating Profit Growth Rate</td>\n",
              "    </tr>\n",
              "    <tr>\n",
              "      <th id=\"T_8b16d_level0_row26\" class=\"row_heading level0 row26\" >26</th>\n",
              "      <td id=\"T_8b16d_row26_col0\" class=\"data row26 col0\" >X26</td>\n",
              "      <td id=\"T_8b16d_row26_col1\" class=\"data row26 col1\" > After-tax Net Profit Growth Rate</td>\n",
              "    </tr>\n",
              "    <tr>\n",
              "      <th id=\"T_8b16d_level0_row27\" class=\"row_heading level0 row27\" >27</th>\n",
              "      <td id=\"T_8b16d_row27_col0\" class=\"data row27 col0\" >X27</td>\n",
              "      <td id=\"T_8b16d_row27_col1\" class=\"data row27 col1\" > Regular Net Profit Growth Rate</td>\n",
              "    </tr>\n",
              "    <tr>\n",
              "      <th id=\"T_8b16d_level0_row28\" class=\"row_heading level0 row28\" >28</th>\n",
              "      <td id=\"T_8b16d_row28_col0\" class=\"data row28 col0\" >X28</td>\n",
              "      <td id=\"T_8b16d_row28_col1\" class=\"data row28 col1\" > Continuous Net Profit Growth Rate</td>\n",
              "    </tr>\n",
              "    <tr>\n",
              "      <th id=\"T_8b16d_level0_row29\" class=\"row_heading level0 row29\" >29</th>\n",
              "      <td id=\"T_8b16d_row29_col0\" class=\"data row29 col0\" >X29</td>\n",
              "      <td id=\"T_8b16d_row29_col1\" class=\"data row29 col1\" > Total Asset Growth Rate</td>\n",
              "    </tr>\n",
              "    <tr>\n",
              "      <th id=\"T_8b16d_level0_row30\" class=\"row_heading level0 row30\" >30</th>\n",
              "      <td id=\"T_8b16d_row30_col0\" class=\"data row30 col0\" >X30</td>\n",
              "      <td id=\"T_8b16d_row30_col1\" class=\"data row30 col1\" > Net Value Growth Rate</td>\n",
              "    </tr>\n",
              "    <tr>\n",
              "      <th id=\"T_8b16d_level0_row31\" class=\"row_heading level0 row31\" >31</th>\n",
              "      <td id=\"T_8b16d_row31_col0\" class=\"data row31 col0\" >X31</td>\n",
              "      <td id=\"T_8b16d_row31_col1\" class=\"data row31 col1\" > Total Asset Return Growth Rate Ratio</td>\n",
              "    </tr>\n",
              "    <tr>\n",
              "      <th id=\"T_8b16d_level0_row32\" class=\"row_heading level0 row32\" >32</th>\n",
              "      <td id=\"T_8b16d_row32_col0\" class=\"data row32 col0\" >X32</td>\n",
              "      <td id=\"T_8b16d_row32_col1\" class=\"data row32 col1\" > Cash Reinvestment %</td>\n",
              "    </tr>\n",
              "    <tr>\n",
              "      <th id=\"T_8b16d_level0_row33\" class=\"row_heading level0 row33\" >33</th>\n",
              "      <td id=\"T_8b16d_row33_col0\" class=\"data row33 col0\" >X33</td>\n",
              "      <td id=\"T_8b16d_row33_col1\" class=\"data row33 col1\" > Current Ratio</td>\n",
              "    </tr>\n",
              "    <tr>\n",
              "      <th id=\"T_8b16d_level0_row34\" class=\"row_heading level0 row34\" >34</th>\n",
              "      <td id=\"T_8b16d_row34_col0\" class=\"data row34 col0\" >X34</td>\n",
              "      <td id=\"T_8b16d_row34_col1\" class=\"data row34 col1\" > Quick Ratio</td>\n",
              "    </tr>\n",
              "    <tr>\n",
              "      <th id=\"T_8b16d_level0_row35\" class=\"row_heading level0 row35\" >35</th>\n",
              "      <td id=\"T_8b16d_row35_col0\" class=\"data row35 col0\" >X35</td>\n",
              "      <td id=\"T_8b16d_row35_col1\" class=\"data row35 col1\" > Interest Expense Ratio</td>\n",
              "    </tr>\n",
              "    <tr>\n",
              "      <th id=\"T_8b16d_level0_row36\" class=\"row_heading level0 row36\" >36</th>\n",
              "      <td id=\"T_8b16d_row36_col0\" class=\"data row36 col0\" >X36</td>\n",
              "      <td id=\"T_8b16d_row36_col1\" class=\"data row36 col1\" > Total debt/Total net worth</td>\n",
              "    </tr>\n",
              "    <tr>\n",
              "      <th id=\"T_8b16d_level0_row37\" class=\"row_heading level0 row37\" >37</th>\n",
              "      <td id=\"T_8b16d_row37_col0\" class=\"data row37 col0\" >X37</td>\n",
              "      <td id=\"T_8b16d_row37_col1\" class=\"data row37 col1\" > Debt ratio %</td>\n",
              "    </tr>\n",
              "    <tr>\n",
              "      <th id=\"T_8b16d_level0_row38\" class=\"row_heading level0 row38\" >38</th>\n",
              "      <td id=\"T_8b16d_row38_col0\" class=\"data row38 col0\" >X38</td>\n",
              "      <td id=\"T_8b16d_row38_col1\" class=\"data row38 col1\" > Net worth/Assets</td>\n",
              "    </tr>\n",
              "    <tr>\n",
              "      <th id=\"T_8b16d_level0_row39\" class=\"row_heading level0 row39\" >39</th>\n",
              "      <td id=\"T_8b16d_row39_col0\" class=\"data row39 col0\" >X39</td>\n",
              "      <td id=\"T_8b16d_row39_col1\" class=\"data row39 col1\" > Long-term fund suitability ratio (A)</td>\n",
              "    </tr>\n",
              "    <tr>\n",
              "      <th id=\"T_8b16d_level0_row40\" class=\"row_heading level0 row40\" >40</th>\n",
              "      <td id=\"T_8b16d_row40_col0\" class=\"data row40 col0\" >X40</td>\n",
              "      <td id=\"T_8b16d_row40_col1\" class=\"data row40 col1\" > Borrowing dependency</td>\n",
              "    </tr>\n",
              "    <tr>\n",
              "      <th id=\"T_8b16d_level0_row41\" class=\"row_heading level0 row41\" >41</th>\n",
              "      <td id=\"T_8b16d_row41_col0\" class=\"data row41 col0\" >X41</td>\n",
              "      <td id=\"T_8b16d_row41_col1\" class=\"data row41 col1\" > Contingent liabilities/Net worth</td>\n",
              "    </tr>\n",
              "    <tr>\n",
              "      <th id=\"T_8b16d_level0_row42\" class=\"row_heading level0 row42\" >42</th>\n",
              "      <td id=\"T_8b16d_row42_col0\" class=\"data row42 col0\" >X42</td>\n",
              "      <td id=\"T_8b16d_row42_col1\" class=\"data row42 col1\" > Operating profit/Paid-in capital</td>\n",
              "    </tr>\n",
              "    <tr>\n",
              "      <th id=\"T_8b16d_level0_row43\" class=\"row_heading level0 row43\" >43</th>\n",
              "      <td id=\"T_8b16d_row43_col0\" class=\"data row43 col0\" >X43</td>\n",
              "      <td id=\"T_8b16d_row43_col1\" class=\"data row43 col1\" > Net profit before tax/Paid-in capital</td>\n",
              "    </tr>\n",
              "    <tr>\n",
              "      <th id=\"T_8b16d_level0_row44\" class=\"row_heading level0 row44\" >44</th>\n",
              "      <td id=\"T_8b16d_row44_col0\" class=\"data row44 col0\" >X44</td>\n",
              "      <td id=\"T_8b16d_row44_col1\" class=\"data row44 col1\" > Inventory and accounts receivable/Net value</td>\n",
              "    </tr>\n",
              "    <tr>\n",
              "      <th id=\"T_8b16d_level0_row45\" class=\"row_heading level0 row45\" >45</th>\n",
              "      <td id=\"T_8b16d_row45_col0\" class=\"data row45 col0\" >X45</td>\n",
              "      <td id=\"T_8b16d_row45_col1\" class=\"data row45 col1\" > Total Asset Turnover</td>\n",
              "    </tr>\n",
              "    <tr>\n",
              "      <th id=\"T_8b16d_level0_row46\" class=\"row_heading level0 row46\" >46</th>\n",
              "      <td id=\"T_8b16d_row46_col0\" class=\"data row46 col0\" >X46</td>\n",
              "      <td id=\"T_8b16d_row46_col1\" class=\"data row46 col1\" > Accounts Receivable Turnover</td>\n",
              "    </tr>\n",
              "    <tr>\n",
              "      <th id=\"T_8b16d_level0_row47\" class=\"row_heading level0 row47\" >47</th>\n",
              "      <td id=\"T_8b16d_row47_col0\" class=\"data row47 col0\" >X47</td>\n",
              "      <td id=\"T_8b16d_row47_col1\" class=\"data row47 col1\" > Average Collection Days</td>\n",
              "    </tr>\n",
              "    <tr>\n",
              "      <th id=\"T_8b16d_level0_row48\" class=\"row_heading level0 row48\" >48</th>\n",
              "      <td id=\"T_8b16d_row48_col0\" class=\"data row48 col0\" >X48</td>\n",
              "      <td id=\"T_8b16d_row48_col1\" class=\"data row48 col1\" > Inventory Turnover Rate (times)</td>\n",
              "    </tr>\n",
              "    <tr>\n",
              "      <th id=\"T_8b16d_level0_row49\" class=\"row_heading level0 row49\" >49</th>\n",
              "      <td id=\"T_8b16d_row49_col0\" class=\"data row49 col0\" >X49</td>\n",
              "      <td id=\"T_8b16d_row49_col1\" class=\"data row49 col1\" > Fixed Assets Turnover Frequency</td>\n",
              "    </tr>\n",
              "    <tr>\n",
              "      <th id=\"T_8b16d_level0_row50\" class=\"row_heading level0 row50\" >50</th>\n",
              "      <td id=\"T_8b16d_row50_col0\" class=\"data row50 col0\" >X50</td>\n",
              "      <td id=\"T_8b16d_row50_col1\" class=\"data row50 col1\" > Net Worth Turnover Rate (times)</td>\n",
              "    </tr>\n",
              "    <tr>\n",
              "      <th id=\"T_8b16d_level0_row51\" class=\"row_heading level0 row51\" >51</th>\n",
              "      <td id=\"T_8b16d_row51_col0\" class=\"data row51 col0\" >X51</td>\n",
              "      <td id=\"T_8b16d_row51_col1\" class=\"data row51 col1\" > Revenue per person</td>\n",
              "    </tr>\n",
              "    <tr>\n",
              "      <th id=\"T_8b16d_level0_row52\" class=\"row_heading level0 row52\" >52</th>\n",
              "      <td id=\"T_8b16d_row52_col0\" class=\"data row52 col0\" >X52</td>\n",
              "      <td id=\"T_8b16d_row52_col1\" class=\"data row52 col1\" > Operating profit per person</td>\n",
              "    </tr>\n",
              "    <tr>\n",
              "      <th id=\"T_8b16d_level0_row53\" class=\"row_heading level0 row53\" >53</th>\n",
              "      <td id=\"T_8b16d_row53_col0\" class=\"data row53 col0\" >X53</td>\n",
              "      <td id=\"T_8b16d_row53_col1\" class=\"data row53 col1\" > Allocation rate per person</td>\n",
              "    </tr>\n",
              "    <tr>\n",
              "      <th id=\"T_8b16d_level0_row54\" class=\"row_heading level0 row54\" >54</th>\n",
              "      <td id=\"T_8b16d_row54_col0\" class=\"data row54 col0\" >X54</td>\n",
              "      <td id=\"T_8b16d_row54_col1\" class=\"data row54 col1\" > Working Capital to Total Assets</td>\n",
              "    </tr>\n",
              "    <tr>\n",
              "      <th id=\"T_8b16d_level0_row55\" class=\"row_heading level0 row55\" >55</th>\n",
              "      <td id=\"T_8b16d_row55_col0\" class=\"data row55 col0\" >X55</td>\n",
              "      <td id=\"T_8b16d_row55_col1\" class=\"data row55 col1\" > Quick Assets/Total Assets</td>\n",
              "    </tr>\n",
              "    <tr>\n",
              "      <th id=\"T_8b16d_level0_row56\" class=\"row_heading level0 row56\" >56</th>\n",
              "      <td id=\"T_8b16d_row56_col0\" class=\"data row56 col0\" >X56</td>\n",
              "      <td id=\"T_8b16d_row56_col1\" class=\"data row56 col1\" > Current Assets/Total Assets</td>\n",
              "    </tr>\n",
              "    <tr>\n",
              "      <th id=\"T_8b16d_level0_row57\" class=\"row_heading level0 row57\" >57</th>\n",
              "      <td id=\"T_8b16d_row57_col0\" class=\"data row57 col0\" >X57</td>\n",
              "      <td id=\"T_8b16d_row57_col1\" class=\"data row57 col1\" > Cash/Total Assets</td>\n",
              "    </tr>\n",
              "    <tr>\n",
              "      <th id=\"T_8b16d_level0_row58\" class=\"row_heading level0 row58\" >58</th>\n",
              "      <td id=\"T_8b16d_row58_col0\" class=\"data row58 col0\" >X58</td>\n",
              "      <td id=\"T_8b16d_row58_col1\" class=\"data row58 col1\" > Quick Assets/Current Liability</td>\n",
              "    </tr>\n",
              "    <tr>\n",
              "      <th id=\"T_8b16d_level0_row59\" class=\"row_heading level0 row59\" >59</th>\n",
              "      <td id=\"T_8b16d_row59_col0\" class=\"data row59 col0\" >X59</td>\n",
              "      <td id=\"T_8b16d_row59_col1\" class=\"data row59 col1\" > Cash/Current Liability</td>\n",
              "    </tr>\n",
              "    <tr>\n",
              "      <th id=\"T_8b16d_level0_row60\" class=\"row_heading level0 row60\" >60</th>\n",
              "      <td id=\"T_8b16d_row60_col0\" class=\"data row60 col0\" >X60</td>\n",
              "      <td id=\"T_8b16d_row60_col1\" class=\"data row60 col1\" > Current Liability to Assets</td>\n",
              "    </tr>\n",
              "    <tr>\n",
              "      <th id=\"T_8b16d_level0_row61\" class=\"row_heading level0 row61\" >61</th>\n",
              "      <td id=\"T_8b16d_row61_col0\" class=\"data row61 col0\" >X61</td>\n",
              "      <td id=\"T_8b16d_row61_col1\" class=\"data row61 col1\" > Operating Funds to Liability</td>\n",
              "    </tr>\n",
              "    <tr>\n",
              "      <th id=\"T_8b16d_level0_row62\" class=\"row_heading level0 row62\" >62</th>\n",
              "      <td id=\"T_8b16d_row62_col0\" class=\"data row62 col0\" >X62</td>\n",
              "      <td id=\"T_8b16d_row62_col1\" class=\"data row62 col1\" > Inventory/Working Capital</td>\n",
              "    </tr>\n",
              "    <tr>\n",
              "      <th id=\"T_8b16d_level0_row63\" class=\"row_heading level0 row63\" >63</th>\n",
              "      <td id=\"T_8b16d_row63_col0\" class=\"data row63 col0\" >X63</td>\n",
              "      <td id=\"T_8b16d_row63_col1\" class=\"data row63 col1\" > Inventory/Current Liability</td>\n",
              "    </tr>\n",
              "    <tr>\n",
              "      <th id=\"T_8b16d_level0_row64\" class=\"row_heading level0 row64\" >64</th>\n",
              "      <td id=\"T_8b16d_row64_col0\" class=\"data row64 col0\" >X64</td>\n",
              "      <td id=\"T_8b16d_row64_col1\" class=\"data row64 col1\" > Current Liabilities/Liability</td>\n",
              "    </tr>\n",
              "    <tr>\n",
              "      <th id=\"T_8b16d_level0_row65\" class=\"row_heading level0 row65\" >65</th>\n",
              "      <td id=\"T_8b16d_row65_col0\" class=\"data row65 col0\" >X65</td>\n",
              "      <td id=\"T_8b16d_row65_col1\" class=\"data row65 col1\" > Working Capital/Equity</td>\n",
              "    </tr>\n",
              "    <tr>\n",
              "      <th id=\"T_8b16d_level0_row66\" class=\"row_heading level0 row66\" >66</th>\n",
              "      <td id=\"T_8b16d_row66_col0\" class=\"data row66 col0\" >X66</td>\n",
              "      <td id=\"T_8b16d_row66_col1\" class=\"data row66 col1\" > Current Liabilities/Equity</td>\n",
              "    </tr>\n",
              "    <tr>\n",
              "      <th id=\"T_8b16d_level0_row67\" class=\"row_heading level0 row67\" >67</th>\n",
              "      <td id=\"T_8b16d_row67_col0\" class=\"data row67 col0\" >X67</td>\n",
              "      <td id=\"T_8b16d_row67_col1\" class=\"data row67 col1\" > Long-term Liability to Current Assets</td>\n",
              "    </tr>\n",
              "    <tr>\n",
              "      <th id=\"T_8b16d_level0_row68\" class=\"row_heading level0 row68\" >68</th>\n",
              "      <td id=\"T_8b16d_row68_col0\" class=\"data row68 col0\" >X68</td>\n",
              "      <td id=\"T_8b16d_row68_col1\" class=\"data row68 col1\" > Retained Earnings to Total Assets</td>\n",
              "    </tr>\n",
              "    <tr>\n",
              "      <th id=\"T_8b16d_level0_row69\" class=\"row_heading level0 row69\" >69</th>\n",
              "      <td id=\"T_8b16d_row69_col0\" class=\"data row69 col0\" >X69</td>\n",
              "      <td id=\"T_8b16d_row69_col1\" class=\"data row69 col1\" > Total income/Total expense</td>\n",
              "    </tr>\n",
              "    <tr>\n",
              "      <th id=\"T_8b16d_level0_row70\" class=\"row_heading level0 row70\" >70</th>\n",
              "      <td id=\"T_8b16d_row70_col0\" class=\"data row70 col0\" >X70</td>\n",
              "      <td id=\"T_8b16d_row70_col1\" class=\"data row70 col1\" > Total expense/Assets</td>\n",
              "    </tr>\n",
              "    <tr>\n",
              "      <th id=\"T_8b16d_level0_row71\" class=\"row_heading level0 row71\" >71</th>\n",
              "      <td id=\"T_8b16d_row71_col0\" class=\"data row71 col0\" >X71</td>\n",
              "      <td id=\"T_8b16d_row71_col1\" class=\"data row71 col1\" > Current Asset Turnover Rate</td>\n",
              "    </tr>\n",
              "    <tr>\n",
              "      <th id=\"T_8b16d_level0_row72\" class=\"row_heading level0 row72\" >72</th>\n",
              "      <td id=\"T_8b16d_row72_col0\" class=\"data row72 col0\" >X72</td>\n",
              "      <td id=\"T_8b16d_row72_col1\" class=\"data row72 col1\" > Quick Asset Turnover Rate</td>\n",
              "    </tr>\n",
              "    <tr>\n",
              "      <th id=\"T_8b16d_level0_row73\" class=\"row_heading level0 row73\" >73</th>\n",
              "      <td id=\"T_8b16d_row73_col0\" class=\"data row73 col0\" >X73</td>\n",
              "      <td id=\"T_8b16d_row73_col1\" class=\"data row73 col1\" > Working capitcal Turnover Rate</td>\n",
              "    </tr>\n",
              "    <tr>\n",
              "      <th id=\"T_8b16d_level0_row74\" class=\"row_heading level0 row74\" >74</th>\n",
              "      <td id=\"T_8b16d_row74_col0\" class=\"data row74 col0\" >X74</td>\n",
              "      <td id=\"T_8b16d_row74_col1\" class=\"data row74 col1\" > Cash Turnover Rate</td>\n",
              "    </tr>\n",
              "    <tr>\n",
              "      <th id=\"T_8b16d_level0_row75\" class=\"row_heading level0 row75\" >75</th>\n",
              "      <td id=\"T_8b16d_row75_col0\" class=\"data row75 col0\" >X75</td>\n",
              "      <td id=\"T_8b16d_row75_col1\" class=\"data row75 col1\" > Cash Flow to Sales</td>\n",
              "    </tr>\n",
              "    <tr>\n",
              "      <th id=\"T_8b16d_level0_row76\" class=\"row_heading level0 row76\" >76</th>\n",
              "      <td id=\"T_8b16d_row76_col0\" class=\"data row76 col0\" >X76</td>\n",
              "      <td id=\"T_8b16d_row76_col1\" class=\"data row76 col1\" > Fixed Assets to Assets</td>\n",
              "    </tr>\n",
              "    <tr>\n",
              "      <th id=\"T_8b16d_level0_row77\" class=\"row_heading level0 row77\" >77</th>\n",
              "      <td id=\"T_8b16d_row77_col0\" class=\"data row77 col0\" >X77</td>\n",
              "      <td id=\"T_8b16d_row77_col1\" class=\"data row77 col1\" > Current Liability to Liability</td>\n",
              "    </tr>\n",
              "    <tr>\n",
              "      <th id=\"T_8b16d_level0_row78\" class=\"row_heading level0 row78\" >78</th>\n",
              "      <td id=\"T_8b16d_row78_col0\" class=\"data row78 col0\" >X78</td>\n",
              "      <td id=\"T_8b16d_row78_col1\" class=\"data row78 col1\" > Current Liability to Equity</td>\n",
              "    </tr>\n",
              "    <tr>\n",
              "      <th id=\"T_8b16d_level0_row79\" class=\"row_heading level0 row79\" >79</th>\n",
              "      <td id=\"T_8b16d_row79_col0\" class=\"data row79 col0\" >X79</td>\n",
              "      <td id=\"T_8b16d_row79_col1\" class=\"data row79 col1\" > Equity to Long-term Liability</td>\n",
              "    </tr>\n",
              "    <tr>\n",
              "      <th id=\"T_8b16d_level0_row80\" class=\"row_heading level0 row80\" >80</th>\n",
              "      <td id=\"T_8b16d_row80_col0\" class=\"data row80 col0\" >X80</td>\n",
              "      <td id=\"T_8b16d_row80_col1\" class=\"data row80 col1\" > Cash Flow to Total Assets</td>\n",
              "    </tr>\n",
              "    <tr>\n",
              "      <th id=\"T_8b16d_level0_row81\" class=\"row_heading level0 row81\" >81</th>\n",
              "      <td id=\"T_8b16d_row81_col0\" class=\"data row81 col0\" >X81</td>\n",
              "      <td id=\"T_8b16d_row81_col1\" class=\"data row81 col1\" > Cash Flow to Liability</td>\n",
              "    </tr>\n",
              "    <tr>\n",
              "      <th id=\"T_8b16d_level0_row82\" class=\"row_heading level0 row82\" >82</th>\n",
              "      <td id=\"T_8b16d_row82_col0\" class=\"data row82 col0\" >X82</td>\n",
              "      <td id=\"T_8b16d_row82_col1\" class=\"data row82 col1\" > CFO to Assets</td>\n",
              "    </tr>\n",
              "    <tr>\n",
              "      <th id=\"T_8b16d_level0_row83\" class=\"row_heading level0 row83\" >83</th>\n",
              "      <td id=\"T_8b16d_row83_col0\" class=\"data row83 col0\" >X83</td>\n",
              "      <td id=\"T_8b16d_row83_col1\" class=\"data row83 col1\" > Cash Flow to Equity</td>\n",
              "    </tr>\n",
              "    <tr>\n",
              "      <th id=\"T_8b16d_level0_row84\" class=\"row_heading level0 row84\" >84</th>\n",
              "      <td id=\"T_8b16d_row84_col0\" class=\"data row84 col0\" >X84</td>\n",
              "      <td id=\"T_8b16d_row84_col1\" class=\"data row84 col1\" > Current Liability to Current Assets</td>\n",
              "    </tr>\n",
              "    <tr>\n",
              "      <th id=\"T_8b16d_level0_row85\" class=\"row_heading level0 row85\" >85</th>\n",
              "      <td id=\"T_8b16d_row85_col0\" class=\"data row85 col0\" >X85</td>\n",
              "      <td id=\"T_8b16d_row85_col1\" class=\"data row85 col1\" > Liability-Assets Flag</td>\n",
              "    </tr>\n",
              "    <tr>\n",
              "      <th id=\"T_8b16d_level0_row86\" class=\"row_heading level0 row86\" >86</th>\n",
              "      <td id=\"T_8b16d_row86_col0\" class=\"data row86 col0\" >X86</td>\n",
              "      <td id=\"T_8b16d_row86_col1\" class=\"data row86 col1\" > Net Income to Total Assets</td>\n",
              "    </tr>\n",
              "    <tr>\n",
              "      <th id=\"T_8b16d_level0_row87\" class=\"row_heading level0 row87\" >87</th>\n",
              "      <td id=\"T_8b16d_row87_col0\" class=\"data row87 col0\" >X87</td>\n",
              "      <td id=\"T_8b16d_row87_col1\" class=\"data row87 col1\" > Total assets to GNP price</td>\n",
              "    </tr>\n",
              "    <tr>\n",
              "      <th id=\"T_8b16d_level0_row88\" class=\"row_heading level0 row88\" >88</th>\n",
              "      <td id=\"T_8b16d_row88_col0\" class=\"data row88 col0\" >X88</td>\n",
              "      <td id=\"T_8b16d_row88_col1\" class=\"data row88 col1\" > No-credit Interval</td>\n",
              "    </tr>\n",
              "    <tr>\n",
              "      <th id=\"T_8b16d_level0_row89\" class=\"row_heading level0 row89\" >89</th>\n",
              "      <td id=\"T_8b16d_row89_col0\" class=\"data row89 col0\" >X89</td>\n",
              "      <td id=\"T_8b16d_row89_col1\" class=\"data row89 col1\" > Gross Profit to Sales</td>\n",
              "    </tr>\n",
              "    <tr>\n",
              "      <th id=\"T_8b16d_level0_row90\" class=\"row_heading level0 row90\" >90</th>\n",
              "      <td id=\"T_8b16d_row90_col0\" class=\"data row90 col0\" >X90</td>\n",
              "      <td id=\"T_8b16d_row90_col1\" class=\"data row90 col1\" > Net Income to Stockholder's Equity</td>\n",
              "    </tr>\n",
              "    <tr>\n",
              "      <th id=\"T_8b16d_level0_row91\" class=\"row_heading level0 row91\" >91</th>\n",
              "      <td id=\"T_8b16d_row91_col0\" class=\"data row91 col0\" >X91</td>\n",
              "      <td id=\"T_8b16d_row91_col1\" class=\"data row91 col1\" > Liability to Equity</td>\n",
              "    </tr>\n",
              "    <tr>\n",
              "      <th id=\"T_8b16d_level0_row92\" class=\"row_heading level0 row92\" >92</th>\n",
              "      <td id=\"T_8b16d_row92_col0\" class=\"data row92 col0\" >X92</td>\n",
              "      <td id=\"T_8b16d_row92_col1\" class=\"data row92 col1\" > Degree of Financial Leverage (DFL)</td>\n",
              "    </tr>\n",
              "    <tr>\n",
              "      <th id=\"T_8b16d_level0_row93\" class=\"row_heading level0 row93\" >93</th>\n",
              "      <td id=\"T_8b16d_row93_col0\" class=\"data row93 col0\" >X93</td>\n",
              "      <td id=\"T_8b16d_row93_col1\" class=\"data row93 col1\" > Interest Coverage Ratio (Interest expense to EBIT)</td>\n",
              "    </tr>\n",
              "    <tr>\n",
              "      <th id=\"T_8b16d_level0_row94\" class=\"row_heading level0 row94\" >94</th>\n",
              "      <td id=\"T_8b16d_row94_col0\" class=\"data row94 col0\" >X94</td>\n",
              "      <td id=\"T_8b16d_row94_col1\" class=\"data row94 col1\" > Net Income Flag</td>\n",
              "    </tr>\n",
              "    <tr>\n",
              "      <th id=\"T_8b16d_level0_row95\" class=\"row_heading level0 row95\" >95</th>\n",
              "      <td id=\"T_8b16d_row95_col0\" class=\"data row95 col0\" >X95</td>\n",
              "      <td id=\"T_8b16d_row95_col1\" class=\"data row95 col1\" > Equity to Liability</td>\n",
              "    </tr>\n",
              "  </tbody>\n",
              "</table>\n"
            ]
          },
          "metadata": {},
          "execution_count": 7
        }
      ],
      "source": [
        "column_names_df.style"
      ]
    },
    {
      "cell_type": "markdown",
      "id": "2fed2ee6",
      "metadata": {
        "id": "2fed2ee6"
      },
      "source": [
        "# Preprocessing Data"
      ]
    },
    {
      "cell_type": "code",
      "execution_count": 8,
      "id": "4a0b4c44",
      "metadata": {
        "colab": {
          "base_uri": "https://localhost:8080/"
        },
        "id": "4a0b4c44",
        "outputId": "274b6b2e-3b0b-4e7f-88b8-8677b5bd41ef"
      },
      "outputs": [
        {
          "output_type": "stream",
          "name": "stdout",
          "text": [
            "0    6599\n",
            "1     220\n",
            "Name: Y, dtype: int64\n",
            "\n",
            "\n",
            "0    6811\n",
            "1       8\n",
            "Name: X85, dtype: int64\n",
            "\n",
            "\n",
            "1    6819\n",
            "Name: X94, dtype: int64\n",
            "\n",
            "\n"
          ]
        }
      ],
      "source": [
        "for int_column in data_csv.select_dtypes(include=\"int64\"):\n",
        "    print(data_csv[int_column].value_counts())\n",
        "    print(\"\\n\")\n",
        "\n"
      ]
    },
    {
      "cell_type": "markdown",
      "id": "29a3fb1e",
      "metadata": {
        "id": "29a3fb1e"
      },
      "source": [
        "- select_dtypes(include=\"int64\") -> data_csv에서 datatype이 int64인 feature를 선택한다.\n",
        "- value_counts -> 각 값 별로 count해서 보여준다."
      ]
    },
    {
      "cell_type": "code",
      "execution_count": 9,
      "id": "27eaa5c2",
      "metadata": {
        "id": "27eaa5c2"
      },
      "outputs": [],
      "source": [
        "data_csv = data_csv.drop(\"X94\",axis=\"columns\")"
      ]
    },
    {
      "cell_type": "markdown",
      "id": "478964e3",
      "metadata": {
        "id": "478964e3"
      },
      "source": [
        "- X94 항목은 값이 1개만 존재하기 때문에 useless하기 때문에 Drop 시킨다."
      ]
    },
    {
      "cell_type": "markdown",
      "id": "78ae533c",
      "metadata": {
        "id": "78ae533c"
      },
      "source": [
        "# Train-Test Split"
      ]
    },
    {
      "cell_type": "code",
      "execution_count": 10,
      "id": "03b67ee4",
      "metadata": {
        "id": "03b67ee4"
      },
      "outputs": [],
      "source": [
        "X = data_csv.drop(\"Y\",axis=\"columns\")\n",
        "y = data_csv[\"Y\"]"
      ]
    },
    {
      "cell_type": "code",
      "execution_count": 11,
      "id": "af1b9ce7",
      "metadata": {
        "id": "af1b9ce7"
      },
      "outputs": [],
      "source": [
        "X_train_all, X_test, y_train_all, y_test = train_test_split(X,y,test_size=0.2, random_state=42, shuffle= True, stratify = y)"
      ]
    },
    {
      "cell_type": "code",
      "execution_count": 12,
      "id": "66e65c43",
      "metadata": {
        "colab": {
          "base_uri": "https://localhost:8080/"
        },
        "id": "66e65c43",
        "outputId": "9fba8810-a948-4fa3-d3ab-64f36fed2f5f"
      },
      "outputs": [
        {
          "output_type": "stream",
          "name": "stdout",
          "text": [
            "(5455, 94) (1364, 94) (5455,) (1364,)\n"
          ]
        }
      ],
      "source": [
        "print(X_train_all.shape, X_test.shape, y_train_all.shape, y_test.shape)"
      ]
    },
    {
      "cell_type": "code",
      "source": [
        "print(y_train_all.value_counts())\n",
        "print(y_test.value_counts())"
      ],
      "metadata": {
        "colab": {
          "base_uri": "https://localhost:8080/"
        },
        "id": "duurowCIz1gB",
        "outputId": "c8ee2d21-aaf9-4d0f-c72e-dab80e137ca8"
      },
      "id": "duurowCIz1gB",
      "execution_count": 13,
      "outputs": [
        {
          "output_type": "stream",
          "name": "stdout",
          "text": [
            "0    5279\n",
            "1     176\n",
            "Name: Y, dtype: int64\n",
            "0    1320\n",
            "1      44\n",
            "Name: Y, dtype: int64\n"
          ]
        }
      ]
    },
    {
      "cell_type": "code",
      "execution_count": 14,
      "id": "c1f11689",
      "metadata": {
        "id": "c1f11689"
      },
      "outputs": [],
      "source": [
        "import matplotlib.pyplot as plt\n",
        "import itertools\n",
        "import numpy as np\n",
        "\n",
        "def plot_confusion_matrix_custom(cm,target_names,title='Confusion Matrix',cmap=None,normalize=True):\n",
        "    \n",
        "    accuracy = np.trace(cm)/float(np.sum(cm))\n",
        "    misclass= 1-accuracy\n",
        "    \n",
        "    if cmap is None:\n",
        "        cmap = plt.get_cmap('Blues')\n",
        "        \n",
        "    plt.figure(figsize=(8,6))\n",
        "    plt.imshow(cm,interpolation='nearest',cmap=cmap)\n",
        "    plt.title(title)\n",
        "    plt.colorbar()\n",
        "    \n",
        "    if target_names is not None:\n",
        "        tick_marks = np.arange(len(target_names))\n",
        "        plt.xticks(tick_marks, target_names, rotation=45)\n",
        "        plt.yticks(tick_marks, target_names)\n",
        "    \n",
        "    if normalize:\n",
        "        cm = cm.astype('float') / cm.sum(axis=1)[:,np.newaxis]\n",
        "    \n",
        "    thresh = cm.max() / 1.5 if normalize else cm.max() /2\n",
        "    \n",
        "    for i,j in itertools.product(range(cm.shape[0]), range(cm.shape[1])):\n",
        "        if normalize:\n",
        "            plt.text(j,i,\"{:0.4f}\".format(cm[i,j]),\n",
        "                    horizontalalignment=\"center\",\n",
        "                    color=\"white\" if cm[i,j] > thresh else \"black\")\n",
        "        else:\n",
        "            plt.text(j,i,\"{:,}\".format(cm[i,j]),\n",
        "                    horizontalalignment=\"center\",\n",
        "                    color=\"white\" if cm[i,j] > thresh else \"black\")\n",
        "    plt.tight_layout()\n",
        "    plt.ylabel('True Label')\n",
        "    plt.xlabel('Predicted label\\naccuracy={:0,4f}; misclass={:0.4f}'.format(accuracy, misclass))\n",
        "    plt.show()\n",
        "    \n",
        "    \n",
        "def binarizeArray(array, threshold = 0.5):\n",
        "    return [0 if num<threshold else 1 for num in array]\n",
        "    "
      ]
    },
    {
      "cell_type": "markdown",
      "id": "afbcbf34",
      "metadata": {
        "id": "afbcbf34"
      },
      "source": [
        "# Test Model"
      ]
    },
    {
      "cell_type": "code",
      "execution_count": 15,
      "id": "b51bc32f",
      "metadata": {
        "id": "b51bc32f"
      },
      "outputs": [],
      "source": [
        "from sklearn.model_selection import GridSearchCV"
      ]
    },
    {
      "cell_type": "markdown",
      "source": [
        "## Common Item"
      ],
      "metadata": {
        "id": "KBarxUlEJKZF"
      },
      "id": "KBarxUlEJKZF"
    },
    {
      "cell_type": "code",
      "execution_count": 16,
      "id": "eac19f41",
      "metadata": {
        "id": "eac19f41"
      },
      "outputs": [],
      "source": [
        "cv=10"
      ]
    },
    {
      "cell_type": "code",
      "execution_count": 17,
      "id": "f499366d",
      "metadata": {
        "id": "f499366d"
      },
      "outputs": [],
      "source": [
        "scoring ='accuracy' # f1, accuracy, log_loss, precision"
      ]
    },
    {
      "cell_type": "markdown",
      "source": [
        "## Test Model1 : Logistic Regression"
      ],
      "metadata": {
        "id": "L-mMNys0JOUj"
      },
      "id": "L-mMNys0JOUj"
    },
    {
      "cell_type": "code",
      "execution_count": 18,
      "id": "d759a0f8",
      "metadata": {
        "id": "d759a0f8"
      },
      "outputs": [],
      "source": [
        "\n",
        "_C=np.logspace(-4,5,10)\n",
        "#_penalty = ['l1','l2']\n",
        "#_solver = ['lbfgs','liblinear']\n",
        "#param_grid =[{\"C\":_C,\"penalty\":_penalty,\"solver\":_solver}]\n",
        "_penalty = ['l1','l2']\n",
        "_solver = ['liblinear']\n",
        "param_grid =[{\"C\":_C,\"solver\":_solver}]\n",
        "\n",
        "gs_lr = GridSearchCV(LogisticRegression(),param_grid=param_grid,cv=cv, scoring=scoring,return_train_score=True)"
      ]
    },
    {
      "cell_type": "code",
      "execution_count": 19,
      "id": "790d6b01",
      "metadata": {
        "id": "790d6b01"
      },
      "outputs": [],
      "source": [
        "best_lr = gs_lr.fit(X_train_all,y_train_all)"
      ]
    },
    {
      "cell_type": "code",
      "execution_count": 20,
      "id": "7b9cb83a",
      "metadata": {
        "colab": {
          "base_uri": "https://localhost:8080/"
        },
        "id": "7b9cb83a",
        "outputId": "306caf5d-184c-4092-b786-a1d6fb86ccce"
      },
      "outputs": [
        {
          "output_type": "execute_result",
          "data": {
            "text/plain": [
              "GridSearchCV(cv=10, estimator=LogisticRegression(),\n",
              "             param_grid=[{'C': array([1.e-04, 1.e-03, 1.e-02, 1.e-01, 1.e+00, 1.e+01, 1.e+02, 1.e+03,\n",
              "       1.e+04, 1.e+05]),\n",
              "                          'solver': ['liblinear']}],\n",
              "             return_train_score=True, scoring='accuracy')"
            ]
          },
          "metadata": {},
          "execution_count": 20
        }
      ],
      "source": [
        "best_lr"
      ]
    },
    {
      "cell_type": "code",
      "source": [
        "gs_lr.best_params_"
      ],
      "metadata": {
        "colab": {
          "base_uri": "https://localhost:8080/"
        },
        "id": "a0z75lNf5J52",
        "outputId": "bf7b739e-d082-4b65-8c3a-0ef411cebc6f"
      },
      "id": "a0z75lNf5J52",
      "execution_count": 21,
      "outputs": [
        {
          "output_type": "execute_result",
          "data": {
            "text/plain": [
              "{'C': 0.0001, 'solver': 'liblinear'}"
            ]
          },
          "metadata": {},
          "execution_count": 21
        }
      ]
    },
    {
      "cell_type": "markdown",
      "source": [
        "## Test Model2 : XGBoost Classifier"
      ],
      "metadata": {
        "id": "yEQ0iH3EJW65"
      },
      "id": "yEQ0iH3EJW65"
    },
    {
      "cell_type": "code",
      "source": [
        "xgb1 = xgb.XGBClassifier(eval_metric = \"logloss\",max_depth=5,learning_rate=0.01, n_estimators=100,gamma=0, min_child_weight=1,subsample=0.8, colsample_bytree=0.8, reg_alpha = 0.005, seed = 0).fit(X_train_all,y_train_all)\n",
        "\n",
        "# grid parameters\n",
        "_min_child_weight = [1, 5, 10]\n",
        "_n_estimators=[10,20,40,50,100]\n",
        "_learning_rate = [0.01,0.02,0.05,0.1]\n",
        "_max_depth = [3,5,7,10]\n",
        "_gamma = [0,1,2,3]\n",
        "_colsample_bytree = [0.8,0.9]\n",
        "_subsample = [0.6, 0.8, 1.0]\n",
        "\n",
        "param_grid =[{\"subsample\":_subsample, \"max_depth\":_max_depth, \"gamma\":_gamma,\"colsample_bytree\":_colsample_bytree,\"min_child_weight\":_min_child_weight}]\n",
        "\n",
        "\n",
        "#gs_xg = GridSearchCV(xgb.XGBClassifier(),param_grid=param_grid,cv=cv, scoring=scoring,return_train_score=True)"
      ],
      "metadata": {
        "id": "oAWTrQrmKUQ9"
      },
      "id": "oAWTrQrmKUQ9",
      "execution_count": 35,
      "outputs": []
    },
    {
      "cell_type": "code",
      "source": [
        "#best_xg = gs_xg.fit(X_train_all,y_train_all)"
      ],
      "metadata": {
        "colab": {
          "base_uri": "https://localhost:8080/",
          "height": 323
        },
        "id": "dJAoxjwwKUAw",
        "outputId": "301d0411-4431-4524-96c1-6ecb00ba9e69"
      },
      "id": "dJAoxjwwKUAw",
      "execution_count": 31,
      "outputs": [
        {
          "output_type": "error",
          "ename": "KeyboardInterrupt",
          "evalue": "ignored",
          "traceback": [
            "\u001b[0;31m---------------------------------------------------------------------------\u001b[0m",
            "\u001b[0;31mKeyboardInterrupt\u001b[0m                         Traceback (most recent call last)",
            "\u001b[0;32m<ipython-input-31-0bdcd63211c6>\u001b[0m in \u001b[0;36m<module>\u001b[0;34m\u001b[0m\n\u001b[0;32m----> 1\u001b[0;31m \u001b[0mbest_xg\u001b[0m \u001b[0;34m=\u001b[0m \u001b[0mgs_xg\u001b[0m\u001b[0;34m.\u001b[0m\u001b[0mfit\u001b[0m\u001b[0;34m(\u001b[0m\u001b[0mX_train_all\u001b[0m\u001b[0;34m,\u001b[0m\u001b[0my_train_all\u001b[0m\u001b[0;34m)\u001b[0m\u001b[0;34m\u001b[0m\u001b[0;34m\u001b[0m\u001b[0m\n\u001b[0m",
            "\u001b[0;32m/usr/local/lib/python3.8/dist-packages/sklearn/model_selection/_search.py\u001b[0m in \u001b[0;36mfit\u001b[0;34m(self, X, y, groups, **fit_params)\u001b[0m\n\u001b[1;32m    889\u001b[0m                 \u001b[0;32mreturn\u001b[0m \u001b[0mresults\u001b[0m\u001b[0;34m\u001b[0m\u001b[0;34m\u001b[0m\u001b[0m\n\u001b[1;32m    890\u001b[0m \u001b[0;34m\u001b[0m\u001b[0m\n\u001b[0;32m--> 891\u001b[0;31m             \u001b[0mself\u001b[0m\u001b[0;34m.\u001b[0m\u001b[0m_run_search\u001b[0m\u001b[0;34m(\u001b[0m\u001b[0mevaluate_candidates\u001b[0m\u001b[0;34m)\u001b[0m\u001b[0;34m\u001b[0m\u001b[0;34m\u001b[0m\u001b[0m\n\u001b[0m\u001b[1;32m    892\u001b[0m \u001b[0;34m\u001b[0m\u001b[0m\n\u001b[1;32m    893\u001b[0m             \u001b[0;31m# multimetric is determined here because in the case of a callable\u001b[0m\u001b[0;34m\u001b[0m\u001b[0;34m\u001b[0m\u001b[0;34m\u001b[0m\u001b[0m\n",
            "\u001b[0;32m/usr/local/lib/python3.8/dist-packages/sklearn/model_selection/_search.py\u001b[0m in \u001b[0;36m_run_search\u001b[0;34m(self, evaluate_candidates)\u001b[0m\n\u001b[1;32m   1390\u001b[0m     \u001b[0;32mdef\u001b[0m \u001b[0m_run_search\u001b[0m\u001b[0;34m(\u001b[0m\u001b[0mself\u001b[0m\u001b[0;34m,\u001b[0m \u001b[0mevaluate_candidates\u001b[0m\u001b[0;34m)\u001b[0m\u001b[0;34m:\u001b[0m\u001b[0;34m\u001b[0m\u001b[0;34m\u001b[0m\u001b[0m\n\u001b[1;32m   1391\u001b[0m         \u001b[0;34m\"\"\"Search all candidates in param_grid\"\"\"\u001b[0m\u001b[0;34m\u001b[0m\u001b[0;34m\u001b[0m\u001b[0m\n\u001b[0;32m-> 1392\u001b[0;31m         \u001b[0mevaluate_candidates\u001b[0m\u001b[0;34m(\u001b[0m\u001b[0mParameterGrid\u001b[0m\u001b[0;34m(\u001b[0m\u001b[0mself\u001b[0m\u001b[0;34m.\u001b[0m\u001b[0mparam_grid\u001b[0m\u001b[0;34m)\u001b[0m\u001b[0;34m)\u001b[0m\u001b[0;34m\u001b[0m\u001b[0;34m\u001b[0m\u001b[0m\n\u001b[0m\u001b[1;32m   1393\u001b[0m \u001b[0;34m\u001b[0m\u001b[0m\n\u001b[1;32m   1394\u001b[0m \u001b[0;34m\u001b[0m\u001b[0m\n",
            "\u001b[0;32m/usr/local/lib/python3.8/dist-packages/sklearn/model_selection/_search.py\u001b[0m in \u001b[0;36mevaluate_candidates\u001b[0;34m(candidate_params, cv, more_results)\u001b[0m\n\u001b[1;32m    836\u001b[0m                     )\n\u001b[1;32m    837\u001b[0m \u001b[0;34m\u001b[0m\u001b[0m\n\u001b[0;32m--> 838\u001b[0;31m                 out = parallel(\n\u001b[0m\u001b[1;32m    839\u001b[0m                     delayed(_fit_and_score)(\n\u001b[1;32m    840\u001b[0m                         \u001b[0mclone\u001b[0m\u001b[0;34m(\u001b[0m\u001b[0mbase_estimator\u001b[0m\u001b[0;34m)\u001b[0m\u001b[0;34m,\u001b[0m\u001b[0;34m\u001b[0m\u001b[0;34m\u001b[0m\u001b[0m\n",
            "\u001b[0;32m/usr/local/lib/python3.8/dist-packages/joblib/parallel.py\u001b[0m in \u001b[0;36m__call__\u001b[0;34m(self, iterable)\u001b[0m\n\u001b[1;32m   1086\u001b[0m                 \u001b[0mself\u001b[0m\u001b[0;34m.\u001b[0m\u001b[0m_iterating\u001b[0m \u001b[0;34m=\u001b[0m \u001b[0mself\u001b[0m\u001b[0;34m.\u001b[0m\u001b[0m_original_iterator\u001b[0m \u001b[0;32mis\u001b[0m \u001b[0;32mnot\u001b[0m \u001b[0;32mNone\u001b[0m\u001b[0;34m\u001b[0m\u001b[0;34m\u001b[0m\u001b[0m\n\u001b[1;32m   1087\u001b[0m \u001b[0;34m\u001b[0m\u001b[0m\n\u001b[0;32m-> 1088\u001b[0;31m             \u001b[0;32mwhile\u001b[0m \u001b[0mself\u001b[0m\u001b[0;34m.\u001b[0m\u001b[0mdispatch_one_batch\u001b[0m\u001b[0;34m(\u001b[0m\u001b[0miterator\u001b[0m\u001b[0;34m)\u001b[0m\u001b[0;34m:\u001b[0m\u001b[0;34m\u001b[0m\u001b[0;34m\u001b[0m\u001b[0m\n\u001b[0m\u001b[1;32m   1089\u001b[0m                 \u001b[0;32mpass\u001b[0m\u001b[0;34m\u001b[0m\u001b[0;34m\u001b[0m\u001b[0m\n\u001b[1;32m   1090\u001b[0m \u001b[0;34m\u001b[0m\u001b[0m\n",
            "\u001b[0;32m/usr/local/lib/python3.8/dist-packages/joblib/parallel.py\u001b[0m in \u001b[0;36mdispatch_one_batch\u001b[0;34m(self, iterator)\u001b[0m\n\u001b[1;32m    899\u001b[0m                 \u001b[0;32mreturn\u001b[0m \u001b[0;32mFalse\u001b[0m\u001b[0;34m\u001b[0m\u001b[0;34m\u001b[0m\u001b[0m\n\u001b[1;32m    900\u001b[0m             \u001b[0;32melse\u001b[0m\u001b[0;34m:\u001b[0m\u001b[0;34m\u001b[0m\u001b[0;34m\u001b[0m\u001b[0m\n\u001b[0;32m--> 901\u001b[0;31m                 \u001b[0mself\u001b[0m\u001b[0;34m.\u001b[0m\u001b[0m_dispatch\u001b[0m\u001b[0;34m(\u001b[0m\u001b[0mtasks\u001b[0m\u001b[0;34m)\u001b[0m\u001b[0;34m\u001b[0m\u001b[0;34m\u001b[0m\u001b[0m\n\u001b[0m\u001b[1;32m    902\u001b[0m                 \u001b[0;32mreturn\u001b[0m \u001b[0;32mTrue\u001b[0m\u001b[0;34m\u001b[0m\u001b[0;34m\u001b[0m\u001b[0m\n\u001b[1;32m    903\u001b[0m \u001b[0;34m\u001b[0m\u001b[0m\n",
            "\u001b[0;32m/usr/local/lib/python3.8/dist-packages/joblib/parallel.py\u001b[0m in \u001b[0;36m_dispatch\u001b[0;34m(self, batch)\u001b[0m\n\u001b[1;32m    817\u001b[0m         \u001b[0;32mwith\u001b[0m \u001b[0mself\u001b[0m\u001b[0;34m.\u001b[0m\u001b[0m_lock\u001b[0m\u001b[0;34m:\u001b[0m\u001b[0;34m\u001b[0m\u001b[0;34m\u001b[0m\u001b[0m\n\u001b[1;32m    818\u001b[0m             \u001b[0mjob_idx\u001b[0m \u001b[0;34m=\u001b[0m \u001b[0mlen\u001b[0m\u001b[0;34m(\u001b[0m\u001b[0mself\u001b[0m\u001b[0;34m.\u001b[0m\u001b[0m_jobs\u001b[0m\u001b[0;34m)\u001b[0m\u001b[0;34m\u001b[0m\u001b[0;34m\u001b[0m\u001b[0m\n\u001b[0;32m--> 819\u001b[0;31m             \u001b[0mjob\u001b[0m \u001b[0;34m=\u001b[0m \u001b[0mself\u001b[0m\u001b[0;34m.\u001b[0m\u001b[0m_backend\u001b[0m\u001b[0;34m.\u001b[0m\u001b[0mapply_async\u001b[0m\u001b[0;34m(\u001b[0m\u001b[0mbatch\u001b[0m\u001b[0;34m,\u001b[0m \u001b[0mcallback\u001b[0m\u001b[0;34m=\u001b[0m\u001b[0mcb\u001b[0m\u001b[0;34m)\u001b[0m\u001b[0;34m\u001b[0m\u001b[0;34m\u001b[0m\u001b[0m\n\u001b[0m\u001b[1;32m    820\u001b[0m             \u001b[0;31m# A job can complete so quickly than its callback is\u001b[0m\u001b[0;34m\u001b[0m\u001b[0;34m\u001b[0m\u001b[0;34m\u001b[0m\u001b[0m\n\u001b[1;32m    821\u001b[0m             \u001b[0;31m# called before we get here, causing self._jobs to\u001b[0m\u001b[0;34m\u001b[0m\u001b[0;34m\u001b[0m\u001b[0;34m\u001b[0m\u001b[0m\n",
            "\u001b[0;32m/usr/local/lib/python3.8/dist-packages/joblib/_parallel_backends.py\u001b[0m in \u001b[0;36mapply_async\u001b[0;34m(self, func, callback)\u001b[0m\n\u001b[1;32m    206\u001b[0m     \u001b[0;32mdef\u001b[0m \u001b[0mapply_async\u001b[0m\u001b[0;34m(\u001b[0m\u001b[0mself\u001b[0m\u001b[0;34m,\u001b[0m \u001b[0mfunc\u001b[0m\u001b[0;34m,\u001b[0m \u001b[0mcallback\u001b[0m\u001b[0;34m=\u001b[0m\u001b[0;32mNone\u001b[0m\u001b[0;34m)\u001b[0m\u001b[0;34m:\u001b[0m\u001b[0;34m\u001b[0m\u001b[0;34m\u001b[0m\u001b[0m\n\u001b[1;32m    207\u001b[0m         \u001b[0;34m\"\"\"Schedule a func to be run\"\"\"\u001b[0m\u001b[0;34m\u001b[0m\u001b[0;34m\u001b[0m\u001b[0m\n\u001b[0;32m--> 208\u001b[0;31m         \u001b[0mresult\u001b[0m \u001b[0;34m=\u001b[0m \u001b[0mImmediateResult\u001b[0m\u001b[0;34m(\u001b[0m\u001b[0mfunc\u001b[0m\u001b[0;34m)\u001b[0m\u001b[0;34m\u001b[0m\u001b[0;34m\u001b[0m\u001b[0m\n\u001b[0m\u001b[1;32m    209\u001b[0m         \u001b[0;32mif\u001b[0m \u001b[0mcallback\u001b[0m\u001b[0;34m:\u001b[0m\u001b[0;34m\u001b[0m\u001b[0;34m\u001b[0m\u001b[0m\n\u001b[1;32m    210\u001b[0m             \u001b[0mcallback\u001b[0m\u001b[0;34m(\u001b[0m\u001b[0mresult\u001b[0m\u001b[0;34m)\u001b[0m\u001b[0;34m\u001b[0m\u001b[0;34m\u001b[0m\u001b[0m\n",
            "\u001b[0;32m/usr/local/lib/python3.8/dist-packages/joblib/_parallel_backends.py\u001b[0m in \u001b[0;36m__init__\u001b[0;34m(self, batch)\u001b[0m\n\u001b[1;32m    595\u001b[0m         \u001b[0;31m# Don't delay the application, to avoid keeping the input\u001b[0m\u001b[0;34m\u001b[0m\u001b[0;34m\u001b[0m\u001b[0;34m\u001b[0m\u001b[0m\n\u001b[1;32m    596\u001b[0m         \u001b[0;31m# arguments in memory\u001b[0m\u001b[0;34m\u001b[0m\u001b[0;34m\u001b[0m\u001b[0;34m\u001b[0m\u001b[0m\n\u001b[0;32m--> 597\u001b[0;31m         \u001b[0mself\u001b[0m\u001b[0;34m.\u001b[0m\u001b[0mresults\u001b[0m \u001b[0;34m=\u001b[0m \u001b[0mbatch\u001b[0m\u001b[0;34m(\u001b[0m\u001b[0;34m)\u001b[0m\u001b[0;34m\u001b[0m\u001b[0;34m\u001b[0m\u001b[0m\n\u001b[0m\u001b[1;32m    598\u001b[0m \u001b[0;34m\u001b[0m\u001b[0m\n\u001b[1;32m    599\u001b[0m     \u001b[0;32mdef\u001b[0m \u001b[0mget\u001b[0m\u001b[0;34m(\u001b[0m\u001b[0mself\u001b[0m\u001b[0;34m)\u001b[0m\u001b[0;34m:\u001b[0m\u001b[0;34m\u001b[0m\u001b[0;34m\u001b[0m\u001b[0m\n",
            "\u001b[0;32m/usr/local/lib/python3.8/dist-packages/joblib/parallel.py\u001b[0m in \u001b[0;36m__call__\u001b[0;34m(self)\u001b[0m\n\u001b[1;32m    286\u001b[0m         \u001b[0;31m# change the default number of processes to -1\u001b[0m\u001b[0;34m\u001b[0m\u001b[0;34m\u001b[0m\u001b[0;34m\u001b[0m\u001b[0m\n\u001b[1;32m    287\u001b[0m         \u001b[0;32mwith\u001b[0m \u001b[0mparallel_backend\u001b[0m\u001b[0;34m(\u001b[0m\u001b[0mself\u001b[0m\u001b[0;34m.\u001b[0m\u001b[0m_backend\u001b[0m\u001b[0;34m,\u001b[0m \u001b[0mn_jobs\u001b[0m\u001b[0;34m=\u001b[0m\u001b[0mself\u001b[0m\u001b[0;34m.\u001b[0m\u001b[0m_n_jobs\u001b[0m\u001b[0;34m)\u001b[0m\u001b[0;34m:\u001b[0m\u001b[0;34m\u001b[0m\u001b[0;34m\u001b[0m\u001b[0m\n\u001b[0;32m--> 288\u001b[0;31m             return [func(*args, **kwargs)\n\u001b[0m\u001b[1;32m    289\u001b[0m                     for func, args, kwargs in self.items]\n\u001b[1;32m    290\u001b[0m \u001b[0;34m\u001b[0m\u001b[0m\n",
            "\u001b[0;32m/usr/local/lib/python3.8/dist-packages/joblib/parallel.py\u001b[0m in \u001b[0;36m<listcomp>\u001b[0;34m(.0)\u001b[0m\n\u001b[1;32m    286\u001b[0m         \u001b[0;31m# change the default number of processes to -1\u001b[0m\u001b[0;34m\u001b[0m\u001b[0;34m\u001b[0m\u001b[0;34m\u001b[0m\u001b[0m\n\u001b[1;32m    287\u001b[0m         \u001b[0;32mwith\u001b[0m \u001b[0mparallel_backend\u001b[0m\u001b[0;34m(\u001b[0m\u001b[0mself\u001b[0m\u001b[0;34m.\u001b[0m\u001b[0m_backend\u001b[0m\u001b[0;34m,\u001b[0m \u001b[0mn_jobs\u001b[0m\u001b[0;34m=\u001b[0m\u001b[0mself\u001b[0m\u001b[0;34m.\u001b[0m\u001b[0m_n_jobs\u001b[0m\u001b[0;34m)\u001b[0m\u001b[0;34m:\u001b[0m\u001b[0;34m\u001b[0m\u001b[0;34m\u001b[0m\u001b[0m\n\u001b[0;32m--> 288\u001b[0;31m             return [func(*args, **kwargs)\n\u001b[0m\u001b[1;32m    289\u001b[0m                     for func, args, kwargs in self.items]\n\u001b[1;32m    290\u001b[0m \u001b[0;34m\u001b[0m\u001b[0m\n",
            "\u001b[0;32m/usr/local/lib/python3.8/dist-packages/sklearn/utils/fixes.py\u001b[0m in \u001b[0;36m__call__\u001b[0;34m(self, *args, **kwargs)\u001b[0m\n\u001b[1;32m    214\u001b[0m     \u001b[0;32mdef\u001b[0m \u001b[0m__call__\u001b[0m\u001b[0;34m(\u001b[0m\u001b[0mself\u001b[0m\u001b[0;34m,\u001b[0m \u001b[0;34m*\u001b[0m\u001b[0margs\u001b[0m\u001b[0;34m,\u001b[0m \u001b[0;34m**\u001b[0m\u001b[0mkwargs\u001b[0m\u001b[0;34m)\u001b[0m\u001b[0;34m:\u001b[0m\u001b[0;34m\u001b[0m\u001b[0;34m\u001b[0m\u001b[0m\n\u001b[1;32m    215\u001b[0m         \u001b[0;32mwith\u001b[0m \u001b[0mconfig_context\u001b[0m\u001b[0;34m(\u001b[0m\u001b[0;34m**\u001b[0m\u001b[0mself\u001b[0m\u001b[0;34m.\u001b[0m\u001b[0mconfig\u001b[0m\u001b[0;34m)\u001b[0m\u001b[0;34m:\u001b[0m\u001b[0;34m\u001b[0m\u001b[0;34m\u001b[0m\u001b[0m\n\u001b[0;32m--> 216\u001b[0;31m             \u001b[0;32mreturn\u001b[0m \u001b[0mself\u001b[0m\u001b[0;34m.\u001b[0m\u001b[0mfunction\u001b[0m\u001b[0;34m(\u001b[0m\u001b[0;34m*\u001b[0m\u001b[0margs\u001b[0m\u001b[0;34m,\u001b[0m \u001b[0;34m**\u001b[0m\u001b[0mkwargs\u001b[0m\u001b[0;34m)\u001b[0m\u001b[0;34m\u001b[0m\u001b[0;34m\u001b[0m\u001b[0m\n\u001b[0m\u001b[1;32m    217\u001b[0m \u001b[0;34m\u001b[0m\u001b[0m\n\u001b[1;32m    218\u001b[0m \u001b[0;34m\u001b[0m\u001b[0m\n",
            "\u001b[0;32m/usr/local/lib/python3.8/dist-packages/sklearn/model_selection/_validation.py\u001b[0m in \u001b[0;36m_fit_and_score\u001b[0;34m(estimator, X, y, scorer, train, test, verbose, parameters, fit_params, return_train_score, return_parameters, return_n_test_samples, return_times, return_estimator, split_progress, candidate_progress, error_score)\u001b[0m\n\u001b[1;32m    678\u001b[0m             \u001b[0mestimator\u001b[0m\u001b[0;34m.\u001b[0m\u001b[0mfit\u001b[0m\u001b[0;34m(\u001b[0m\u001b[0mX_train\u001b[0m\u001b[0;34m,\u001b[0m \u001b[0;34m**\u001b[0m\u001b[0mfit_params\u001b[0m\u001b[0;34m)\u001b[0m\u001b[0;34m\u001b[0m\u001b[0;34m\u001b[0m\u001b[0m\n\u001b[1;32m    679\u001b[0m         \u001b[0;32melse\u001b[0m\u001b[0;34m:\u001b[0m\u001b[0;34m\u001b[0m\u001b[0;34m\u001b[0m\u001b[0m\n\u001b[0;32m--> 680\u001b[0;31m             \u001b[0mestimator\u001b[0m\u001b[0;34m.\u001b[0m\u001b[0mfit\u001b[0m\u001b[0;34m(\u001b[0m\u001b[0mX_train\u001b[0m\u001b[0;34m,\u001b[0m \u001b[0my_train\u001b[0m\u001b[0;34m,\u001b[0m \u001b[0;34m**\u001b[0m\u001b[0mfit_params\u001b[0m\u001b[0;34m)\u001b[0m\u001b[0;34m\u001b[0m\u001b[0;34m\u001b[0m\u001b[0m\n\u001b[0m\u001b[1;32m    681\u001b[0m \u001b[0;34m\u001b[0m\u001b[0m\n\u001b[1;32m    682\u001b[0m     \u001b[0;32mexcept\u001b[0m \u001b[0mException\u001b[0m\u001b[0;34m:\u001b[0m\u001b[0;34m\u001b[0m\u001b[0;34m\u001b[0m\u001b[0m\n",
            "\u001b[0;32m/usr/local/lib/python3.8/dist-packages/xgboost/core.py\u001b[0m in \u001b[0;36minner_f\u001b[0;34m(*args, **kwargs)\u001b[0m\n\u001b[1;32m    618\u001b[0m             \u001b[0;32mfor\u001b[0m \u001b[0mk\u001b[0m\u001b[0;34m,\u001b[0m \u001b[0marg\u001b[0m \u001b[0;32min\u001b[0m \u001b[0mzip\u001b[0m\u001b[0;34m(\u001b[0m\u001b[0msig\u001b[0m\u001b[0;34m.\u001b[0m\u001b[0mparameters\u001b[0m\u001b[0;34m,\u001b[0m \u001b[0margs\u001b[0m\u001b[0;34m)\u001b[0m\u001b[0;34m:\u001b[0m\u001b[0;34m\u001b[0m\u001b[0;34m\u001b[0m\u001b[0m\n\u001b[1;32m    619\u001b[0m                 \u001b[0mkwargs\u001b[0m\u001b[0;34m[\u001b[0m\u001b[0mk\u001b[0m\u001b[0;34m]\u001b[0m \u001b[0;34m=\u001b[0m \u001b[0marg\u001b[0m\u001b[0;34m\u001b[0m\u001b[0;34m\u001b[0m\u001b[0m\n\u001b[0;32m--> 620\u001b[0;31m             \u001b[0;32mreturn\u001b[0m \u001b[0mfunc\u001b[0m\u001b[0;34m(\u001b[0m\u001b[0;34m**\u001b[0m\u001b[0mkwargs\u001b[0m\u001b[0;34m)\u001b[0m\u001b[0;34m\u001b[0m\u001b[0;34m\u001b[0m\u001b[0m\n\u001b[0m\u001b[1;32m    621\u001b[0m \u001b[0;34m\u001b[0m\u001b[0m\n\u001b[1;32m    622\u001b[0m         \u001b[0;32mreturn\u001b[0m \u001b[0minner_f\u001b[0m\u001b[0;34m\u001b[0m\u001b[0;34m\u001b[0m\u001b[0m\n",
            "\u001b[0;32m/usr/local/lib/python3.8/dist-packages/xgboost/sklearn.py\u001b[0m in \u001b[0;36mfit\u001b[0;34m(self, X, y, sample_weight, base_margin, eval_set, eval_metric, early_stopping_rounds, verbose, xgb_model, sample_weight_eval_set, base_margin_eval_set, feature_weights, callbacks)\u001b[0m\n\u001b[1;32m   1488\u001b[0m             )\n\u001b[1;32m   1489\u001b[0m \u001b[0;34m\u001b[0m\u001b[0m\n\u001b[0;32m-> 1490\u001b[0;31m             self._Booster = train(\n\u001b[0m\u001b[1;32m   1491\u001b[0m                 \u001b[0mparams\u001b[0m\u001b[0;34m,\u001b[0m\u001b[0;34m\u001b[0m\u001b[0;34m\u001b[0m\u001b[0m\n\u001b[1;32m   1492\u001b[0m                 \u001b[0mtrain_dmatrix\u001b[0m\u001b[0;34m,\u001b[0m\u001b[0;34m\u001b[0m\u001b[0;34m\u001b[0m\u001b[0m\n",
            "\u001b[0;32m/usr/local/lib/python3.8/dist-packages/xgboost/core.py\u001b[0m in \u001b[0;36minner_f\u001b[0;34m(*args, **kwargs)\u001b[0m\n\u001b[1;32m    618\u001b[0m             \u001b[0;32mfor\u001b[0m \u001b[0mk\u001b[0m\u001b[0;34m,\u001b[0m \u001b[0marg\u001b[0m \u001b[0;32min\u001b[0m \u001b[0mzip\u001b[0m\u001b[0;34m(\u001b[0m\u001b[0msig\u001b[0m\u001b[0;34m.\u001b[0m\u001b[0mparameters\u001b[0m\u001b[0;34m,\u001b[0m \u001b[0margs\u001b[0m\u001b[0;34m)\u001b[0m\u001b[0;34m:\u001b[0m\u001b[0;34m\u001b[0m\u001b[0;34m\u001b[0m\u001b[0m\n\u001b[1;32m    619\u001b[0m                 \u001b[0mkwargs\u001b[0m\u001b[0;34m[\u001b[0m\u001b[0mk\u001b[0m\u001b[0;34m]\u001b[0m \u001b[0;34m=\u001b[0m \u001b[0marg\u001b[0m\u001b[0;34m\u001b[0m\u001b[0;34m\u001b[0m\u001b[0m\n\u001b[0;32m--> 620\u001b[0;31m             \u001b[0;32mreturn\u001b[0m \u001b[0mfunc\u001b[0m\u001b[0;34m(\u001b[0m\u001b[0;34m**\u001b[0m\u001b[0mkwargs\u001b[0m\u001b[0;34m)\u001b[0m\u001b[0;34m\u001b[0m\u001b[0;34m\u001b[0m\u001b[0m\n\u001b[0m\u001b[1;32m    621\u001b[0m \u001b[0;34m\u001b[0m\u001b[0m\n\u001b[1;32m    622\u001b[0m         \u001b[0;32mreturn\u001b[0m \u001b[0minner_f\u001b[0m\u001b[0;34m\u001b[0m\u001b[0;34m\u001b[0m\u001b[0m\n",
            "\u001b[0;32m/usr/local/lib/python3.8/dist-packages/xgboost/training.py\u001b[0m in \u001b[0;36mtrain\u001b[0;34m(params, dtrain, num_boost_round, evals, obj, feval, maximize, early_stopping_rounds, evals_result, verbose_eval, xgb_model, callbacks, custom_metric)\u001b[0m\n\u001b[1;32m    183\u001b[0m         \u001b[0;32mif\u001b[0m \u001b[0mcb_container\u001b[0m\u001b[0;34m.\u001b[0m\u001b[0mbefore_iteration\u001b[0m\u001b[0;34m(\u001b[0m\u001b[0mbst\u001b[0m\u001b[0;34m,\u001b[0m \u001b[0mi\u001b[0m\u001b[0;34m,\u001b[0m \u001b[0mdtrain\u001b[0m\u001b[0;34m,\u001b[0m \u001b[0mevals\u001b[0m\u001b[0;34m)\u001b[0m\u001b[0;34m:\u001b[0m\u001b[0;34m\u001b[0m\u001b[0;34m\u001b[0m\u001b[0m\n\u001b[1;32m    184\u001b[0m             \u001b[0;32mbreak\u001b[0m\u001b[0;34m\u001b[0m\u001b[0;34m\u001b[0m\u001b[0m\n\u001b[0;32m--> 185\u001b[0;31m         \u001b[0mbst\u001b[0m\u001b[0;34m.\u001b[0m\u001b[0mupdate\u001b[0m\u001b[0;34m(\u001b[0m\u001b[0mdtrain\u001b[0m\u001b[0;34m,\u001b[0m \u001b[0mi\u001b[0m\u001b[0;34m,\u001b[0m \u001b[0mobj\u001b[0m\u001b[0;34m)\u001b[0m\u001b[0;34m\u001b[0m\u001b[0;34m\u001b[0m\u001b[0m\n\u001b[0m\u001b[1;32m    186\u001b[0m         \u001b[0;32mif\u001b[0m \u001b[0mcb_container\u001b[0m\u001b[0;34m.\u001b[0m\u001b[0mafter_iteration\u001b[0m\u001b[0;34m(\u001b[0m\u001b[0mbst\u001b[0m\u001b[0;34m,\u001b[0m \u001b[0mi\u001b[0m\u001b[0;34m,\u001b[0m \u001b[0mdtrain\u001b[0m\u001b[0;34m,\u001b[0m \u001b[0mevals\u001b[0m\u001b[0;34m)\u001b[0m\u001b[0;34m:\u001b[0m\u001b[0;34m\u001b[0m\u001b[0;34m\u001b[0m\u001b[0m\n\u001b[1;32m    187\u001b[0m             \u001b[0;32mbreak\u001b[0m\u001b[0;34m\u001b[0m\u001b[0;34m\u001b[0m\u001b[0m\n",
            "\u001b[0;32m/usr/local/lib/python3.8/dist-packages/xgboost/core.py\u001b[0m in \u001b[0;36mupdate\u001b[0;34m(self, dtrain, iteration, fobj)\u001b[0m\n\u001b[1;32m   1916\u001b[0m \u001b[0;34m\u001b[0m\u001b[0m\n\u001b[1;32m   1917\u001b[0m         \u001b[0;32mif\u001b[0m \u001b[0mfobj\u001b[0m \u001b[0;32mis\u001b[0m \u001b[0;32mNone\u001b[0m\u001b[0;34m:\u001b[0m\u001b[0;34m\u001b[0m\u001b[0;34m\u001b[0m\u001b[0m\n\u001b[0;32m-> 1918\u001b[0;31m             _check_call(_LIB.XGBoosterUpdateOneIter(self.handle,\n\u001b[0m\u001b[1;32m   1919\u001b[0m                                                     \u001b[0mctypes\u001b[0m\u001b[0;34m.\u001b[0m\u001b[0mc_int\u001b[0m\u001b[0;34m(\u001b[0m\u001b[0miteration\u001b[0m\u001b[0;34m)\u001b[0m\u001b[0;34m,\u001b[0m\u001b[0;34m\u001b[0m\u001b[0;34m\u001b[0m\u001b[0m\n\u001b[1;32m   1920\u001b[0m                                                     dtrain.handle))\n",
            "\u001b[0;31mKeyboardInterrupt\u001b[0m: "
          ]
        }
      ]
    },
    {
      "cell_type": "markdown",
      "source": [
        "## Test Model3 : Random Forest Classifier"
      ],
      "metadata": {
        "id": "EZ5oq83BJkZd"
      },
      "id": "EZ5oq83BJkZd"
    },
    {
      "cell_type": "code",
      "source": [
        "#RF_clf = RandomForestClassifier(n_estimators=10)\n",
        "#RF_clf.fit(X_train,y_train)\n",
        "n_estimators = [10, 20, 50, 100, 200]\n",
        "max_depth = [int(x) for x in np.linspace(1,10,10)]\n",
        "\n",
        "param_grid = [{\"n_estimators\":n_estimators, \"max_depth\":max_depth}]\n",
        "gs_rf=GridSearchCV(RandomForestClassifier(),param_grid=param_grid,cv=cv,\n",
        "                scoring=scoring,return_train_score=True)\n",
        "gs_rf.fit(X_train_all,y_train_all)\n"
      ],
      "metadata": {
        "colab": {
          "base_uri": "https://localhost:8080/"
        },
        "id": "xkxWHmD7LeMA",
        "outputId": "28546287-c78b-44b7-aa80-0221665601de"
      },
      "id": "xkxWHmD7LeMA",
      "execution_count": 32,
      "outputs": [
        {
          "output_type": "execute_result",
          "data": {
            "text/plain": [
              "GridSearchCV(cv=10, estimator=RandomForestClassifier(),\n",
              "             param_grid=[{'max_depth': [1, 2, 3, 4, 5, 6, 7, 8, 9, 10],\n",
              "                          'n_estimators': [10, 20, 50, 100, 200]}],\n",
              "             return_train_score=True, scoring='accuracy')"
            ]
          },
          "metadata": {},
          "execution_count": 32
        }
      ]
    },
    {
      "cell_type": "markdown",
      "source": [
        "## Test Model4 : LightGBM Classifier"
      ],
      "metadata": {
        "id": "telGyKCmJk8V"
      },
      "id": "telGyKCmJk8V"
    },
    {
      "cell_type": "code",
      "source": [
        "#RF_clf = RandomForestClassifier(n_estimators=10)\n",
        "#RF_clf.fit(X_train,y_train)\n",
        "n_estimators = [10, 20, 50, 100, 200]\n",
        "max_depth = [int(x) for x in np.linspace(1,10,10)]\n",
        "\n",
        "param_grid = [{\"n_estimators\":n_estimators, \"max_depth\":max_depth}]\n",
        "gs_lgbm=GridSearchCV(LGBMClassifier(),param_grid=param_grid,cv=cv,\n",
        "                scoring=scoring,return_train_score=True)\n",
        "gs_lgbm.fit(X_train_all,y_train_all)\n"
      ],
      "metadata": {
        "colab": {
          "base_uri": "https://localhost:8080/"
        },
        "id": "It_tRkvOLyQX",
        "outputId": "d8f2ee77-57b7-4d3f-c624-010d4d6f780f"
      },
      "id": "It_tRkvOLyQX",
      "execution_count": 33,
      "outputs": [
        {
          "output_type": "execute_result",
          "data": {
            "text/plain": [
              "GridSearchCV(cv=10, estimator=LGBMClassifier(),\n",
              "             param_grid=[{'max_depth': [1, 2, 3, 4, 5, 6, 7, 8, 9, 10],\n",
              "                          'n_estimators': [10, 20, 50, 100, 200]}],\n",
              "             return_train_score=True, scoring='accuracy')"
            ]
          },
          "metadata": {},
          "execution_count": 33
        }
      ]
    },
    {
      "cell_type": "code",
      "source": [],
      "metadata": {
        "id": "oeigMnVfJlmp"
      },
      "id": "oeigMnVfJlmp",
      "execution_count": 33,
      "outputs": []
    },
    {
      "cell_type": "code",
      "execution_count": 36,
      "id": "11cc4cf4",
      "metadata": {
        "colab": {
          "base_uri": "https://localhost:8080/"
        },
        "id": "11cc4cf4",
        "outputId": "86c847c1-ab47-490d-8ff6-2d31b370359f"
      },
      "outputs": [
        {
          "output_type": "stream",
          "name": "stdout",
          "text": [
            "                     Logistic Regression\n",
            "              precision    recall  f1-score   support\n",
            "\n",
            "           0      0.967     0.992     0.979      1320\n",
            "           1      0.000     0.000     0.000        44\n",
            "\n",
            "    accuracy                          0.960      1364\n",
            "   macro avg      0.484     0.496     0.490      1364\n",
            "weighted avg      0.936     0.960     0.948      1364\n",
            "\n",
            "                     XGBoost Classifier\n",
            "              precision    recall  f1-score   support\n",
            "\n",
            "           0      0.973     0.997     0.985      1320\n",
            "           1      0.667     0.182     0.286        44\n",
            "\n",
            "    accuracy                          0.971      1364\n",
            "   macro avg      0.820     0.589     0.635      1364\n",
            "weighted avg      0.963     0.971     0.962      1364\n",
            "\n",
            "                     RandomForest Classifier\n",
            "              precision    recall  f1-score   support\n",
            "\n",
            "           0      0.976     0.998     0.987      1320\n",
            "           1      0.786     0.250     0.379        44\n",
            "\n",
            "    accuracy                          0.974      1364\n",
            "   macro avg      0.881     0.624     0.683      1364\n",
            "weighted avg      0.969     0.974     0.967      1364\n",
            "\n",
            "                     LightGBM Classifier\n",
            "              precision    recall  f1-score   support\n",
            "\n",
            "           0      0.977     0.996     0.986      1320\n",
            "           1      0.722     0.295     0.419        44\n",
            "\n",
            "    accuracy                          0.974      1364\n",
            "   macro avg      0.850     0.646     0.703      1364\n",
            "weighted avg      0.969     0.974     0.968      1364\n",
            "\n"
          ]
        }
      ],
      "source": [
        "pred_y_lr = gs_lr.predict(X_test)\n",
        "print(\" \"*20,\"Logistic Regression\")\n",
        "print(classification_report(y_test,pred_y_lr,digits=3))\n",
        "\n",
        "#pred_y_xg = gs_xg.predict(X_test)\n",
        "pred_y_xg = xgb1.predict(X_test)\n",
        "print(\" \"*20,\"XGBoost Classifier\")\n",
        "print(classification_report(y_test,pred_y_xg,digits=3))\n",
        "\n",
        "pred_y_rf = gs_rf.predict(X_test)\n",
        "print(\" \"*20,\"RandomForest Classifier\")\n",
        "print(classification_report(y_test,pred_y_rf,digits=3))\n",
        "\n",
        "pred_y_lgbm = gs_lgbm.predict(X_test)\n",
        "print(\" \"*20,\"LightGBM Classifier\")\n",
        "print(classification_report(y_test,pred_y_lgbm,digits=3))"
      ]
    },
    {
      "cell_type": "code",
      "source": [
        "from sklearn.metrics import ConfusionMatrixDisplay"
      ],
      "metadata": {
        "id": "IwtPPuaW0e3z"
      },
      "id": "IwtPPuaW0e3z",
      "execution_count": 37,
      "outputs": []
    },
    {
      "cell_type": "code",
      "source": [
        "fig, ax =plt.subplots(1,4,figsize=(22,5))\n",
        "\n",
        "ConfusionMatrixDisplay.from_predictions(y_test,pred_y_lr,\n",
        "                                       colorbar=False, ax=ax[0],cmap=plt.cm.Blues,\n",
        "                                       display_labels=['False','True'])\n",
        "\n",
        "ConfusionMatrixDisplay.from_predictions(y_test,pred_y_xg,\n",
        "                                       colorbar=False, ax=ax[1],cmap=plt.cm.Blues,\n",
        "                                       display_labels=['False','True'])\n",
        "\n",
        "ConfusionMatrixDisplay.from_predictions(y_test,pred_y_rf,\n",
        "                                       colorbar=False, ax=ax[2],cmap=plt.cm.Blues,\n",
        "                                       display_labels=['False','True'])\n",
        "\n",
        "ConfusionMatrixDisplay.from_predictions(y_test,pred_y_lgbm,\n",
        "                                       colorbar=False, ax=ax[3],cmap=plt.cm.Blues,\n",
        "                                       display_labels=['False','True'])"
      ],
      "metadata": {
        "colab": {
          "base_uri": "https://localhost:8080/",
          "height": 305
        },
        "id": "K6nAmrGS1MjD",
        "outputId": "8bb37443-d980-4409-810e-8f8bd62dae05"
      },
      "id": "K6nAmrGS1MjD",
      "execution_count": 38,
      "outputs": [
        {
          "output_type": "execute_result",
          "data": {
            "text/plain": [
              "<sklearn.metrics._plot.confusion_matrix.ConfusionMatrixDisplay at 0x7fb0040d9ac0>"
            ]
          },
          "metadata": {},
          "execution_count": 38
        },
        {
          "output_type": "display_data",
          "data": {
            "text/plain": [
              "<Figure size 1584x360 with 4 Axes>"
            ],
            "image/png": "[encoded data removed]"
          },
          "metadata": {
            "needs_background": "light"
          }
        }
      ]
    },
    {
      "cell_type": "markdown",
      "source": [
        "# Bayesian Optimization"
      ],
      "metadata": {
        "id": "L_QceVEftftF"
      },
      "id": "L_QceVEftftF"
    },
    {
      "cell_type": "code",
      "source": [
        "cat_features = data_csv.select_dtypes(['object']).columns.to_list()"
      ],
      "metadata": {
        "id": "yweq5eoW0DnX"
      },
      "id": "yweq5eoW0DnX",
      "execution_count": 59,
      "outputs": []
    },
    {
      "cell_type": "code",
      "source": [
        "data_csv.dtypes.value_counts()"
      ],
      "metadata": {
        "colab": {
          "base_uri": "https://localhost:8080/"
        },
        "id": "h_FimI7T4zr-",
        "outputId": "fb41100a-6c64-454c-9145-b82060ee5af7"
      },
      "id": "h_FimI7T4zr-",
      "execution_count": 60,
      "outputs": [
        {
          "output_type": "execute_result",
          "data": {
            "text/plain": [
              "float64    93\n",
              "int64       2\n",
              "dtype: int64"
            ]
          },
          "metadata": {},
          "execution_count": 60
        }
      ]
    },
    {
      "cell_type": "code",
      "source": [
        "XY_train_lgb = lgb.Dataset(X_train_all, label=y_train_all, categorical_feature = cat_features, free_raw_data=False)\n",
        "XY_test_lgb = lgb.Dataset(X_test, label=y_test, categorical_feature = cat_features, free_raw_data=False)"
      ],
      "metadata": {
        "id": "7pgiqKoz0OiC"
      },
      "id": "7pgiqKoz0OiC",
      "execution_count": 61,
      "outputs": []
    },
    {
      "cell_type": "code",
      "source": [
        "def search_best_param(X,y):\n",
        "  XY_train = lgb.Dataset(data=X,label=y, free_raw_data =False)\n",
        "\n",
        "  def lightGBM_CV(max_depth, num_leaves, n_estimators, learning_rate, subsample, colsample_bytree, lambda_l1, lambda_l2, min_child_weight):\n",
        "    params = {'boosting_type': 'gbdt', 'objective':'binary','metric':'auc','verbose':-1,'early_stopping_round':100}\n",
        "    params['max_depth'] = int(round(max_depth))\n",
        "    params['num_leaves'] = int(round(num_leaves))\n",
        "    params['n_estimators'] = int(round(n_estimators))\n",
        "    params['learning_rate'] = learning_rate\n",
        "    params['subsample'] = subsample\n",
        "    params['colsample_bytree']=colsample_bytree\n",
        "    params['lambda_l1'] = max(lambda_l1,0)\n",
        "    params['lambda_l2'] = max(lambda_l2,0)\n",
        "    params['min_child_weight'] = min_child_weight\n",
        "\n",
        "    score = lgb.cv(params, XY_train, nfold= 5, seed=1, stratified =True, verbose_eval=False, metrics=['auc'])\n",
        "    return np.mean(score['auc-mean'])\n",
        "\n",
        "  lightGBM_Bo = BayesianOptimization(lightGBM_CV,\n",
        "                                     {'max_depth': (5, 50), 'num_leaves': (20, 100), 'n_estimators': (50, 500),\n",
        "                                      'learning_rate' : (0.01,0.3), 'subsample': (0.7, 0.8), 'colsample_bytree': (0.5,0.99),\n",
        "                                      'lambda_l1': (0,5), 'lambda_l2': (0,3), 'min_child_weight': (2,50)}, random_state=1, verbose=3)\n",
        "  #np.random.seed(1)\n",
        "  lightGBM_Bo.maximize(init_points=5,n_iter=5)\n",
        "  params_set = lightGBM_Bo.max['params']\n",
        "\n",
        "  max_target = -np.inf\n",
        "\n",
        "  for i in lightGBM_Bo.res:\n",
        "    if i['target'] > max_target:\n",
        "      params_set = i['params']\n",
        "      max_target = i['target']\n",
        "  params_set.update({'verbose':-1})\n",
        "  params_set.update({'metric':'auc'})\n",
        "  params_set.update({'boosting_type':'gbdt'})\n",
        "  params_set.update({'objective':'binary'})\n",
        "\n",
        "  params_set['max_depth'] = int(round(params_set['max_depth']))\n",
        "  params_set['num_leaves'] = int(round(params_set['num_leaves']))\n",
        "  params_set['n_estimators'] = int(round(params_set['n_estimators']))\n",
        "  params_set['seed'] = 1\n",
        "\n",
        "  return params_set"
      ],
      "metadata": {
        "id": "kAaxJ9Y6tffU"
      },
      "id": "kAaxJ9Y6tffU",
      "execution_count": 73,
      "outputs": []
    },
    {
      "cell_type": "code",
      "source": [
        "best_params = search_best_param(X_train_all,y_train_all)"
      ],
      "metadata": {
        "colab": {
          "base_uri": "https://localhost:8080/"
        },
        "id": "Fpom7yi0tY8G",
        "outputId": "3d1b2d21-efb1-47d7-cde6-890ab223c748"
      },
      "id": "Fpom7yi0tY8G",
      "execution_count": 74,
      "outputs": [
        {
          "output_type": "stream",
          "name": "stdout",
          "text": [
            "|   iter    |  target   | colsam... | lambda_l1 | lambda_l2 | learni... | max_depth | min_ch... | n_esti... | num_le... | subsample |\n",
            "-------------------------------------------------------------------------------------------------------------------------------------\n",
            "| \u001b[0m1        \u001b[0m | \u001b[0m0.9417   \u001b[0m | \u001b[0m0.7043   \u001b[0m | \u001b[0m3.602    \u001b[0m | \u001b[0m0.0003431\u001b[0m | \u001b[0m0.09768  \u001b[0m | \u001b[0m11.6     \u001b[0m | \u001b[0m6.432    \u001b[0m | \u001b[0m133.8    \u001b[0m | \u001b[0m47.64    \u001b[0m | \u001b[0m0.7397   \u001b[0m |\n",
            "| \u001b[0m2        \u001b[0m | \u001b[0m0.9394   \u001b[0m | \u001b[0m0.764    \u001b[0m | \u001b[0m2.096    \u001b[0m | \u001b[0m2.056    \u001b[0m | \u001b[0m0.06929  \u001b[0m | \u001b[0m44.52    \u001b[0m | \u001b[0m3.315    \u001b[0m | \u001b[0m351.7    \u001b[0m | \u001b[0m53.38    \u001b[0m | \u001b[0m0.7559   \u001b[0m |\n",
            "| \u001b[0m3        \u001b[0m | \u001b[0m0.9374   \u001b[0m | \u001b[0m0.5688   \u001b[0m | \u001b[0m0.9905   \u001b[0m | \u001b[0m2.402    \u001b[0m | \u001b[0m0.2908   \u001b[0m | \u001b[0m19.1     \u001b[0m | \u001b[0m35.23    \u001b[0m | \u001b[0m444.4    \u001b[0m | \u001b[0m91.57    \u001b[0m | \u001b[0m0.7085   \u001b[0m |\n",
            "| \u001b[0m4        \u001b[0m | \u001b[0m0.9316   \u001b[0m | \u001b[0m0.5191   \u001b[0m | \u001b[0m0.8492   \u001b[0m | \u001b[0m2.634    \u001b[0m | \u001b[0m0.03852  \u001b[0m | \u001b[0m23.95    \u001b[0m | \u001b[0m47.98    \u001b[0m | \u001b[0m289.9    \u001b[0m | \u001b[0m75.35    \u001b[0m | \u001b[0m0.7316   \u001b[0m |\n",
            "| \u001b[0m5        \u001b[0m | \u001b[0m0.9365   \u001b[0m | \u001b[0m0.8364   \u001b[0m | \u001b[0m4.173    \u001b[0m | \u001b[0m0.05486  \u001b[0m | \u001b[0m0.2275   \u001b[0m | \u001b[0m49.5     \u001b[0m | \u001b[0m37.91    \u001b[0m | \u001b[0m176.2    \u001b[0m | \u001b[0m83.14    \u001b[0m | \u001b[0m0.7103   \u001b[0m |\n",
            "| \u001b[0m6        \u001b[0m | \u001b[0m0.9352   \u001b[0m | \u001b[0m0.6843   \u001b[0m | \u001b[0m3.497    \u001b[0m | \u001b[0m0.9324   \u001b[0m | \u001b[0m0.2973   \u001b[0m | \u001b[0m8.759    \u001b[0m | \u001b[0m4.318    \u001b[0m | \u001b[0m135.0    \u001b[0m | \u001b[0m42.07    \u001b[0m | \u001b[0m0.707    \u001b[0m |\n",
            "| \u001b[0m7        \u001b[0m | \u001b[0m0.9394   \u001b[0m | \u001b[0m0.5797   \u001b[0m | \u001b[0m2.022    \u001b[0m | \u001b[0m1.013    \u001b[0m | \u001b[0m0.09415  \u001b[0m | \u001b[0m19.66    \u001b[0m | \u001b[0m36.12    \u001b[0m | \u001b[0m444.1    \u001b[0m | \u001b[0m91.47    \u001b[0m | \u001b[0m0.7653   \u001b[0m |\n",
            "| \u001b[0m8        \u001b[0m | \u001b[0m0.9392   \u001b[0m | \u001b[0m0.6511   \u001b[0m | \u001b[0m4.038    \u001b[0m | \u001b[0m1.491    \u001b[0m | \u001b[0m0.1441   \u001b[0m | \u001b[0m5.631    \u001b[0m | \u001b[0m5.997    \u001b[0m | \u001b[0m132.5    \u001b[0m | \u001b[0m51.99    \u001b[0m | \u001b[0m0.7104   \u001b[0m |\n",
            "| \u001b[0m9        \u001b[0m | \u001b[0m0.9373   \u001b[0m | \u001b[0m0.6548   \u001b[0m | \u001b[0m4.944    \u001b[0m | \u001b[0m1.02     \u001b[0m | \u001b[0m0.03634  \u001b[0m | \u001b[0m18.72    \u001b[0m | \u001b[0m36.92    \u001b[0m | \u001b[0m444.3    \u001b[0m | \u001b[0m91.53    \u001b[0m | \u001b[0m0.7815   \u001b[0m |\n",
            "| \u001b[0m10       \u001b[0m | \u001b[0m0.9355   \u001b[0m | \u001b[0m0.9129   \u001b[0m | \u001b[0m1.208    \u001b[0m | \u001b[0m2.668    \u001b[0m | \u001b[0m0.2281   \u001b[0m | \u001b[0m43.2     \u001b[0m | \u001b[0m2.08     \u001b[0m | \u001b[0m345.0    \u001b[0m | \u001b[0m50.99    \u001b[0m | \u001b[0m0.7913   \u001b[0m |\n",
            "=====================================================================================================================================\n"
          ]
        }
      ]
    },
    {
      "cell_type": "code",
      "source": [
        "for key, value in best_params.items():\n",
        "  print(key, ' : ',value)"
      ],
      "metadata": {
        "id": "drt_y3i51Yj1",
        "colab": {
          "base_uri": "https://localhost:8080/"
        },
        "outputId": "0546a3b9-0cd7-4e74-e8aa-0fb2da7cab75"
      },
      "id": "drt_y3i51Yj1",
      "execution_count": 75,
      "outputs": [
        {
          "output_type": "stream",
          "name": "stdout",
          "text": [
            "colsample_bytree  :  0.7043407823042612\n",
            "lambda_l1  :  3.6016224672107904\n",
            "lambda_l2  :  0.0003431244520346599\n",
            "learning_rate  :  0.09767644606323352\n",
            "max_depth  :  12\n",
            "min_child_weight  :  6.432252548902294\n",
            "n_estimators  :  134\n",
            "num_leaves  :  48\n",
            "subsample  :  0.739676747423067\n",
            "verbose  :  -1\n",
            "metric  :  auc\n",
            "boosting_type  :  gbdt\n",
            "objective  :  binary\n",
            "seed  :  1\n"
          ]
        }
      ]
    },
    {
      "cell_type": "markdown",
      "source": [
        "# Tuning LightGBM\n",
        "- Bayesian Optimization으로 Tuning시킨 Parameter들로 LGBM 모델을 Tuning 한다."
      ],
      "metadata": {
        "id": "oGBy456AGnZg"
      },
      "id": "oGBy456AGnZg"
    },
    {
      "cell_type": "code",
      "source": [
        "lgbm_best = lgb.train(best_params, XY_train_lgb, num_boost_round=100, valid_sets = XY_test_lgb)\n",
        "# num_boost_round?\n"
      ],
      "metadata": {
        "colab": {
          "base_uri": "https://localhost:8080/"
        },
        "id": "NLwNRV6QFzY5",
        "outputId": "ea264a21-daa7-4922-eeee-3c579034759b"
      },
      "id": "NLwNRV6QFzY5",
      "execution_count": 76,
      "outputs": [
        {
          "output_type": "stream",
          "name": "stdout",
          "text": [
            "[1]\tvalid_0's auc: 0.92741\n",
            "[2]\tvalid_0's auc: 0.931801\n",
            "[3]\tvalid_0's auc: 0.92766\n",
            "[4]\tvalid_0's auc: 0.926438\n",
            "[5]\tvalid_0's auc: 0.925964\n",
            "[6]\tvalid_0's auc: 0.93218\n",
            "[7]\tvalid_0's auc: 0.932378\n",
            "[8]\tvalid_0's auc: 0.93447\n",
            "[9]\tvalid_0's auc: 0.938473\n",
            "[10]\tvalid_0's auc: 0.937672\n",
            "[11]\tvalid_0's auc: 0.941632\n",
            "[12]\tvalid_0's auc: 0.941804\n",
            "[13]\tvalid_0's auc: 0.942734\n",
            "[14]\tvalid_0's auc: 0.944198\n",
            "[15]\tvalid_0's auc: 0.943974\n",
            "[16]\tvalid_0's auc: 0.944663\n",
            "[17]\tvalid_0's auc: 0.946402\n",
            "[18]\tvalid_0's auc: 0.947503\n",
            "[19]\tvalid_0's auc: 0.948192\n",
            "[20]\tvalid_0's auc: 0.949122\n",
            "[21]\tvalid_0's auc: 0.948933\n",
            "[22]\tvalid_0's auc: 0.948691\n",
            "[23]\tvalid_0's auc: 0.949001\n",
            "[24]\tvalid_0's auc: 0.948881\n",
            "[25]\tvalid_0's auc: 0.949518\n",
            "[26]\tvalid_0's auc: 0.950603\n",
            "[27]\tvalid_0's auc: 0.950913\n",
            "[28]\tvalid_0's auc: 0.952135\n",
            "[29]\tvalid_0's auc: 0.952342\n",
            "[30]\tvalid_0's auc: 0.952686\n",
            "[31]\tvalid_0's auc: 0.952961\n",
            "[32]\tvalid_0's auc: 0.953065\n",
            "[33]\tvalid_0's auc: 0.952738\n",
            "[34]\tvalid_0's auc: 0.953254\n",
            "[35]\tvalid_0's auc: 0.953495\n",
            "[36]\tvalid_0's auc: 0.952359\n",
            "[37]\tvalid_0's auc: 0.952273\n",
            "[38]\tvalid_0's auc: 0.951791\n",
            "[39]\tvalid_0's auc: 0.952445\n",
            "[40]\tvalid_0's auc: 0.953151\n",
            "[41]\tvalid_0's auc: 0.953874\n",
            "[42]\tvalid_0's auc: 0.95334\n",
            "[43]\tvalid_0's auc: 0.953598\n",
            "[44]\tvalid_0's auc: 0.954236\n",
            "[45]\tvalid_0's auc: 0.953822\n",
            "[46]\tvalid_0's auc: 0.954098\n",
            "[47]\tvalid_0's auc: 0.954356\n",
            "[48]\tvalid_0's auc: 0.954528\n",
            "[49]\tvalid_0's auc: 0.954494\n",
            "[50]\tvalid_0's auc: 0.954563\n",
            "[51]\tvalid_0's auc: 0.954442\n",
            "[52]\tvalid_0's auc: 0.954821\n",
            "[53]\tvalid_0's auc: 0.955183\n",
            "[54]\tvalid_0's auc: 0.954477\n",
            "[55]\tvalid_0's auc: 0.954597\n",
            "[56]\tvalid_0's auc: 0.954494\n",
            "[57]\tvalid_0's auc: 0.954356\n",
            "[58]\tvalid_0's auc: 0.954477\n",
            "[59]\tvalid_0's auc: 0.955045\n",
            "[60]\tvalid_0's auc: 0.955441\n",
            "[61]\tvalid_0's auc: 0.954924\n",
            "[62]\tvalid_0's auc: 0.955647\n",
            "[63]\tvalid_0's auc: 0.955768\n",
            "[64]\tvalid_0's auc: 0.955579\n",
            "[65]\tvalid_0's auc: 0.955716\n",
            "[66]\tvalid_0's auc: 0.95532\n",
            "[67]\tvalid_0's auc: 0.955527\n",
            "[68]\tvalid_0's auc: 0.955303\n",
            "[69]\tvalid_0's auc: 0.955441\n",
            "[70]\tvalid_0's auc: 0.954855\n",
            "[71]\tvalid_0's auc: 0.954855\n",
            "[72]\tvalid_0's auc: 0.954683\n",
            "[73]\tvalid_0's auc: 0.954545\n",
            "[74]\tvalid_0's auc: 0.954718\n",
            "[75]\tvalid_0's auc: 0.954322\n",
            "[76]\tvalid_0's auc: 0.954012\n",
            "[77]\tvalid_0's auc: 0.954683\n",
            "[78]\tvalid_0's auc: 0.954528\n",
            "[79]\tvalid_0's auc: 0.954907\n",
            "[80]\tvalid_0's auc: 0.954941\n",
            "[81]\tvalid_0's auc: 0.954821\n",
            "[82]\tvalid_0's auc: 0.954855\n",
            "[83]\tvalid_0's auc: 0.954838\n",
            "[84]\tvalid_0's auc: 0.955251\n",
            "[85]\tvalid_0's auc: 0.955802\n",
            "[86]\tvalid_0's auc: 0.955888\n",
            "[87]\tvalid_0's auc: 0.955665\n",
            "[88]\tvalid_0's auc: 0.955957\n",
            "[89]\tvalid_0's auc: 0.956043\n",
            "[90]\tvalid_0's auc: 0.956009\n",
            "[91]\tvalid_0's auc: 0.955906\n",
            "[92]\tvalid_0's auc: 0.956078\n",
            "[93]\tvalid_0's auc: 0.955975\n",
            "[94]\tvalid_0's auc: 0.955596\n",
            "[95]\tvalid_0's auc: 0.955596\n",
            "[96]\tvalid_0's auc: 0.955768\n",
            "[97]\tvalid_0's auc: 0.955785\n",
            "[98]\tvalid_0's auc: 0.956009\n",
            "[99]\tvalid_0's auc: 0.956061\n",
            "[100]\tvalid_0's auc: 0.955561\n",
            "[101]\tvalid_0's auc: 0.955596\n",
            "[102]\tvalid_0's auc: 0.95582\n",
            "[103]\tvalid_0's auc: 0.956164\n",
            "[104]\tvalid_0's auc: 0.956009\n",
            "[105]\tvalid_0's auc: 0.955785\n",
            "[106]\tvalid_0's auc: 0.95594\n",
            "[107]\tvalid_0's auc: 0.956112\n",
            "[108]\tvalid_0's auc: 0.956129\n",
            "[109]\tvalid_0's auc: 0.95625\n",
            "[110]\tvalid_0's auc: 0.956319\n",
            "[111]\tvalid_0's auc: 0.956405\n",
            "[112]\tvalid_0's auc: 0.956405\n",
            "[113]\tvalid_0's auc: 0.956267\n",
            "[114]\tvalid_0's auc: 0.956405\n",
            "[115]\tvalid_0's auc: 0.956319\n",
            "[116]\tvalid_0's auc: 0.956422\n",
            "[117]\tvalid_0's auc: 0.956629\n",
            "[118]\tvalid_0's auc: 0.956698\n",
            "[119]\tvalid_0's auc: 0.956577\n",
            "[120]\tvalid_0's auc: 0.956474\n",
            "[121]\tvalid_0's auc: 0.956371\n",
            "[122]\tvalid_0's auc: 0.956284\n",
            "[123]\tvalid_0's auc: 0.956112\n",
            "[124]\tvalid_0's auc: 0.956112\n",
            "[125]\tvalid_0's auc: 0.955975\n",
            "[126]\tvalid_0's auc: 0.955992\n",
            "[127]\tvalid_0's auc: 0.956043\n",
            "[128]\tvalid_0's auc: 0.956112\n",
            "[129]\tvalid_0's auc: 0.95594\n",
            "[130]\tvalid_0's auc: 0.955888\n",
            "[131]\tvalid_0's auc: 0.955923\n",
            "[132]\tvalid_0's auc: 0.955992\n",
            "[133]\tvalid_0's auc: 0.956112\n",
            "[134]\tvalid_0's auc: 0.955802\n"
          ]
        }
      ]
    },
    {
      "cell_type": "markdown",
      "source": [
        "# Feature Importance"
      ],
      "metadata": {
        "id": "fjy_XaVFHLzy"
      },
      "id": "fjy_XaVFHLzy"
    },
    {
      "cell_type": "markdown",
      "source": [
        "## Importance by LGBM"
      ],
      "metadata": {
        "id": "VdF9MmL6Hdcl"
      },
      "id": "VdF9MmL6Hdcl"
    },
    {
      "cell_type": "code",
      "source": [
        "lgb.plot_importance(lgbm_best, figsize=(25,20),max_num_features= 10)"
      ],
      "metadata": {
        "colab": {
          "base_uri": "https://localhost:8080/",
          "height": 917
        },
        "id": "nszAc_NgHHNA",
        "outputId": "8c5309e9-4e2f-4bbb-f05a-8502a52122d7"
      },
      "id": "nszAc_NgHHNA",
      "execution_count": 77,
      "outputs": [
        {
          "output_type": "execute_result",
          "data": {
            "text/plain": [
              "<AxesSubplot:title={'center':'Feature importance'}, xlabel='Feature importance', ylabel='Features'>"
            ]
          },
          "metadata": {},
          "execution_count": 77
        },
        {
          "output_type": "display_data",
          "data": {
            "text/plain": [
              "<Figure size 1800x1440 with 1 Axes>"
            ],
            "image/png": "[encoded data removed]"
          },
          "metadata": {
            "needs_background": "light"
          }
        }
      ]
    },
    {
      "cell_type": "markdown",
      "source": [
        "## Importance by Shap Package"
      ],
      "metadata": {
        "id": "nPxUOsJ5Hi3p"
      },
      "id": "nPxUOsJ5Hi3p"
    },
    {
      "cell_type": "code",
      "source": [
        "shap_values = shap.TreeExplainer(lgbm_best).shap_values(X_test)\n",
        "shap.summary_plot(shap_values, X_test)"
      ],
      "metadata": {
        "colab": {
          "base_uri": "https://localhost:8080/",
          "height": 693
        },
        "id": "ccn-QghnHYpv",
        "outputId": "14719c27-f843-468c-ef54-d6dce7ef3f5b"
      },
      "id": "ccn-QghnHYpv",
      "execution_count": 78,
      "outputs": [
        {
          "output_type": "display_data",
          "data": {
            "text/plain": [
              "<Figure size 576x684 with 1 Axes>"
            ],
            "image/png": "[encoded data removed]"
          },
          "metadata": {
            "needs_background": "light"
          }
        }
      ]
    },
    {
      "cell_type": "markdown",
      "source": [
        "# LightGBM Model Performance"
      ],
      "metadata": {
        "id": "klFlh-PRK9CT"
      },
      "id": "klFlh-PRK9CT"
    },
    {
      "cell_type": "markdown",
      "source": [
        "## ROC Curve"
      ],
      "metadata": {
        "id": "a6nHWeW-LBsU"
      },
      "id": "a6nHWeW-LBsU"
    },
    {
      "cell_type": "code",
      "source": [
        "#from IPython.core.interactiveshell import removed_co_newlocals\n",
        "y_probas = lgbm_best.predict(X_test)\n",
        "fpr, tpr, _ = roc_curve(y_test, y_probas)\n",
        "roc_auc = auc(fpr, tpr)\n",
        "\n",
        "plt.figure()\n",
        "lw = 2\n",
        "plt.plot(fpr, tpr, color = 'darkorange',lw=lw,label='ROC curve (area = %0.4f)' %roc_auc)\n",
        "plt.plot([0,1],[0, 1],color='navy',lw=lw,linestyle='--')\n",
        "plt.xlim([0.0, 1.0])\n",
        "plt.ylim([0.0, 1.05])\n",
        "plt.xlabel('False Positive Rate')\n",
        "plt.ylabel('True Positive Rate')\n",
        "plt.title('Receiver operating characteristic for training data')\n",
        "plt.legend(loc= 'lower right')\n",
        "plt.show()"
      ],
      "metadata": {
        "colab": {
          "base_uri": "https://localhost:8080/",
          "height": 295
        },
        "id": "BKrZmWPtHz8J",
        "outputId": "a80578e8-a829-4a08-b6be-033caef4e69c"
      },
      "id": "BKrZmWPtHz8J",
      "execution_count": 82,
      "outputs": [
        {
          "output_type": "display_data",
          "data": {
            "text/plain": [
              "<Figure size 432x288 with 1 Axes>"
            ],
            "image/png": "[encoded data removed]"
          },
          "metadata": {
            "needs_background": "light"
          }
        }
      ]
    },
    {
      "cell_type": "code",
      "source": [
        "y_pred = lgbm_best.predict(X_test)\n",
        "\n",
        "fpr, tpr, threshold = roc_curve(y_test, y_pred)\n",
        "gmeans = np.sqrt(tpr*(1-fpr))\n",
        "\n",
        "ix = np.argmax(gmeans)\n",
        "print(\"Best Threshold=%f, G-Mean = %.3f\" % (threshold[ix], gmeans[ix]))\n",
        "\n",
        "plt.figure(num=0,figsize=[6.4,4.8])\n",
        "plt.plot([0,1],[0,1], linestyle='--', label='No Skill')\n",
        "plt.plot(fpr, tpr, marker='.', label='LightGBM')\n",
        "plt.scatter(fpr[ix],tpr[ix],marker='o',color='black',label='Best')\n",
        "\n",
        "plt.xlabel('False Positive Rate')\n",
        "plt.ylabel('True Positive Rate')\n",
        "plt.legend()\n",
        "plt.show()"
      ],
      "metadata": {
        "colab": {
          "base_uri": "https://localhost:8080/",
          "height": 341
        },
        "id": "MEx35shnKKx4",
        "outputId": "d442a432-24ff-4f07-a9a2-e38dfd72e19e"
      },
      "id": "MEx35shnKKx4",
      "execution_count": 86,
      "outputs": [
        {
          "output_type": "stream",
          "name": "stdout",
          "text": [
            "Best Threshold=0.025182, G-Mean = 0.898\n"
          ]
        },
        {
          "output_type": "display_data",
          "data": {
            "text/plain": [
              "<Figure size 460.8x345.6 with 1 Axes>"
            ],
            "image/png": "[encoded data removed]"
          },
          "metadata": {
            "needs_background": "light"
          }
        }
      ]
    },
    {
      "cell_type": "code",
      "source": [
        "pref_y_bin = binarizeArray(y_pred,threshold[ix])\n",
        "cm = confusion_matrix(y_test, pref_y_bin)\n",
        "#plot_confusion_matrix_custom(cm=cm,normalize=False, target_names = ['0','1'], title=\"Confusion Matrix\")\n",
        "\n",
        "fig, ax =plt.subplots(1,1,figsize=(10,10))\n",
        "\n",
        "ConfusionMatrixDisplay.from_predictions(y_test,pref_y_bin,\n",
        "                                       colorbar=False, ax=ax,cmap=plt.cm.Blues,\n",
        "                                       display_labels=['False','True'])\n",
        "print(classification_report(y_test,pref_y_bin))\n",
        "print(\"Accuracy: %.2f%%\" % (accuracy_score(y_test,pref_y_bin)*100.0))\n",
        "print(\"Recall: %.2f%%\" % (recall_score(y_test,pref_y_bin)*100.0))"
      ],
      "metadata": {
        "colab": {
          "base_uri": "https://localhost:8080/",
          "height": 806
        },
        "id": "FIKAr7AiQHPz",
        "outputId": "89d1f3f6-2431-44c1-ccae-ec562110fc75"
      },
      "id": "FIKAr7AiQHPz",
      "execution_count": 90,
      "outputs": [
        {
          "output_type": "stream",
          "name": "stdout",
          "text": [
            "              precision    recall  f1-score   support\n",
            "\n",
            "           0       1.00      0.89      0.94      1320\n",
            "           1       0.21      0.91      0.34        44\n",
            "\n",
            "    accuracy                           0.89      1364\n",
            "   macro avg       0.60      0.90      0.64      1364\n",
            "weighted avg       0.97      0.89      0.92      1364\n",
            "\n",
            "Accuracy: 88.78%\n",
            "Recall: 90.91%\n"
          ]
        },
        {
          "output_type": "display_data",
          "data": {
            "text/plain": [
              "<Figure size 720x720 with 1 Axes>"
            ],
            "image/png": "[encoded data removed]"
          },
          "metadata": {
            "needs_background": "light"
          }
        }
      ]
    },
    {
      "cell_type": "code",
      "source": [],
      "metadata": {
        "id": "5H0rTmXXSNlo"
      },
      "id": "5H0rTmXXSNlo",
      "execution_count": null,
      "outputs": []
    }
  ],
  "metadata": {
    "kernelspec": {
      "display_name": "Python 3 (ipykernel)",
      "language": "python",
      "name": "python3"
    },
    "language_info": {
      "codemirror_mode": {
        "name": "ipython",
        "version": 3
      },
      "file_extension": ".py",
      "mimetype": "text/x-python",
      "name": "python",
      "nbconvert_exporter": "python",
      "pygments_lexer": "ipython3",
      "version": "3.8.5"
    },
    "toc": {
      "base_numbering": 1,
      "nav_menu": {},
      "number_sections": true,
      "sideBar": true,
      "skip_h1_title": false,
      "title_cell": "Table of Contents",
      "title_sidebar": "Contents",
      "toc_cell": false,
      "toc_position": {},
      "toc_section_display": true,
      "toc_window_display": false
    },
    "colab": {
      "provenance": [],
      "toc_visible": true,
      "include_colab_link": true
    }
  },
  "nbformat": 4,
  "nbformat_minor": 5
}