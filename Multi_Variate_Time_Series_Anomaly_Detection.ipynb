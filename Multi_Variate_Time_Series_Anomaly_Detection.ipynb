{
  "nbformat": 4,
  "nbformat_minor": 0,
  "metadata": {
    "colab": {
      "provenance": [],
      "authorship_tag": "ABX9TyOOVpk8ZX9eDrQYNlPp4J3f"
    },
    "kernelspec": {
      "name": "python3",
      "display_name": "Python 3"
    },
    "language_info": {
      "name": "python"
    }
  },
  "cells": [
    {
      "cell_type": "code",
      "source": [],
      "metadata": {
        "id": "4ERJQX_DHKJ4"
      },
      "execution_count": null,
      "outputs": []
    },
    {
      "cell_type": "markdown",
      "source": [
        "# Get Multi-Variate Time Series Data"
      ],
      "metadata": {
        "id": "6bwblTT7HDb6"
      }
    },
    {
      "cell_type": "code",
      "execution_count": 1,
      "metadata": {
        "colab": {
          "base_uri": "https://localhost:8080/"
        },
        "id": "Eir3-8C0G0A2",
        "outputId": "7ea7aa50-186b-4691-8ade-92b595df8f5a"
      },
      "outputs": [
        {
          "output_type": "stream",
          "name": "stdout",
          "text": [
            "--2023-05-22 15:38:03--  https://s3-us-west-2.amazonaws.com/telemanom/data.zip\n",
            "Resolving s3-us-west-2.amazonaws.com (s3-us-west-2.amazonaws.com)... 52.218.222.24, 52.92.243.144, 52.218.197.48, ...\n",
            "Connecting to s3-us-west-2.amazonaws.com (s3-us-west-2.amazonaws.com)|52.218.222.24|:443... connected.\n",
            "HTTP request sent, awaiting response... 200 OK\n",
            "Length: 85899803 (82M) [application/zip]\n",
            "Saving to: ‘data.zip’\n",
            "\n",
            "data.zip            100%[===================>]  81.92M  17.0MB/s    in 4.8s    \n",
            "\n",
            "2023-05-22 15:38:09 (17.0 MB/s) - ‘data.zip’ saved [85899803/85899803]\n",
            "\n"
          ]
        }
      ],
      "source": [
        "!wget https://s3-us-west-2.amazonaws.com/telemanom/data.zip"
      ]
    },
    {
      "cell_type": "code",
      "source": [
        "!unzip -qq data.zip"
      ],
      "metadata": {
        "id": "vZFLIvurHCCS"
      },
      "execution_count": 2,
      "outputs": []
    },
    {
      "cell_type": "code",
      "source": [
        "!ls data"
      ],
      "metadata": {
        "colab": {
          "base_uri": "https://localhost:8080/"
        },
        "id": "M3Wmw6SpHTEV",
        "outputId": "f9847883-1eae-48b1-9867-518c003615fc"
      },
      "execution_count": 3,
      "outputs": [
        {
          "output_type": "stream",
          "name": "stdout",
          "text": [
            "2018-05-19_15.00.10  test  train\n"
          ]
        }
      ]
    },
    {
      "cell_type": "code",
      "source": [
        "!ls data/train"
      ],
      "metadata": {
        "colab": {
          "base_uri": "https://localhost:8080/"
        },
        "id": "MlVonDchHVPn",
        "outputId": "acb9fe19-ce98-4322-c938-226f34debc10"
      },
      "execution_count": 4,
      "outputs": [
        {
          "output_type": "stream",
          "name": "stdout",
          "text": [
            "A-1.npy  C-2.npy   D-5.npy   E-3.npy  F-5.npy  M-3.npy\t P-3.npy   T-3.npy\n",
            "A-2.npy  D-11.npy  D-6.npy   E-4.npy  F-7.npy  M-4.npy\t P-4.npy   T-4.npy\n",
            "A-3.npy  D-12.npy  D-7.npy   E-5.npy  F-8.npy  M-5.npy\t P-7.npy   T-5.npy\n",
            "A-4.npy  D-13.npy  D-8.npy   E-6.npy  G-1.npy  M-6.npy\t R-1.npy   T-8.npy\n",
            "A-5.npy  D-14.npy  D-9.npy   E-7.npy  G-2.npy  M-7.npy\t S-1.npy   T-9.npy\n",
            "A-6.npy  D-15.npy  E-10.npy  E-8.npy  G-3.npy  P-10.npy  S-2.npy\n",
            "A-7.npy  D-16.npy  E-11.npy  E-9.npy  G-4.npy  P-11.npy  T-10.npy\n",
            "A-8.npy  D-1.npy   E-12.npy  F-1.npy  G-6.npy  P-14.npy  T-12.npy\n",
            "A-9.npy  D-2.npy   E-13.npy  F-2.npy  G-7.npy  P-15.npy  T-13.npy\n",
            "B-1.npy  D-3.npy   E-1.npy   F-3.npy  M-1.npy  P-1.npy\t T-1.npy\n",
            "C-1.npy  D-4.npy   E-2.npy   F-4.npy  M-2.npy  P-2.npy\t T-2.npy\n"
          ]
        }
      ]
    },
    {
      "cell_type": "code",
      "source": [
        "!ls data/test"
      ],
      "metadata": {
        "colab": {
          "base_uri": "https://localhost:8080/"
        },
        "id": "q-bH7qt8HYIa",
        "outputId": "58730ac1-8cf6-4479-dd9e-cb2606375483"
      },
      "execution_count": 5,
      "outputs": [
        {
          "output_type": "stream",
          "name": "stdout",
          "text": [
            "A-1.npy  C-2.npy   D-5.npy   E-3.npy  F-5.npy  M-3.npy\t P-3.npy   T-3.npy\n",
            "A-2.npy  D-11.npy  D-6.npy   E-4.npy  F-7.npy  M-4.npy\t P-4.npy   T-4.npy\n",
            "A-3.npy  D-12.npy  D-7.npy   E-5.npy  F-8.npy  M-5.npy\t P-7.npy   T-5.npy\n",
            "A-4.npy  D-13.npy  D-8.npy   E-6.npy  G-1.npy  M-6.npy\t R-1.npy   T-8.npy\n",
            "A-5.npy  D-14.npy  D-9.npy   E-7.npy  G-2.npy  M-7.npy\t S-1.npy   T-9.npy\n",
            "A-6.npy  D-15.npy  E-10.npy  E-8.npy  G-3.npy  P-10.npy  S-2.npy\n",
            "A-7.npy  D-16.npy  E-11.npy  E-9.npy  G-4.npy  P-11.npy  T-10.npy\n",
            "A-8.npy  D-1.npy   E-12.npy  F-1.npy  G-6.npy  P-14.npy  T-12.npy\n",
            "A-9.npy  D-2.npy   E-13.npy  F-2.npy  G-7.npy  P-15.npy  T-13.npy\n",
            "B-1.npy  D-3.npy   E-1.npy   F-3.npy  M-1.npy  P-1.npy\t T-1.npy\n",
            "C-1.npy  D-4.npy   E-2.npy   F-4.npy  M-2.npy  P-2.npy\t T-2.npy\n"
          ]
        }
      ]
    },
    {
      "cell_type": "code",
      "source": [
        "!git clone https://github.com/ML4ITS/mtad-gat-pytorch.git"
      ],
      "metadata": {
        "colab": {
          "base_uri": "https://localhost:8080/"
        },
        "id": "BkbszwQvHaj2",
        "outputId": "10c79902-1e1a-45c4-9be2-cda4ec0917ef"
      },
      "execution_count": 6,
      "outputs": [
        {
          "output_type": "stream",
          "name": "stdout",
          "text": [
            "Cloning into 'mtad-gat-pytorch'...\n",
            "remote: Enumerating objects: 6189, done.\u001b[K\n",
            "remote: Counting objects: 100% (28/28), done.\u001b[K\n",
            "remote: Compressing objects: 100% (28/28), done.\u001b[K\n",
            "remote: Total 6189 (delta 11), reused 0 (delta 0), pack-reused 6161\u001b[K\n",
            "Receiving objects: 100% (6189/6189), 920.67 MiB | 24.57 MiB/s, done.\n",
            "Resolving deltas: 100% (2708/2708), done.\n",
            "Updating files: 100% (158/158), done.\n"
          ]
        }
      ]
    },
    {
      "cell_type": "code",
      "source": [
        "!ls mtad-gat-pytorch/datasets/data"
      ],
      "metadata": {
        "colab": {
          "base_uri": "https://localhost:8080/"
        },
        "id": "npr1PAhqHkoP",
        "outputId": "ee269dd8-067c-4ead-8e90-2c8f659059c7"
      },
      "execution_count": 7,
      "outputs": [
        {
          "output_type": "stream",
          "name": "stdout",
          "text": [
            "labeled_anomalies.csv  msl_train_md.csv  smap_train_md.csv\n"
          ]
        }
      ]
    },
    {
      "cell_type": "markdown",
      "source": [
        "# Import Libraries"
      ],
      "metadata": {
        "id": "_uMiOZVTH1GF"
      }
    },
    {
      "cell_type": "code",
      "source": [
        "import pandas as pd\n",
        "import numpy as np\n",
        "import os\n",
        "\n",
        "import matplotlib.pyplot as plt\n",
        "import torch\n",
        "from torch.utils.data import DataLoader, Dataset, SubsetRandomSampler\n",
        "import torch.nn as nn\n",
        "from tqdm.notebook import tqdm\n"
      ],
      "metadata": {
        "id": "ZtkZvfp-H0Sb"
      },
      "execution_count": 8,
      "outputs": []
    },
    {
      "cell_type": "code",
      "source": [
        "smap_channels = pd.read_csv('mtad-gat-pytorch/datasets/data/smap_train_md.csv')\n",
        "print(\"Number of Channels : \",len(smap_channels))\n",
        "smap_channels.head(5)"
      ],
      "metadata": {
        "colab": {
          "base_uri": "https://localhost:8080/",
          "height": 222
        },
        "id": "JBcspDutIHma",
        "outputId": "913902ae-8acb-4167-f51a-2367471cf85d"
      },
      "execution_count": 9,
      "outputs": [
        {
          "output_type": "stream",
          "name": "stdout",
          "text": [
            "Number of Channels :  53\n"
          ]
        },
        {
          "output_type": "execute_result",
          "data": {
            "text/plain": [
              "  chan_id  num_values\n",
              "0     A-1        2880\n",
              "1     A-2        2648\n",
              "2     A-3        2736\n",
              "3     A-4        2690\n",
              "4     A-5         705"
            ],
            "text/html": [
              "\n",
              "  <div id=\"df-fae511e3-90b7-4b7a-a926-2ebd32865798\">\n",
              "    <div class=\"colab-df-container\">\n",
              "      <div>\n",
              "<style scoped>\n",
              "    .dataframe tbody tr th:only-of-type {\n",
              "        vertical-align: middle;\n",
              "    }\n",
              "\n",
              "    .dataframe tbody tr th {\n",
              "        vertical-align: top;\n",
              "    }\n",
              "\n",
              "    .dataframe thead th {\n",
              "        text-align: right;\n",
              "    }\n",
              "</style>\n",
              "<table border=\"1\" class=\"dataframe\">\n",
              "  <thead>\n",
              "    <tr style=\"text-align: right;\">\n",
              "      <th></th>\n",
              "      <th>chan_id</th>\n",
              "      <th>num_values</th>\n",
              "    </tr>\n",
              "  </thead>\n",
              "  <tbody>\n",
              "    <tr>\n",
              "      <th>0</th>\n",
              "      <td>A-1</td>\n",
              "      <td>2880</td>\n",
              "    </tr>\n",
              "    <tr>\n",
              "      <th>1</th>\n",
              "      <td>A-2</td>\n",
              "      <td>2648</td>\n",
              "    </tr>\n",
              "    <tr>\n",
              "      <th>2</th>\n",
              "      <td>A-3</td>\n",
              "      <td>2736</td>\n",
              "    </tr>\n",
              "    <tr>\n",
              "      <th>3</th>\n",
              "      <td>A-4</td>\n",
              "      <td>2690</td>\n",
              "    </tr>\n",
              "    <tr>\n",
              "      <th>4</th>\n",
              "      <td>A-5</td>\n",
              "      <td>705</td>\n",
              "    </tr>\n",
              "  </tbody>\n",
              "</table>\n",
              "</div>\n",
              "      <button class=\"colab-df-convert\" onclick=\"convertToInteractive('df-fae511e3-90b7-4b7a-a926-2ebd32865798')\"\n",
              "              title=\"Convert this dataframe to an interactive table.\"\n",
              "              style=\"display:none;\">\n",
              "        \n",
              "  <svg xmlns=\"http://www.w3.org/2000/svg\" height=\"24px\"viewBox=\"0 0 24 24\"\n",
              "       width=\"24px\">\n",
              "    <path d=\"M0 0h24v24H0V0z\" fill=\"none\"/>\n",
              "    <path d=\"M18.56 5.44l.94 2.06.94-2.06 2.06-.94-2.06-.94-.94-2.06-.94 2.06-2.06.94zm-11 1L8.5 8.5l.94-2.06 2.06-.94-2.06-.94L8.5 2.5l-.94 2.06-2.06.94zm10 10l.94 2.06.94-2.06 2.06-.94-2.06-.94-.94-2.06-.94 2.06-2.06.94z\"/><path d=\"M17.41 7.96l-1.37-1.37c-.4-.4-.92-.59-1.43-.59-.52 0-1.04.2-1.43.59L10.3 9.45l-7.72 7.72c-.78.78-.78 2.05 0 2.83L4 21.41c.39.39.9.59 1.41.59.51 0 1.02-.2 1.41-.59l7.78-7.78 2.81-2.81c.8-.78.8-2.07 0-2.86zM5.41 20L4 18.59l7.72-7.72 1.47 1.35L5.41 20z\"/>\n",
              "  </svg>\n",
              "      </button>\n",
              "      \n",
              "  <style>\n",
              "    .colab-df-container {\n",
              "      display:flex;\n",
              "      flex-wrap:wrap;\n",
              "      gap: 12px;\n",
              "    }\n",
              "\n",
              "    .colab-df-convert {\n",
              "      background-color: #E8F0FE;\n",
              "      border: none;\n",
              "      border-radius: 50%;\n",
              "      cursor: pointer;\n",
              "      display: none;\n",
              "      fill: #1967D2;\n",
              "      height: 32px;\n",
              "      padding: 0 0 0 0;\n",
              "      width: 32px;\n",
              "    }\n",
              "\n",
              "    .colab-df-convert:hover {\n",
              "      background-color: #E2EBFA;\n",
              "      box-shadow: 0px 1px 2px rgba(60, 64, 67, 0.3), 0px 1px 3px 1px rgba(60, 64, 67, 0.15);\n",
              "      fill: #174EA6;\n",
              "    }\n",
              "\n",
              "    [theme=dark] .colab-df-convert {\n",
              "      background-color: #3B4455;\n",
              "      fill: #D2E3FC;\n",
              "    }\n",
              "\n",
              "    [theme=dark] .colab-df-convert:hover {\n",
              "      background-color: #434B5C;\n",
              "      box-shadow: 0px 1px 3px 1px rgba(0, 0, 0, 0.15);\n",
              "      filter: drop-shadow(0px 1px 2px rgba(0, 0, 0, 0.3));\n",
              "      fill: #FFFFFF;\n",
              "    }\n",
              "  </style>\n",
              "\n",
              "      <script>\n",
              "        const buttonEl =\n",
              "          document.querySelector('#df-fae511e3-90b7-4b7a-a926-2ebd32865798 button.colab-df-convert');\n",
              "        buttonEl.style.display =\n",
              "          google.colab.kernel.accessAllowed ? 'block' : 'none';\n",
              "\n",
              "        async function convertToInteractive(key) {\n",
              "          const element = document.querySelector('#df-fae511e3-90b7-4b7a-a926-2ebd32865798');\n",
              "          const dataTable =\n",
              "            await google.colab.kernel.invokeFunction('convertToInteractive',\n",
              "                                                     [key], {});\n",
              "          if (!dataTable) return;\n",
              "\n",
              "          const docLinkHtml = 'Like what you see? Visit the ' +\n",
              "            '<a target=\"_blank\" href=https://colab.research.google.com/notebooks/data_table.ipynb>data table notebook</a>'\n",
              "            + ' to learn more about interactive tables.';\n",
              "          element.innerHTML = '';\n",
              "          dataTable['output_type'] = 'display_data';\n",
              "          await google.colab.output.renderOutput(dataTable, element);\n",
              "          const docLink = document.createElement('div');\n",
              "          docLink.innerHTML = docLinkHtml;\n",
              "          element.appendChild(docLink);\n",
              "        }\n",
              "      </script>\n",
              "    </div>\n",
              "  </div>\n",
              "  "
            ]
          },
          "metadata": {},
          "execution_count": 9
        }
      ]
    },
    {
      "cell_type": "code",
      "source": [
        "smap_channels = list(smap_channels['chan_id'].values)\n",
        "len(smap_channels)"
      ],
      "metadata": {
        "colab": {
          "base_uri": "https://localhost:8080/"
        },
        "id": "byk58oXFIYdp",
        "outputId": "5d716002-8415-4db6-f037-1646621c2eb9"
      },
      "execution_count": 10,
      "outputs": [
        {
          "output_type": "execute_result",
          "data": {
            "text/plain": [
              "53"
            ]
          },
          "metadata": {},
          "execution_count": 10
        }
      ]
    },
    {
      "cell_type": "markdown",
      "source": [
        "# Create SMAP Data from Time Series across all the Channel IDs - Each Time Step has 25 features"
      ],
      "metadata": {
        "id": "x83wbB2KIsRk"
      }
    },
    {
      "cell_type": "code",
      "source": [
        "smap_data =[]\n",
        "\n",
        "for smap_channel in smap_channels:\n",
        "  tmp_data = np.load(os.path.join('data/train/',smap_channel+'.npy'))\n",
        "  smap_data.extend(tmp_data)\n",
        "  #print(smap_data.shape)\n",
        "\n",
        "smap_data = np.array(smap_data)\n",
        "print(\"Shape of SMAP Data : \", smap_data.shape)"
      ],
      "metadata": {
        "colab": {
          "base_uri": "https://localhost:8080/"
        },
        "id": "xWzB0ojGIpvY",
        "outputId": "ec90f457-8cec-428b-ee75-073809e61101"
      },
      "execution_count": 12,
      "outputs": [
        {
          "output_type": "stream",
          "name": "stdout",
          "text": [
            "Shape of SMAP Data :  (135183, 25)\n"
          ]
        }
      ]
    },
    {
      "cell_type": "code",
      "source": [
        "smap_data"
      ],
      "metadata": {
        "colab": {
          "base_uri": "https://localhost:8080/"
        },
        "id": "AuTEV9HbPB7r",
        "outputId": "f8b7b41f-17e0-41d5-fd3e-bb1fd6fa5b0e"
      },
      "execution_count": 14,
      "outputs": [
        {
          "output_type": "execute_result",
          "data": {
            "text/plain": [
              "array([[0.999     , 0.        , 0.        , ..., 0.        , 0.        ,\n",
              "        0.        ],\n",
              "       [0.999     , 0.        , 0.        , ..., 0.        , 0.        ,\n",
              "        0.        ],\n",
              "       [0.999     , 0.        , 0.        , ..., 0.        , 0.        ,\n",
              "        0.        ],\n",
              "       ...,\n",
              "       [0.98775593, 0.        , 0.        , ..., 0.        , 0.        ,\n",
              "        0.        ],\n",
              "       [0.98417906, 0.        , 0.        , ..., 0.        , 0.        ,\n",
              "        0.        ],\n",
              "       [0.98417906, 0.        , 0.        , ..., 0.        , 0.        ,\n",
              "        0.        ]])"
            ]
          },
          "metadata": {},
          "execution_count": 14
        }
      ]
    },
    {
      "cell_type": "code",
      "source": [
        "# Next the Data is scaled using Min-Max Scaler"
      ],
      "metadata": {
        "id": "RlvtETjrPSfV"
      },
      "execution_count": 15,
      "outputs": []
    },
    {
      "cell_type": "code",
      "source": [
        "from sklearn.preprocessing import MinMaxScaler, RobustScaler"
      ],
      "metadata": {
        "id": "5ZJLb5YnPjzM"
      },
      "execution_count": 16,
      "outputs": []
    },
    {
      "cell_type": "code",
      "source": [
        "def normalize_data(data, scaler=None):\n",
        "  data = np.asarray(data, dtype=np.float32)\n",
        "  if np.any(sum(np.isnan(data))):\n",
        "    data = np.nan_to_num(data)\n",
        "  \n",
        "  if scaler is None:\n",
        "    scaler=MinMaxScaler()\n",
        "    scaler.fit(data)\n",
        "  data=scaler.transform(data)\n",
        "  print(\"Data normalized\")\n",
        "\n",
        "  return data, scaler"
      ],
      "metadata": {
        "id": "biSnvzUCQFBt"
      },
      "execution_count": 17,
      "outputs": []
    },
    {
      "cell_type": "code",
      "source": [
        "smap_data_norm, scaler = normalize_data(smap_data)"
      ],
      "metadata": {
        "colab": {
          "base_uri": "https://localhost:8080/"
        },
        "id": "Nt5KbeyQQmCQ",
        "outputId": "a8a60383-7f67-427c-ad20-4b066ef72adf"
      },
      "execution_count": 18,
      "outputs": [
        {
          "output_type": "stream",
          "name": "stdout",
          "text": [
            "Data normalized\n"
          ]
        }
      ]
    },
    {
      "cell_type": "code",
      "source": [
        "smap_data_pt = torch.from_numpy(smap_data)\n",
        "smap_data_pt.size()"
      ],
      "metadata": {
        "colab": {
          "base_uri": "https://localhost:8080/"
        },
        "id": "Z0_00FQkQwPY",
        "outputId": "03667c7a-bbb8-4a24-c0fb-b8a246b24a54"
      },
      "execution_count": 19,
      "outputs": [
        {
          "output_type": "execute_result",
          "data": {
            "text/plain": [
              "torch.Size([135183, 25])"
            ]
          },
          "metadata": {},
          "execution_count": 19
        }
      ]
    },
    {
      "cell_type": "markdown",
      "source": [
        "# Create Sliding Window Dataset - Breaking down the entire time series into small temporal segments which will be used to train the model."
      ],
      "metadata": {
        "id": "cXsRFg0BRAQG"
      }
    },
    {
      "cell_type": "code",
      "source": [
        "class SlidingWindowDataset(Dataset):\n",
        "  def __init__(self, data, window, target_dim=None, horizon=1):\n",
        "    self.data= data\n",
        "    self.window = window\n",
        "    self.target_dim = target_dim\n",
        "    self.horizon = horizon\n",
        "\n",
        "  def __getitem__(self,index):\n",
        "    x = self.data[index : index+self.window]\n",
        "    y = self.data[index + self.window : index + self.window + self.horizon]\n",
        "    return x,y\n",
        "\n",
        "  def __len__(self):\n",
        "    return len(self.data) - self.window"
      ],
      "metadata": {
        "id": "x5hWBnk8Q2QN"
      },
      "execution_count": 20,
      "outputs": []
    },
    {
      "cell_type": "code",
      "source": [
        "Window=100\n",
        "BatchSZ=256\n",
        "device = torch.device('cuda' if torch.cuda.is_available() else 'cpu')"
      ],
      "metadata": {
        "id": "QZ7ZpZovSRcN"
      },
      "execution_count": 21,
      "outputs": []
    },
    {
      "cell_type": "code",
      "source": [
        "smap_x_y = SlidingWindowDataset(smap_data_pt, 100)"
      ],
      "metadata": {
        "id": "NUE0Bz4OSaEm"
      },
      "execution_count": 22,
      "outputs": []
    },
    {
      "cell_type": "code",
      "source": [
        "smap_x_y"
      ],
      "metadata": {
        "colab": {
          "base_uri": "https://localhost:8080/"
        },
        "id": "6A3USJqvSfMG",
        "outputId": "7b666145-9e04-45cc-bb09-bcc75f264b02"
      },
      "execution_count": 23,
      "outputs": [
        {
          "output_type": "execute_result",
          "data": {
            "text/plain": [
              "<__main__.SlidingWindowDataset at 0x7f68821fcac0>"
            ]
          },
          "metadata": {},
          "execution_count": 23
        }
      ]
    },
    {
      "cell_type": "code",
      "source": [],
      "metadata": {
        "id": "6g1bXVW7SiXX"
      },
      "execution_count": null,
      "outputs": []
    }
  ]
}